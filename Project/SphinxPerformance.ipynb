{
 "cells": [
  {
   "cell_type": "markdown",
   "metadata": {},
   "source": [
    "## Sphinx vs Goolge performance test\n",
    "## Sphinx performance evaluation"
   ]
  },
  {
   "cell_type": "markdown",
   "metadata": {},
   "source": [
    "\n",
    "***\n",
    "### Import basic libraries\n",
    "***\n"
   ]
  },
  {
   "cell_type": "code",
   "execution_count": 1,
   "metadata": {},
   "outputs": [],
   "source": [
    "## for speech to text\n",
    "import speech_recognition as sr\n",
    "\n",
    "## for audio processing and analytical study\n",
    "from pydub import AudioSegment ##for audio spliting\n",
    "from pydub.silence import split_on_silence\n",
    "\n",
    "## for audio collection\n",
    "import pyaudio\n",
    "import wave\n",
    "\n",
    "## for text recognition\n",
    "import nltk\n",
    "import string\n",
    "import json\n",
    "\n",
    "## for general studies\n",
    "from os import listdir\n",
    "from os.path import isfile, join\n",
    "import glob\n",
    "from numpy import fft as fft\n",
    "import matplotlib.pyplot as plt\n",
    "import numpy as np\n",
    "import sys\n",
    "import seaborn as sns\n",
    "from tqdm import tqdm\n",
    "import time as time\n",
    "import multiprocessing as mp\n",
    "from src.utils import wer\n",
    " \n",
    "%matplotlib inline\n",
    "# !ls Data/EC_06022018"
   ]
  },
  {
   "cell_type": "code",
   "execution_count": 2,
   "metadata": {},
   "outputs": [],
   "source": [
    "## Intitialize a recognizer\n",
    "r_live = sr.Recognizer()\n",
    "r_rec  = sr.Recognizer()"
   ]
  },
  {
   "cell_type": "markdown",
   "metadata": {},
   "source": [
    "\n",
    "***\n",
    "### Study WAV sound files\n",
    "***\n"
   ]
  },
  {
   "cell_type": "code",
   "execution_count": 3,
   "metadata": {},
   "outputs": [
    {
     "name": "stdout",
     "output_type": "stream",
     "text": [
      "Data/NCE/2/1.wav    Data/NCE/2/1_0.wav  Data/NCE/2/1_19.wav Data/NCE/2/1_7.wav\r\n",
      "Data/NCE/2/10.wav   Data/NCE/2/1_1.wav  Data/NCE/2/1_2.wav  Data/NCE/2/1_8.wav\r\n",
      "Data/NCE/2/11.wav   Data/NCE/2/1_10.wav Data/NCE/2/1_20.wav Data/NCE/2/1_9.wav\r\n",
      "Data/NCE/2/12.wav   Data/NCE/2/1_11.wav Data/NCE/2/1_21.wav Data/NCE/2/21.wav\r\n",
      "Data/NCE/2/13.wav   Data/NCE/2/1_12.wav Data/NCE/2/1_22.wav Data/NCE/2/31.wav\r\n",
      "Data/NCE/2/14.wav   Data/NCE/2/1_13.wav Data/NCE/2/1_23.wav Data/NCE/2/41.wav\r\n",
      "Data/NCE/2/15.wav   Data/NCE/2/1_14.wav Data/NCE/2/1_24.wav Data/NCE/2/51.wav\r\n",
      "Data/NCE/2/16.wav   Data/NCE/2/1_15.wav Data/NCE/2/1_3.wav  Data/NCE/2/61.wav\r\n",
      "Data/NCE/2/17.wav   Data/NCE/2/1_16.wav Data/NCE/2/1_4.wav  Data/NCE/2/71.wav\r\n",
      "Data/NCE/2/18.wav   Data/NCE/2/1_17.wav Data/NCE/2/1_5.wav  Data/NCE/2/81.wav\r\n",
      "Data/NCE/2/19.wav   Data/NCE/2/1_18.wav Data/NCE/2/1_6.wav  Data/NCE/2/91.wav\r\n"
     ]
    }
   ],
   "source": [
    "!ls Data/NCE/2/*1*.wav"
   ]
  },
  {
   "cell_type": "code",
   "execution_count": 4,
   "metadata": {},
   "outputs": [],
   "source": [
    "# The wav file path\n",
    "f_wav = 'Data/NCE/2/1.wav'"
   ]
  },
  {
   "cell_type": "code",
   "execution_count": 5,
   "metadata": {},
   "outputs": [
    {
     "name": "stdout",
     "output_type": "stream",
     "text": [
      "78.3934693877551\n",
      "DBFS -21.91979724347295 Max DBFS -1.1749991515185085\n",
      "RMS 2627\n",
      "Frame rate 44100\n"
     ]
    }
   ],
   "source": [
    "## Get the length of audio file\n",
    "sound = AudioSegment.from_file(f_wav)\n",
    "print(sound.duration_seconds)\n",
    "print(\"DBFS\", sound.dBFS, \"Max DBFS\", sound.max_dBFS)\n",
    "print(\"RMS\", sound.rms)\n",
    "print(\"Frame rate\", sound.frame_rate)"
   ]
  },
  {
   "cell_type": "markdown",
   "metadata": {},
   "source": [
    "\n",
    "***\n",
    "### Text recognition\n",
    "***\n"
   ]
  },
  {
   "cell_type": "code",
   "execution_count": 6,
   "metadata": {},
   "outputs": [],
   "source": [
    "def SoundToText(file=\"\", useGoogle=False):\n",
    "    '''Uses Sphinx builtin. \n",
    "    Input is a dic contained as config'''\n",
    "    if file != \"\":\n",
    "        #print(file)\n",
    "        test = sr.AudioFile(file)\n",
    "        Recon  = sr.Recognizer()\n",
    "        with test as source:\n",
    "            test_au = Recon.record(source)\n",
    "            \n",
    "        if not useGoogle:\n",
    "            text = Recon.recognize_sphinx(test_au, language='en-US')\n",
    "        else:\n",
    "            ## google API requires internet connection\n",
    "            ## https://cloud.google.com/speech-to-text/\n",
    "            #text = Recon.recognize_google(test_au, language='en-US')\n",
    "            ## only takes texts < 60 seconds!\n",
    "            f = open('tony-test-fa962b69f1fb.json', 'r')\n",
    "            #print(json.loads(f))\n",
    "            GOOGLE_CLOUD_SPEECH_CREDENTIALS = f.read()\n",
    "            text = Recon.recognize_google_cloud(test_au, credentials_json=GOOGLE_CLOUD_SPEECH_CREDENTIALS)\n",
    "            f.close()\n",
    "        \n",
    "        del test\n",
    "        del test_au\n",
    "        del Recon\n",
    "        return {file: text}\n",
    "    else:\n",
    "        print('STH is wrong!')\n",
    "        return \"\"\n",
    "    \n",
    "#SoundToText('chunk_s2.wav')"
   ]
  },
  {
   "cell_type": "markdown",
   "metadata": {},
   "source": [
    "# Sphinx VS Google ID ability test\n",
    "\n",
    "t is from google cloud test"
   ]
  },
  {
   "cell_type": "code",
   "execution_count": 7,
   "metadata": {},
   "outputs": [],
   "source": [
    "t1 = 'lesson 1 a private conversation first listen and then answer the question why did the writer complain to the people behind him last week I went to the theater I had a very good seat the play was very interesting I did not enjoy it a young man and a young woman '"
   ]
  },
  {
   "cell_type": "code",
   "execution_count": 8,
   "metadata": {},
   "outputs": [],
   "source": [
    "t2 = \"sitting behind me they were talking loudly I got very angry I could not hear the actors I turned around I looked at the man in the woman angrily they did not pay any attention in the end I could not bear it I turned around again I can't hear \""
   ]
  },
  {
   "cell_type": "code",
   "execution_count": 9,
   "metadata": {},
   "outputs": [],
   "source": [
    "t3 = \"I said angrily it's none of your business the young man said rudely this is a private conversation\""
   ]
  },
  {
   "cell_type": "code",
   "execution_count": 10,
   "metadata": {},
   "outputs": [],
   "source": [
    "t = t1 + t2 + t3\n",
    "t = t.lower()"
   ]
  },
  {
   "cell_type": "code",
   "execution_count": 11,
   "metadata": {},
   "outputs": [],
   "source": [
    "table = str.maketrans('', '', string.punctuation)\n",
    "with open('Data/NCE/2/T' + str(1) + '.TXT', 'r') as myfile:\n",
    "    realtext=myfile.read().replace('\\n', '')\n",
    "    realtext = realtext.translate(table)\n",
    "    realtext = realtext.lower()\n",
    "    realtext = ' '.join(realtext.split()) ## remove the extra space"
   ]
  },
  {
   "cell_type": "code",
   "execution_count": 12,
   "metadata": {},
   "outputs": [],
   "source": [
    "with open('Data/NCE/2/' + str(1) + '_trans.txt', 'r') as myfile:\n",
    "    comptext = myfile.read().replace('\\n', '')\n",
    "    comptext = comptext.lower()"
   ]
  },
  {
   "cell_type": "code",
   "execution_count": 13,
   "metadata": {},
   "outputs": [
    {
     "name": "stdout",
     "output_type": "stream",
     "text": [
      "Google 0.0732\n"
     ]
    }
   ],
   "source": [
    "print(\"Google\", wer(realtext, t))"
   ]
  },
  {
   "cell_type": "code",
   "execution_count": 14,
   "metadata": {},
   "outputs": [
    {
     "name": "stdout",
     "output_type": "stream",
     "text": [
      "Sphinx 0.1138\n"
     ]
    }
   ],
   "source": [
    "print(\"Sphinx\", wer(realtext, comptext))"
   ]
  },
  {
   "cell_type": "code",
   "execution_count": 15,
   "metadata": {},
   "outputs": [
    {
     "name": "stdout",
     "output_type": "stream",
     "text": [
      "real lesson 1 a private conversation first listen and then answer the question why did the writer complain to the people behind him last week i went to the theatre i had a very good seat the play was very interesting i did not enjoy it a young man and a young woman were sitting behind me they were talking loudly i got very angry i could not hear the actors i turned round i looked at the man and the woman angrily they did not pay any attention in the end i could not bear it i turned round again i cant hear a word i said angrily its none of your business the young man said rudely this is a private conversation\n",
      "G lesson 1 a private conversation first listen and then answer the question why did the writer complain to the people behind him last week i went to the theater i had a very good seat the play was very interesting i did not enjoy it a young man and a young woman sitting behind me they were talking loudly i got very angry i could not hear the actors i turned around i looked at the man in the woman angrily they did not pay any attention in the end i could not bear it i turned around again i can't hear i said angrily it's none of your business the young man said rudely this is a private conversation\n",
      "sphinx bless him on a private conversation first listen and then answer the question why did the right ear complained to the people behind him last week i went to the theater i had a very good seats the play was very interesting i did not enjoy it a young man in the young woman were sitting behind me they were talking loudly i got very angry i could not hear the actors i turned round i looked at the man in the woman angrily they did not pay any attention in the end i could not bear it i turned round again i can't hear own word i said angrily it's none of your business the young man said rudely this is a private conversation\n"
     ]
    }
   ],
   "source": [
    "print(\"real\", realtext) \n",
    "print(\"G\", t)\n",
    "print(\"sphinx\", comptext)"
   ]
  },
  {
   "cell_type": "markdown",
   "metadata": {},
   "source": [
    "# Sphinx recognition accuracy"
   ]
  },
  {
   "cell_type": "code",
   "execution_count": 16,
   "metadata": {},
   "outputs": [],
   "source": [
    "def compare():\n",
    "    '''compare list of texts in two folders'''\n",
    "    result = [] ## an array of output wer scores\n",
    "    for i in range(1, 1 + len(glob.glob(\"Data/NCE/2/T*.TXT\"))):\n",
    "        table = str.maketrans('', '', string.punctuation)\n",
    "        ##NCE files\n",
    "        #print(i)\n",
    "        with open('Data/NCE/2/T' + str(i) + '.TXT', 'r') as myfile:\n",
    "            realtext=myfile.read().replace('\\n', '')\n",
    "#         with open('Data/NCE/2/' + str(i) + '.txt', 'r') as myfile:\n",
    "#             realtext=myfile.read().replace('\\n', '')\n",
    "#             ## removing the punctuation\n",
    "            realtext = realtext.translate(table)\n",
    "        ##translated files\n",
    "        with open('Data/NCE/2/' + str(i) + '_trans.txt', 'r') as myfile:\n",
    "            comptext=myfile.read().replace('\\n', '')\n",
    "        result.append(wer(realtext, comptext))\n",
    "    return np.array(result)"
   ]
  },
  {
   "cell_type": "code",
   "execution_count": 17,
   "metadata": {},
   "outputs": [],
   "source": [
    "NCE_2 = compare()"
   ]
  },
  {
   "cell_type": "code",
   "execution_count": 18,
   "metadata": {},
   "outputs": [
    {
     "data": {
      "image/png": "[encoded data removed]",
      "text/plain": [
       "<matplotlib.figure.Figure at 0x1a1900d710>"
      ]
     },
     "metadata": {},
     "output_type": "display_data"
    },
    {
     "name": "stdout",
     "output_type": "stream",
     "text": [
      "0.256572916667 0.0602912937316\n"
     ]
    }
   ],
   "source": [
    "plt.clf()\n",
    "plt.hist(NCE_2)\n",
    "plt.show()\n",
    "print(NCE_2.mean(), NCE_2.std())"
   ]
  },
  {
   "cell_type": "markdown",
   "metadata": {},
   "source": []
  },
  {
   "cell_type": "code",
   "execution_count": null,
   "metadata": {},
   "outputs": [],
   "source": []
  }
 ],
 "metadata": {
  "kernelspec": {
   "display_name": "Python 3",
   "language": "python",
   "name": "python3"
  },
  "language_info": {
   "codemirror_mode": {
    "name": "ipython",
    "version": 3
   },
   "file_extension": ".py",
   "mimetype": "text/x-python",
   "name": "python",
   "nbconvert_exporter": "python",
   "pygments_lexer": "ipython3",
   "version": "3.6.1"
  }
 },
 "nbformat": 4,
 "nbformat_minor": 2
}
