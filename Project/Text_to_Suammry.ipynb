{
 "cells": [
  {
   "cell_type": "code",
   "execution_count": 13,
   "metadata": {},
   "outputs": [
    {
     "name": "stdout",
     "output_type": "stream",
     "text": [
      "The autoreload extension is already loaded. To reload it, use:\n",
      "  %reload_ext autoreload\n"
     ]
    }
   ],
   "source": [
    "## for text recognition\n",
    "import nltk\n",
    "import string\n",
    "import json\n",
    "\n",
    "## for general studies\n",
    "import os as os\n",
    "from os import listdir\n",
    "from os.path import isfile, join\n",
    "import glob\n",
    "from numpy import fft as fft\n",
    "import matplotlib.pyplot as plt\n",
    "import numpy as np\n",
    "import sys\n",
    "import seaborn as sns\n",
    "from tqdm import tqdm\n",
    "import time as time\n",
    "import multiprocessing as mp\n",
    "\n",
    "## My codes\n",
    "from src.utils import wer\n",
    "from src.utils import SoundToText\n",
    "\n",
    "## settings\n",
    "%matplotlib inline\n",
    "\n",
    "# Some more magic so that the notebook will reload external python modules;\n",
    "# see http://stackoverflow.com/questions/1907993/autoreload-of-modules-in-ipython\n",
    "%load_ext autoreload\n",
    "%autoreload 2"
   ]
  },
  {
   "cell_type": "code",
   "execution_count": 20,
   "metadata": {},
   "outputs": [
    {
     "name": "stdout",
     "output_type": "stream",
     "text": [
      "number of total CNN 92579\n"
     ]
    }
   ],
   "source": [
    "print(\"number of total CNN\", len(glob.glob(\"Data/Text/cnn/stories/*.story\")))"
   ]
  },
  {
   "cell_type": "code",
   "execution_count": 18,
   "metadata": {},
   "outputs": [],
   "source": [
    "# ## sample a subset of CNN news\n",
    "# np.random.seed(42)\n",
    "# for i in glob.glob(\"Data/Text/cnn/stories/*.story\"):\n",
    "#     if np.random.random() < 0.1:\n",
    "#         os.system('cp ' + i + \" \" + i.replace(\"stories\", \"temp\"))"
   ]
  },
  {
   "cell_type": "code",
   "execution_count": 22,
   "metadata": {},
   "outputs": [],
   "source": [
    "# ## sample a subset of CNN news\n",
    "# np.random.seed(42)\n",
    "# for i in glob.glob(\"Data/Text/cnn/temp/*.story\"):\n",
    "#     sample_rand = np.random.random()\n",
    "#     if sample_rand < 0.1:\n",
    "#         os.system('mv ' + i + \" \" + i.replace(\"temp\", \"test\"))\n",
    "#     elif sample_rand < 0.2:\n",
    "#         os.system('mv ' + i + \" \" + i.replace(\"temp\", \"val\"))\n",
    "#     else:\n",
    "#         os.system('mv ' + i + \" \" + i.replace(\"temp\", \"train\"))"
   ]
  },
  {
   "cell_type": "code",
   "execution_count": 24,
   "metadata": {},
   "outputs": [
    {
     "name": "stdout",
     "output_type": "stream",
     "text": [
      "number of total train 7031\n",
      "number of total test 964\n",
      "number of total val 1290\n"
     ]
    }
   ],
   "source": [
    "print(\"number of total train\", len(glob.glob(\"Data/Text/cnn/train/*.story\")))\n",
    "print(\"number of total test\", len(glob.glob(\"Data/Text/cnn/test/*.story\")))\n",
    "print(\"number of total val\", len(glob.glob(\"Data/Text/cnn/val/*.story\")))"
   ]
  },
  {
   "cell_type": "code",
   "execution_count": 25,
   "metadata": {},
   "outputs": [],
   "source": []
  },
  {
   "cell_type": "code",
   "execution_count": null,
   "metadata": {},
   "outputs": [],
   "source": []
  }
 ],
 "metadata": {
  "kernelspec": {
   "display_name": "Python 3",
   "language": "python",
   "name": "python3"
  },
  "language_info": {
   "codemirror_mode": {
    "name": "ipython",
    "version": 3
   },
   "file_extension": ".py",
   "mimetype": "text/x-python",
   "name": "python",
   "nbconvert_exporter": "python",
   "pygments_lexer": "ipython3",
   "version": "3.6.1"
  }
 },
 "nbformat": 4,
 "nbformat_minor": 2
}
