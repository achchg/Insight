{
 "cells": [
  {
   "cell_type": "code",
   "execution_count": 5,
   "metadata": {},
   "outputs": [],
   "source": [
    "import numpy as np\n",
    "import pandas as pd\n",
    "import re, nltk, spacy, gensim, string\n",
    "from nltk.corpus import stopwords\n",
    "from collections import Counter\n",
    "from gensim.summarization import summarize\n",
    "from gensim.summarization import keywords\n",
    "\n",
    "# Sklearn\n",
    "from sklearn.decomposition import LatentDirichletAllocation, TruncatedSVD\n",
    "from sklearn.feature_extraction.text import CountVectorizer, TfidfVectorizer\n",
    "from sklearn.feature_extraction.stop_words import ENGLISH_STOP_WORDS\n",
    "from sklearn.model_selection import GridSearchCV\n",
    "from pprint import pprint\n",
    "from tqdm import tqdm\n",
    "\n",
    "# Plotting tools\n",
    "import pyLDAvis\n",
    "import pyLDAvis.sklearn\n",
    "import matplotlib.pyplot as plt\n",
    "import seaborn as sns\n",
    "sns.set_style(\"white\")\n",
    "\n",
    "%matplotlib inline"
   ]
  },
  {
   "cell_type": "code",
   "execution_count": 6,
   "metadata": {},
   "outputs": [],
   "source": [
    "# A custom function to clean the text before sending it into the vectorizer\n",
    "def cleanText(text):\n",
    "    \n",
    "    table = str.maketrans('', '', string.punctuation)\n",
    "    # get rid of punctuation\n",
    "    text = text.translate(table)\n",
    "    \n",
    "    # get rid of newlines\n",
    "    text = text.strip().replace(\"\\n\", \" \").replace(\"\\r\", \" \")\n",
    "    \n",
    "    # replace twitter @mentions\n",
    "    mentionFinder = re.compile(r\"@[a-z0-9_]{1,15}\", re.IGNORECASE)\n",
    "    text = mentionFinder.sub(\"@MENTION\", text)\n",
    "    \n",
    "    # replace HTML symbols\n",
    "    text = text.replace(\"&amp;\", \"and\").replace(\"&gt;\", \">\").replace(\"&lt;\", \"<\")\n",
    "    \n",
    "    # lowercase\n",
    "    text = text.lower()\n",
    "\n",
    "    return text\n",
    "\n",
    "def calc_score(ref, comp, debug=False):\n",
    "    '''gives the number of items in ref that is also found in comp'''\n",
    "    ## check if it is a list of strings\n",
    "    if not isinstance(ref, list):\n",
    "        ref = str(ref).split()\n",
    "    if not isinstance(comp, list):\n",
    "        comp = str(comp).split()\n",
    "        \n",
    "    s_ref = set(ref)\n",
    "    s_comp = set(comp)\n",
    "    s_inter = s_comp.intersection(s_ref)\n",
    "    if debug:\n",
    "        print(s_ref, len(s_ref))\n",
    "        print(s_comp)\n",
    "        print(s_inter, len(s_inter))\n",
    "    return len(s_inter)/len(s_ref)"
   ]
  },
  {
   "cell_type": "code",
   "execution_count": 7,
   "metadata": {},
   "outputs": [],
   "source": [
    "# A custom stoplist\n",
    "STOPLIST = set(stopwords.words('english') + [\"n't\", \"'s\", \"'m\", \"ca\"] + list(ENGLISH_STOP_WORDS))\n",
    "# List of symbols we don't care about\n",
    "SYMBOLS = \" \".join(string.punctuation).split(\" \") + [\"-----\", \"---\", \"...\", \"“\", \"”\", \"'ve\", \"\\n\", \"\", \" \", \"\\n\\n\", \"npr\"]\n",
    "\n",
    "def lemming(data, keeptype=[\"NOUN\", \"PROPN\", \"NUM\", \"ADJ\", \"ADV\"], doalpha=True, dostop=True):\n",
    "    tokens = []\n",
    "    for tok in data:\n",
    "        \n",
    "        # stoplist the tokens\n",
    "        if dostop:\n",
    "            if tok.text not in STOPLIST:\n",
    "                pass\n",
    "            else:\n",
    "                continue\n",
    "            ##check if the token is stopword\n",
    "            if not tok.is_stop:\n",
    "                pass\n",
    "            else:\n",
    "                continue\n",
    "        else:\n",
    "            pass\n",
    "        \n",
    "        # stoplist symbols\n",
    "        if tok.text not in SYMBOLS:\n",
    "            pass\n",
    "        else: \n",
    "            continue\n",
    "        \n",
    "        ##check if the token is alpha\n",
    "        if doalpha:\n",
    "            if tok.is_alpha:\n",
    "                pass\n",
    "            else:\n",
    "                continue\n",
    "        else:\n",
    "            pass\n",
    "        \n",
    "        ##check if the token is noun\n",
    "        if len(keeptype) > 1:\n",
    "            if tok.pos_ in keeptype:\n",
    "                pass\n",
    "            else:\n",
    "                continue\n",
    "        else:\n",
    "            pass\n",
    "    \n",
    "        # lemmatize\n",
    "        if tok.lemma_ != \"-PRON-\" :\n",
    "            tokens.append(tok.lemma_.lower().strip())\n",
    "        else:\n",
    "            tokens.append(tok.lower_)\n",
    "    \n",
    "    # remove large strings of whitespace\n",
    "    return tokens"
   ]
  },
  {
   "cell_type": "code",
   "execution_count": 8,
   "metadata": {},
   "outputs": [],
   "source": [
    "# Initialize spacy 'en' model\n",
    "nlp = spacy.load('en')\n",
    "\n",
    "# Initialize vectorizer\n",
    "vectorizer = CountVectorizer(analyzer='word',       \n",
    "                             min_df=1,                        # minimum reqd occurences of a word \n",
    "                             token_pattern='[a-zA-Z0-9]{3,}',  # num chars > 3\n",
    "                             # max_features=50000,             # max number of uniq words\n",
    "                            )"
   ]
  },
  {
   "cell_type": "code",
   "execution_count": 9,
   "metadata": {},
   "outputs": [
    {
     "name": "stderr",
     "output_type": "stream",
     "text": [
      "100%|██████████| 419/419 [01:02<00:00,  6.75it/s]\n"
     ]
    }
   ],
   "source": [
    "all_token = []\n",
    "all_token_alltype = []\n",
    "all_sumtoken = []\n",
    "all_gensim = []\n",
    "N = 419 ##304 NPR, 96 conv, 419 story\n",
    "path = 'Data/NPR_story/'\n",
    "for i in tqdm(range(N)):\n",
    "    test_text = []\n",
    "    test_sumtext   = []\n",
    "    with open(path + str(i) + '_trans.txt', 'r') as myfile:\n",
    "        test_text.append(cleanText(myfile.read()))\n",
    "    with open(path + str(i) + '.txt', 'r') as myfile:\n",
    "        test_sumtext.append(cleanText(myfile.read()))\n",
    "    \n",
    "    ## try gensim\n",
    "    sum_gensim = keywords(\"\".join(test_text))\n",
    "    ## calculate the maximum score\n",
    "    nlp_test_text = nlp(\"\".join(test_text))\n",
    "    all_token.append(lemming(nlp_test_text))\n",
    "    all_token_alltype.append(lemming(nlp_test_text, doalpha=False, dostop=True, keeptype=[]))\n",
    "    all_sumtoken.append(lemming(nlp(\"\".join(test_sumtext)), doalpha=False, dostop=True, keeptype=[]))\n",
    "    all_gensim.append(lemming(nlp(\"\".join(sum_gensim)), doalpha=False, dostop=True, keeptype=[]))"
   ]
  },
  {
   "cell_type": "code",
   "execution_count": 22,
   "metadata": {},
   "outputs": [
    {
     "name": "stderr",
     "output_type": "stream",
     "text": [
      "  0%|          | 0/419 [00:00<?, ?it/s]/Users/renormalization/anaconda/lib/python3.6/site-packages/gensim/summarization/mz_entropy.py:103: RuntimeWarning: invalid value encountered in double_scalars\n",
      "  __log_combinations(n_words, blocksize)\n",
      "100%|██████████| 419/419 [00:06<00:00, 66.67it/s]\n"
     ]
    }
   ],
   "source": [
    "base_rate = []\n",
    "my_rate  = []\n",
    "gensim_rate = []\n",
    "for i in tqdm(range(N)):\n",
    "#for i in tqdm(range(1)):\n",
    "    ## calculate the maximum score\n",
    "    test_token = all_token[i]\n",
    "    test_token_alltype = all_token_alltype[i]\n",
    "    test_sumtoken = all_sumtoken[i]\n",
    "    test_gensim_token = all_gensim[i]\n",
    "    \n",
    "    best_score = calc_score(ref=test_sumtoken, comp=test_token_alltype, debug=False)\n",
    "    #print(\"best score\", best_score)\n",
    "\n",
    "    length = len(test_sumtoken)\n",
    "    common_words_alltype = [w[0] for w in Counter(test_token_alltype).most_common(length)]\n",
    "    #print(\" \".join(common_words_alltype))\n",
    "    base_score =  calc_score(ref=test_sumtoken, comp=common_words_alltype, debug=False)\n",
    "    #print(\"baseline score\", base_score)\n",
    "\n",
    "#     # Predict the topic\n",
    "#     topic = predict_topic(text = [\" \".join(test_token)], nwords=length)\n",
    "#     #print(\" \".join(topic))\n",
    "\n",
    "    topic = [w[0] for w in Counter(test_token).most_common(length)]\n",
    "    my_score = calc_score(ref=test_sumtoken, comp=topic, debug=False)\n",
    "    #print(\"my score\", my_score)\n",
    "    #print(\" \".join(test_sumtoken))\n",
    "    \n",
    "    #test_gensim_token = keywords(\" \".join(test_token_alltype), words=length)\n",
    "    test_gensim_token = gensim.summarization.mz_entropy.mz_keywords(\" \".join(test_token_alltype))\n",
    "    #print(test_gensim_token)\n",
    "    gensim_score = calc_score(ref=test_sumtoken, comp=test_gensim_token, debug=False)\n",
    "    \n",
    "    base_rate.append(base_score/best_score)\n",
    "    my_rate.append(my_score/best_score)\n",
    "    gensim_rate.append(gensim_score/best_score)\n",
    "    \n",
    "#     if base_score/best_score > 0.9:\n",
    "#         print(\" \".join(common_words_alltype))\n",
    "#         print(\" \".join(topic))\n",
    "#         print(\" \".join(test_sumtoken))\n",
    "#         calc_score(ref=test_sumtoken, comp=common_words_alltype, debug=True)\n",
    "#         print(base_score, best_score, my_score)"
   ]
  },
  {
   "cell_type": "code",
   "execution_count": 23,
   "metadata": {},
   "outputs": [
    {
     "data": {
      "text/plain": [
       "<matplotlib.figure.Figure at 0x12a380940>"
      ]
     },
     "metadata": {},
     "output_type": "display_data"
    },
    {
     "data": {
      "image/png": "[encoded data removed]",
      "text/plain": [
       "<matplotlib.figure.Figure at 0x12a380780>"
      ]
     },
     "metadata": {},
     "output_type": "display_data"
    }
   ],
   "source": [
    "plt.clf()\n",
    "plt.figure(figsize=(12, 8))\n",
    "mybins=np.arange(0, 1.05, 0.05)\n",
    "plt.hist(my_rate, alpha=0.5, bins=mybins, label=\"TypeFiltered; mean %.3f %s %.3f\" % (np.mean(np.array(my_rate)), r'$\\pm$', np.std(np.array(my_rate))/np.sqrt(N)))\n",
    "plt.hist(base_rate, alpha=0.5, bins=mybins, label=\"NoFilter; mean %.3f %s %.3f \" % (np.mean(np.array(base_rate)), r'$\\pm$', np.std(np.array(base_rate)/np.sqrt(N))))\n",
    "plt.hist(gensim_rate, alpha=0.5, bins=mybins, label=\"Gensim; mean %.3f %s %.3f \" % (np.mean(np.array(gensim_rate)), r'$\\pm$', np.std(np.array(gensim_rate)/np.sqrt(N))))\n",
    "plt.ylim(0, 70)\n",
    "plt.xlabel(r\"$N_{SelectedWords}^{InDescription}$ / $N_{TotalWords}^{InDescription}$\", fontsize=32)\n",
    "plt.ylabel(\"counts\", fontsize=32)\n",
    "plt.xticks(fontsize=20)\n",
    "plt.yticks(fontsize=20)\n",
    "plt.title(\"Compare Methods\", fontsize=40)\n",
    "plt.legend(fontsize=27)\n",
    "plt.savefig(\"Plot/\" + path.split(\"/\")[1] + \"_compare.pdf\")\n",
    "plt.show()"
   ]
  },
  {
   "cell_type": "code",
   "execution_count": 24,
   "metadata": {},
   "outputs": [
    {
     "name": "stdout",
     "output_type": "stream",
     "text": [
      "know time school story want right good go record come barrel child smart trouble principal office elementary look hand\n",
      "time school story right good barrel child smart trouble principal office elementary hand head home mom judge new project\n"
     ]
    }
   ],
   "source": [
    "print(\" \".join(common_words_alltype))\n",
    "print(\" \".join(topic))"
   ]
  },
  {
   "cell_type": "code",
   "execution_count": 26,
   "metadata": {},
   "outputs": [
    {
     "name": "stdout",
     "output_type": "stream",
     "text": [
      "\n"
     ]
    }
   ],
   "source": [
    "print(\" \".join(test_sumtoken))\n",
    "print(\"\".join(test_gensim_token))"
   ]
  },
  {
   "cell_type": "code",
   "execution_count": 38,
   "metadata": {},
   "outputs": [
    {
     "name": "stdout",
     "output_type": "stream",
     "text": [
      "im new in time now this story going in the project that record stories from around the country today we hear from merrill anderson and her mother virginia they came destroy car in atlanta to talk about what barrel was like as a child turns out she was the family troublemakeri was always pretty smart academically but my mouth would give me a milan trouble have found myself in the principals office all are as you know because youd have to come to collect me and to take me out yes i went to the principals office so many times the u you made up for leothree children caught here youll always believed in it when they get in trouble i knew to call you for schools i knew the works of you hang in i remember one day an elementary school is quite as clients was actually bringing my a game dawn a little bit of standup comedy and follow the classroomand miss clayton just had this look of frustration on her face she had her hands on her hips and she wanted me to sit down she asked me politely a couple times but i was an overall may i had declined try were want among the top of my hand theyre laughing then all the sudden dead silentso they all look to the right was of the class id love to my left and fairy you wore i was just call it in the head wound path and over the years ive always been encouraged by the fact that on that ride home where there was a short ridefrom elementary school which is right around the corner wanna ride home from central high school you always let me know that was better than that and that is being smart was in good now but i had to be a good person and i had to be respectful of other people well i saw in you which you been seeing us outand i knew which you was capable of amendment which you could do at his head to make shoot you took the right pair and uncle eddie mahe you been there for me mom at times what i wanted you very annex on site in fifth grade one id give you moreyou may have always been so grateful for it but judge para landis and with their mom thinking and story line and lana and jane they recorded their conversation barrel was sworn in as chief magistrate judge in the cab honey george their commanders sayshe will be our guide to the american found life center at the library of congress it pine historical archives at in the arctic to obtained\n"
     ]
    }
   ],
   "source": [
    "print(\"\".join(test_text))"
   ]
  },
  {
   "cell_type": "code",
   "execution_count": 39,
   "metadata": {},
   "outputs": [
    {
     "name": "stdout",
     "output_type": "stream",
     "text": [
      "berryl anderson was a class clown and troublemaker when she was growing up but her mom taught her that it wasnt enough to be smart she also had to be a good person and be respectful of other people now shes a judge in dekalb county gaap 20100917\n"
     ]
    }
   ],
   "source": [
    "print(\"\".join(test_sumtext))"
   ]
  },
  {
   "cell_type": "markdown",
   "metadata": {},
   "source": [
    "## Merge txt files into one"
   ]
  },
  {
   "cell_type": "code",
   "execution_count": 47,
   "metadata": {},
   "outputs": [
    {
     "name": "stderr",
     "output_type": "stream",
     "text": [
      "100%|██████████| 419/419 [00:00<00:00, 1080.64it/s]\n"
     ]
    }
   ],
   "source": [
    "test_text = []\n",
    "test_sumtext   = []\n",
    "for i in tqdm(range(N)):\n",
    "    with open(path + str(i) + '_trans.txt', 'r') as myfile:\n",
    "        test_text.append(cleanText(myfile.read()))\n",
    "    with open(path + str(i) + '.txt', 'r') as myfile:\n",
    "        cleaned_sum = cleanText(myfile.read())\n",
    "        ## pop the last date out\n",
    "        test_sumtext.append(\" \".join(cleaned_sum.split(\" \")[:-1]))"
   ]
  },
  {
   "cell_type": "code",
   "execution_count": 48,
   "metadata": {},
   "outputs": [],
   "source": [
    "out_text = open('all_trans.txt', 'w')\n",
    "for item in test_text:\n",
    "    out_text.write(\"%s\\n\" % item)\n",
    "out_text.close()\n",
    "\n",
    "out_sumtext = open('all_sum.txt', 'w')\n",
    "for item in test_sumtext:\n",
    "    out_sumtext.write(\"%s\\n\" % item)\n",
    "out_sumtext.close()"
   ]
  },
  {
   "cell_type": "markdown",
   "metadata": {},
   "source": [
    "## Gensim fasttext"
   ]
  },
  {
   "cell_type": "code",
   "execution_count": 2,
   "metadata": {},
   "outputs": [
    {
     "name": "stderr",
     "output_type": "stream",
     "text": [
      "/Users/renormalization/anaconda/lib/python3.6/site-packages/gensim/models/fasttext.py:273: DeprecationWarning: Call to deprecated `bucket` (Attribute will be removed in 4.0.0, use trainables.bucket instead).\n",
      "  self.wv.bucket = self.bucket\n",
      "/Users/renormalization/anaconda/lib/python3.6/site-packages/gensim/models/fasttext.py:396: DeprecationWarning: Call to deprecated `layer1_size` (Attribute will be removed in 4.0.0, use self.trainables.layer1_size instead).\n",
      "  l1_size = self.layer1_size * np.dtype(np.float32).itemsize\n",
      "/Users/renormalization/anaconda/lib/python3.6/site-packages/gensim/models/fasttext.py:400: DeprecationWarning: Call to deprecated `bucket` (Attribute will be removed in 4.0.0, use trainables.bucket instead).\n",
      "  num_buckets = self.bucket\n",
      "/Users/renormalization/anaconda/lib/python3.6/site-packages/gensim/models/fasttext.py:409: DeprecationWarning: Call to deprecated `min_n` (Attribute will be removed in 4.0.0, use wv.min_n instead).\n",
      "  ngrams = _compute_ngrams(word, self.min_n, self.max_n)\n",
      "/Users/renormalization/anaconda/lib/python3.6/site-packages/gensim/models/fasttext.py:409: DeprecationWarning: Call to deprecated `max_n` (Attribute will be removed in 4.0.0, use wv.max_n instead).\n",
      "  ngrams = _compute_ngrams(word, self.min_n, self.max_n)\n",
      "/Users/renormalization/anaconda/lib/python3.6/site-packages/gensim/models/fasttext.py:411: DeprecationWarning: Call to deprecated `bucket` (Attribute will be removed in 4.0.0, use trainables.bucket instead).\n",
      "  buckets.update(_ft_hash(ng) % self.bucket for ng in ngrams)\n",
      "/Users/renormalization/anaconda/lib/python3.6/site-packages/gensim/models/fasttext.py:411: DeprecationWarning: Call to deprecated `bucket` (Attribute will be removed in 4.0.0, use trainables.bucket instead).\n",
      "  buckets.update(_ft_hash(ng) % self.bucket for ng in ngrams)\n",
      "/Users/renormalization/anaconda/lib/python3.6/site-packages/gensim/models/fasttext.py:411: DeprecationWarning: Call to deprecated `bucket` (Attribute will be removed in 4.0.0, use trainables.bucket instead).\n",
      "  buckets.update(_ft_hash(ng) % self.bucket for ng in ngrams)\n",
      "/Users/renormalization/anaconda/lib/python3.6/site-packages/gensim/models/fasttext.py:411: DeprecationWarning: Call to deprecated `bucket` (Attribute will be removed in 4.0.0, use trainables.bucket instead).\n",
      "  buckets.update(_ft_hash(ng) % self.bucket for ng in ngrams)\n",
      "/Users/renormalization/anaconda/lib/python3.6/site-packages/gensim/models/fasttext.py:411: DeprecationWarning: Call to deprecated `bucket` (Attribute will be removed in 4.0.0, use trainables.bucket instead).\n",
      "  buckets.update(_ft_hash(ng) % self.bucket for ng in ngrams)\n",
      "/Users/renormalization/anaconda/lib/python3.6/site-packages/gensim/models/fasttext.py:411: DeprecationWarning: Call to deprecated `bucket` (Attribute will be removed in 4.0.0, use trainables.bucket instead).\n",
      "  buckets.update(_ft_hash(ng) % self.bucket for ng in ngrams)\n",
      "/Users/renormalization/anaconda/lib/python3.6/site-packages/gensim/models/fasttext.py:409: DeprecationWarning: Call to deprecated `min_n` (Attribute will be removed in 4.0.0, use wv.min_n instead).\n",
      "  ngrams = _compute_ngrams(word, self.min_n, self.max_n)\n",
      "/Users/renormalization/anaconda/lib/python3.6/site-packages/gensim/models/fasttext.py:409: DeprecationWarning: Call to deprecated `max_n` (Attribute will be removed in 4.0.0, use wv.max_n instead).\n",
      "  ngrams = _compute_ngrams(word, self.min_n, self.max_n)\n",
      "/Users/renormalization/anaconda/lib/python3.6/site-packages/gensim/models/fasttext.py:411: DeprecationWarning: Call to deprecated `bucket` (Attribute will be removed in 4.0.0, use trainables.bucket instead).\n",
      "  buckets.update(_ft_hash(ng) % self.bucket for ng in ngrams)\n",
      "/Users/renormalization/anaconda/lib/python3.6/site-packages/gensim/models/fasttext.py:411: DeprecationWarning: Call to deprecated `bucket` (Attribute will be removed in 4.0.0, use trainables.bucket instead).\n",
      "  buckets.update(_ft_hash(ng) % self.bucket for ng in ngrams)\n",
      "/Users/renormalization/anaconda/lib/python3.6/site-packages/gensim/models/fasttext.py:411: DeprecationWarning: Call to deprecated `bucket` (Attribute will be removed in 4.0.0, use trainables.bucket instead).\n",
      "  buckets.update(_ft_hash(ng) % self.bucket for ng in ngrams)\n",
      "/Users/renormalization/anaconda/lib/python3.6/site-packages/gensim/models/fasttext.py:411: DeprecationWarning: Call to deprecated `bucket` (Attribute will be removed in 4.0.0, use trainables.bucket instead).\n",
      "  buckets.update(_ft_hash(ng) % self.bucket for ng in ngrams)\n",
      "/Users/renormalization/anaconda/lib/python3.6/site-packages/gensim/models/fasttext.py:411: DeprecationWarning: Call to deprecated `bucket` (Attribute will be removed in 4.0.0, use trainables.bucket instead).\n",
      "  buckets.update(_ft_hash(ng) % self.bucket for ng in ngrams)\n",
      "/Users/renormalization/anaconda/lib/python3.6/site-packages/gensim/models/fasttext.py:411: DeprecationWarning: Call to deprecated `bucket` (Attribute will be removed in 4.0.0, use trainables.bucket instead).\n",
      "  buckets.update(_ft_hash(ng) % self.bucket for ng in ngrams)\n",
      "/Users/renormalization/anaconda/lib/python3.6/site-packages/gensim/models/fasttext.py:409: DeprecationWarning: Call to deprecated `min_n` (Attribute will be removed in 4.0.0, use wv.min_n instead).\n",
      "  ngrams = _compute_ngrams(word, self.min_n, self.max_n)\n",
      "/Users/renormalization/anaconda/lib/python3.6/site-packages/gensim/models/fasttext.py:409: DeprecationWarning: Call to deprecated `max_n` (Attribute will be removed in 4.0.0, use wv.max_n instead).\n",
      "  ngrams = _compute_ngrams(word, self.min_n, self.max_n)\n",
      "/Users/renormalization/anaconda/lib/python3.6/site-packages/gensim/models/fasttext.py:411: DeprecationWarning: Call to deprecated `bucket` (Attribute will be removed in 4.0.0, use trainables.bucket instead).\n",
      "  buckets.update(_ft_hash(ng) % self.bucket for ng in ngrams)\n",
      "/Users/renormalization/anaconda/lib/python3.6/site-packages/gensim/models/fasttext.py:411: DeprecationWarning: Call to deprecated `bucket` (Attribute will be removed in 4.0.0, use trainables.bucket instead).\n",
      "  buckets.update(_ft_hash(ng) % self.bucket for ng in ngrams)\n",
      "/Users/renormalization/anaconda/lib/python3.6/site-packages/gensim/models/fasttext.py:411: DeprecationWarning: Call to deprecated `bucket` (Attribute will be removed in 4.0.0, use trainables.bucket instead).\n",
      "  buckets.update(_ft_hash(ng) % self.bucket for ng in ngrams)\n",
      "/Users/renormalization/anaconda/lib/python3.6/site-packages/gensim/models/fasttext.py:411: DeprecationWarning: Call to deprecated `bucket` (Attribute will be removed in 4.0.0, use trainables.bucket instead).\n",
      "  buckets.update(_ft_hash(ng) % self.bucket for ng in ngrams)\n",
      "/Users/renormalization/anaconda/lib/python3.6/site-packages/gensim/models/fasttext.py:411: DeprecationWarning: Call to deprecated `bucket` (Attribute will be removed in 4.0.0, use trainables.bucket instead).\n",
      "  buckets.update(_ft_hash(ng) % self.bucket for ng in ngrams)\n",
      "/Users/renormalization/anaconda/lib/python3.6/site-packages/gensim/models/fasttext.py:411: DeprecationWarning: Call to deprecated `bucket` (Attribute will be removed in 4.0.0, use trainables.bucket instead).\n",
      "  buckets.update(_ft_hash(ng) % self.bucket for ng in ngrams)\n",
      "/Users/renormalization/anaconda/lib/python3.6/site-packages/gensim/models/fasttext.py:411: DeprecationWarning: Call to deprecated `bucket` (Attribute will be removed in 4.0.0, use trainables.bucket instead).\n",
      "  buckets.update(_ft_hash(ng) % self.bucket for ng in ngrams)\n",
      "/Users/renormalization/anaconda/lib/python3.6/site-packages/gensim/models/fasttext.py:411: DeprecationWarning: Call to deprecated `bucket` (Attribute will be removed in 4.0.0, use trainables.bucket instead).\n",
      "  buckets.update(_ft_hash(ng) % self.bucket for ng in ngrams)\n",
      "/Users/renormalization/anaconda/lib/python3.6/site-packages/gensim/models/fasttext.py:411: DeprecationWarning: Call to deprecated `bucket` (Attribute will be removed in 4.0.0, use trainables.bucket instead).\n",
      "  buckets.update(_ft_hash(ng) % self.bucket for ng in ngrams)\n",
      "/Users/renormalization/anaconda/lib/python3.6/site-packages/gensim/models/fasttext.py:411: DeprecationWarning: Call to deprecated `bucket` (Attribute will be removed in 4.0.0, use trainables.bucket instead).\n",
      "  buckets.update(_ft_hash(ng) % self.bucket for ng in ngrams)\n",
      "/Users/renormalization/anaconda/lib/python3.6/site-packages/gensim/models/fasttext.py:409: DeprecationWarning: Call to deprecated `min_n` (Attribute will be removed in 4.0.0, use wv.min_n instead).\n",
      "  ngrams = _compute_ngrams(word, self.min_n, self.max_n)\n",
      "/Users/renormalization/anaconda/lib/python3.6/site-packages/gensim/models/fasttext.py:409: DeprecationWarning: Call to deprecated `max_n` (Attribute will be removed in 4.0.0, use wv.max_n instead).\n",
      "  ngrams = _compute_ngrams(word, self.min_n, self.max_n)\n",
      "/Users/renormalization/anaconda/lib/python3.6/site-packages/gensim/models/fasttext.py:411: DeprecationWarning: Call to deprecated `bucket` (Attribute will be removed in 4.0.0, use trainables.bucket instead).\n",
      "  buckets.update(_ft_hash(ng) % self.bucket for ng in ngrams)\n",
      "/Users/renormalization/anaconda/lib/python3.6/site-packages/gensim/models/fasttext.py:411: DeprecationWarning: Call to deprecated `bucket` (Attribute will be removed in 4.0.0, use trainables.bucket instead).\n",
      "  buckets.update(_ft_hash(ng) % self.bucket for ng in ngrams)\n",
      "/Users/renormalization/anaconda/lib/python3.6/site-packages/gensim/models/fasttext.py:411: DeprecationWarning: Call to deprecated `bucket` (Attribute will be removed in 4.0.0, use trainables.bucket instead).\n",
      "  buckets.update(_ft_hash(ng) % self.bucket for ng in ngrams)\n",
      "/Users/renormalization/anaconda/lib/python3.6/site-packages/gensim/models/fasttext.py:411: DeprecationWarning: Call to deprecated `bucket` (Attribute will be removed in 4.0.0, use trainables.bucket instead).\n",
      "  buckets.update(_ft_hash(ng) % self.bucket for ng in ngrams)\n",
      "/Users/renormalization/anaconda/lib/python3.6/site-packages/gensim/models/fasttext.py:411: DeprecationWarning: Call to deprecated `bucket` (Attribute will be removed in 4.0.0, use trainables.bucket instead).\n",
      "  buckets.update(_ft_hash(ng) % self.bucket for ng in ngrams)\n",
      "/Users/renormalization/anaconda/lib/python3.6/site-packages/gensim/models/fasttext.py:411: DeprecationWarning: Call to deprecated `bucket` (Attribute will be removed in 4.0.0, use trainables.bucket instead).\n",
      "  buckets.update(_ft_hash(ng) % self.bucket for ng in ngrams)\n",
      "/Users/renormalization/anaconda/lib/python3.6/site-packages/gensim/models/fasttext.py:409: DeprecationWarning: Call to deprecated `min_n` (Attribute will be removed in 4.0.0, use wv.min_n instead).\n",
      "  ngrams = _compute_ngrams(word, self.min_n, self.max_n)\n",
      "/Users/renormalization/anaconda/lib/python3.6/site-packages/gensim/models/fasttext.py:409: DeprecationWarning: Call to deprecated `max_n` (Attribute will be removed in 4.0.0, use wv.max_n instead).\n",
      "  ngrams = _compute_ngrams(word, self.min_n, self.max_n)\n",
      "/Users/renormalization/anaconda/lib/python3.6/site-packages/gensim/models/fasttext.py:411: DeprecationWarning: Call to deprecated `bucket` (Attribute will be removed in 4.0.0, use trainables.bucket instead).\n",
      "  buckets.update(_ft_hash(ng) % self.bucket for ng in ngrams)\n",
      "/Users/renormalization/anaconda/lib/python3.6/site-packages/gensim/models/fasttext.py:411: DeprecationWarning: Call to deprecated `bucket` (Attribute will be removed in 4.0.0, use trainables.bucket instead).\n",
      "  buckets.update(_ft_hash(ng) % self.bucket for ng in ngrams)\n",
      "/Users/renormalization/anaconda/lib/python3.6/site-packages/gensim/models/fasttext.py:411: DeprecationWarning: Call to deprecated `bucket` (Attribute will be removed in 4.0.0, use trainables.bucket instead).\n",
      "  buckets.update(_ft_hash(ng) % self.bucket for ng in ngrams)\n",
      "/Users/renormalization/anaconda/lib/python3.6/site-packages/gensim/models/fasttext.py:411: DeprecationWarning: Call to deprecated `bucket` (Attribute will be removed in 4.0.0, use trainables.bucket instead).\n",
      "  buckets.update(_ft_hash(ng) % self.bucket for ng in ngrams)\n",
      "/Users/renormalization/anaconda/lib/python3.6/site-packages/gensim/models/fasttext.py:411: DeprecationWarning: Call to deprecated `bucket` (Attribute will be removed in 4.0.0, use trainables.bucket instead).\n",
      "  buckets.update(_ft_hash(ng) % self.bucket for ng in ngrams)\n",
      "/Users/renormalization/anaconda/lib/python3.6/site-packages/gensim/models/fasttext.py:411: DeprecationWarning: Call to deprecated `bucket` (Attribute will be removed in 4.0.0, use trainables.bucket instead).\n",
      "  buckets.update(_ft_hash(ng) % self.bucket for ng in ngrams)\n",
      "/Users/renormalization/anaconda/lib/python3.6/site-packages/gensim/models/fasttext.py:411: DeprecationWarning: Call to deprecated `bucket` (Attribute will be removed in 4.0.0, use trainables.bucket instead).\n",
      "  buckets.update(_ft_hash(ng) % self.bucket for ng in ngrams)\n",
      "/Users/renormalization/anaconda/lib/python3.6/site-packages/gensim/models/fasttext.py:411: DeprecationWarning: Call to deprecated `bucket` (Attribute will be removed in 4.0.0, use trainables.bucket instead).\n",
      "  buckets.update(_ft_hash(ng) % self.bucket for ng in ngrams)\n",
      "/Users/renormalization/anaconda/lib/python3.6/site-packages/gensim/models/fasttext.py:411: DeprecationWarning: Call to deprecated `bucket` (Attribute will be removed in 4.0.0, use trainables.bucket instead).\n",
      "  buckets.update(_ft_hash(ng) % self.bucket for ng in ngrams)\n",
      "/Users/renormalization/anaconda/lib/python3.6/site-packages/gensim/models/fasttext.py:411: DeprecationWarning: Call to deprecated `bucket` (Attribute will be removed in 4.0.0, use trainables.bucket instead).\n",
      "  buckets.update(_ft_hash(ng) % self.bucket for ng in ngrams)\n"
     ]
    },
    {
     "name": "stderr",
     "output_type": "stream",
     "text": [
      "/Users/renormalization/anaconda/lib/python3.6/site-packages/ipykernel_launcher.py:7: DeprecationWarning: Call to deprecated `iter` (Attribute will be removed in 4.0.0, use self.epochs instead).\n",
      "  import sys\n",
      "/Users/renormalization/anaconda/lib/python3.6/site-packages/gensim/models/fasttext.py:396: DeprecationWarning: Call to deprecated `layer1_size` (Attribute will be removed in 4.0.0, use self.trainables.layer1_size instead).\n",
      "  l1_size = self.layer1_size * np.dtype(np.float32).itemsize\n",
      "/Users/renormalization/anaconda/lib/python3.6/site-packages/gensim/models/fasttext.py:400: DeprecationWarning: Call to deprecated `bucket` (Attribute will be removed in 4.0.0, use trainables.bucket instead).\n",
      "  num_buckets = self.bucket\n",
      "/Users/renormalization/anaconda/lib/python3.6/site-packages/gensim/models/fasttext.py:409: DeprecationWarning: Call to deprecated `min_n` (Attribute will be removed in 4.0.0, use wv.min_n instead).\n",
      "  ngrams = _compute_ngrams(word, self.min_n, self.max_n)\n",
      "/Users/renormalization/anaconda/lib/python3.6/site-packages/gensim/models/fasttext.py:409: DeprecationWarning: Call to deprecated `max_n` (Attribute will be removed in 4.0.0, use wv.max_n instead).\n",
      "  ngrams = _compute_ngrams(word, self.min_n, self.max_n)\n",
      "/Users/renormalization/anaconda/lib/python3.6/site-packages/gensim/models/fasttext.py:411: DeprecationWarning: Call to deprecated `bucket` (Attribute will be removed in 4.0.0, use trainables.bucket instead).\n",
      "  buckets.update(_ft_hash(ng) % self.bucket for ng in ngrams)\n",
      "/Users/renormalization/anaconda/lib/python3.6/site-packages/gensim/models/fasttext.py:411: DeprecationWarning: Call to deprecated `bucket` (Attribute will be removed in 4.0.0, use trainables.bucket instead).\n",
      "  buckets.update(_ft_hash(ng) % self.bucket for ng in ngrams)\n",
      "/Users/renormalization/anaconda/lib/python3.6/site-packages/gensim/models/fasttext.py:411: DeprecationWarning: Call to deprecated `bucket` (Attribute will be removed in 4.0.0, use trainables.bucket instead).\n",
      "  buckets.update(_ft_hash(ng) % self.bucket for ng in ngrams)\n",
      "/Users/renormalization/anaconda/lib/python3.6/site-packages/gensim/models/fasttext.py:411: DeprecationWarning: Call to deprecated `bucket` (Attribute will be removed in 4.0.0, use trainables.bucket instead).\n",
      "  buckets.update(_ft_hash(ng) % self.bucket for ng in ngrams)\n",
      "/Users/renormalization/anaconda/lib/python3.6/site-packages/gensim/models/fasttext.py:411: DeprecationWarning: Call to deprecated `bucket` (Attribute will be removed in 4.0.0, use trainables.bucket instead).\n",
      "  buckets.update(_ft_hash(ng) % self.bucket for ng in ngrams)\n",
      "/Users/renormalization/anaconda/lib/python3.6/site-packages/gensim/models/fasttext.py:411: DeprecationWarning: Call to deprecated `bucket` (Attribute will be removed in 4.0.0, use trainables.bucket instead).\n",
      "  buckets.update(_ft_hash(ng) % self.bucket for ng in ngrams)\n",
      "/Users/renormalization/anaconda/lib/python3.6/site-packages/gensim/models/fasttext.py:409: DeprecationWarning: Call to deprecated `min_n` (Attribute will be removed in 4.0.0, use wv.min_n instead).\n",
      "  ngrams = _compute_ngrams(word, self.min_n, self.max_n)\n",
      "/Users/renormalization/anaconda/lib/python3.6/site-packages/gensim/models/fasttext.py:409: DeprecationWarning: Call to deprecated `max_n` (Attribute will be removed in 4.0.0, use wv.max_n instead).\n",
      "  ngrams = _compute_ngrams(word, self.min_n, self.max_n)\n",
      "/Users/renormalization/anaconda/lib/python3.6/site-packages/gensim/models/fasttext.py:411: DeprecationWarning: Call to deprecated `bucket` (Attribute will be removed in 4.0.0, use trainables.bucket instead).\n",
      "  buckets.update(_ft_hash(ng) % self.bucket for ng in ngrams)\n",
      "/Users/renormalization/anaconda/lib/python3.6/site-packages/gensim/models/fasttext.py:411: DeprecationWarning: Call to deprecated `bucket` (Attribute will be removed in 4.0.0, use trainables.bucket instead).\n",
      "  buckets.update(_ft_hash(ng) % self.bucket for ng in ngrams)\n",
      "/Users/renormalization/anaconda/lib/python3.6/site-packages/gensim/models/fasttext.py:411: DeprecationWarning: Call to deprecated `bucket` (Attribute will be removed in 4.0.0, use trainables.bucket instead).\n",
      "  buckets.update(_ft_hash(ng) % self.bucket for ng in ngrams)\n",
      "/Users/renormalization/anaconda/lib/python3.6/site-packages/gensim/models/fasttext.py:411: DeprecationWarning: Call to deprecated `bucket` (Attribute will be removed in 4.0.0, use trainables.bucket instead).\n",
      "  buckets.update(_ft_hash(ng) % self.bucket for ng in ngrams)\n",
      "/Users/renormalization/anaconda/lib/python3.6/site-packages/gensim/models/fasttext.py:411: DeprecationWarning: Call to deprecated `bucket` (Attribute will be removed in 4.0.0, use trainables.bucket instead).\n",
      "  buckets.update(_ft_hash(ng) % self.bucket for ng in ngrams)\n",
      "/Users/renormalization/anaconda/lib/python3.6/site-packages/gensim/models/fasttext.py:411: DeprecationWarning: Call to deprecated `bucket` (Attribute will be removed in 4.0.0, use trainables.bucket instead).\n",
      "  buckets.update(_ft_hash(ng) % self.bucket for ng in ngrams)\n",
      "/Users/renormalization/anaconda/lib/python3.6/site-packages/gensim/models/fasttext.py:409: DeprecationWarning: Call to deprecated `min_n` (Attribute will be removed in 4.0.0, use wv.min_n instead).\n",
      "  ngrams = _compute_ngrams(word, self.min_n, self.max_n)\n",
      "/Users/renormalization/anaconda/lib/python3.6/site-packages/gensim/models/fasttext.py:409: DeprecationWarning: Call to deprecated `max_n` (Attribute will be removed in 4.0.0, use wv.max_n instead).\n",
      "  ngrams = _compute_ngrams(word, self.min_n, self.max_n)\n",
      "/Users/renormalization/anaconda/lib/python3.6/site-packages/gensim/models/fasttext.py:411: DeprecationWarning: Call to deprecated `bucket` (Attribute will be removed in 4.0.0, use trainables.bucket instead).\n",
      "  buckets.update(_ft_hash(ng) % self.bucket for ng in ngrams)\n",
      "/Users/renormalization/anaconda/lib/python3.6/site-packages/gensim/models/fasttext.py:411: DeprecationWarning: Call to deprecated `bucket` (Attribute will be removed in 4.0.0, use trainables.bucket instead).\n",
      "  buckets.update(_ft_hash(ng) % self.bucket for ng in ngrams)\n",
      "/Users/renormalization/anaconda/lib/python3.6/site-packages/gensim/models/fasttext.py:411: DeprecationWarning: Call to deprecated `bucket` (Attribute will be removed in 4.0.0, use trainables.bucket instead).\n",
      "  buckets.update(_ft_hash(ng) % self.bucket for ng in ngrams)\n",
      "/Users/renormalization/anaconda/lib/python3.6/site-packages/gensim/models/fasttext.py:411: DeprecationWarning: Call to deprecated `bucket` (Attribute will be removed in 4.0.0, use trainables.bucket instead).\n",
      "  buckets.update(_ft_hash(ng) % self.bucket for ng in ngrams)\n",
      "/Users/renormalization/anaconda/lib/python3.6/site-packages/gensim/models/fasttext.py:411: DeprecationWarning: Call to deprecated `bucket` (Attribute will be removed in 4.0.0, use trainables.bucket instead).\n",
      "  buckets.update(_ft_hash(ng) % self.bucket for ng in ngrams)\n",
      "/Users/renormalization/anaconda/lib/python3.6/site-packages/gensim/models/fasttext.py:411: DeprecationWarning: Call to deprecated `bucket` (Attribute will be removed in 4.0.0, use trainables.bucket instead).\n",
      "  buckets.update(_ft_hash(ng) % self.bucket for ng in ngrams)\n",
      "/Users/renormalization/anaconda/lib/python3.6/site-packages/gensim/models/fasttext.py:411: DeprecationWarning: Call to deprecated `bucket` (Attribute will be removed in 4.0.0, use trainables.bucket instead).\n",
      "  buckets.update(_ft_hash(ng) % self.bucket for ng in ngrams)\n",
      "/Users/renormalization/anaconda/lib/python3.6/site-packages/gensim/models/fasttext.py:411: DeprecationWarning: Call to deprecated `bucket` (Attribute will be removed in 4.0.0, use trainables.bucket instead).\n",
      "  buckets.update(_ft_hash(ng) % self.bucket for ng in ngrams)\n",
      "/Users/renormalization/anaconda/lib/python3.6/site-packages/gensim/models/fasttext.py:411: DeprecationWarning: Call to deprecated `bucket` (Attribute will be removed in 4.0.0, use trainables.bucket instead).\n",
      "  buckets.update(_ft_hash(ng) % self.bucket for ng in ngrams)\n",
      "/Users/renormalization/anaconda/lib/python3.6/site-packages/gensim/models/fasttext.py:411: DeprecationWarning: Call to deprecated `bucket` (Attribute will be removed in 4.0.0, use trainables.bucket instead).\n",
      "  buckets.update(_ft_hash(ng) % self.bucket for ng in ngrams)\n",
      "/Users/renormalization/anaconda/lib/python3.6/site-packages/gensim/models/fasttext.py:409: DeprecationWarning: Call to deprecated `min_n` (Attribute will be removed in 4.0.0, use wv.min_n instead).\n",
      "  ngrams = _compute_ngrams(word, self.min_n, self.max_n)\n",
      "/Users/renormalization/anaconda/lib/python3.6/site-packages/gensim/models/fasttext.py:409: DeprecationWarning: Call to deprecated `max_n` (Attribute will be removed in 4.0.0, use wv.max_n instead).\n",
      "  ngrams = _compute_ngrams(word, self.min_n, self.max_n)\n",
      "/Users/renormalization/anaconda/lib/python3.6/site-packages/gensim/models/fasttext.py:411: DeprecationWarning: Call to deprecated `bucket` (Attribute will be removed in 4.0.0, use trainables.bucket instead).\n",
      "  buckets.update(_ft_hash(ng) % self.bucket for ng in ngrams)\n",
      "/Users/renormalization/anaconda/lib/python3.6/site-packages/gensim/models/fasttext.py:411: DeprecationWarning: Call to deprecated `bucket` (Attribute will be removed in 4.0.0, use trainables.bucket instead).\n",
      "  buckets.update(_ft_hash(ng) % self.bucket for ng in ngrams)\n",
      "/Users/renormalization/anaconda/lib/python3.6/site-packages/gensim/models/fasttext.py:411: DeprecationWarning: Call to deprecated `bucket` (Attribute will be removed in 4.0.0, use trainables.bucket instead).\n",
      "  buckets.update(_ft_hash(ng) % self.bucket for ng in ngrams)\n",
      "/Users/renormalization/anaconda/lib/python3.6/site-packages/gensim/models/fasttext.py:411: DeprecationWarning: Call to deprecated `bucket` (Attribute will be removed in 4.0.0, use trainables.bucket instead).\n",
      "  buckets.update(_ft_hash(ng) % self.bucket for ng in ngrams)\n",
      "/Users/renormalization/anaconda/lib/python3.6/site-packages/gensim/models/fasttext.py:411: DeprecationWarning: Call to deprecated `bucket` (Attribute will be removed in 4.0.0, use trainables.bucket instead).\n",
      "  buckets.update(_ft_hash(ng) % self.bucket for ng in ngrams)\n",
      "/Users/renormalization/anaconda/lib/python3.6/site-packages/gensim/models/fasttext.py:411: DeprecationWarning: Call to deprecated `bucket` (Attribute will be removed in 4.0.0, use trainables.bucket instead).\n",
      "  buckets.update(_ft_hash(ng) % self.bucket for ng in ngrams)\n",
      "/Users/renormalization/anaconda/lib/python3.6/site-packages/gensim/models/fasttext.py:409: DeprecationWarning: Call to deprecated `min_n` (Attribute will be removed in 4.0.0, use wv.min_n instead).\n",
      "  ngrams = _compute_ngrams(word, self.min_n, self.max_n)\n",
      "/Users/renormalization/anaconda/lib/python3.6/site-packages/gensim/models/fasttext.py:409: DeprecationWarning: Call to deprecated `max_n` (Attribute will be removed in 4.0.0, use wv.max_n instead).\n",
      "  ngrams = _compute_ngrams(word, self.min_n, self.max_n)\n",
      "/Users/renormalization/anaconda/lib/python3.6/site-packages/gensim/models/fasttext.py:411: DeprecationWarning: Call to deprecated `bucket` (Attribute will be removed in 4.0.0, use trainables.bucket instead).\n",
      "  buckets.update(_ft_hash(ng) % self.bucket for ng in ngrams)\n",
      "/Users/renormalization/anaconda/lib/python3.6/site-packages/gensim/models/fasttext.py:411: DeprecationWarning: Call to deprecated `bucket` (Attribute will be removed in 4.0.0, use trainables.bucket instead).\n",
      "  buckets.update(_ft_hash(ng) % self.bucket for ng in ngrams)\n",
      "/Users/renormalization/anaconda/lib/python3.6/site-packages/gensim/models/fasttext.py:411: DeprecationWarning: Call to deprecated `bucket` (Attribute will be removed in 4.0.0, use trainables.bucket instead).\n",
      "  buckets.update(_ft_hash(ng) % self.bucket for ng in ngrams)\n",
      "/Users/renormalization/anaconda/lib/python3.6/site-packages/gensim/models/fasttext.py:411: DeprecationWarning: Call to deprecated `bucket` (Attribute will be removed in 4.0.0, use trainables.bucket instead).\n",
      "  buckets.update(_ft_hash(ng) % self.bucket for ng in ngrams)\n",
      "/Users/renormalization/anaconda/lib/python3.6/site-packages/gensim/models/fasttext.py:411: DeprecationWarning: Call to deprecated `bucket` (Attribute will be removed in 4.0.0, use trainables.bucket instead).\n",
      "  buckets.update(_ft_hash(ng) % self.bucket for ng in ngrams)\n",
      "/Users/renormalization/anaconda/lib/python3.6/site-packages/gensim/models/fasttext.py:411: DeprecationWarning: Call to deprecated `bucket` (Attribute will be removed in 4.0.0, use trainables.bucket instead).\n",
      "  buckets.update(_ft_hash(ng) % self.bucket for ng in ngrams)\n",
      "/Users/renormalization/anaconda/lib/python3.6/site-packages/gensim/models/fasttext.py:411: DeprecationWarning: Call to deprecated `bucket` (Attribute will be removed in 4.0.0, use trainables.bucket instead).\n",
      "  buckets.update(_ft_hash(ng) % self.bucket for ng in ngrams)\n",
      "/Users/renormalization/anaconda/lib/python3.6/site-packages/gensim/models/fasttext.py:411: DeprecationWarning: Call to deprecated `bucket` (Attribute will be removed in 4.0.0, use trainables.bucket instead).\n",
      "  buckets.update(_ft_hash(ng) % self.bucket for ng in ngrams)\n",
      "/Users/renormalization/anaconda/lib/python3.6/site-packages/gensim/models/fasttext.py:411: DeprecationWarning: Call to deprecated `bucket` (Attribute will be removed in 4.0.0, use trainables.bucket instead).\n",
      "  buckets.update(_ft_hash(ng) % self.bucket for ng in ngrams)\n",
      "/Users/renormalization/anaconda/lib/python3.6/site-packages/gensim/models/fasttext.py:411: DeprecationWarning: Call to deprecated `bucket` (Attribute will be removed in 4.0.0, use trainables.bucket instead).\n",
      "  buckets.update(_ft_hash(ng) % self.bucket for ng in ngrams)\n",
      "/Users/renormalization/anaconda/lib/python3.6/site-packages/gensim/models/fasttext.py:409: DeprecationWarning: Call to deprecated `min_n` (Attribute will be removed in 4.0.0, use wv.min_n instead).\n",
      "  ngrams = _compute_ngrams(word, self.min_n, self.max_n)\n",
      "/Users/renormalization/anaconda/lib/python3.6/site-packages/gensim/models/fasttext.py:409: DeprecationWarning: Call to deprecated `max_n` (Attribute will be removed in 4.0.0, use wv.max_n instead).\n",
      "  ngrams = _compute_ngrams(word, self.min_n, self.max_n)\n",
      "/Users/renormalization/anaconda/lib/python3.6/site-packages/gensim/models/fasttext.py:411: DeprecationWarning: Call to deprecated `bucket` (Attribute will be removed in 4.0.0, use trainables.bucket instead).\n",
      "  buckets.update(_ft_hash(ng) % self.bucket for ng in ngrams)\n",
      "/Users/renormalization/anaconda/lib/python3.6/site-packages/gensim/models/fasttext.py:411: DeprecationWarning: Call to deprecated `bucket` (Attribute will be removed in 4.0.0, use trainables.bucket instead).\n",
      "  buckets.update(_ft_hash(ng) % self.bucket for ng in ngrams)\n",
      "/Users/renormalization/anaconda/lib/python3.6/site-packages/gensim/models/fasttext.py:411: DeprecationWarning: Call to deprecated `bucket` (Attribute will be removed in 4.0.0, use trainables.bucket instead).\n",
      "  buckets.update(_ft_hash(ng) % self.bucket for ng in ngrams)\n",
      "/Users/renormalization/anaconda/lib/python3.6/site-packages/gensim/models/fasttext.py:411: DeprecationWarning: Call to deprecated `bucket` (Attribute will be removed in 4.0.0, use trainables.bucket instead).\n",
      "  buckets.update(_ft_hash(ng) % self.bucket for ng in ngrams)\n",
      "/Users/renormalization/anaconda/lib/python3.6/site-packages/gensim/models/fasttext.py:411: DeprecationWarning: Call to deprecated `bucket` (Attribute will be removed in 4.0.0, use trainables.bucket instead).\n",
      "  buckets.update(_ft_hash(ng) % self.bucket for ng in ngrams)\n",
      "/Users/renormalization/anaconda/lib/python3.6/site-packages/gensim/models/fasttext.py:411: DeprecationWarning: Call to deprecated `bucket` (Attribute will be removed in 4.0.0, use trainables.bucket instead).\n",
      "  buckets.update(_ft_hash(ng) % self.bucket for ng in ngrams)\n",
      "/Users/renormalization/anaconda/lib/python3.6/site-packages/gensim/models/fasttext.py:411: DeprecationWarning: Call to deprecated `bucket` (Attribute will be removed in 4.0.0, use trainables.bucket instead).\n",
      "  buckets.update(_ft_hash(ng) % self.bucket for ng in ngrams)\n",
      "/Users/renormalization/anaconda/lib/python3.6/site-packages/gensim/models/fasttext.py:411: DeprecationWarning: Call to deprecated `bucket` (Attribute will be removed in 4.0.0, use trainables.bucket instead).\n",
      "  buckets.update(_ft_hash(ng) % self.bucket for ng in ngrams)\n",
      "/Users/renormalization/anaconda/lib/python3.6/site-packages/gensim/models/fasttext.py:411: DeprecationWarning: Call to deprecated `bucket` (Attribute will be removed in 4.0.0, use trainables.bucket instead).\n",
      "  buckets.update(_ft_hash(ng) % self.bucket for ng in ngrams)\n",
      "/Users/renormalization/anaconda/lib/python3.6/site-packages/gensim/models/fasttext.py:411: DeprecationWarning: Call to deprecated `bucket` (Attribute will be removed in 4.0.0, use trainables.bucket instead).\n",
      "  buckets.update(_ft_hash(ng) % self.bucket for ng in ngrams)\n",
      "/Users/renormalization/anaconda/lib/python3.6/site-packages/gensim/models/fasttext.py:409: DeprecationWarning: Call to deprecated `min_n` (Attribute will be removed in 4.0.0, use wv.min_n instead).\n",
      "  ngrams = _compute_ngrams(word, self.min_n, self.max_n)\n",
      "/Users/renormalization/anaconda/lib/python3.6/site-packages/gensim/models/fasttext.py:409: DeprecationWarning: Call to deprecated `max_n` (Attribute will be removed in 4.0.0, use wv.max_n instead).\n",
      "  ngrams = _compute_ngrams(word, self.min_n, self.max_n)\n",
      "/Users/renormalization/anaconda/lib/python3.6/site-packages/gensim/models/fasttext.py:411: DeprecationWarning: Call to deprecated `bucket` (Attribute will be removed in 4.0.0, use trainables.bucket instead).\n",
      "  buckets.update(_ft_hash(ng) % self.bucket for ng in ngrams)\n",
      "/Users/renormalization/anaconda/lib/python3.6/site-packages/gensim/models/fasttext.py:411: DeprecationWarning: Call to deprecated `bucket` (Attribute will be removed in 4.0.0, use trainables.bucket instead).\n",
      "  buckets.update(_ft_hash(ng) % self.bucket for ng in ngrams)\n",
      "/Users/renormalization/anaconda/lib/python3.6/site-packages/gensim/models/fasttext.py:411: DeprecationWarning: Call to deprecated `bucket` (Attribute will be removed in 4.0.0, use trainables.bucket instead).\n",
      "  buckets.update(_ft_hash(ng) % self.bucket for ng in ngrams)\n",
      "/Users/renormalization/anaconda/lib/python3.6/site-packages/gensim/models/fasttext.py:411: DeprecationWarning: Call to deprecated `bucket` (Attribute will be removed in 4.0.0, use trainables.bucket instead).\n",
      "  buckets.update(_ft_hash(ng) % self.bucket for ng in ngrams)\n",
      "/Users/renormalization/anaconda/lib/python3.6/site-packages/gensim/models/fasttext.py:411: DeprecationWarning: Call to deprecated `bucket` (Attribute will be removed in 4.0.0, use trainables.bucket instead).\n",
      "  buckets.update(_ft_hash(ng) % self.bucket for ng in ngrams)\n",
      "/Users/renormalization/anaconda/lib/python3.6/site-packages/gensim/models/fasttext.py:411: DeprecationWarning: Call to deprecated `bucket` (Attribute will be removed in 4.0.0, use trainables.bucket instead).\n",
      "  buckets.update(_ft_hash(ng) % self.bucket for ng in ngrams)\n",
      "/Users/renormalization/anaconda/lib/python3.6/site-packages/gensim/models/fasttext.py:411: DeprecationWarning: Call to deprecated `bucket` (Attribute will be removed in 4.0.0, use trainables.bucket instead).\n",
      "  buckets.update(_ft_hash(ng) % self.bucket for ng in ngrams)\n",
      "/Users/renormalization/anaconda/lib/python3.6/site-packages/gensim/models/fasttext.py:411: DeprecationWarning: Call to deprecated `bucket` (Attribute will be removed in 4.0.0, use trainables.bucket instead).\n",
      "  buckets.update(_ft_hash(ng) % self.bucket for ng in ngrams)\n",
      "/Users/renormalization/anaconda/lib/python3.6/site-packages/gensim/models/fasttext.py:411: DeprecationWarning: Call to deprecated `bucket` (Attribute will be removed in 4.0.0, use trainables.bucket instead).\n",
      "  buckets.update(_ft_hash(ng) % self.bucket for ng in ngrams)\n",
      "/Users/renormalization/anaconda/lib/python3.6/site-packages/gensim/models/fasttext.py:411: DeprecationWarning: Call to deprecated `bucket` (Attribute will be removed in 4.0.0, use trainables.bucket instead).\n",
      "  buckets.update(_ft_hash(ng) % self.bucket for ng in ngrams)\n",
      "/Users/renormalization/anaconda/lib/python3.6/site-packages/gensim/models/fasttext.py:411: DeprecationWarning: Call to deprecated `bucket` (Attribute will be removed in 4.0.0, use trainables.bucket instead).\n",
      "  buckets.update(_ft_hash(ng) % self.bucket for ng in ngrams)\n",
      "/Users/renormalization/anaconda/lib/python3.6/site-packages/gensim/models/fasttext.py:411: DeprecationWarning: Call to deprecated `bucket` (Attribute will be removed in 4.0.0, use trainables.bucket instead).\n",
      "  buckets.update(_ft_hash(ng) % self.bucket for ng in ngrams)\n",
      "/Users/renormalization/anaconda/lib/python3.6/site-packages/gensim/models/fasttext.py:411: DeprecationWarning: Call to deprecated `bucket` (Attribute will be removed in 4.0.0, use trainables.bucket instead).\n",
      "  buckets.update(_ft_hash(ng) % self.bucket for ng in ngrams)\n",
      "/Users/renormalization/anaconda/lib/python3.6/site-packages/gensim/models/fasttext.py:411: DeprecationWarning: Call to deprecated `bucket` (Attribute will be removed in 4.0.0, use trainables.bucket instead).\n",
      "  buckets.update(_ft_hash(ng) % self.bucket for ng in ngrams)\n",
      "/Users/renormalization/anaconda/lib/python3.6/site-packages/gensim/models/fasttext.py:411: DeprecationWarning: Call to deprecated `bucket` (Attribute will be removed in 4.0.0, use trainables.bucket instead).\n",
      "  buckets.update(_ft_hash(ng) % self.bucket for ng in ngrams)\n",
      "/Users/renormalization/anaconda/lib/python3.6/site-packages/gensim/models/fasttext.py:411: DeprecationWarning: Call to deprecated `bucket` (Attribute will be removed in 4.0.0, use trainables.bucket instead).\n",
      "  buckets.update(_ft_hash(ng) % self.bucket for ng in ngrams)\n",
      "/Users/renormalization/anaconda/lib/python3.6/site-packages/gensim/models/fasttext.py:411: DeprecationWarning: Call to deprecated `bucket` (Attribute will be removed in 4.0.0, use trainables.bucket instead).\n",
      "  buckets.update(_ft_hash(ng) % self.bucket for ng in ngrams)\n",
      "/Users/renormalization/anaconda/lib/python3.6/site-packages/gensim/models/fasttext.py:411: DeprecationWarning: Call to deprecated `bucket` (Attribute will be removed in 4.0.0, use trainables.bucket instead).\n",
      "  buckets.update(_ft_hash(ng) % self.bucket for ng in ngrams)\n",
      "/Users/renormalization/anaconda/lib/python3.6/site-packages/gensim/models/fasttext.py:411: DeprecationWarning: Call to deprecated `bucket` (Attribute will be removed in 4.0.0, use trainables.bucket instead).\n",
      "  buckets.update(_ft_hash(ng) % self.bucket for ng in ngrams)\n",
      "/Users/renormalization/anaconda/lib/python3.6/site-packages/gensim/models/fasttext.py:411: DeprecationWarning: Call to deprecated `bucket` (Attribute will be removed in 4.0.0, use trainables.bucket instead).\n",
      "  buckets.update(_ft_hash(ng) % self.bucket for ng in ngrams)\n",
      "/Users/renormalization/anaconda/lib/python3.6/site-packages/gensim/models/fasttext.py:411: DeprecationWarning: Call to deprecated `bucket` (Attribute will be removed in 4.0.0, use trainables.bucket instead).\n",
      "  buckets.update(_ft_hash(ng) % self.bucket for ng in ngrams)\n",
      "/Users/renormalization/anaconda/lib/python3.6/site-packages/gensim/models/fasttext.py:411: DeprecationWarning: Call to deprecated `bucket` (Attribute will be removed in 4.0.0, use trainables.bucket instead).\n",
      "  buckets.update(_ft_hash(ng) % self.bucket for ng in ngrams)\n",
      "/Users/renormalization/anaconda/lib/python3.6/site-packages/ipykernel_launcher.py:9: DeprecationWarning: Call to deprecated `iter` (Attribute will be removed in 4.0.0, use self.epochs instead).\n",
      "  if __name__ == '__main__':\n"
     ]
    }
   ],
   "source": [
    "from gensim.models import FastText\n",
    "sentences_1 = [[\"cat\", \"say\", \"meow\"], [\"dog\", \"say\", \"woof\"]]\n",
    "sentences_2 = [[\"dude\", \"say\", \"wazzup!\"]]\n",
    "\n",
    "model = FastText(min_count=1)\n",
    "model.build_vocab(sentences_1)\n",
    "model.train(sentences_1, total_examples=model.corpus_count, epochs=model.iter)\n",
    "model.build_vocab(sentences_2, update=True)\n",
    "model.train(sentences_2, total_examples=model.corpus_count, epochs=model.iter)"
   ]
  },
  {
   "cell_type": "code",
   "execution_count": 3,
   "metadata": {},
   "outputs": [
    {
     "name": "stderr",
     "output_type": "stream",
     "text": [
      "/Users/renormalization/anaconda/lib/python3.6/site-packages/ipykernel_launcher.py:1: DeprecationWarning: Call to deprecated `__getitem__` (Method will be removed in 4.0.0, use self.wv.__getitem__() instead).\n",
      "  \"\"\"Entry point for launching an IPython kernel.\n"
     ]
    }
   ],
   "source": [
    "say_vector = model['say']"
   ]
  },
  {
   "cell_type": "code",
   "execution_count": 4,
   "metadata": {},
   "outputs": [
    {
     "data": {
      "text/plain": [
       "array([ -2.48374348e-03,   1.28183200e-03,   2.78071064e-04,\n",
       "         1.17748801e-03,  -2.84763589e-03,   9.77993477e-04,\n",
       "         7.77854701e-04,   3.20158107e-03,  -3.23760835e-03,\n",
       "         7.47663376e-04,  -2.53082108e-04,  -1.91538595e-03,\n",
       "         4.54709720e-04,  -5.62755333e-04,  -3.87221808e-03,\n",
       "         1.28175726e-03,  -1.76023715e-03,   7.72499421e-04,\n",
       "         1.95931108e-03,  -2.86182249e-03,  -4.55376838e-04,\n",
       "         3.05658067e-03,   2.28731777e-03,   8.24262388e-05,\n",
       "        -1.02034304e-03,   3.90086439e-03,  -2.50886264e-03,\n",
       "        -1.91701506e-03,  -2.79970840e-03,  -6.84790313e-04,\n",
       "        -3.51232733e-03,   7.81246563e-05,  -1.41762511e-03,\n",
       "         3.18209408e-03,   1.07611215e-03,  -3.61893000e-03,\n",
       "         1.30862638e-03,   1.16036169e-03,  -3.37773818e-03,\n",
       "         4.24797880e-03,  -1.71071826e-03,   6.81362930e-04,\n",
       "        -2.27297656e-03,   2.86741694e-03,  -1.21385325e-04,\n",
       "         5.62858162e-03,   2.79778475e-03,   1.07019977e-03,\n",
       "        -1.81176583e-03,  -1.60234573e-03,  -2.64236447e-03,\n",
       "         2.93838070e-03,  -1.13120431e-03,  -1.86256308e-03,\n",
       "         7.85981014e-04,  -1.54724543e-03,   1.97424321e-03,\n",
       "        -3.16070416e-03,   2.61859177e-03,  -2.08307451e-04,\n",
       "        -1.47058594e-03,   2.41366611e-03,  -2.48487631e-04,\n",
       "        -2.81691144e-04,  -1.76252646e-03,   7.45113415e-04,\n",
       "         6.66863751e-04,   1.58800802e-03,   1.14193745e-03,\n",
       "         1.15941395e-03,   1.54933857e-03,  -1.27576047e-03,\n",
       "        -6.34108577e-03,  -1.37676683e-03,  -1.15316280e-03,\n",
       "         1.80655182e-03,  -1.02765451e-03,   1.99828832e-03,\n",
       "         2.50652171e-04,  -2.68008414e-04,   3.75274045e-04,\n",
       "        -1.87061226e-03,  -1.40709907e-03,  -1.01007638e-03,\n",
       "         2.29995325e-03,  -1.76212727e-03,   1.02789409e-03,\n",
       "         2.73411768e-03,  -4.81660885e-04,   4.31985082e-03,\n",
       "         2.37344019e-03,   1.92553585e-03,  -7.25806982e-04,\n",
       "        -5.07429882e-04,   1.36231747e-03,   2.96097668e-03,\n",
       "         5.31877065e-03,   2.80293432e-04,   1.67569960e-03,\n",
       "         5.12147695e-03], dtype=float32)"
      ]
     },
     "execution_count": 4,
     "metadata": {},
     "output_type": "execute_result"
    }
   ],
   "source": [
    "say_vector"
   ]
  },
  {
   "cell_type": "code",
   "execution_count": null,
   "metadata": {},
   "outputs": [],
   "source": []
  }
 ],
 "metadata": {
  "kernelspec": {
   "display_name": "Python 3",
   "language": "python",
   "name": "python3"
  },
  "language_info": {
   "codemirror_mode": {
    "name": "ipython",
    "version": 3
   },
   "file_extension": ".py",
   "mimetype": "text/x-python",
   "name": "python",
   "nbconvert_exporter": "python",
   "pygments_lexer": "ipython3",
   "version": "3.6.1"
  }
 },
 "nbformat": 4,
 "nbformat_minor": 2
}
