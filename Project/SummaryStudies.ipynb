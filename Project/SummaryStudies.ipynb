{
 "cells": [
  {
   "cell_type": "markdown",
   "metadata": {},
   "source": [
    "## Goal is to pick out the key sentence/words from a test\n",
    "\n",
    "* Textrank: https://nlpforhackers.io/textrank-text-summarization/\n",
    "* sumy: https://github.com/miso-belica/sumy"
   ]
  },
  {
   "cell_type": "code",
   "execution_count": 1,
   "metadata": {},
   "outputs": [],
   "source": [
    "import numpy as np\n",
    "import pandas as pd\n",
    "import re, nltk, spacy, gensim, string\n",
    "from nltk.corpus import stopwords\n",
    "from collections import Counter, OrderedDict\n",
    "from gensim.summarization import summarize\n",
    "from gensim.summarization import keywords\n",
    "from gensim.models.phrases import Phrases\n",
    "from gensim.models.phrases import Phraser\n",
    "import time as time\n",
    "import pickle\n",
    "import random\n",
    "\n",
    "from sumy.nlp.stemmers import Stemmer\n",
    "from sumy.summarizers.lsa import LsaSummarizer\n",
    "from sumy.summarizers.kl import KLSummarizer\n",
    "##from sumy.summarizers.luhn import LuhnSummarizer\n",
    "from sumy.utils import get_stop_words\n",
    "from sumy.parsers.plaintext import PlaintextParser\n",
    "from sumy.nlp.tokenizers import Tokenizer\n",
    "\n",
    "# Sklearn\n",
    "from sklearn.decomposition import LatentDirichletAllocation, TruncatedSVD\n",
    "from sklearn.feature_extraction.text import CountVectorizer, TfidfVectorizer\n",
    "from sklearn.feature_extraction.stop_words import ENGLISH_STOP_WORDS\n",
    "from sklearn.model_selection import GridSearchCV\n",
    "from pprint import pprint\n",
    "from tqdm import tqdm\n",
    "import multiprocessing as mp\n",
    "\n",
    "# Plotting tools\n",
    "import pyLDAvis\n",
    "import pyLDAvis.sklearn\n",
    "import matplotlib.pyplot as plt\n",
    "import seaborn as sns\n",
    "sns.set_style(\"white\")\n",
    "\n",
    "%matplotlib inline"
   ]
  },
  {
   "cell_type": "code",
   "execution_count": 2,
   "metadata": {},
   "outputs": [],
   "source": [
    "# A custom function to clean the text before sending it into the vectorizer\n",
    "def cleanText(text):\n",
    "    \n",
    "    # replace ;\n",
    "    text = text.replace(\" ; \", \"\\n\")\n",
    "    \n",
    "    table = str.maketrans('', '', string.punctuation)\n",
    "    # get rid of punctuation\n",
    "    text = text.translate(table)\n",
    "    \n",
    "    # get rid of newlines\n",
    "    text = text.strip().replace(\"\\n\", \". \").replace(\"\\r\", \".\")\n",
    "    \n",
    "    # replace twitter @mentions\n",
    "    mentionFinder = re.compile(r\"@[a-z0-9_]{1,15}\", re.IGNORECASE)\n",
    "    text = mentionFinder.sub(\"@MENTION\", text)\n",
    "    \n",
    "    # replace HTML symbols\n",
    "    text = text.replace(\"&amp;\", \"and\").replace(\"&gt;\", \">\").replace(\"&lt;\", \"<\")\n",
    "    \n",
    "    # lowercase\n",
    "    text = text.lower()\n",
    "\n",
    "    return text\n",
    "\n",
    "def calc_score(ref, comp, debug=False):\n",
    "    '''gives the number of items in ref that is also found in comp'''\n",
    "    ## check if it is a list of strings\n",
    "    if not isinstance(ref, list):\n",
    "        ref = str(ref).split()\n",
    "    if not isinstance(comp, list):\n",
    "        comp = str(comp).split()\n",
    "        \n",
    "    s_ref = set(ref)\n",
    "    s_comp = set(comp)\n",
    "    s_inter = s_comp.intersection(s_ref)\n",
    "    if debug:\n",
    "        print(s_ref, len(s_ref))\n",
    "        print(s_comp)\n",
    "        print(s_inter, len(s_inter))\n",
    "    try:\n",
    "        return len(s_inter)/len(s_ref)\n",
    "    except ZeroDivisionError:\n",
    "        return 0"
   ]
  },
  {
   "cell_type": "code",
   "execution_count": 3,
   "metadata": {},
   "outputs": [],
   "source": [
    "# A custom stoplist\n",
    "STOPLIST = set(stopwords.words('english') + [\"n't\", \"'s\", \"'m\", \"ca\"] + list(ENGLISH_STOP_WORDS))\n",
    "# List of symbols we don't care about\n",
    "SYMBOLS = \" \".join(string.punctuation).split(\" \") + [\"-----\", \"---\", \"...\", \"“\", \"”\", \"'ve\", \"\\n\", \"\", \" \", \"\\n\\n\", \"npr\"]\n",
    "\n",
    "def lemming(data, keeptype=[], doalpha=False, dostop=True):\n",
    "    tokens = []\n",
    "    for tok in data:\n",
    "        \n",
    "        # stoplist the tokens\n",
    "        if dostop:\n",
    "            if tok.text not in STOPLIST:\n",
    "                pass\n",
    "            else:\n",
    "                continue\n",
    "            ##check if the token is stopword\n",
    "            if not tok.is_stop:\n",
    "                pass\n",
    "            else:\n",
    "                continue\n",
    "        else:\n",
    "            pass\n",
    "        \n",
    "        # stoplist symbols\n",
    "        if tok.text not in SYMBOLS:\n",
    "            pass\n",
    "        else: \n",
    "            continue\n",
    "        \n",
    "        ##check if the token is alpha\n",
    "        if doalpha:\n",
    "            if tok.is_alpha:\n",
    "                pass\n",
    "            else:\n",
    "                continue\n",
    "        else:\n",
    "            pass\n",
    "        \n",
    "        ##check if the token is noun\n",
    "        if len(keeptype) > 1:\n",
    "            if tok.pos_ in keeptype:\n",
    "                pass\n",
    "            else:\n",
    "                continue\n",
    "        else:\n",
    "            pass\n",
    "    \n",
    "        # lemmatize\n",
    "        if tok.lemma_ != \"-PRON-\" :\n",
    "            tokens.append(tok.lemma_.lower().strip())\n",
    "        else:\n",
    "            tokens.append(tok.lower_)\n",
    "    \n",
    "    # remove large strings of whitespace\n",
    "    return tokens"
   ]
  },
  {
   "cell_type": "code",
   "execution_count": 4,
   "metadata": {},
   "outputs": [],
   "source": [
    "# Initialize spacy 'en' model\n",
    "nlp = spacy.load('en')\n",
    "\n",
    "# Initialize vectorizer\n",
    "vectorizer = CountVectorizer(analyzer='word',       \n",
    "                             min_df=1,                        # minimum reqd occurences of a word \n",
    "                             token_pattern='[a-zA-Z0-9]{3,}',  # num chars > 3\n",
    "                             # max_features=50000,             # max number of uniq words\n",
    "                            )"
   ]
  },
  {
   "cell_type": "code",
   "execution_count": 5,
   "metadata": {},
   "outputs": [],
   "source": [
    "# ## https://radimrehurek.com/gensim/models/phrases.html\n",
    "# # rename some functions\n",
    "# Phraser = models.phrases.Phraser\n",
    "# Phrases = models.phrases.Phrases\n",
    "\n",
    "# # Generate list of sentences\n",
    "# sentence_stream = fulltextdic[0][\"text\"]\n",
    "\n",
    "# # Generate bigrams\n",
    "# phrases = Phrases(sentence_stream, min_count=1, threshold=2)\n",
    "# bigram = Phraser(phrases)\n",
    "\n",
    "# # # Generate trigrams \n",
    "# # trigram = Phrases(bigram[sentence_stream])\n",
    "\n",
    "# # Generate output\n",
    "# output_strs = []\n",
    "\n",
    "# doc = fulltextdic[0][\"text\"]\n",
    "# output_doc = list(bigram[doc])\n",
    "# output_strs.append(' '.join(output_doc))\n",
    "\n",
    "# print(doc)\n",
    "# print(output_strs)"
   ]
  },
  {
   "cell_type": "code",
   "execution_count": 6,
   "metadata": {},
   "outputs": [
    {
     "name": "stdout",
     "output_type": "stream",
     "text": [
      " Running 96 jobs on 6 cores\n",
      "Done!!\n",
      "--- 1182.4437861442566 seconds ---\n"
     ]
    }
   ],
   "source": [
    "sumtoken = []\n",
    "token = []\n",
    "token_filter = []\n",
    "token_gensim_sentence = []\n",
    "token_gensim_word = []\n",
    "\n",
    "##304 NPR, 96 conv, 419 story\n",
    "path = 'Data/NPR_conv/'\n",
    "#N = 1\n",
    "if \"_story\" in path: ## 31 seconds\n",
    "    N = 419\n",
    "elif \"_conv\" in path: ## 81 seconds\n",
    "    N = 96\n",
    "elif \"NPR\" in path: ## 124 seconds\n",
    "    N = 304\n",
    "fulltextdic = {}\n",
    "\n",
    "def TextToTokens(i=1):\n",
    "    '''input is file name\n",
    "    tranlsate the file, file summary'''\n",
    "    result = {}\n",
    "    with open(path + str(i) + '_trans.txt', 'r') as myfile:\n",
    "        temp_text = cleanText(myfile.read()) ##this is a string\n",
    "        #print(type(temp_text))\n",
    "    with open(path + str(i) + '.txt', 'r') as myfile:\n",
    "        ## remove the last element which is a date; for summary only\n",
    "        temp_sumtext = \" \".join(cleanText(myfile.read()).split(\" \")[:-1]) ## this is also a string\n",
    "        ##print(temp_sumtext, type(temp_text))\n",
    "    \n",
    "    ## add in phrases\n",
    "#     inputdocument = [d.split(\" \") for d in temp_text.split(\". \")]\n",
    "#     phrases = Phrases(inputdocument, min_count=1, threshold=2)\n",
    "#     bigram = Phraser(phrases)\n",
    "    \n",
    "    ## convert to tokens\n",
    "    nlp_temp_text = nlp(\"\".join(temp_text)) ## this is spacy token\n",
    "    nlp_temp_sumtext = nlp(\"\".join(temp_sumtext )) ## this is spacy token\n",
    "    \n",
    "    ## do lemming\n",
    "    result[\"origin\"] = temp_text\n",
    "    result[\"text\"] = lemming(nlp_temp_text) #bigram[lemming(nlp_temp_text)]\n",
    "    result[\"sumtext\"] = lemming(nlp_temp_sumtext) #bigram[lemming(nlp_temp_sumtext)]\n",
    "    result[\"textfilter\"] = lemming(nlp_temp_text, doalpha=True, keeptype=[\"NOUN\", \"PROPN\", \"NUM\", \"ADJ\", \"ADV\"]) #bigram[lemming(nlp_temp_text, doalpha=True, keeptype=[\"NOUN\", \"PROPN\", \"NUM\", \"ADJ\", \"ADV\"])]\n",
    "    \n",
    "#     token.append(lemming(nlp_temp_text))\n",
    "#     token_alltype.append(lemming(nlp_temp_text, doalpha=False, dostop=True, keeptype=[]))\n",
    "#     sumtoken.append(lemming(, doalpha=False, dostop=True, keeptype=[]))\n",
    "    \n",
    "    ## try gensim sentence\n",
    "    ratio = len(temp_sumtext)/len(temp_text)\n",
    "    sum_gensim = summarize(\"\".join(temp_text), ratio=ratio, split=True) #this is a list\n",
    "    result[\"gensim_sentence\"] = lemming(nlp(\" \".join(sum_gensim)))\n",
    "    \n",
    "    ## try random sentence\n",
    "    sentences = temp_text.split(\". \")\n",
    "    n_sentences = len(sum_gensim)\n",
    "    sum_random = random.choices(sentences, k=n_sentences)\n",
    "    result[\"random_sentence\"] = lemming(nlp(\" \".join(sum_random)))\n",
    "    \n",
    "    ## try longest sentence\n",
    "    sentences.sort(key = lambda x:len(x))\n",
    "    sum_long = sentences[-n_sentences:]\n",
    "    #print(sum_long)\n",
    "    result[\"long_sentence\"] = lemming(nlp(\" \".join(sum_long)))\n",
    "    \n",
    "    ## gensim keywords; use lemmed full text\n",
    "    #print(\" \".join(result[\"text\"]))\n",
    "    result[\"gensim_word\"] =  keywords(\" \".join(result[\"text\"]), words=len(result[\"sumtext\"]), split=True, lemmatize=True, deacc=True)\n",
    "    \n",
    "    summarizer = KLSummarizer(Stemmer(\"english\"))\n",
    "    summarizer.stop_words = get_stop_words(\"english\")\n",
    "    sumy_sentence = summarizer(PlaintextParser.from_string(\"\".join(temp_text), Tokenizer(\"english\")).document, n_sentences)\n",
    "    sumy_sentence = [str(j).replace(\"<Sentence: \", \"\").replace(\">\", \"\") for j in sumy_sentence]\n",
    "    result[\"sumy_sentence\"] = lemming(nlp(\" \".join(sumy_sentence)))\n",
    "    del(summarizer)\n",
    "    \n",
    "    ## done\n",
    "    return {i:result}\n",
    "\n",
    "start_time = time.time()\n",
    "\n",
    "inputtasks = range(N)\n",
    "npool = min(len(inputtasks), mp.cpu_count()-2)\n",
    "print(\" Running %s jobs on %s cores\" % (len(inputtasks), mp.cpu_count()-2))\n",
    "pool  = mp.Pool(npool)\n",
    "\n",
    "for r in pool.map(TextToTokens, inputtasks):\n",
    "    fulltextdic.update(r)\n",
    "    \n",
    "with open(path + 'fulltextdic.pkl', 'wb') as f:\n",
    "    pickle.dump(fulltextdic, f)\n",
    "    \n",
    "print(\"Done!!\")\n",
    "print(\"--- %s seconds ---\" % (time.time() - start_time))\n",
    "\n",
    "# for i in tqdm(range(2)):\n",
    "#     fulltextdic.update(TextToTokens(i))"
   ]
  },
  {
   "cell_type": "code",
   "execution_count": 11,
   "metadata": {},
   "outputs": [],
   "source": [
    "# with open(path + 'fulltextdic.pkl', 'rb') as f:\n",
    "#     fulltextdic = pickle.load(f)"
   ]
  },
  {
   "cell_type": "code",
   "execution_count": 7,
   "metadata": {},
   "outputs": [
    {
     "name": "stderr",
     "output_type": "stream",
     "text": [
      "100%|██████████| 96/96 [00:00<00:00, 745.41it/s]\n"
     ]
    }
   ],
   "source": [
    "scores = {}\n",
    "best_rate     = []\n",
    "base_rate     = []\n",
    "filter_rate   = []\n",
    "gensimsentence_rate = []\n",
    "sumysentence_rate = []\n",
    "longsentence_rate = []\n",
    "randomsentence_rate = []\n",
    "gensimkeyword_rate  = []\n",
    "comb_rate  = []\n",
    "\n",
    "for i in tqdm(range(N)):\n",
    "#for i in tqdm(range(1, 2)):\n",
    "    ## calculate the maximum score\n",
    "    token = fulltextdic[i][\"text\"]\n",
    "    token_sum = fulltextdic[i][\"sumtext\"]\n",
    "    token_filter = fulltextdic[i][\"textfilter\"]\n",
    "    token_gensimsentence = fulltextdic[i][\"gensim_sentence\"]\n",
    "    token_sumysentence = fulltextdic[i][\"sumy_sentence\"]\n",
    "    token_randomsentence = fulltextdic[i][\"random_sentence\"]\n",
    "    token_longsentence = fulltextdic[i][\"long_sentence\"]\n",
    "    token_gensimkeyword = fulltextdic[i][\"gensim_word\"]\n",
    "    length = len(token_sum)\n",
    "    \n",
    "    ## best score: Nwords in sum also in token\n",
    "    best_score = calc_score(ref=token_sum, comp=token, debug=False)\n",
    "    \n",
    "    ## baseline score: high frequency words\n",
    "    words_base = [w[0] for w in Counter(token).most_common(length)]\n",
    "    words_base.sort(key=lambda x: token.index(x))\n",
    "    base_score =  calc_score(ref=token_sum, comp=words_base, debug=False)\n",
    "\n",
    "    words_filter = [w[0] for w in Counter(token_filter).most_common(length)]\n",
    "    words_filter.sort(key=lambda x: token_filter.index(x))\n",
    "    filter_score = calc_score(ref=token_sum, comp=words_filter, debug=False)\n",
    "    \n",
    "    gensimsentence_score = calc_score(ref=token_sum, comp=token_gensimsentence, debug=False)\n",
    "    randomsentence_score = calc_score(ref=token_sum, comp=token_randomsentence, debug=False)\n",
    "    longsentence_score = calc_score(ref=token_sum, comp=token_longsentence, debug=False)\n",
    "    \n",
    "    sumysentence_score = calc_score(ref=token_sum, comp=token_sumysentence, debug=False)\n",
    "\n",
    "    gensimkeyword_score = calc_score(ref=token_sum, comp=token_gensimkeyword, debug=False)\n",
    "    \n",
    "    comb_words = [w[0] for w in Counter(words_filter + token_gensimsentence ).most_common(length)]\n",
    "    comb_score = calc_score(ref=token_sum, comp=comb_words, debug=False)\n",
    "    \n",
    "    best_rate.append(best_score)\n",
    "    base_rate.append(base_score * 100)\n",
    "    filter_rate.append(filter_score * 100)\n",
    "    gensimsentence_rate.append(gensimsentence_score * 100)\n",
    "    randomsentence_rate.append(randomsentence_score * 100)\n",
    "    longsentence_rate.append(longsentence_score * 100)\n",
    "    gensimkeyword_rate.append(gensimkeyword_score * 100)\n",
    "    comb_rate.append(comb_score * 100)\n",
    "    \n",
    "    sumysentence_rate.append(sumysentence_score * 100)\n",
    "    \n",
    "\n",
    "    if gensimsentence_score > 0.8:\n",
    "        print(\"This is the\", i, \"file\")\n",
    "        print(\" \".join(token_sum))\n",
    "        print(\"best score\", best_score, \"\\n\")\n",
    "        print(\" \".join(words_base))\n",
    "        print(\"baseline score\", base_score, \"\\n\")\n",
    "        print(\" \".join(token_gensimsentence))\n",
    "        print(\" \".join(token_randomsentence))\n",
    "        print(\" \".join(token_longsentence))\n",
    "        print(\"gensimsentence score\", gensimsentence_score, \"\\n\")\n",
    "        print(\" \".join(words_filter))\n",
    "        print(\"filter word score\", filter_score, \"\\n\")\n",
    "        print(\" \".join(token_gensimkeyword))\n",
    "        print(\"gensimskeyword score\", gensimkeyword_score, \"\\n\")\n",
    "        print(\" \".join(comb_words))\n",
    "        print(\"comb score\", comb_score, \"\\n\")\n",
    "        #print(token)\n",
    "\n",
    "\n",
    "scores[\"best\"] = best_rate\n",
    "scores[\"base\"] = base_rate\n",
    "scores[\"filter\"] = filter_rate\n",
    "scores[\"gensimsentence\"] = gensimsentence_rate\n",
    "scores[\"longsentence\"] = longsentence_rate\n",
    "scores[\"randomsentence\"] = randomsentence_rate\n",
    "scores[\"gensimkeyword\"] = gensimkeyword_rate\n",
    "scores[\"comb\"] = comb_rate"
   ]
  },
  {
   "cell_type": "code",
   "execution_count": 8,
   "metadata": {
    "scrolled": false
   },
   "outputs": [
    {
     "data": {
      "text/plain": [
       "<Figure size 432x288 with 0 Axes>"
      ]
     },
     "metadata": {},
     "output_type": "display_data"
    },
    {
     "data": {
      "image/png": "[encoded data removed]",
      "text/plain": [
       "<Figure size 864x576 with 1 Axes>"
      ]
     },
     "metadata": {},
     "output_type": "display_data"
    }
   ],
   "source": [
    "plt.clf()\n",
    "plt.figure(figsize=(12, 8))\n",
    "mybins=np.arange(-5, 115, 10)\n",
    "#plt.hist(base_rate, alpha=0.5, bins=mybins, label=\"Baseline\") # mean %.3f %s %.3f \" % (np.mean(np.array(base_rate)), r'$\\pm$', np.std(np.array(base_rate)/np.sqrt(N))))\n",
    "#plt.hist(filter_rate, alpha=0.5, bins=mybins, label=\"Filtered\") #; mean %.3f %s %.3f\" % (np.mean(np.array(my_rate)), r'$\\pm$', np.std(np.array(my_rate))/np.sqrt(N)))\n",
    "plt.hist(randomsentence_rate, alpha=0.5, bins=mybins, label=\"Random\") #; mean %.3f %s %.3f \" % (np.mean(np.array(gensim_rate)), r'$\\pm$', np.std(np.array(gensim_rate)/np.sqrt(N))))\n",
    "plt.hist(longsentence_rate,   alpha=0.6, bins=mybins, label=\"Longest\") #; mean %.3f %s %.3f \" % (np.mean(np.array(gensim_rate)), r'$\\pm$', np.std(np.array(gensim_rate)/np.sqrt(N))))\n",
    "plt.hist(gensimsentence_rate, alpha=0.8, bins=mybins, label=\"TextRank\") #; mean %.3f %s %.3f \" % (np.mean(np.array(gensim_rate)), r'$\\pm$', np.std(np.array(gensim_rate)/np.sqrt(N))))\n",
    "#plt.hist(sumysentence_rate, alpha=0.8, bins=mybins, label=\"SumyKL\") #; mean %.3f %s %.3f \" % (np.mean(np.array(gensim_rate)), r'$\\pm$', np.std(np.array(gensim_rate)/np.sqrt(N))))\n",
    "#plt.hist(gensimkeyword_rate, alpha=0.5, bins=mybins, label=\"Gensim keywords\") #; mean %.3f %s %.3f \" % (np.mean(np.array(gensimkeyword_rate)), r'$\\pm$', np.std(np.array(gensimkeyword_rate)/np.sqrt(N))))\n",
    "#plt.hist(comb_rate, alpha=0.5, bins=mybins, label=\"My highlights mean %.3f %s %.3f \" % (np.mean(np.array(comb_rate)), r'$\\pm$', np.std(np.array(comb_rate)/np.sqrt(N))))\n",
    "plt.ylim(0, N/5*4)\n",
    "#plt.xlabel(r\"$N_{matched}^{InDescription}$ / $N_{total}^{InDescription}$\", fontsize=32)\n",
    "plt.xlabel(\"Matching Accuracy\", fontsize=32)\n",
    "plt.ylabel(\"counts\", fontsize=32)\n",
    "plt.xticks(fontsize=20)\n",
    "plt.yticks(fontsize=20)\n",
    "plt.title(\"\", fontsize=40)\n",
    "plt.legend(fontsize=36)\n",
    "plt.savefig(\"Plot/\" + path.split(\"/\")[1] + \"_textranksentence.pdf\")\n",
    "plt.show()"
   ]
  },
  {
   "cell_type": "code",
   "execution_count": 9,
   "metadata": {},
   "outputs": [
    {
     "data": {
      "text/html": [
       "<div>\n",
       "<style>\n",
       "    .dataframe thead tr:only-child th {\n",
       "        text-align: right;\n",
       "    }\n",
       "\n",
       "    .dataframe thead th {\n",
       "        text-align: left;\n",
       "    }\n",
       "\n",
       "    .dataframe tbody tr th {\n",
       "        vertical-align: top;\n",
       "    }\n",
       "</style>\n",
       "<table border=\"1\" class=\"dataframe\">\n",
       "  <thead>\n",
       "    <tr style=\"text-align: right;\">\n",
       "      <th></th>\n",
       "      <th>base</th>\n",
       "      <th>best</th>\n",
       "      <th>comb</th>\n",
       "      <th>filter</th>\n",
       "      <th>gensimkeyword</th>\n",
       "      <th>gensimsentence</th>\n",
       "      <th>longsentence</th>\n",
       "      <th>randomsentence</th>\n",
       "    </tr>\n",
       "  </thead>\n",
       "  <tbody>\n",
       "    <tr>\n",
       "      <th>0</th>\n",
       "      <td>17.857143</td>\n",
       "      <td>0.553571</td>\n",
       "      <td>21.428571</td>\n",
       "      <td>17.857143</td>\n",
       "      <td>10.714286</td>\n",
       "      <td>28.571429</td>\n",
       "      <td>28.571429</td>\n",
       "      <td>5.357143</td>\n",
       "    </tr>\n",
       "    <tr>\n",
       "      <th>1</th>\n",
       "      <td>15.151515</td>\n",
       "      <td>0.575758</td>\n",
       "      <td>9.090909</td>\n",
       "      <td>12.121212</td>\n",
       "      <td>9.090909</td>\n",
       "      <td>15.151515</td>\n",
       "      <td>18.181818</td>\n",
       "      <td>3.030303</td>\n",
       "    </tr>\n",
       "    <tr>\n",
       "      <th>2</th>\n",
       "      <td>17.647059</td>\n",
       "      <td>0.764706</td>\n",
       "      <td>23.529412</td>\n",
       "      <td>23.529412</td>\n",
       "      <td>17.647059</td>\n",
       "      <td>29.411765</td>\n",
       "      <td>26.470588</td>\n",
       "      <td>5.882353</td>\n",
       "    </tr>\n",
       "    <tr>\n",
       "      <th>3</th>\n",
       "      <td>19.444444</td>\n",
       "      <td>0.638889</td>\n",
       "      <td>8.333333</td>\n",
       "      <td>16.666667</td>\n",
       "      <td>11.111111</td>\n",
       "      <td>11.111111</td>\n",
       "      <td>11.111111</td>\n",
       "      <td>8.333333</td>\n",
       "    </tr>\n",
       "    <tr>\n",
       "      <th>4</th>\n",
       "      <td>27.419355</td>\n",
       "      <td>0.596774</td>\n",
       "      <td>24.193548</td>\n",
       "      <td>20.967742</td>\n",
       "      <td>12.903226</td>\n",
       "      <td>22.580645</td>\n",
       "      <td>25.806452</td>\n",
       "      <td>16.129032</td>\n",
       "    </tr>\n",
       "  </tbody>\n",
       "</table>\n",
       "</div>"
      ],
      "text/plain": [
       "        base      best       comb     filter  gensimkeyword  gensimsentence  \\\n",
       "0  17.857143  0.553571  21.428571  17.857143      10.714286       28.571429   \n",
       "1  15.151515  0.575758   9.090909  12.121212       9.090909       15.151515   \n",
       "2  17.647059  0.764706  23.529412  23.529412      17.647059       29.411765   \n",
       "3  19.444444  0.638889   8.333333  16.666667      11.111111       11.111111   \n",
       "4  27.419355  0.596774  24.193548  20.967742      12.903226       22.580645   \n",
       "\n",
       "   longsentence  randomsentence  \n",
       "0     28.571429        5.357143  \n",
       "1     18.181818        3.030303  \n",
       "2     26.470588        5.882353  \n",
       "3     11.111111        8.333333  \n",
       "4     25.806452       16.129032  "
      ]
     },
     "execution_count": 9,
     "metadata": {},
     "output_type": "execute_result"
    }
   ],
   "source": [
    "df_score = pd.DataFrame(scores)\n",
    "df_score.head()"
   ]
  },
  {
   "cell_type": "code",
   "execution_count": 10,
   "metadata": {},
   "outputs": [],
   "source": [
    "score_means = [np.mean(df_score.randomsentence), np.mean(df_score.longsentence), np.mean(df_score.gensimsentence)]\n",
    "score_vars = [np.std(df_score.randomsentence), np.std(df_score.longsentence), np.std(df_score.gensimsentence)]"
   ]
  },
  {
   "cell_type": "code",
   "execution_count": 11,
   "metadata": {},
   "outputs": [
    {
     "name": "stderr",
     "output_type": "stream",
     "text": [
      "No handles with labels found to put in legend.\n"
     ]
    },
    {
     "data": {
      "text/plain": [
       "<Figure size 432x288 with 0 Axes>"
      ]
     },
     "metadata": {},
     "output_type": "display_data"
    },
    {
     "data": {
      "image/png": "[encoded data removed]",
      "text/plain": [
       "<Figure size 864x576 with 1 Axes>"
      ]
     },
     "metadata": {},
     "output_type": "display_data"
    },
    {
     "name": "stderr",
     "output_type": "stream",
     "text": [
      "No handles with labels found to put in legend.\n"
     ]
    },
    {
     "data": {
      "text/plain": [
       "<Figure size 432x288 with 0 Axes>"
      ]
     },
     "metadata": {},
     "output_type": "display_data"
    },
    {
     "data": {
      "image/png": "[encoded data removed]",
      "text/plain": [
       "<Figure size 864x576 with 1 Axes>"
      ]
     },
     "metadata": {},
     "output_type": "display_data"
    },
    {
     "name": "stderr",
     "output_type": "stream",
     "text": [
      "No handles with labels found to put in legend.\n"
     ]
    },
    {
     "data": {
      "text/plain": [
       "<Figure size 432x288 with 0 Axes>"
      ]
     },
     "metadata": {},
     "output_type": "display_data"
    },
    {
     "data": {
      "image/png": "[encoded data removed]",
      "text/plain": [
       "<Figure size 864x576 with 1 Axes>"
      ]
     },
     "metadata": {},
     "output_type": "display_data"
    }
   ],
   "source": [
    "np_norm = np.sqrt(N)\n",
    "plt.clf()\n",
    "plt.figure(figsize=(12, 8))\n",
    "mybins=np.arange(-5, 115, 10)\n",
    "ind = np.arange(3)  # the x locations for the groups\n",
    "width = 0.55       # the width of the bars\n",
    "plt.bar(ind, [score_means[0], 0, 0], width, yerr=[score_vars[0]/np_norm, 0, 0])\n",
    "#plt.bar(ind, score_means, width, yerr=score_vars)\n",
    "plt.xticks(ind, (\"Random\", \"\", \"\"))\n",
    "plt.ylabel(\"Mean matching accuracy\", fontsize=36)\n",
    "#plt.ylabel(\"counts\", fontsize=32)\n",
    "plt.ylim(0, 50)\n",
    "plt.xticks(fontsize=36)\n",
    "plt.yticks(fontsize=20)\n",
    "plt.title(\"\", fontsize=40)\n",
    "plt.legend(fontsize=36)\n",
    "plt.savefig(\"Plot/\" + path.split(\"/\")[1] + \"_bar_randomsentence.png\")\n",
    "plt.show()\n",
    "\n",
    "plt.clf()\n",
    "plt.figure(figsize=(12, 8))\n",
    "mybins=np.arange(-5, 115, 10)\n",
    "ind = np.arange(3)  # the x locations for the groups\n",
    "width = 0.55       # the width of the bars\n",
    "plt.bar(ind, [np.mean(df_score.randomsentence), 0, 0], width, yerr=[np.std(df_score.randomsentence)/np_norm, 0, 0])\n",
    "plt.bar(ind, [0, np.mean(df_score.longsentence), 0], width, yerr=[0, np.std(df_score.longsentence)/np_norm, 0])\n",
    "plt.xticks(ind, (\"Random\", \"Longest\", \"\"))\n",
    "plt.ylabel(\"Mean matching accuracy\", fontsize=36)\n",
    "plt.ylim(0, 50)\n",
    "plt.xticks(fontsize=36)\n",
    "plt.yticks(fontsize=20)\n",
    "plt.title(\"\", fontsize=40)\n",
    "plt.legend(fontsize=36)\n",
    "plt.savefig(\"Plot/\" + path.split(\"/\")[1] + \"_bar_longsentence.png\")\n",
    "plt.show()\n",
    "\n",
    "plt.clf()\n",
    "plt.figure(figsize=(12, 8))\n",
    "mybins=np.arange(-5, 115, 10)\n",
    "ind = np.arange(3)  # the x locations for the groups\n",
    "width = 0.55       # the width of the bars\n",
    "plt.bar(ind, [np.mean(df_score.randomsentence), 0, 0], width, yerr=[np.std(df_score.randomsentence)/np_norm, 0, 0])\n",
    "plt.bar(ind, [0, np.mean(df_score.longsentence), 0], width, yerr=[0, np.std(df_score.longsentence)/np_norm, 0])\n",
    "plt.bar(ind, [0, 0, np.mean(df_score.gensimsentence)], width, yerr=[0, 0, np.std(df_score.gensimsentence/np_norm)])\n",
    "plt.xticks(ind, (\"Random\", \"Longest\", \"TextRank\"))\n",
    "plt.ylabel(\"Mean matching accuracy\", fontsize=36)\n",
    "plt.ylim(0, 50)\n",
    "plt.xticks(fontsize=36)\n",
    "plt.yticks(fontsize=20)\n",
    "plt.title(\"\", fontsize=40)\n",
    "plt.legend(fontsize=36)\n",
    "plt.savefig(\"Plot/\" + path.split(\"/\")[1] + \"_bar_gensimsentence.png\")\n",
    "plt.show()"
   ]
  },
  {
   "cell_type": "code",
   "execution_count": 122,
   "metadata": {},
   "outputs": [
    {
     "name": "stdout",
     "output_type": "stream",
     "text": [
      "                         dBFS    duration      max  max_dBFS     rms\n",
      "Data/NPR/0.wav     -21.109094  802.612245  29039.0 -1.049366  2884.0\n",
      "Data/NPR/0_0.wav   -20.274124    5.690000  27872.0 -1.405636  3175.0\n",
      "Data/NPR/0_1.wav   -21.500263    2.100000  24238.0 -2.619063  2757.0\n",
      "Data/NPR/0_10.wav  -19.173303    7.220000  28798.0 -1.121752  3604.0\n",
      "Data/NPR/0_100.wav -28.725374    0.660000  10706.0 -9.716454  1200.0\n"
     ]
    }
   ],
   "source": [
    "with open(path + 'info.pkl', 'rb') as f:\n",
    "    alldic = pickle.load(f)\n",
    "df = pd.DataFrame(alldic).transpose()\n",
    "print(df.head())"
   ]
  },
  {
   "cell_type": "markdown",
   "metadata": {},
   "source": [
    "## Pandas study\n",
    "## Studies the audio information's relationship with the sentences\n",
    "## Goal is to use sound loundess etc. to help model the importance of a sentence"
   ]
  },
  {
   "cell_type": "code",
   "execution_count": 128,
   "metadata": {},
   "outputs": [
    {
     "name": "stdout",
     "output_type": "stream",
     "text": [
      " Running 304 jobs on 6 cores\n"
     ]
    },
    {
     "name": "stderr",
     "output_type": "stream",
     "text": [
      "\n",
      "\n",
      "\n",
      "\n",
      "\n",
      "\n"
     ]
    },
    {
     "name": "stdout",
     "output_type": "stream",
     "text": [
      "Done!!\n",
      "--- 130.99301409721375 seconds ---\n"
     ]
    }
   ],
   "source": [
    "all_sentence_dic = {}\n",
    "def sentence_score(i):\n",
    "    ## ML studies\n",
    "    tempdict = {}\n",
    "    temptextlist = fulltextdic[i][\"origin\"].split(\". \")\n",
    "    for j in range(len(temptextlist)):\n",
    "        sentence_dic = {}\n",
    "        try:\n",
    "            sentence_dic.update(alldic[path + str(i) + '_' + str(j) + '.wav'])\n",
    "        except KeyError:\n",
    "            continue\n",
    "        sentence_dic[\"words\"] = lemming(nlp(temptextlist[j]))\n",
    "        sentence_dic[\"ref\"] = fulltextdic[i][\"sumtext\"]\n",
    "        sentence_dic[\"score\"] = calc_score(ref=sentence_dic[\"ref\"], comp=sentence_dic[\"words\"], debug=False)\n",
    "        if len(sentence_dic[\"words\"]) < 4: ## don't keep too short sentences\n",
    "            continue\n",
    "        tempdict[str(i) + '_' + str(j)] = sentence_dic\n",
    "    return tempdict\n",
    "    \n",
    "start_time = time.time()\n",
    "inputtasks = range(N)\n",
    "npool = min(len(inputtasks), mp.cpu_count()-2)\n",
    "print(\" Running %s jobs on %s cores\" % (len(inputtasks), mp.cpu_count()-2))\n",
    "pool  = mp.Pool(npool)\n",
    "\n",
    "for r in pool.map(sentence_score, inputtasks):\n",
    "    all_sentence_dic.update(r)\n",
    "\n",
    "print(\"Done!!\")\n",
    "print(\"--- %s seconds ---\" % (time.time() - start_time))"
   ]
  },
  {
   "cell_type": "code",
   "execution_count": 129,
   "metadata": {},
   "outputs": [],
   "source": [
    "df = pd.DataFrame(all_sentence_dic).transpose()\n",
    "df.to_csv(path + \"all_sentence_dic.csv\")"
   ]
  },
  {
   "cell_type": "code",
   "execution_count": 4,
   "metadata": {},
   "outputs": [],
   "source": [
    "df = pd.read_csv(path + \"all_sentence_dic.csv\", index_col=0)"
   ]
  },
  {
   "cell_type": "markdown",
   "metadata": {},
   "source": [
    "## Quick inspection"
   ]
  },
  {
   "cell_type": "code",
   "execution_count": 5,
   "metadata": {},
   "outputs": [
    {
     "data": {
      "text/html": [
       "<div>\n",
       "<style>\n",
       "    .dataframe thead tr:only-child th {\n",
       "        text-align: right;\n",
       "    }\n",
       "\n",
       "    .dataframe thead th {\n",
       "        text-align: left;\n",
       "    }\n",
       "\n",
       "    .dataframe tbody tr th {\n",
       "        vertical-align: top;\n",
       "    }\n",
       "</style>\n",
       "<table border=\"1\" class=\"dataframe\">\n",
       "  <thead>\n",
       "    <tr style=\"text-align: right;\">\n",
       "      <th></th>\n",
       "      <th>dBFS</th>\n",
       "      <th>duration</th>\n",
       "      <th>max</th>\n",
       "      <th>max_dBFS</th>\n",
       "      <th>ref</th>\n",
       "      <th>rms</th>\n",
       "      <th>score</th>\n",
       "      <th>words</th>\n",
       "    </tr>\n",
       "  </thead>\n",
       "  <tbody>\n",
       "    <tr>\n",
       "      <th>0_0</th>\n",
       "      <td>-20.274124</td>\n",
       "      <td>5.69</td>\n",
       "      <td>27872</td>\n",
       "      <td>-1.405636</td>\n",
       "      <td>['meet', 'kim', 'jong', 'president', 'trump', ...</td>\n",
       "      <td>3175</td>\n",
       "      <td>0.000000</td>\n",
       "      <td>['wish', 'congratulate', 'couple', 'friend', '...</td>\n",
       "    </tr>\n",
       "    <tr>\n",
       "      <th>0_1</th>\n",
       "      <td>-21.500263</td>\n",
       "      <td>2.10</td>\n",
       "      <td>24238</td>\n",
       "      <td>-2.619063</td>\n",
       "      <td>['meet', 'kim', 'jong', 'president', 'trump', ...</td>\n",
       "      <td>2757</td>\n",
       "      <td>0.000000</td>\n",
       "      <td>['michael', 'gordon', 'morning', 'like']</td>\n",
       "    </tr>\n",
       "    <tr>\n",
       "      <th>0_10</th>\n",
       "      <td>-19.173303</td>\n",
       "      <td>7.22</td>\n",
       "      <td>28798</td>\n",
       "      <td>-1.121752</td>\n",
       "      <td>['meet', 'kim', 'jong', 'president', 'trump', ...</td>\n",
       "      <td>3604</td>\n",
       "      <td>0.083333</td>\n",
       "      <td>['leader', 'large', 'western', 'economy', 'lon...</td>\n",
       "    </tr>\n",
       "    <tr>\n",
       "      <th>0_100</th>\n",
       "      <td>-28.725374</td>\n",
       "      <td>0.66</td>\n",
       "      <td>10706</td>\n",
       "      <td>-9.716454</td>\n",
       "      <td>['meet', 'kim', 'jong', 'president', 'trump', ...</td>\n",
       "      <td>1200</td>\n",
       "      <td>0.000000</td>\n",
       "      <td>['try', 'convince', 'maybe', 'change', 'method...</td>\n",
       "    </tr>\n",
       "    <tr>\n",
       "      <th>0_101</th>\n",
       "      <td>-24.867523</td>\n",
       "      <td>1.54</td>\n",
       "      <td>18831</td>\n",
       "      <td>-4.811531</td>\n",
       "      <td>['meet', 'kim', 'jong', 'president', 'trump', ...</td>\n",
       "      <td>1871</td>\n",
       "      <td>0.041667</td>\n",
       "      <td>['expectation', 'effect', 'good', 'doer', 'cas...</td>\n",
       "    </tr>\n",
       "  </tbody>\n",
       "</table>\n",
       "</div>"
      ],
      "text/plain": [
       "            dBFS  duration    max  max_dBFS  \\\n",
       "0_0   -20.274124      5.69  27872 -1.405636   \n",
       "0_1   -21.500263      2.10  24238 -2.619063   \n",
       "0_10  -19.173303      7.22  28798 -1.121752   \n",
       "0_100 -28.725374      0.66  10706 -9.716454   \n",
       "0_101 -24.867523      1.54  18831 -4.811531   \n",
       "\n",
       "                                                     ref   rms     score  \\\n",
       "0_0    ['meet', 'kim', 'jong', 'president', 'trump', ...  3175  0.000000   \n",
       "0_1    ['meet', 'kim', 'jong', 'president', 'trump', ...  2757  0.000000   \n",
       "0_10   ['meet', 'kim', 'jong', 'president', 'trump', ...  3604  0.083333   \n",
       "0_100  ['meet', 'kim', 'jong', 'president', 'trump', ...  1200  0.000000   \n",
       "0_101  ['meet', 'kim', 'jong', 'president', 'trump', ...  1871  0.041667   \n",
       "\n",
       "                                                   words  \n",
       "0_0    ['wish', 'congratulate', 'couple', 'friend', '...  \n",
       "0_1             ['michael', 'gordon', 'morning', 'like']  \n",
       "0_10   ['leader', 'large', 'western', 'economy', 'lon...  \n",
       "0_100  ['try', 'convince', 'maybe', 'change', 'method...  \n",
       "0_101  ['expectation', 'effect', 'good', 'doer', 'cas...  "
      ]
     },
     "execution_count": 5,
     "metadata": {},
     "output_type": "execute_result"
    }
   ],
   "source": [
    "df.head()"
   ]
  },
  {
   "cell_type": "code",
   "execution_count": 6,
   "metadata": {},
   "outputs": [],
   "source": [
    "df['length'] = df['words'].apply(len)"
   ]
  },
  {
   "cell_type": "code",
   "execution_count": 7,
   "metadata": {},
   "outputs": [],
   "source": [
    "df[\"dBFS\"] = df[\"dBFS\"].values.astype(float)\n",
    "df[\"max_dBFS\"] = df[\"max_dBFS\"].values.astype(float)\n",
    "df[\"duration\"] = df[\"duration\"].values.astype(float)\n",
    "df[\"length\"] = df[\"length\"].values.astype(int)\n",
    "df[\"score\"] = df[\"score\"].values.astype(float)\n",
    "df[\"wordduration\"] = df[\"duration\"]/(df[\"length\"] + 1)\n",
    "df[\"DeltadBFS\"] = -(df[\"max_dBFS\"] - df[\"dBFS\"])/df[\"dBFS\"]"
   ]
  },
  {
   "cell_type": "code",
   "execution_count": 8,
   "metadata": {},
   "outputs": [
    {
     "name": "stderr",
     "output_type": "stream",
     "text": [
      "100%|██████████| 304/304 [00:09<00:00, 31.22it/s]\n"
     ]
    }
   ],
   "source": [
    "df['rankmax'] = df['max_dBFS'].rank(ascending=1, pct=True)\n",
    "df['rankave'] = df['dBFS'].rank(ascending=1, pct=True)\n",
    "for i in tqdm(range(N)):\n",
    "    df_temp = df.loc[df.index.str.startswith(str(i) + \"_\")].copy()\n",
    "    df_temp['rankmax'] = df_temp['max_dBFS'].rank(ascending=1, pct=True)\n",
    "    df_temp['rankave'] = df_temp['dBFS'].rank(ascending=1, pct=True)\n",
    "    #print(df_temp.shape, max(df_temp['rankmax']))\n",
    "    df.loc[df.index.str.startswith(str(i) + \"_\")] = df_temp"
   ]
  },
  {
   "cell_type": "code",
   "execution_count": 78,
   "metadata": {},
   "outputs": [
    {
     "name": "stdout",
     "output_type": "stream",
     "text": [
      "highrank mean 0.037 err 0.000 lowrank 0.025 err 0.000\n"
     ]
    },
    {
     "data": {
      "image/png": "[encoded data removed]",
      "text/plain": [
       "<matplotlib.figure.Figure at 0x1a1ce356d8>"
      ]
     },
     "metadata": {},
     "output_type": "display_data"
    }
   ],
   "source": [
    "plt.clf()\n",
    "threshold_rankmax = 0.95\n",
    "threshold_deltadBFS = 0.78\n",
    "highrank = df[(df['DeltadBFS'] > threshold_deltadBFS)]['score'].values\n",
    "lowrank = df[(df['DeltadBFS'] < threshold_deltadBFS)]['score'].values\n",
    "#sns.distplot(highrank, label='highrank')\n",
    "#sns.distplot(lowrank, label='lowrank')\n",
    "plt.hist(highrank, bins=np.arange(0, 0.8, 0.02), alpha=0.5, label='high modulation', normed=True)\n",
    "plt.hist(lowrank, bins=np.arange(0, 0.8, 0.02), alpha=0.5, label='low modulation', normed=True)\n",
    "print(\"highrank mean %.3f err %.3f\" % (np.mean(highrank), np.std(highrank)/np.sqrt(len(highrank))), \"lowrank %.3f err %.3f\" % (np.mean(lowrank), np.std(lowrank)/np.sqrt(len(highrank))))\n",
    "plt.yscale('log', nonposy='clip')\n",
    "plt.xlabel('Matching score')\n",
    "plt.ylabel('Normalized')\n",
    "plt.legend()\n",
    "plt.savefig(\"Plot/\" + path.split(\"/\")[1] + \"_modulation.pdf\")\n",
    "plt.show()"
   ]
  },
  {
   "cell_type": "code",
   "execution_count": 79,
   "metadata": {},
   "outputs": [
    {
     "name": "stdout",
     "output_type": "stream",
     "text": [
      "highrank mean 0.052 err 0.003 lowrank 0.035 err 0.002\n"
     ]
    },
    {
     "data": {
      "image/png": "[encoded data removed]",
      "text/plain": [
       "<matplotlib.figure.Figure at 0x1a1acab710>"
      ]
     },
     "metadata": {},
     "output_type": "display_data"
    }
   ],
   "source": [
    "plt.clf()\n",
    "threshold_rankmax = 0.98\n",
    "threshold_deltadBFS = 0.9\n",
    "highrank = df[(df['rankmax'] > threshold_rankmax)]['score'].values\n",
    "lowrank = df[(df['rankmax'] < threshold_rankmax)]['score'].values\n",
    "#sns.distplot(highrank, label='highrank')\n",
    "#sns.distplot(lowrank, label='lowrank')\n",
    "plt.hist(highrank, bins=np.arange(0, 0.8, 0.02), alpha=0.5, label='high volume', normed=True)\n",
    "plt.hist(lowrank, bins=np.arange(0, 0.8, 0.02), alpha=0.5, label='low volume', normed=True)\n",
    "print(\"highrank mean %.3f err %.3f\" % (np.mean(highrank), np.std(highrank)/np.sqrt(len(highrank))), \"lowrank %.3f err %.3f\" % (np.mean(lowrank), np.std(lowrank)/np.sqrt(len(highrank))))\n",
    "plt.yscale('log', nonposy='clip')\n",
    "plt.xlabel('Matching score')\n",
    "plt.ylabel('Normalized')\n",
    "plt.legend()\n",
    "plt.savefig(\"Plot/\" + path.split(\"/\")[1] + \"_volume.pdf\")\n",
    "plt.show()"
   ]
  },
  {
   "cell_type": "code",
   "execution_count": 76,
   "metadata": {},
   "outputs": [
    {
     "name": "stdout",
     "output_type": "stream",
     "text": [
      "highrank mean 0.037 err 0.000 lowrank 0.025 err 0.000\n"
     ]
    },
    {
     "data": {
      "image/png": "[encoded data removed]",
      "text/plain": [
       "<matplotlib.figure.Figure at 0x1a1ab27b70>"
      ]
     },
     "metadata": {},
     "output_type": "display_data"
    }
   ],
   "source": [
    "plt.clf()\n",
    "threshold_rankmax = 0.98\n",
    "threshold_deltadBFS = 0.78\n",
    "highrank = df[((df['DeltadBFS'] > threshold_deltadBFS) |  (df['rankmax'] > threshold_rankmax))]['score'].values\n",
    "lowrank = df[((df['DeltadBFS'] < threshold_deltadBFS) &  (df['rankmax'] < threshold_rankmax) )]['score'].values\n",
    "#sns.distplot(highrank, label='highrank')\n",
    "#sns.distplot(lowrank, label='lowrank')\n",
    "plt.hist(highrank, bins=np.arange(0, 0.8, 0.02), alpha=0.5, label='highrank', normed=True)\n",
    "plt.hist(lowrank, bins=np.arange(0, 0.8, 0.02), alpha=0.5, label='lowrank', normed=True)\n",
    "print(\"highrank mean %.3f err %.3f\" % (np.mean(highrank), np.std(highrank)/np.sqrt(len(highrank))), \"lowrank %.3f err %.3f\" % (np.mean(lowrank), np.std(lowrank)/np.sqrt(len(highrank))))\n",
    "plt.yscale('log', nonposy='clip')\n",
    "plt.legend()\n",
    "plt.show()"
   ]
  },
  {
   "cell_type": "markdown",
   "metadata": {},
   "source": [
    "## There are some saparation from volume modulation and sound modulation but not great\n",
    "## Will give up and save this as something to do for the future"
   ]
  },
  {
   "cell_type": "code",
   "execution_count": 34,
   "metadata": {},
   "outputs": [
    {
     "data": {
      "text/plain": [
       "0.09374857017358763"
      ]
     },
     "execution_count": 34,
     "metadata": {},
     "output_type": "execute_result"
    }
   ],
   "source": [
    "np.mean(df[(df['score'] > 0.001) & (df['rankmax'] > 0.9)]['score'])"
   ]
  },
  {
   "cell_type": "code",
   "execution_count": 35,
   "metadata": {},
   "outputs": [
    {
     "data": {
      "text/html": [
       "<div>\n",
       "<style>\n",
       "    .dataframe thead tr:only-child th {\n",
       "        text-align: right;\n",
       "    }\n",
       "\n",
       "    .dataframe thead th {\n",
       "        text-align: left;\n",
       "    }\n",
       "\n",
       "    .dataframe tbody tr th {\n",
       "        vertical-align: top;\n",
       "    }\n",
       "</style>\n",
       "<table border=\"1\" class=\"dataframe\">\n",
       "  <thead>\n",
       "    <tr style=\"text-align: right;\">\n",
       "      <th></th>\n",
       "      <th>dBFS</th>\n",
       "      <th>duration</th>\n",
       "      <th>max</th>\n",
       "      <th>max_dBFS</th>\n",
       "      <th>ref</th>\n",
       "      <th>rms</th>\n",
       "      <th>score</th>\n",
       "      <th>words</th>\n",
       "      <th>length</th>\n",
       "      <th>wordduration</th>\n",
       "      <th>DeltadBFS</th>\n",
       "      <th>rankmax</th>\n",
       "      <th>rankave</th>\n",
       "    </tr>\n",
       "  </thead>\n",
       "  <tbody>\n",
       "    <tr>\n",
       "      <th>0_0</th>\n",
       "      <td>-20.274124</td>\n",
       "      <td>5.69</td>\n",
       "      <td>27872</td>\n",
       "      <td>-1.405636</td>\n",
       "      <td>['meet', 'kim', 'jong', 'president', 'trump', ...</td>\n",
       "      <td>3175</td>\n",
       "      <td>0.000000</td>\n",
       "      <td>['wish', 'congratulate', 'couple', 'friend', '...</td>\n",
       "      <td>94</td>\n",
       "      <td>0.059895</td>\n",
       "      <td>0.930668</td>\n",
       "      <td>0.688889</td>\n",
       "      <td>0.744444</td>\n",
       "    </tr>\n",
       "    <tr>\n",
       "      <th>0_1</th>\n",
       "      <td>-21.500263</td>\n",
       "      <td>2.10</td>\n",
       "      <td>24238</td>\n",
       "      <td>-2.619063</td>\n",
       "      <td>['meet', 'kim', 'jong', 'president', 'trump', ...</td>\n",
       "      <td>2757</td>\n",
       "      <td>0.000000</td>\n",
       "      <td>['michael', 'gordon', 'morning', 'like']</td>\n",
       "      <td>40</td>\n",
       "      <td>0.051220</td>\n",
       "      <td>0.878185</td>\n",
       "      <td>0.522222</td>\n",
       "      <td>0.383333</td>\n",
       "    </tr>\n",
       "    <tr>\n",
       "      <th>0_10</th>\n",
       "      <td>-19.173303</td>\n",
       "      <td>7.22</td>\n",
       "      <td>28798</td>\n",
       "      <td>-1.121752</td>\n",
       "      <td>['meet', 'kim', 'jong', 'president', 'trump', ...</td>\n",
       "      <td>3604</td>\n",
       "      <td>0.083333</td>\n",
       "      <td>['leader', 'large', 'western', 'economy', 'lon...</td>\n",
       "      <td>101</td>\n",
       "      <td>0.070784</td>\n",
       "      <td>0.941494</td>\n",
       "      <td>0.944444</td>\n",
       "      <td>0.922222</td>\n",
       "    </tr>\n",
       "    <tr>\n",
       "      <th>0_100</th>\n",
       "      <td>-28.725374</td>\n",
       "      <td>0.66</td>\n",
       "      <td>10706</td>\n",
       "      <td>-9.716454</td>\n",
       "      <td>['meet', 'kim', 'jong', 'president', 'trump', ...</td>\n",
       "      <td>1200</td>\n",
       "      <td>0.000000</td>\n",
       "      <td>['try', 'convince', 'maybe', 'change', 'method...</td>\n",
       "      <td>129</td>\n",
       "      <td>0.005077</td>\n",
       "      <td>0.661747</td>\n",
       "      <td>0.044444</td>\n",
       "      <td>0.044444</td>\n",
       "    </tr>\n",
       "    <tr>\n",
       "      <th>0_101</th>\n",
       "      <td>-24.867523</td>\n",
       "      <td>1.54</td>\n",
       "      <td>18831</td>\n",
       "      <td>-4.811531</td>\n",
       "      <td>['meet', 'kim', 'jong', 'president', 'trump', ...</td>\n",
       "      <td>1871</td>\n",
       "      <td>0.041667</td>\n",
       "      <td>['expectation', 'effect', 'good', 'doer', 'cas...</td>\n",
       "      <td>106</td>\n",
       "      <td>0.014393</td>\n",
       "      <td>0.806513</td>\n",
       "      <td>0.222222</td>\n",
       "      <td>0.111111</td>\n",
       "    </tr>\n",
       "  </tbody>\n",
       "</table>\n",
       "</div>"
      ],
      "text/plain": [
       "            dBFS  duration    max  max_dBFS  \\\n",
       "0_0   -20.274124      5.69  27872 -1.405636   \n",
       "0_1   -21.500263      2.10  24238 -2.619063   \n",
       "0_10  -19.173303      7.22  28798 -1.121752   \n",
       "0_100 -28.725374      0.66  10706 -9.716454   \n",
       "0_101 -24.867523      1.54  18831 -4.811531   \n",
       "\n",
       "                                                     ref   rms     score  \\\n",
       "0_0    ['meet', 'kim', 'jong', 'president', 'trump', ...  3175  0.000000   \n",
       "0_1    ['meet', 'kim', 'jong', 'president', 'trump', ...  2757  0.000000   \n",
       "0_10   ['meet', 'kim', 'jong', 'president', 'trump', ...  3604  0.083333   \n",
       "0_100  ['meet', 'kim', 'jong', 'president', 'trump', ...  1200  0.000000   \n",
       "0_101  ['meet', 'kim', 'jong', 'president', 'trump', ...  1871  0.041667   \n",
       "\n",
       "                                                   words  length  \\\n",
       "0_0    ['wish', 'congratulate', 'couple', 'friend', '...      94   \n",
       "0_1             ['michael', 'gordon', 'morning', 'like']      40   \n",
       "0_10   ['leader', 'large', 'western', 'economy', 'lon...     101   \n",
       "0_100  ['try', 'convince', 'maybe', 'change', 'method...     129   \n",
       "0_101  ['expectation', 'effect', 'good', 'doer', 'cas...     106   \n",
       "\n",
       "       wordduration  DeltadBFS   rankmax   rankave  \n",
       "0_0        0.059895   0.930668  0.688889  0.744444  \n",
       "0_1        0.051220   0.878185  0.522222  0.383333  \n",
       "0_10       0.070784   0.941494  0.944444  0.922222  \n",
       "0_100      0.005077   0.661747  0.044444  0.044444  \n",
       "0_101      0.014393   0.806513  0.222222  0.111111  "
      ]
     },
     "execution_count": 35,
     "metadata": {},
     "output_type": "execute_result"
    }
   ],
   "source": [
    "df.head()"
   ]
  },
  {
   "cell_type": "code",
   "execution_count": 36,
   "metadata": {},
   "outputs": [
    {
     "name": "stderr",
     "output_type": "stream",
     "text": [
      "/Users/renormalization/anaconda/lib/python3.6/site-packages/statsmodels/nonparametric/kde.py:475: DeprecationWarning: object of type <class 'numpy.float64'> cannot be safely interpreted as an integer.\n",
      "  grid,delta = np.linspace(a,b,gridsize,retstep=True)\n",
      "/Users/renormalization/anaconda/lib/python3.6/site-packages/statsmodels/nonparametric/kde.py:475: DeprecationWarning: object of type <class 'numpy.float64'> cannot be safely interpreted as an integer.\n",
      "  grid,delta = np.linspace(a,b,gridsize,retstep=True)\n"
     ]
    },
    {
     "data": {
      "text/plain": [
       "<seaborn.axisgrid.JointGrid at 0x10256a470>"
      ]
     },
     "execution_count": 36,
     "metadata": {},
     "output_type": "execute_result"
    },
    {
     "data": {
      "image/png": "[encoded data removed]",
      "text/plain": [
       "<matplotlib.figure.Figure at 0x10256a400>"
      ]
     },
     "metadata": {},
     "output_type": "display_data"
    }
   ],
   "source": [
    "sns.jointplot(x=\"rankmax\", y=\"score\", data=df[df['score'] > 0.05], kind=\"kde\")"
   ]
  },
  {
   "cell_type": "code",
   "execution_count": 37,
   "metadata": {},
   "outputs": [],
   "source": [
    "from sklearn import linear_model\n",
    "from sklearn.model_selection import cross_val_predict\n",
    "from sklearn.metrics import mean_squared_error, r2_score\n",
    "from sklearn.model_selection import train_test_split\n",
    "from sklearn import neighbors\n",
    "from sklearn.ensemble import RandomForestRegressor"
   ]
  },
  {
   "cell_type": "code",
   "execution_count": 38,
   "metadata": {},
   "outputs": [
    {
     "data": {
      "text/plain": [
       "(16178, 5)"
      ]
     },
     "execution_count": 38,
     "metadata": {},
     "output_type": "execute_result"
    }
   ],
   "source": [
    "X = df[(df[\"duration\"] > 1) & (df[\"length\"] > 3)][[\"DeltadBFS\", \"duration\", \"wordduration\", \"rankmax\", \"rankave\"]]\n",
    "y = df[(df[\"duration\"] > 1) & (df[\"length\"] > 3)][[\"score\"]]\n",
    "#y = np.log(y / (1 - y))\n",
    "X_train, X_test, y_train, y_test = train_test_split(X, y, test_size=0.2, random_state=42)\n",
    "X_train, X_val, y_train, y_val = train_test_split(X_train, y_train, test_size=0.2, random_state=42)\n",
    "X_train.shape"
   ]
  },
  {
   "cell_type": "code",
   "execution_count": 39,
   "metadata": {},
   "outputs": [
    {
     "data": {
      "text/plain": [
       "array([[-0.01133544,  0.00422445, -0.27943897,  0.00266556,  0.00701982]])"
      ]
     },
     "execution_count": 39,
     "metadata": {},
     "output_type": "execute_result"
    }
   ],
   "source": [
    "lr = linear_model.LinearRegression()\n",
    "lr.fit(X_train, y_train)\n",
    "lr.coef_"
   ]
  },
  {
   "cell_type": "code",
   "execution_count": 40,
   "metadata": {},
   "outputs": [
    {
     "name": "stdout",
     "output_type": "stream",
     "text": [
      "Coefficients: \n",
      " [[-0.01133544  0.00422445 -0.27943897  0.00266556  0.00701982]]\n",
      "Mean squared error: 0.00327\n",
      "Variance score: 0.14\n"
     ]
    }
   ],
   "source": [
    "# Make predictions using the testing set\n",
    "y_pred = lr.predict(X_val)\n",
    "\n",
    "# The coefficients\n",
    "print('Coefficients: \\n', lr.coef_)\n",
    "# The mean squared error\n",
    "print(\"Mean squared error: %.5f\" % mean_squared_error(y_val, y_pred))\n",
    "# Explained variance score: 1 is perfect prediction\n",
    "print('Variance score: %.2f' % r2_score(y_val, y_pred))"
   ]
  },
  {
   "cell_type": "code",
   "execution_count": 41,
   "metadata": {},
   "outputs": [
    {
     "name": "stdout",
     "output_type": "stream",
     "text": [
      "Mean squared error: 0.00338\n",
      "Variance score: 0.11\n"
     ]
    }
   ],
   "source": [
    "# #############################################################################\n",
    "# Fit regression model\n",
    "n_neighbors = 50\n",
    "\n",
    "knn = neighbors.KNeighborsRegressor(n_neighbors)\n",
    "yknn = knn.fit(X_train, y_train).predict(X_val)\n",
    "\n",
    "print(\"Mean squared error: %.5f\"\n",
    "      % mean_squared_error(y_val, yknn))\n",
    "# Explained variance score: 1 is perfect prediction\n",
    "print('Variance score: %.2f' % r2_score(y_val, yknn))"
   ]
  },
  {
   "cell_type": "code",
   "execution_count": 42,
   "metadata": {},
   "outputs": [
    {
     "name": "stderr",
     "output_type": "stream",
     "text": [
      "/Users/renormalization/anaconda/lib/python3.6/site-packages/ipykernel_launcher.py:2: DataConversionWarning: A column-vector y was passed when a 1d array was expected. Please change the shape of y to (n_samples,), for example using ravel().\n",
      "  \n"
     ]
    },
    {
     "name": "stdout",
     "output_type": "stream",
     "text": [
      "Mean squared error: 0.00317\n",
      "Variance score: 0.17\n"
     ]
    }
   ],
   "source": [
    "RF = RandomForestRegressor(n_estimators=50, max_depth=5, random_state=0)\n",
    "yRF = RF.fit(X_train, y_train).predict(X_val)\n",
    "print(\"Mean squared error: %.5f\"\n",
    "      % mean_squared_error(y_val, yRF))\n",
    "# Explained variance score: 1 is perfect prediction\n",
    "print('Variance score: %.2f' % r2_score(y_val, yRF))"
   ]
  },
  {
   "cell_type": "code",
   "execution_count": 43,
   "metadata": {},
   "outputs": [
    {
     "data": {
      "image/png": "[encoded data removed]",
      "text/plain": [
       "<matplotlib.figure.Figure at 0x1a1a84de48>"
      ]
     },
     "metadata": {},
     "output_type": "display_data"
    }
   ],
   "source": [
    "plt.clf()\n",
    "plt.scatter(y_val[:50], yRF[:50])\n",
    "plt.show()"
   ]
  },
  {
   "cell_type": "code",
   "execution_count": null,
   "metadata": {},
   "outputs": [],
   "source": []
  }
 ],
 "metadata": {
  "kernelspec": {
   "display_name": "Python 3",
   "language": "python",
   "name": "python3"
  },
  "language_info": {
   "codemirror_mode": {
    "name": "ipython",
    "version": 3
   },
   "file_extension": ".py",
   "mimetype": "text/x-python",
   "name": "python",
   "nbconvert_exporter": "python",
   "pygments_lexer": "ipython3",
   "version": "3.6.6"
  }
 },
 "nbformat": 4,
 "nbformat_minor": 2
}
