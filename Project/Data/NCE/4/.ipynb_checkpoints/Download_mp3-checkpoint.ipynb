{
 "cells": [
  {
   "cell_type": "code",
   "execution_count": 1,
   "metadata": {},
   "outputs": [
    {
     "name": "stdout",
     "output_type": "stream",
     "text": [
      "1.TXT\r\n",
      "10.TXT\r\n",
      "11.TXT\r\n",
      "12.TXT\r\n",
      "13.TXT\r\n",
      "14.TXT\r\n",
      "15.TXT\r\n",
      "16.TXT\r\n",
      "17.TXT\r\n",
      "18.TXT\r\n",
      "19.TXT\r\n",
      "2.TXT\r\n",
      "20.TXT\r\n",
      "21.TXT\r\n",
      "22.TXT\r\n",
      "23.TXT\r\n",
      "24.TXT\r\n",
      "25.TXT\r\n",
      "26.TXT\r\n",
      "27.TXT\r\n",
      "28.TXT\r\n",
      "29.TXT\r\n",
      "3.TXT\r\n",
      "30.TXT\r\n",
      "31.TXT\r\n",
      "32.TXT\r\n",
      "33.TXT\r\n",
      "34.TXT\r\n",
      "35.TXT\r\n",
      "36.TXT\r\n",
      "37.TXT\r\n",
      "38.TXT\r\n",
      "39.TXT\r\n",
      "4.TXT\r\n",
      "40.TXT\r\n",
      "41.TXT\r\n",
      "42.TXT\r\n",
      "43.TXT\r\n",
      "44.TXT\r\n",
      "45.TXT\r\n",
      "46.TXT\r\n",
      "47.TXT\r\n",
      "48.TXT\r\n",
      "5.TXT\r\n",
      "6.TXT\r\n",
      "7.TXT\r\n",
      "8.TXT\r\n",
      "9.TXT\r\n",
      "Lesson 1 Finding Fossil man.wav\r\n",
      "Lesson 10 Silicon valley.wav\r\n",
      "Lesson 11 How to grow old.wav\r\n",
      "Lesson 12 Banks and their customers.wav\r\n",
      "Lesson 13 The search for oil.wav\r\n",
      "Lesson 14 The Butterfly Effect.wav\r\n",
      "Lesson 15 Secrecy in industry.wav\r\n",
      "Lesson 16 The modern city.wav\r\n",
      "Lesson 17 A man-made disease.wav\r\n",
      "Lesson 18 Porpoises.wav\r\n",
      "Lesson 19 The stuff of dreams.wav\r\n",
      "Lesson 2 Spare that spider.wav\r\n",
      "Lesson 20 Snake poison.wav\r\n",
      "Lesson 21 William S.Hart and the early °ÆWestern°Ø film.wav\r\n",
      "Lesson 22 Knowledge and progress.wav\r\n",
      "Lesson 23 Bird flight.wav\r\n",
      "Lesson 24 Beauty.wav\r\n",
      "Lesson 25 Non-auditory effects of noise.wav\r\n",
      "Lesson 26 The past life of the earth.wav\r\n",
      "Lesson 27 The °ÆVasa°Ø.wav\r\n",
      "Lesson 28 Patients and doctors.wav\r\n",
      "Lesson 29 The hovercraft.wav\r\n",
      "Lesson 3 Matterhorn man.wav\r\n",
      "Lesson 30 Exploring the sea-floor.wav\r\n",
      "Lesson 31 The sculptor speaks.wav\r\n",
      "Lesson 32 Galileo reborn.wav\r\n",
      "Lesson 33 Education.wav\r\n",
      "Lesson 34 Adolescence.wav\r\n",
      "Lesson 35 Space odyssey.wav\r\n",
      "Lesson 36 The cost of government.wav\r\n",
      "Lesson 37 The process of ageing.wav\r\n",
      "Lesson 38 Water and the traveler.wav\r\n",
      "Lesson 39 What every writer wants.wav\r\n",
      "Lesson 4 Seeing hands.wav\r\n",
      "Lesson 40 Waves.wav\r\n",
      "Lesson 41 Training elephants.wav\r\n",
      "Lesson 42 Recording an earthquake.wav\r\n",
      "Lesson 43 Are there strangers in space.wav\r\n",
      "Lesson 44 Patterns of culture.wav\r\n",
      "Lesson 45 Of men and galaxies.wav\r\n",
      "Lesson 46 Hobbies.wav\r\n",
      "Lesson 47 The great escape.wav\r\n",
      "Lesson 48 Planning a share portfolio.wav\r\n",
      "Lesson 5 Youth.wav\r\n",
      "Lesson 6 The sporting spirit.wav\r\n",
      "Lesson 7 Bats.wav\r\n",
      "Lesson 8 Trading standards.wav\r\n",
      "Lesson 9 Royal espionage.wav\r\n",
      "Untitled.ipynb\r\n"
     ]
    }
   ],
   "source": [
    "!ls"
   ]
  },
  {
   "cell_type": "code",
   "execution_count": 4,
   "metadata": {},
   "outputs": [
    {
     "name": "stderr",
     "output_type": "stream",
     "text": [
      "100%|██████████| 48/48 [08:31<00:00, 10.66s/it]\n"
     ]
    }
   ],
   "source": [
    "import urllib.request\n",
    "import shutil\n",
    "from tqdm import tqdm\n",
    "\n",
    "for i in tqdm(range(1, 49)):\n",
    "    url = \"http://down010701.tingclass.net/lesson/shi0529/0000/46/\" + str(i) + \".mp3\"\n",
    "    output_file = str(i) + \".mp3\"\n",
    "    with urllib.request.urlopen(url) as response, open(output_file, 'wb') as out_file:\n",
    "        shutil.copyfileobj(response, out_file)"
   ]
  },
  {
   "cell_type": "code",
   "execution_count": 5,
   "metadata": {},
   "outputs": [
    {
     "name": "stderr",
     "output_type": "stream",
     "text": [
      "100%|██████████| 48/48 [00:22<00:00,  2.15it/s]\n"
     ]
    }
   ],
   "source": [
    "from pydub import AudioSegment\n",
    "\n",
    "for i in tqdm(range(1, 49)):\n",
    "    sound = AudioSegment.from_mp3(str(i) + \".mp3\")\n",
    "    sound.export(str(i) + \".wav\", format=\"wav\")"
   ]
  },
  {
   "cell_type": "code",
   "execution_count": null,
   "metadata": {},
   "outputs": [],
   "source": []
  }
 ],
 "metadata": {
  "kernelspec": {
   "display_name": "Python 3",
   "language": "python",
   "name": "python3"
  },
  "language_info": {
   "codemirror_mode": {
    "name": "ipython",
    "version": 3
   },
   "file_extension": ".py",
   "mimetype": "text/x-python",
   "name": "python",
   "nbconvert_exporter": "python",
   "pygments_lexer": "ipython3",
   "version": "3.6.1"
  }
 },
 "nbformat": 4,
 "nbformat_minor": 2
}
