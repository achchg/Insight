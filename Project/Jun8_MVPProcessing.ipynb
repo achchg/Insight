{
 "cells": [
  {
   "cell_type": "code",
   "execution_count": 1,
   "metadata": {},
   "outputs": [],
   "source": [
    "## for speech to text\n",
    "import speech_recognition as sr\n",
    "\n",
    "\n",
    "## for audio processing and analytical study\n",
    "from pydub import AudioSegment ##for audio spliting\n",
    "from pydub.silence import split_on_silence\n",
    "\n",
    "## for audio collection\n",
    "import pyaudio\n",
    "import wave\n",
    "\n",
    "## for text recognition\n",
    "import nltk\n",
    "\n",
    "## for general studies\n",
    "from os import listdir\n",
    "from os.path import isfile, join\n",
    "import glob\n",
    "from numpy import fft as fft\n",
    "import matplotlib.pyplot as plt\n",
    "import numpy as np\n",
    "import sys\n",
    "import seaborn as sns\n",
    "from tqdm import tqdm\n",
    "import time as time\n",
    "import multiprocessing as mp\n",
    " \n",
    "%matplotlib inline\n",
    "# !ls Data/EC_06022018"
   ]
  },
  {
   "cell_type": "code",
   "execution_count": 2,
   "metadata": {},
   "outputs": [],
   "source": [
    "def text_clean(in_text):\n",
    "    '''clean and remove some common words'''\n",
    "    tokenizer = nltk.tokenize.RegexpTokenizer('\\w+')\n",
    "    \n",
    "    # Tokenizing the text\n",
    "    tokens = tokenizer.tokenize(in_text)\n",
    "    # A new list to hold the lowercased words\n",
    "    words = []\n",
    "    for word in tokens:\n",
    "        words.append(word.lower())\n",
    "        \n",
    "    # Getting the English stop words from nltk\n",
    "    sw = nltk.corpus.stopwords.words('english')\n",
    "    \n",
    "    # A new list to hold Moby Dick with No Stop words\n",
    "    words_ns = []\n",
    "\n",
    "    # Appending to words_ns all words that are in words but not in sw\n",
    "    for word in words:\n",
    "        if word not in sw:\n",
    "            words_ns.append(word)\n",
    "    # Creating the word frequency distribution\n",
    "    freqdist = nltk.probability.FreqDist(words_ns)\n",
    "\n",
    "    # Plotting the word frequency distribution\n",
    "    plt.clf()\n",
    "    fig=plt.figure(figsize=(6, 4))\n",
    "    plt.subplots_adjust(bottom=0.3)\n",
    "    freqdist.plot(10)\n",
    "    fig.savefig(\"Plot/word_freq.pdf\", format=\"pdf\")    \n",
    "    print(freqdist.most_common(5))\n",
    "    \n",
    "    out_text = \" \".join(str(x) for x in words_ns)\n",
    "    return out_text"
   ]
  },
  {
   "cell_type": "code",
   "execution_count": 3,
   "metadata": {},
   "outputs": [],
   "source": [
    "def SoundToText(file=\"\"):\n",
    "    '''Uses Sphinx builtin. \n",
    "    Input is a dic contained as config'''\n",
    "    if file != \"\":\n",
    "        print(file)\n",
    "        test = sr.AudioFile(file)\n",
    "        Recon  = sr.Recognizer()\n",
    "        with test as source:\n",
    "            test_au = Recon.record(source)\n",
    "        text = Recon.recognize_sphinx(test_au, language='en-US')\n",
    "        return {file: text}\n",
    "    else:\n",
    "        print('STH is wrong!')\n",
    "        return \"\""
   ]
  },
  {
   "cell_type": "markdown",
   "metadata": {},
   "source": [
    "## Just to make it work"
   ]
  },
  {
   "cell_type": "code",
   "execution_count": 5,
   "metadata": {},
   "outputs": [
    {
     "name": "stdout",
     "output_type": "stream",
     "text": [
      "['Data/Live/output_9.wav', 'Data/Live/output_8.wav', 'Data/Live/output_11.wav', 'Data/Live/output_10.wav', 'Data/Live/output_12.wav', 'Data/Live/output_13.wav', 'Data/Live/output_14.wav', 'Data/Live/output_5.wav', 'Data/Live/output_4.wav', 'Data/Live/output_6.wav', 'Data/Live/output_7.wav', 'Data/Live/output_3.wav', 'Data/Live/output_2.wav', 'Data/Live/output_0.wav', 'Data/Live/output_1.wav']\n",
      " Running 15 jobs on 6 cores\n",
      "Data/Live/output_9.wav\n",
      "Data/Live/output_11.wav\n",
      "Data/Live/output_8.wav\n",
      "Data/Live/output_10.wav\n",
      "Data/Live/output_12.wav\n",
      "Data/Live/output_13.wav\n",
      "['Data/Live/output_9.wav', 'Data/Live/output_8.wav', 'Data/Live/output_11.wav', 'Data/Live/output_10.wav', 'Data/Live/output_12.wav', 'Data/Live/output_13.wav', 'Data/Live/output_14.wav', 'Data/Live/output_5.wav', 'Data/Live/output_4.wav', 'Data/Live/output_6.wav', 'Data/Live/output_7.wav', 'Data/Live/output_3.wav', 'Data/Live/output_2.wav', 'Data/Live/output_0.wav', 'Data/Live/output_1.wav']\n",
      "Data/Live/output_14.wav\n",
      "Data/Live/output_5.wav\n",
      "Data/Live/output_4.wav\n",
      "Data/Live/output_6.wav\n",
      "Data/Live/output_7.wav\n",
      "Data/Live/output_3.wav\n",
      "Data/Live/output_2.wav\n",
      "Data/Live/output_0.wav\n",
      "Data/Live/output_1.wav\n",
      "to that couldn't be fine let alone it is a love of wear and fullprogress is the actual law at all these ye scramble partisans bizarre they also had a lot he's this lie when i got rights over the law the things that you are are often lose lose it and that is awful at all actually gotten the most east at a news article is thati will also be i mean were you reforms are all the blood loss leung wai right i'll always argued for for that was a jacket was on a wonderful this show you really was afraid that that is the events that fast ball at as of the reform to not lost wrestled for what styleat look to is that our new stars you had one of your who doesn't want a minute because while the full of law that people will be more attractive market her or ideas though these are the losers are always these aren't your asses listen these this tax to be taxable wrestle the movies like meit's like black and read all were your order of importance that the polls but all these generated tax that's authorizes the guy who pays you you'd you'd like but colonel asked me for a lot well we are so that they tell their resources on the will to do just as ilet's hope the enormously useful i don't need to set me and let for it blew up you'd lose reckless and what we saw him at east well our party from despair axel axel it's been hammered eyes of our crops that are reason i also last season are we're all doomed were insulted fulfilledi actually use this as to refuse to start to happen before wide range of options on their government was found does lose is there has not at the act before the health problems the congress were wrong and lose were utilized the hostages are right now wrestled on catwalkthese yeah i knew you'd lose lose heart beat out the files were portraits to look for days the who cracks and that's a that's a parking we want the last soul why her ideas for each for talks on the part of the asian will rise so the fall of tax on there and sois this package and beata who's on the school right thought were that easy for the aloft result an racial do bills that i'll place reservoir of the shuttle out just round out also that he knew the information at this or are these were in our hearts for the x. is already so whatoverseas to pass one hundred and two dozen so last night on saturday and moby but even worse go in and foods is so that he says goethe institute of soviet yours recall who are incision and that we will better roads bridges to the court hostels solo that he's readycall words allow time for a slows you the horrors of war and the worst us how the media about ruth and lou already yogurt ice from out of it but we have that food are suitable for the right so you can you can see what a boss like pile the last days now who see it lacks the vision presses and is a crackpotwe're with you saucy french authorities were rowed before we get loans and is all but what is right not to resume the great likes it or not it is the result is a lie and left us is not rely with lots of life in cadiz that old rascal tax was a somewhat lowerlook who's the shuttle vulnerable and i wasn't ready for what was the list without resistance so this is worth the fbi more question about whether you can see and i was all to do for you recognize what's that a secret she hauled from sees it altered easy to assess the and i actuallyyou've described these are an award use an old days for not suggest that matter is though that are in slow pass those people because you are so while awful says that if asked me to do at who's out there that has already been there and eat out the matter is that if referenceoh this sausage summarize the foreign citizens pulverized radiography ely da silva whose greatest mother-in-law use it cost you laugh the final hole and was the normal was life he heard that he's really got it's the stories are the iraqi plot out and he is not what was the part of\n"
     ]
    },
    {
     "data": {
      "text/plain": [
       "<matplotlib.figure.Figure at 0x11d17c588>"
      ]
     },
     "metadata": {},
     "output_type": "display_data"
    },
    {
     "data": {
      "image/png": "[encoded data removed]",
      "text/plain": [
       "<matplotlib.figure.Figure at 0x11d18a2e8>"
      ]
     },
     "metadata": {},
     "output_type": "display_data"
    },
    {
     "name": "stdout",
     "output_type": "stream",
     "text": [
      "[('lose', 7), ('right', 5), ('law', 4), ('also', 4), ('tax', 4)]\n",
      "--- 351.0300040245056 seconds ---\n"
     ]
    }
   ],
   "source": [
    "start_time = time.time()\n",
    "\n",
    "mytasks = []\n",
    "while len(mytasks) < 15:\n",
    "    time.sleep(1)\n",
    "    mytasks = glob.glob(\"Data/Live/output_*.wav\")\n",
    "print(mytasks)\n",
    "## don't open a file without it being done\n",
    "time.sleep(1)\n",
    "\n",
    "print(\" Running %s jobs on %s cores\" % (len(mytasks), mp.cpu_count()-2))\n",
    "npool = min(len(mytasks), mp.cpu_count()-2)\n",
    "pool  = mp.Pool(npool)\n",
    "print(mytasks)\n",
    "inputdic = {}\n",
    "for i in range(len(mytasks)):\n",
    "    inputdic[i] = {\"file\":\"Data/Live/output_\" + str(i) + \".wav\", \"n\":i}\n",
    "    \n",
    "mytextdic = {}\n",
    "for result in pool.map(SoundToText, mytasks):\n",
    "        mytextdic.update(result)\n",
    "mytext = \"\"\n",
    "for i in range(len(mytextdic.keys())):\n",
    "    mytext += mytextdic[\"Data/Live/output_\" + str(i) + \".wav\"]\n",
    "print(mytext)\n",
    "text_clean(mytext)\n",
    "print(\"--- %s seconds ---\" % (time.time() - start_time))"
   ]
  },
  {
   "cell_type": "code",
   "execution_count": null,
   "metadata": {},
   "outputs": [],
   "source": []
  }
 ],
 "metadata": {
  "kernelspec": {
   "display_name": "Python 3",
   "language": "python",
   "name": "python3"
  },
  "language_info": {
   "codemirror_mode": {
    "name": "ipython",
    "version": 3
   },
   "file_extension": ".py",
   "mimetype": "text/x-python",
   "name": "python",
   "nbconvert_exporter": "python",
   "pygments_lexer": "ipython3",
   "version": "3.6.1"
  }
 },
 "nbformat": 4,
 "nbformat_minor": 2
}
