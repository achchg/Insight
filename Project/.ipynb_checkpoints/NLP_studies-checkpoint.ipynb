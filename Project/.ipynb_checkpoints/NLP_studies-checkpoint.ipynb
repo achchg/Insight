{
 "cells": [
  {
   "cell_type": "code",
   "execution_count": 19,
   "metadata": {},
   "outputs": [],
   "source": [
    "import numpy as np\n",
    "import pandas as pd\n",
    "import re, nltk, spacy, gensim, string\n",
    "from nltk.corpus import stopwords\n",
    "from collections import Counter\n",
    "from gensim.summarization import summarize\n",
    "from gensim.summarization import keywords\n",
    "\n",
    "# Sklearn\n",
    "from sklearn.decomposition import LatentDirichletAllocation, TruncatedSVD\n",
    "from sklearn.feature_extraction.text import CountVectorizer, TfidfVectorizer\n",
    "from sklearn.feature_extraction.stop_words import ENGLISH_STOP_WORDS\n",
    "from sklearn.model_selection import GridSearchCV\n",
    "from pprint import pprint\n",
    "from tqdm import tqdm\n",
    "\n",
    "# Plotting tools\n",
    "import pyLDAvis\n",
    "import pyLDAvis.sklearn\n",
    "import matplotlib.pyplot as plt\n",
    "import seaborn as sns\n",
    "sns.set_style(\"white\")\n",
    "\n",
    "%matplotlib inline"
   ]
  },
  {
   "cell_type": "code",
   "execution_count": 2,
   "metadata": {},
   "outputs": [],
   "source": [
    "# A custom function to clean the text before sending it into the vectorizer\n",
    "def cleanText(text):\n",
    "    \n",
    "    table = str.maketrans('', '', string.punctuation)\n",
    "    # get rid of punctuation\n",
    "    text = text.translate(table)\n",
    "    \n",
    "    # get rid of newlines\n",
    "    text = text.strip().replace(\"\\n\", \" \").replace(\"\\r\", \" \")\n",
    "    \n",
    "    # replace twitter @mentions\n",
    "    mentionFinder = re.compile(r\"@[a-z0-9_]{1,15}\", re.IGNORECASE)\n",
    "    text = mentionFinder.sub(\"@MENTION\", text)\n",
    "    \n",
    "    # replace HTML symbols\n",
    "    text = text.replace(\"&amp;\", \"and\").replace(\"&gt;\", \">\").replace(\"&lt;\", \"<\")\n",
    "    \n",
    "    # lowercase\n",
    "    text = text.lower()\n",
    "\n",
    "    return text\n",
    "\n",
    "def calc_score(ref, comp, debug=False):\n",
    "    '''gives the number of items in ref that is also found in comp'''\n",
    "    ## check if it is a list of strings\n",
    "    if not isinstance(ref, list):\n",
    "        ref = str(ref).split()\n",
    "    if not isinstance(comp, list):\n",
    "        comp = str(comp).split()\n",
    "        \n",
    "    s_ref = set(ref)\n",
    "    s_comp = set(comp)\n",
    "    s_inter = s_comp.intersection(s_ref)\n",
    "    if debug:\n",
    "        print(s_ref, len(s_ref))\n",
    "        print(s_comp)\n",
    "        print(s_inter, len(s_inter))\n",
    "    return len(s_inter)/len(s_ref)"
   ]
  },
  {
   "cell_type": "code",
   "execution_count": 3,
   "metadata": {},
   "outputs": [],
   "source": [
    "# A custom stoplist\n",
    "STOPLIST = set(stopwords.words('english') + [\"n't\", \"'s\", \"'m\", \"ca\"] + list(ENGLISH_STOP_WORDS))\n",
    "# List of symbols we don't care about\n",
    "SYMBOLS = \" \".join(string.punctuation).split(\" \") + [\"-----\", \"---\", \"...\", \"“\", \"”\", \"'ve\", \"\\n\", \"\", \" \", \"\\n\\n\", \"npr\"]\n",
    "\n",
    "def lemming(data, keeptype=[\"NOUN\", \"PROPN\", \"NUM\", \"ADJ\", \"ADV\"], doalpha=True, dostop=True):\n",
    "    tokens = []\n",
    "    for tok in data:\n",
    "        \n",
    "        # stoplist the tokens\n",
    "        if dostop:\n",
    "            if tok.text not in STOPLIST:\n",
    "                pass\n",
    "            else:\n",
    "                continue\n",
    "            ##check if the token is stopword\n",
    "            if not tok.is_stop:\n",
    "                pass\n",
    "            else:\n",
    "                continue\n",
    "        else:\n",
    "            pass\n",
    "        \n",
    "        # stoplist symbols\n",
    "        if tok.text not in SYMBOLS:\n",
    "            pass\n",
    "        else: \n",
    "            continue\n",
    "        \n",
    "        ##check if the token is alpha\n",
    "        if doalpha:\n",
    "            if tok.is_alpha:\n",
    "                pass\n",
    "            else:\n",
    "                continue\n",
    "        else:\n",
    "            pass\n",
    "        \n",
    "        ##check if the token is noun\n",
    "        if len(keeptype) > 1:\n",
    "            if tok.pos_ in keeptype:\n",
    "                pass\n",
    "            else:\n",
    "                continue\n",
    "        else:\n",
    "            pass\n",
    "    \n",
    "        # lemmatize\n",
    "        if tok.lemma_ != \"-PRON-\" :\n",
    "            tokens.append(tok.lemma_.lower().strip())\n",
    "        else:\n",
    "            tokens.append(tok.lower_)\n",
    "    \n",
    "    # remove large strings of whitespace\n",
    "    return tokens"
   ]
  },
  {
   "cell_type": "code",
   "execution_count": 4,
   "metadata": {},
   "outputs": [],
   "source": [
    "# Initialize spacy 'en' model\n",
    "nlp = spacy.load('en')\n",
    "\n",
    "# Initialize vectorizer\n",
    "vectorizer = CountVectorizer(analyzer='word',       \n",
    "                             min_df=1,                        # minimum reqd occurences of a word \n",
    "                             token_pattern='[a-zA-Z0-9]{3,}',  # num chars > 3\n",
    "                             # max_features=50000,             # max number of uniq words\n",
    "                            )"
   ]
  },
  {
   "cell_type": "code",
   "execution_count": 20,
   "metadata": {},
   "outputs": [
    {
     "name": "stderr",
     "output_type": "stream",
     "text": [
      "100%|██████████| 419/419 [01:02<00:00,  6.70it/s]\n"
     ]
    }
   ],
   "source": [
    "all_token = []\n",
    "all_token_alltype = []\n",
    "all_sumtoken = []\n",
    "all_gensim = []\n",
    "N = 419 ##304 NPR, 96 conv, 419 story\n",
    "path = 'Data/NPR_story/'\n",
    "for i in tqdm(range(N)):\n",
    "    test_text = []\n",
    "    test_sumtext   = []\n",
    "    with open(path + str(i) + '_trans.txt', 'r') as myfile:\n",
    "        test_text.append(cleanText(myfile.read()))\n",
    "    with open(path + str(i) + '.txt', 'r') as myfile:\n",
    "        test_sumtext.append(cleanText(myfile.read()))\n",
    "    \n",
    "    ## try gensim\n",
    "    sum_gensim = keywords(\"\".join(test_text))\n",
    "    ## calculate the maximum score\n",
    "    nlp_test_text = nlp(\"\".join(test_text))\n",
    "    all_token.append(lemming(nlp_test_text))\n",
    "    all_token_alltype.append(lemming(nlp_test_text, doalpha=False, dostop=True, keeptype=[]))\n",
    "    all_sumtoken.append(lemming(nlp(\"\".join(test_sumtext)), doalpha=False, dostop=True, keeptype=[]))\n",
    "    all_gensim.append(lemming(nlp(\"\".join(sum_gensim)), doalpha=False, dostop=True, keeptype=[]))"
   ]
  },
  {
   "cell_type": "code",
   "execution_count": 25,
   "metadata": {},
   "outputs": [
    {
     "name": "stderr",
     "output_type": "stream",
     "text": [
      " 40%|████      | 169/419 [00:04<00:06, 36.20it/s]"
     ]
    },
    {
     "name": "stdout",
     "output_type": "stream",
     "text": [
      "telescope year star not street go people like astronomy start come remember wanna friday baltimore old herman high corner\n",
      "telescope year star not street people astronomy wanna friday baltimore old herman high corner night certain job nineteen seven\n",
      "herman heyn stand baltimore street corner telescope nightly 27 year tip love star -- hope inspire love othersap 20150828\n",
      "{'27', '--', 'stand', 'othersap', 'nightly', 'star', '20150828', 'telescope', 'street', 'tip', 'love', 'baltimore', 'heyn', 'corner', 'inspire', 'herman', 'hope', 'year'} 18\n",
      "{'remember', 'people', 'wanna', 'go', 'star', 'friday', 'old', 'telescope', 'not', 'street', 'like', 'baltimore', 'high', 'start', 'corner', 'come', 'herman', 'astronomy', 'year'}\n",
      "{'star', 'telescope', 'street', 'baltimore', 'corner', 'herman', 'year'} 7\n",
      "0.3888888888888889 0.3888888888888889 0.3888888888888889\n"
     ]
    },
    {
     "name": "stderr",
     "output_type": "stream",
     "text": [
      " 45%|████▌     | 189/419 [00:05<00:06, 36.22it/s]"
     ]
    },
    {
     "name": "stdout",
     "output_type": "stream",
     "text": [
      "talk not tell see like story life david interview live\n",
      "not story life david manager week thing right home portion\n",
      "1970s pastor david n learn important lesson tragic situationap 20150424\n",
      "{'tragic', '20150424', 'david', 'lesson', 'pastor', '1970s', 'situationap', 'learn', 'important', 'n'} 10\n",
      "{'talk', 'live', 'interview', 'not', 'tell', 'david', 'like', 'story', 'life', 'see'}\n",
      "{'david'} 1\n",
      "0.1 0.1 0.1\n"
     ]
    },
    {
     "name": "stderr",
     "output_type": "stream",
     "text": [
      " 71%|███████   | 298/419 [00:08<00:03, 34.87it/s]"
     ]
    },
    {
     "name": "stdout",
     "output_type": "stream",
     "text": [
      "kid biker child abuse not think go come want talk roman member group work feel family day know person sort like help story poor people thing matter god call social worker\n",
      "kid biker child not roman member group abuse family day person story poor people thing god social worker cop bikersome safe happy hand friend straight house street red leather body militarily\n",
      "biker tough image happy dodson taz roman member biker child abuse soft spot kid international nonprofit accept referral parent police social worker kid feel unsafe baca member come roar aidap 20130816\n",
      "{'taz', 'unsafe', 'parent', 'biker', 'tough', 'dodson', 'worker', 'happy', 'roar', 'abuse', 'spot', 'member', '20130816', 'soft', 'baca', 'police', 'child', 'aidap', 'roman', 'come', 'feel', 'accept', 'international', 'image', 'social', 'nonprofit', 'referral', 'kid'} 28\n",
      "{'matter', 'not', 'think', 'biker', 'day', 'worker', 'group', 'poor', 'story', 'member', 'abuse', 'thing', 'call', 'go', 'child', 'family', 'like', 'come', 'roman', 'work', 'feel', 'sort', 'people', 'talk', 'social', 'know', 'want', 'god', 'help', 'person', 'kid'}\n",
      "{'social', 'child', 'biker', 'member', 'come', 'kid', 'roman', 'worker', 'abuse', 'feel'} 10\n",
      "0.35714285714285715 0.39285714285714285 0.32142857142857145\n"
     ]
    },
    {
     "name": "stderr",
     "output_type": "stream",
     "text": [
      "100%|██████████| 419/419 [00:12<00:00, 34.49it/s]\n"
     ]
    }
   ],
   "source": [
    "base_rate = []\n",
    "my_rate  = []\n",
    "gensim_rate = []\n",
    "for i in tqdm(range(N)):\n",
    "    ## calculate the maximum score\n",
    "    test_token = all_token[i]\n",
    "    test_token_alltype = all_token_alltype[i]\n",
    "    test_sumtoken = all_sumtoken[i]\n",
    "    test_gensim_token = all_gensim[i]\n",
    "    \n",
    "    best_score = calc_score(ref=test_sumtoken, comp=test_token_alltype, debug=False)\n",
    "    #print(\"best score\", best_score)\n",
    "\n",
    "    length = len(test_sumtoken)\n",
    "    common_words_alltype = [w[0] for w in Counter(test_token_alltype).most_common(length)]\n",
    "    #print(\" \".join(common_words_alltype))\n",
    "    base_score =  calc_score(ref=test_sumtoken, comp=common_words_alltype, debug=False)\n",
    "    #print(\"baseline score\", base_score)\n",
    "\n",
    "#     # Predict the topic\n",
    "#     topic = predict_topic(text = [\" \".join(test_token)], nwords=length)\n",
    "#     #print(\" \".join(topic))\n",
    "\n",
    "    topic = [w[0] for w in Counter(test_token).most_common(length)]\n",
    "    my_score = calc_score(ref=test_sumtoken, comp=topic, debug=False)\n",
    "    #print(\"my score\", my_score)\n",
    "    #print(\" \".join(test_sumtoken))\n",
    "    \n",
    "    test_gensim_token = keywords(\" \".join(test_token), words=length)\n",
    "    gensim_score = calc_score(ref=test_sumtoken, comp=test_gensim_token, debug=False)\n",
    "    \n",
    "    base_rate.append(base_score/best_score)\n",
    "    my_rate.append(my_score/best_score)\n",
    "    gensim_rate.append(gensim_score/best_score)\n",
    "    \n",
    "#     if base_score/best_score > 0.9:\n",
    "#         print(\" \".join(common_words_alltype))\n",
    "#         print(\" \".join(topic))\n",
    "#         print(\" \".join(test_sumtoken))\n",
    "#         calc_score(ref=test_sumtoken, comp=common_words_alltype, debug=True)\n",
    "#         print(base_score, best_score, my_score)"
   ]
  },
  {
   "cell_type": "code",
   "execution_count": 26,
   "metadata": {},
   "outputs": [
    {
     "data": {
      "text/plain": [
       "<matplotlib.figure.Figure at 0x11beae400>"
      ]
     },
     "metadata": {},
     "output_type": "display_data"
    },
    {
     "data": {
      "image/png": "[encoded data removed]",
      "text/plain": [
       "<matplotlib.figure.Figure at 0x11beaed30>"
      ]
     },
     "metadata": {},
     "output_type": "display_data"
    }
   ],
   "source": [
    "plt.clf()\n",
    "plt.figure(figsize=(12, 8))\n",
    "mybins=np.arange(0, 1.05, 0.05)\n",
    "plt.hist(my_rate, alpha=0.5, bins=mybins, label=\"TypeFiltered; mean %.3f %s %.3f\" % (np.mean(np.array(my_rate)), r'$\\pm$', np.std(np.array(my_rate))/np.sqrt(N)))\n",
    "plt.hist(base_rate, alpha=0.5, bins=mybins, label=\"NoFilter; mean %.3f %s %.3f \" % (np.mean(np.array(base_rate)), r'$\\pm$', np.std(np.array(base_rate)/np.sqrt(N))))\n",
    "plt.hist(gensim_rate, alpha=0.5, bins=mybins, label=\"Gensim; mean %.3f %s %.3f \" % (np.mean(np.array(gensim_rate)), r'$\\pm$', np.std(np.array(gensim_rate)/np.sqrt(N))))\n",
    "plt.ylim(0, 70)\n",
    "plt.xlabel(r\"$N_{SelectedWords}^{InDescription}$ / $N_{TotalWords}^{InDescription}$\", fontsize=32)\n",
    "plt.ylabel(\"counts\", fontsize=32)\n",
    "plt.xticks(fontsize=20)\n",
    "plt.yticks(fontsize=20)\n",
    "plt.title(\"Compare Methods\", fontsize=40)\n",
    "plt.legend(fontsize=27)\n",
    "plt.savefig(\"Plot/\" + path.split(\"/\")[1] + \"_compare.pdf\")\n",
    "plt.show()"
   ]
  },
  {
   "cell_type": "code",
   "execution_count": 15,
   "metadata": {},
   "outputs": [
    {
     "name": "stdout",
     "output_type": "stream",
     "text": [
      "know time school story want right good go record come barrel child smart trouble principal office elementary look hand\n",
      "time school story right good barrel child smart trouble principal office elementary hand head home mom judge new project\n"
     ]
    }
   ],
   "source": [
    "print(\" \".join(common_words_alltype))\n",
    "print(\" \".join(topic))"
   ]
  },
  {
   "cell_type": "code",
   "execution_count": 12,
   "metadata": {},
   "outputs": [
    {
     "name": "stdout",
     "output_type": "stream",
     "text": [
      "berryl anderson class clown troublemaker grow mom teach not smart good person respectful people judge dekalb county gaap 20100917\n"
     ]
    }
   ],
   "source": [
    "print(\" \".join(test_sumtoken))"
   ]
  },
  {
   "cell_type": "code",
   "execution_count": 13,
   "metadata": {},
   "outputs": [
    {
     "name": "stdout",
     "output_type": "stream",
     "text": [
      "im new in time now this story going in the project that record stories from around the country today we hear from merrill anderson and her mother virginia they came destroy car in atlanta to talk about what barrel was like as a child turns out she was the family troublemakeri was always pretty smart academically but my mouth would give me a milan trouble have found myself in the principals office all are as you know because youd have to come to collect me and to take me out yes i went to the principals office so many times the u you made up for leothree children caught here youll always believed in it when they get in trouble i knew to call you for schools i knew the works of you hang in i remember one day an elementary school is quite as clients was actually bringing my a game dawn a little bit of standup comedy and follow the classroomand miss clayton just had this look of frustration on her face she had her hands on her hips and she wanted me to sit down she asked me politely a couple times but i was an overall may i had declined try were want among the top of my hand theyre laughing then all the sudden dead silentso they all look to the right was of the class id love to my left and fairy you wore i was just call it in the head wound path and over the years ive always been encouraged by the fact that on that ride home where there was a short ridefrom elementary school which is right around the corner wanna ride home from central high school you always let me know that was better than that and that is being smart was in good now but i had to be a good person and i had to be respectful of other people well i saw in you which you been seeing us outand i knew which you was capable of amendment which you could do at his head to make shoot you took the right pair and uncle eddie mahe you been there for me mom at times what i wanted you very annex on site in fifth grade one id give you moreyou may have always been so grateful for it but judge para landis and with their mom thinking and story line and lana and jane they recorded their conversation barrel was sworn in as chief magistrate judge in the cab honey george their commanders sayshe will be our guide to the american found life center at the library of congress it pine historical archives at in the arctic to obtained\n"
     ]
    }
   ],
   "source": [
    "print(\"\".join(test_text))"
   ]
  },
  {
   "cell_type": "code",
   "execution_count": 14,
   "metadata": {},
   "outputs": [
    {
     "name": "stdout",
     "output_type": "stream",
     "text": [
      "berryl anderson was a class clown and troublemaker when she was growing up but her mom taught her that it wasnt enough to be smart she also had to be a good person and be respectful of other people now shes a judge in dekalb county gaap 20100917\n"
     ]
    }
   ],
   "source": [
    "print(\"\".join(test_sumtext))"
   ]
  },
  {
   "cell_type": "code",
   "execution_count": null,
   "metadata": {},
   "outputs": [],
   "source": []
  }
 ],
 "metadata": {
  "kernelspec": {
   "display_name": "Python 3",
   "language": "python",
   "name": "python3"
  },
  "language_info": {
   "codemirror_mode": {
    "name": "ipython",
    "version": 3
   },
   "file_extension": ".py",
   "mimetype": "text/x-python",
   "name": "python",
   "nbconvert_exporter": "python",
   "pygments_lexer": "ipython3",
   "version": "3.6.1"
  }
 },
 "nbformat": 4,
 "nbformat_minor": 2
}
