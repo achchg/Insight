{
 "cells": [
  {
   "cell_type": "code",
   "execution_count": 294,
   "metadata": {},
   "outputs": [],
   "source": [
    "import numpy as np\n",
    "import pandas as pd\n",
    "import re, nltk, spacy, gensim, string\n",
    "from nltk.corpus import stopwords\n",
    "from collections import Counter\n",
    "from gensim.summarization import summarize\n",
    "from gensim.summarization import keywords\n",
    "import time as time\n",
    "\n",
    "# Sklearn\n",
    "from sklearn.decomposition import LatentDirichletAllocation, TruncatedSVD\n",
    "from sklearn.feature_extraction.text import CountVectorizer, TfidfVectorizer\n",
    "from sklearn.feature_extraction.stop_words import ENGLISH_STOP_WORDS\n",
    "from sklearn.model_selection import GridSearchCV\n",
    "from pprint import pprint\n",
    "from tqdm import tqdm\n",
    "import multiprocessing as mp\n",
    "\n",
    "# Plotting tools\n",
    "import pyLDAvis\n",
    "import pyLDAvis.sklearn\n",
    "import matplotlib.pyplot as plt\n",
    "import seaborn as sns\n",
    "sns.set_style(\"white\")\n",
    "\n",
    "%matplotlib inline"
   ]
  },
  {
   "cell_type": "code",
   "execution_count": 2,
   "metadata": {},
   "outputs": [],
   "source": [
    "# A custom function to clean the text before sending it into the vectorizer\n",
    "def cleanText(text):\n",
    "    \n",
    "    # replace ;\n",
    "    text = text.replace(\" ; \", \"\\n\")\n",
    "    \n",
    "    table = str.maketrans('', '', string.punctuation)\n",
    "    # get rid of punctuation\n",
    "    text = text.translate(table)\n",
    "    \n",
    "    # get rid of newlines\n",
    "    text = text.strip().replace(\"\\n\", \". \").replace(\"\\r\", \".\")\n",
    "    \n",
    "    # replace twitter @mentions\n",
    "    mentionFinder = re.compile(r\"@[a-z0-9_]{1,15}\", re.IGNORECASE)\n",
    "    text = mentionFinder.sub(\"@MENTION\", text)\n",
    "    \n",
    "    # replace HTML symbols\n",
    "    text = text.replace(\"&amp;\", \"and\").replace(\"&gt;\", \">\").replace(\"&lt;\", \"<\")\n",
    "    \n",
    "    # lowercase\n",
    "    text = text.lower()\n",
    "\n",
    "    return text\n",
    "\n",
    "def calc_score(ref, comp, debug=False):\n",
    "    '''gives the number of items in ref that is also found in comp'''\n",
    "    ## check if it is a list of strings\n",
    "    if not isinstance(ref, list):\n",
    "        ref = str(ref).split()\n",
    "    if not isinstance(comp, list):\n",
    "        comp = str(comp).split()\n",
    "        \n",
    "    s_ref = set(ref)\n",
    "    s_comp = set(comp)\n",
    "    s_inter = s_comp.intersection(s_ref)\n",
    "    if debug:\n",
    "        print(s_ref, len(s_ref))\n",
    "        print(s_comp)\n",
    "        print(s_inter, len(s_inter))\n",
    "    return len(s_inter)/len(s_ref)"
   ]
  },
  {
   "cell_type": "code",
   "execution_count": 212,
   "metadata": {},
   "outputs": [],
   "source": [
    "# A custom stoplist\n",
    "STOPLIST = set(stopwords.words('english') + [\"n't\", \"'s\", \"'m\", \"ca\"] + list(ENGLISH_STOP_WORDS))\n",
    "# List of symbols we don't care about\n",
    "SYMBOLS = \" \".join(string.punctuation).split(\" \") + [\"-----\", \"---\", \"...\", \"“\", \"”\", \"'ve\", \"\\n\", \"\", \" \", \"\\n\\n\", \"npr\"]\n",
    "\n",
    "def lemming(data, keeptype=[], doalpha=False, dostop=True):\n",
    "    tokens = []\n",
    "    for tok in data:\n",
    "        \n",
    "        # stoplist the tokens\n",
    "        if dostop:\n",
    "            if tok.text not in STOPLIST:\n",
    "                pass\n",
    "            else:\n",
    "                continue\n",
    "            ##check if the token is stopword\n",
    "            if not tok.is_stop:\n",
    "                pass\n",
    "            else:\n",
    "                continue\n",
    "        else:\n",
    "            pass\n",
    "        \n",
    "        # stoplist symbols\n",
    "        if tok.text not in SYMBOLS:\n",
    "            pass\n",
    "        else: \n",
    "            continue\n",
    "        \n",
    "        ##check if the token is alpha\n",
    "        if doalpha:\n",
    "            if tok.is_alpha:\n",
    "                pass\n",
    "            else:\n",
    "                continue\n",
    "        else:\n",
    "            pass\n",
    "        \n",
    "        ##check if the token is noun\n",
    "        if len(keeptype) > 1:\n",
    "            if tok.pos_ in keeptype:\n",
    "                pass\n",
    "            else:\n",
    "                continue\n",
    "        else:\n",
    "            pass\n",
    "    \n",
    "        # lemmatize\n",
    "        if tok.lemma_ != \"-PRON-\" :\n",
    "            tokens.append(tok.lemma_.lower().strip())\n",
    "        else:\n",
    "            tokens.append(tok.lower_)\n",
    "    \n",
    "    # remove large strings of whitespace\n",
    "    return tokens"
   ]
  },
  {
   "cell_type": "code",
   "execution_count": 213,
   "metadata": {},
   "outputs": [],
   "source": [
    "# Initialize spacy 'en' model\n",
    "nlp = spacy.load('en')\n",
    "\n",
    "# Initialize vectorizer\n",
    "vectorizer = CountVectorizer(analyzer='word',       \n",
    "                             min_df=1,                        # minimum reqd occurences of a word \n",
    "                             token_pattern='[a-zA-Z0-9]{3,}',  # num chars > 3\n",
    "                             # max_features=50000,             # max number of uniq words\n",
    "                            )"
   ]
  },
  {
   "cell_type": "code",
   "execution_count": 304,
   "metadata": {},
   "outputs": [
    {
     "name": "stdout",
     "output_type": "stream",
     "text": [
      " Running 419 jobs on 6 cores\n"
     ]
    },
    {
     "name": "stderr",
     "output_type": "stream",
     "text": [
      "WARNING:gensim.summarization.summarizer:Couldn't get relevant sentences.\n",
      "WARNING:gensim.summarization.summarizer:Couldn't get relevant sentences.\n"
     ]
    },
    {
     "name": "stdout",
     "output_type": "stream",
     "text": [
      "Done!!\n",
      "--- 32.352527141571045 seconds ---\n"
     ]
    }
   ],
   "source": [
    "sumtoken = []\n",
    "token = []\n",
    "\n",
    "token_filter = []\n",
    "token_gensim_sentence = []\n",
    "token_gensim_word = []\n",
    "\n",
    " ##304 NPR, 96 conv, 419 story\n",
    "path = 'Data/NPR_story/'\n",
    "N = 1\n",
    "if \"_story\" in path:\n",
    "    N = 419\n",
    "elif \"_conv\" in path: ## 81 seconds\n",
    "    N = 96\n",
    "elif \"NPR\" in path: ## 31 seconds\n",
    "    N = 304\n",
    "    \n",
    "fulltextdic = {}\n",
    "\n",
    "def TextToTokens(i=1):\n",
    "    '''input is file name\n",
    "    tranlsate the file, file summary'''\n",
    "    result = {}\n",
    "    with open(path + str(i) + '_trans.txt', 'r') as myfile:\n",
    "        temp_text = cleanText(myfile.read()) ##this is a string\n",
    "        #print(type(temp_text))\n",
    "    with open(path + str(i) + '.txt', 'r') as myfile:\n",
    "        ## remove the last element which is a date; for summary only\n",
    "        temp_sumtext = \" \".join(cleanText(myfile.read()).split(\" \")[:-1]) ## this is also a string\n",
    "        ##print(temp_sumtext, type(temp_text))\n",
    "    \n",
    "    ## calculate the maximum score\n",
    "    nlp_temp_text = nlp(\"\".join(temp_text)) ## this is spacy token\n",
    "    nlp_temp_sumtext = nlp(\"\".join(temp_sumtext)) ## this is spacy token\n",
    "    \n",
    "    ## do lemming\n",
    "    result[\"text\"] = lemming(nlp_temp_text)\n",
    "    result[\"sumtext\"] = lemming(nlp_temp_sumtext)\n",
    "    result[\"textfilter\"] = lemming(nlp_temp_text, doalpha=True, keeptype=[\"NOUN\", \"PROPN\", \"NUM\", \"ADJ\", \"ADV\"])\n",
    "\n",
    "#     token.append(lemming(nlp_temp_text))\n",
    "#     token_alltype.append(lemming(nlp_temp_text, doalpha=False, dostop=True, keeptype=[]))\n",
    "#     sumtoken.append(lemming(, doalpha=False, dostop=True, keeptype=[]))\n",
    "    \n",
    "    ## try gensim sentence\n",
    "    ratio = len(temp_sumtext)/len(temp_text)\n",
    "    sum_gensim = summarize(\"\".join(temp_text), ratio=ratio, split=True) #this is a list\n",
    "    result[\"gensim_sentence\"] = lemming(nlp(\" \".join(sum_gensim)))\n",
    "    \n",
    "    ## gensim keywords; use lemmed full text\n",
    "    #print(\" \".join(result[\"text\"]))\n",
    "    result[\"gensim_word\"] =  keywords(\" \".join(result[\"text\"]), words=len(result[\"sumtext\"]), split=True, lemmatize=True, deacc=True)\n",
    "    return {i:result}\n",
    "\n",
    "start_time = time.time()\n",
    "inputtasks = range(N)\n",
    "npool = min(len(inputtasks), mp.cpu_count()-2)\n",
    "print(\" Running %s jobs on %s cores\" % (len(inputtasks), mp.cpu_count()-2))\n",
    "pool  = mp.Pool(npool)\n",
    "\n",
    "for r in pool.map(TextToTokens, inputtasks):\n",
    "    fulltextdic.update(r)\n",
    "\n",
    "print(\"Done!!\")\n",
    "print(\"--- %s seconds ---\" % (time.time() - start_time))\n",
    "# for i in tqdm(range(2)):\n",
    "#     fulltextdic.update(TextToTokens(i))"
   ]
  },
  {
   "cell_type": "code",
   "execution_count": 305,
   "metadata": {},
   "outputs": [
    {
     "name": "stderr",
     "output_type": "stream",
     "text": [
      "100%|██████████| 419/419 [00:00<00:00, 4491.86it/s]"
     ]
    },
    {
     "name": "stdout",
     "output_type": "stream",
     "text": [
      "thirteenyearold nichola heyward jr play toy gun stairwell housing complex live brooklyn police officer shot kill 1994ap\n",
      "best score 0.6470588235294118 \n",
      "\n",
      "store kill police officer long year old nichola hayward junior toy shoot senior son say good not\n",
      "baseline score 0.29411764705882354 \n",
      "\n",
      "menendez friday hear store destroy father grief person kill police officer happen decade ago unrest december baltimore long cellphone video thirteen year old nichola hayward junior play toy gun stairwell housing complex brooklyn twig say toy popper good\n",
      "gensimsentence score 0.6470588235294118 \n",
      "\n",
      "menendez friday police officer long year old nichola junior toy hayward senior court son good not wolf\n",
      "my score 0.15384615384615385 \n",
      "\n",
      "nichola son kill good like store long court office quarter gnome act patrol shoot wolf year attempt\n",
      "gensimskeyword score 0.11764705882352941 \n",
      "\n"
     ]
    },
    {
     "name": "stderr",
     "output_type": "stream",
     "text": [
      "\n"
     ]
    }
   ],
   "source": [
    "best_rate     = []\n",
    "base_rate     = []\n",
    "filter_rate   = []\n",
    "gensimsentence_rate = []\n",
    "gensimkeyword_rate  = []\n",
    "comb_rate  = []\n",
    "\n",
    "for i in tqdm(range(N)):\n",
    "#for i in tqdm(range(1)):\n",
    "    ## calculate the maximum score\n",
    "    token = fulltextdic[i][\"text\"]\n",
    "    token_sum = fulltextdic[i][\"sumtext\"]\n",
    "    token_filter = fulltextdic[i][\"textfilter\"]\n",
    "    token_gensimsentence = fulltextdic[i][\"gensim_sentence\"]\n",
    "    token_gensimkeyword = fulltextdic[i][\"gensim_word\"]\n",
    "    length = len(token_sum)\n",
    "    \n",
    "    ## best score: Nwords in sum also in token\n",
    "    best_score = calc_score(ref=token_sum, comp=token, debug=False)\n",
    "    \n",
    "    ## baseline score: high frequency words\n",
    "    words_base = [w[0] for w in Counter(token).most_common(length)]\n",
    "    words_base.sort(key=lambda x: token.index(x))\n",
    "    base_score =  calc_score(ref=token_sum, comp=words_base, debug=False)\n",
    "\n",
    "    words_filter = [w[0] for w in Counter(token_filter).most_common(length)]\n",
    "    words_filter.sort(key=lambda x: token_filter.index(x))\n",
    "    filter_score = calc_score(ref=token_sum, comp=words_filter, debug=False)\n",
    "    \n",
    "    gensimsentence_score = calc_score(ref=token_sum, comp=token_gensimsentence, debug=False)\n",
    "\n",
    "    gensimkeyword_score = calc_score(ref=token_sum, comp=token_gensimkeyword, debug=False)\n",
    "    \n",
    "    comb_score = calc_score(ref=token_sum, comp=words_filter + token_gensimkeyword, debug=False)\n",
    "    \n",
    "    best_rate.append(best_score)\n",
    "    base_rate.append(base_score/best_score)\n",
    "    filter_rate.append(filter_score/best_score)\n",
    "    gensimsentence_rate.append(gensimsentence_score/best_score)\n",
    "    gensimkeyword_rate.append(gensimkeyword_score/best_score)\n",
    "    comb_rate.append(comb_score/best_score)\n",
    "    \n",
    "    if gensimsentence_score > 0.6:\n",
    "        print(\" \".join(token_sum))\n",
    "        print(\"best score\", best_score, \"\\n\")\n",
    "        print(\" \".join(words_base))\n",
    "        print(\"baseline score\", base_score, \"\\n\")\n",
    "        print(\" \".join(token_gensimsentence))\n",
    "        print(\"gensimsentence score\", gensimsentence_score, \"\\n\")\n",
    "        print(\" \".join(words_filter))\n",
    "        print(\"my score\", my_score, \"\\n\")\n",
    "        print(\" \".join(token_gensimkeyword))\n",
    "        print(\"gensimskeyword score\", gensimkeyword_score, \"\\n\")"
   ]
  },
  {
   "cell_type": "code",
   "execution_count": 307,
   "metadata": {},
   "outputs": [
    {
     "data": {
      "text/plain": [
       "<matplotlib.figure.Figure at 0x1a43bac748>"
      ]
     },
     "metadata": {},
     "output_type": "display_data"
    },
    {
     "data": {
      "image/png": "[encoded data removed]",
      "text/plain": [
       "<matplotlib.figure.Figure at 0x1a43bac320>"
      ]
     },
     "metadata": {},
     "output_type": "display_data"
    }
   ],
   "source": [
    "plt.clf()\n",
    "plt.figure(figsize=(12, 8))\n",
    "mybins=np.arange(0, 1.05, 0.1)\n",
    "plt.hist(base_rate, alpha=0.5, bins=mybins, label=\"Baseline\") #; mean %.3f %s %.3f \" % (np.mean(np.array(base_rate)), r'$\\pm$', np.std(np.array(base_rate)/np.sqrt(N))))\n",
    "#plt.hist(filter_rate, alpha=0.5, bins=mybins, label=\"Filtered\") #; mean %.3f %s %.3f\" % (np.mean(np.array(my_rate)), r'$\\pm$', np.std(np.array(my_rate))/np.sqrt(N)))\n",
    "#plt.hist(gensimsentence_rate, alpha=0.5, bins=mybins, label=\"Gensim sentence\") #; mean %.3f %s %.3f \" % (np.mean(np.array(gensim_rate)), r'$\\pm$', np.std(np.array(gensim_rate)/np.sqrt(N))))\n",
    "#plt.hist(gensimkeyword_rate, alpha=0.5, bins=mybins, label=\"Gensim keywords\") #; mean %.3f %s %.3f \" % (np.mean(np.array(gensimkeyword_rate)), r'$\\pm$', np.std(np.array(gensimkeyword_rate)/np.sqrt(N))))\n",
    "plt.hist(comb_rate, alpha=0.5, bins=mybins, label=\"Filtered+Gensim\") #; mean %.3f %s %.3f \" % (np.mean(np.array(gensimkeyword_rate)), r'$\\pm$', np.std(np.array(gensimkeyword_rate)/np.sqrt(N))))\n",
    "plt.ylim(0, N/2)\n",
    "plt.xlabel(r\"$N_{matched}^{InDescription}$ / $N_{total}^{InDescription}$\", fontsize=32)\n",
    "plt.ylabel(\"counts\", fontsize=32)\n",
    "plt.xticks(fontsize=20)\n",
    "plt.yticks(fontsize=20)\n",
    "plt.title(\"Compare Methods\", fontsize=40)\n",
    "plt.legend(fontsize=27)\n",
    "plt.savefig(\"Plot/\" + path.split(\"/\")[1] + \"_compare.pdf\")\n",
    "plt.show()"
   ]
  },
  {
   "cell_type": "code",
   "execution_count": 186,
   "metadata": {},
   "outputs": [
    {
     "name": "stdout",
     "output_type": "stream",
     "text": [
      "come day secretary congress lot look right want year need work talk present \n",
      "\n",
      "day secretary afghanistan congress lot right big people not year wall troop house \n",
      "\n"
     ]
    }
   ],
   "source": [
    "print(\" \".join(common_words_alltype), \"\\n\")\n",
    "print(\" \".join(topic), \"\\n\")"
   ]
  },
  {
   "cell_type": "code",
   "execution_count": 190,
   "metadata": {},
   "outputs": [
    {
     "name": "stdout",
     "output_type": "stream",
     "text": [
      "united state strategy afghanistan congress able deliver president trump agenda continue fund government 13 \n",
      "\n",
      "come new political politic polite want right day news secretary talk year congress lot need work 16 \n",
      "\n",
      "super krueger get catch close plus job site single clicking screen read pirate right candidate fact try trigger free exit recruiter dot com slash outburst support come morgan stanley join forget family start financial adviser understand bring family 38 \n",
      "\n",
      "with super krueger got caught you can close to one hundred plus job sites all of a single clicking screen and read a pirate right candidate in fact tries to trigger for free exit recruiter dot com slash outbursts can support also comes from morgan stanley well joining forgotten family starts with a financial adviser who understands how to bring families together. \n",
      "\n"
     ]
    }
   ],
   "source": [
    "print(\" \".join(test_sumtoken), len(test_sumtoken), \"\\n\")\n",
    "print(\"\".join(test_gensimkeyword_token), len(test_gensimkeyword_token.split(\" \")),\"\\n\")\n",
    "print(\" \".join(test_gensim_token), len(test_gensim_token), \"\\n\")\n",
    "print(\" \".join(sum_gensim), \"\\n\")"
   ]
  },
  {
   "cell_type": "code",
   "execution_count": 191,
   "metadata": {},
   "outputs": [
    {
     "name": "stdout",
     "output_type": "stream",
     "text": [
      "our good morning steve inskeep rachel one will come back because they visited is monday april twenty fourth and this is a first your first word of the days news. that secretary jim medicines in afghanistan. he was recently dropped a giant on there but to whats the strategy and resin jobs administration has ambitious plans were reducing the role of government in your life during the first hundred days were doing so one truly historic basis the president is asking congress for a lot that while lawmakers actually prepared to give him we also look ahead to the decisive around. of frances presidential election after sundays vote off our right nationalist fates are political newcomers so whats the vote tell us about one of europes leading edge serbs they were the staff were given you should be get to the. are solicitors jackass comes from sid do the. with super krueger got caught you can close to one hundred plus job sites all of a single clicking screen and read a pirate right candidate in fact tries to trigger for free exit recruiter dot com slash outbursts can support also comes from morgan stanley well joining forgotten family starts with a financial adviser who understands how to bring families together. more ed morgan stanley dot com slash conversations. morgan stanley smith barney l l c to adversity. and right lets begin overseas. on the scene of a lot more. defense secretary james madness he is in afghanistan today. and as if it comes after that. deadly attack by the towel on friday does happen at one of afghanistans biggest military bases in the northern part of that country more than a hundred people were killed. and that attacking not would not long after the last drop the largest non nuclear bomb in his ever use the drug that in afghanistan. but didnt us defense secretarys visit comes on the head of bigger question the question is what the united states wants to accomplish and how natural sixteen years of war. courtly bulldoze with us now is pentagon reporter for the wall street journal hes traveling with the defense secretary welcome aboard. i figured i mean this board its overshadowed by so much of the news we have to ask how many u s troops are still there. and what the joint. it go to our pub out eighty five hundred american troops youre back into cuba target for five thousand and a guard troops. the carpenter targeted the gap between. the counterterrorism last weekend and then added to go to clean it buys. and as much and read yours were here during helped where does that youre in. the kabul the dead. and it okay so still trying to stand up a straw an afghan national security structure there. try to get that tried to get that going of course billions of dollars of us might also been span. but secretary matters one oh. so there to turn your back and read the warrant that when youre dumber it all that he was to the terms under your belt. what i regard the back youre first lemons. what her carried. you really get a bigger guard commander of the tibetan officials. but again at particulars. the it. her fortune you did a lot. the good come on what did you learn that it could alluded to and of the real forgotten war are under. latimer got going on on the ticket get in for mr rad it lightly personally did he want to come back a security check and over here. and im. provided that. ive got a good light on what did you come forward and. the prodigal son to enter here to guard and publicly the heating. and. and he would like another thirty few thousand goodbye dear. um. yeah he was a fighter. the top of the mission here love you. that holy needed to. cut the last couple biggies youd pointed out like. the need for attention on. and earlier you pentagon officials that the training mission is working. that clinic or to forgive and pity do think it worked him but aid. okay pagliuca the honour over here probably. if they were being honest work it out a little bit hamstrung by the. was that part of the previous administration to canada war here. at which resulted in fewer troops entered new drawn out on a given a bit daddy are never wanted to look at each. you are. but when it can work but they needed. so its interesting gordon you say. the mission that the training mission advise and assist advised mrs weve been hearing those words for more than a decade american troops have been advising in assessing afghan security forces and hopes that they could take on this by themselves. the u s to spend billions of dollars of the question is when you decide that that investment is no longer paying off something interesting to hear the second mass talks about the u s goals in afghanistan were watching from edward lube old wall street journal futterman. did you do and the hand now plant that but in this country to two weeks when congress must get some business to. indeed present travis hoping for a big way and before the end of this week. hes up against this kind of our frigate line that we as the medium hose one first term of the new president its called the first hundred days and which some presents impose on them so exactly this one for example has thought about it yesterday the office of management and budget director michel they knew was asked on fox news sunday about whether present tromp is especially eager to show that she is accomplish some. what a bank vault dont realize is that weve signed up more legislation into law the first hundred days and anybody last fifty years weve put out more executive orders than any previous administration last fifty years in portly these are not creating new laws most of these are laws giving we had all the laws regulations getting rid of all the regulation. address no one seemed as we can replace him for the affordable care act congress also has to pass a bill to keep the cavern. so much to talk about a skeptic true of endures politics team is here to talk about guys got morning fog to the president wants. the health care this week you want to drop a massive tax bill and his mother business so how much can congress actually. honestly probably just that. all that bomb the white house you know because of that arbitrary guideline is really desperate for accomplishments in pushing for all lot of things and fast timeline. is that how congress works be complicated bills take a lot of time and thats a big reason why health care did not pass the last time around. over the weekend when a despicable ryan talk to his cock is they all are gonna conference call. he told them also. spending bill is the primary focus in the said that health care bill will come up. only when we know we can pass the bill but polite same party speak for now i have is we at phoebe never maybe never lets remember why that spending bill was the thing that. don thats the other deadline here this not so harbert. right not arbitrary that all expires on friday and a friday so congress needs to pass a new spending bill otherwise we repeat. the government shut down the debt that weve seen a few times of the last two years even though congress of the white house are in control center. thats right because this is one of those mamas were democrats are needed to pass a bill of the white house has all the sudden insisted that they want money for that border wall in this bill that something that our house and senate republican leaders dont wanna do because they want old boy that womans lets hear john kellys the homeland securitys secretary talked about this yesterday on c n. that goes on saying that the that presented to the three year straightforward his desire and need for order. but will so unsuspected the wheel the rides into shore birds or suspects you. audiences and arm the funding. what chances are theyre the border wall funding will be understanding. it all comes down to how assistant white house is because honestly different aids has a different thing to. point. capital why would this white house so itll all depend how horrible and i think they are. present from made all these promises its interesting to think about how different his life most of them in the world of business where it had decision will get up to the executive of one of the deal he makes up one of the present. he has to corral congress. now he needs the support of all these different people what priorities it may or may not match with his soul itll be interesting to see. if the self described deal making skills can can move to new tougher. sprouted roof ventures politics to encourage be approved of it being and looked. but i like france with impulsive today about two candidates are heading for ron often that a pro we use address the manual that call and foreign nationals marie le pen. they won the most not since sundays elections in france and they will proceed to a runoff the happens in two weeks. a pro rata. twenty three point seven five percent marie le pen at twenty one point five sociedad straub both candidates ran as outsiders to the french political establishment of kron is a former investment banker was never held political office le pen is known as a firebrand championing policies that would restrict immigration. i she is one before. and she received a higher percentage of the votes than that she did eighteen twenty talked have made this final round which nprs eleanor beardsley as covering from paris high eleanor. hi guys water french voters. i stayed for felony to me last night i was at mcelhiney orders and was very exciting as he added the results were not here he is speaking to the ground. is something mobile phone. well again. the men and not get basically hes that despite the divisions in this country people came together to take the destiny of the country in their hands and yet he has the peoples will invest. this election is all about rejection of the mainstream. and the status quo and cannot tell you how much that message king. it cannot be of francis has learned just give you an example on that does amazing left and right path. in sixty years has never not been in the second round is on her mouth and another example is. the french parliament has more than five hundred members. guess how many members marie le pens party has in it. to him and as one commando mac was founded his party only in august and he has no members in the national assembly slag gives you an example so be almost like if republicans and democrats if neither of them made the general election for president of the night. its exactly. okay and do but its not clear which direction french voters wanna go isidore or is it. its becoming clear look at it looks really close the door running oscillating you can think up to now theyre facing off in a mainstream elektra. but actually its not that close and. because of the other parties have caught on the riders to vote for max caulfield conceded he was third place he said as an extremist party that wall. fosse was sealed that will bring chaos division in misfortune to france. said lets let michael. people will probably lynette pundits and polls are showing a line up behind michael and gaz look and thats. very much part of the political landscape now her ideas are here to stay okay sir shes not the favorite to win and there she is in the runoff and who knows who that would have no respect for lunch frankie and the are either are exempt from a tactical ploy for. and im steve inskeep and im rachel barton you to stagger day with us here again tomorrow. and as many as doesnt stop with this type cast and polished and at first the daily round of the most important stories of the day he could find lot more in depth coverage. when you go to the radio today your public radio station for nprs morning edition you can find a more efficient and you wont it had stations that endured. where indeed. hey there exile nprs working with the night foundation to better understand how listeners like you spend time with up first and other broadcast for that matter. you can help us out by completing a short anonymous survey to get npr dot pod casting survey all one word. and he put it back on. it takes less than ten minutes and you do all of us here at first a huge favor by pulling out. at npr dot pod casting survey. doctor. and so much 0.013641133263378805 \n",
      "\n"
     ]
    },
    {
     "data": {
      "text/plain": [
       "['our good morning steve inskeep rachel one will come back because they visited is monday april twenty fourth and this is a first your first word of the days news.',\n",
       " 'he was recently dropped a giant on there but to whats the strategy and resin jobs administration has ambitious plans were reducing the role of government in your life during the first hundred days were doing so one truly historic basis the president is asking congress for a lot that while lawmakers actually prepared to give him we also look ahead to the decisive around.',\n",
       " 'with super krueger got caught you can close to one hundred plus job sites all of a single clicking screen and read a pirate right candidate in fact tries to trigger for free exit recruiter dot com slash outbursts can support also comes from morgan stanley well joining forgotten family starts with a financial adviser who understands how to bring families together.',\n",
       " 'but didnt us defense secretarys visit comes on the head of bigger question the question is what the united states wants to accomplish and how natural sixteen years of war.',\n",
       " 'the u s to spend billions of dollars of the question is when you decide that that investment is no longer paying off something interesting to hear the second mass talks about the u s goals in afghanistan were watching from edward lube old wall street journal futterman.',\n",
       " 'hes up against this kind of our frigate line that we as the medium hose one first term of the new president its called the first hundred days and which some presents impose on them so exactly this one for example has thought about it yesterday the office of management and budget director michel they knew was asked on fox news sunday about whether present tromp is especially eager to show that she is accomplish some.',\n",
       " 'the health care this week you want to drop a massive tax bill and his mother business so how much can congress actually.',\n",
       " 'is that how congress works be complicated bills take a lot of time and thats a big reason why health care did not pass the last time around.',\n",
       " 'right not arbitrary that all expires on friday and a friday so congress needs to pass a new spending bill otherwise we repeat.',\n",
       " 'thats right because this is one of those mamas were democrats are needed to pass a bill of the white house has all the sudden insisted that they want money for that border wall in this bill that something that our house and senate republican leaders dont wanna do because they want old boy that womans lets hear john kellys the homeland securitys secretary talked about this yesterday on c n.',\n",
       " 'but i like france with impulsive today about two candidates are heading for ron often that a pro we use address the manual that call and foreign nationals marie le pen.']"
      ]
     },
     "execution_count": 191,
     "metadata": {},
     "output_type": "execute_result"
    }
   ],
   "source": [
    "print(\" \".join(test_text), ratio, \"\\n\")\n",
    "summarize(\"\".join(test_text), ratio=0.1, split=True)"
   ]
  },
  {
   "cell_type": "code",
   "execution_count": 175,
   "metadata": {},
   "outputs": [
    {
     "name": "stdout",
     "output_type": "stream",
     "text": [
      "berryl anderson was a class clown and troublemaker when she was growing up but her mom taught her that it wasnt enough to be smart she also had to be a good person and be respectful of other people now shes a judge in dekalb county gaap\n"
     ]
    }
   ],
   "source": [
    "print(\" \".join(test_sumtext))"
   ]
  },
  {
   "cell_type": "markdown",
   "metadata": {},
   "source": [
    "## Merge all txt files into one"
   ]
  },
  {
   "cell_type": "code",
   "execution_count": null,
   "metadata": {},
   "outputs": [],
   "source": [
    "test_text = []\n",
    "test_sumtext   = []\n",
    "for i in tqdm(range(N)):\n",
    "    with open(path + str(i) + '_trans.txt', 'r') as myfile:\n",
    "        test_text.append(cleanText(myfile.read()))\n",
    "    with open(path + str(i) + '.txt', 'r') as myfile:\n",
    "        cleaned_sum = cleanText(myfile.read())\n",
    "        ## pop the last date out\n",
    "        test_sumtext.append(\" \".join(cleaned_sum.split(\" \")[:-1]))"
   ]
  },
  {
   "cell_type": "code",
   "execution_count": null,
   "metadata": {},
   "outputs": [],
   "source": [
    "out_text = open('all_trans.txt', 'w')\n",
    "for item in test_text:\n",
    "    out_text.write(\"%s\\n\" % item)\n",
    "out_text.close()\n",
    "\n",
    "out_sumtext = open('all_sum.txt', 'w')\n",
    "for item in test_sumtext:\n",
    "    out_sumtext.write(\"%s\\n\" % item)\n",
    "out_sumtext.close()"
   ]
  },
  {
   "cell_type": "markdown",
   "metadata": {},
   "source": [
    "## Gensim fasttext"
   ]
  },
  {
   "cell_type": "code",
   "execution_count": null,
   "metadata": {},
   "outputs": [],
   "source": [
    "from gensim.models import FastText\n",
    "sentences_1 = [[\"cat\", \"say\", \"meow\"], [\"dog\", \"say\", \"woof\"]]\n",
    "sentences_2 = [[\"dude\", \"say\", \"wazzup!\"]]\n",
    "\n",
    "model = FastText(min_count=1)\n",
    "model.build_vocab(sentences_1)\n",
    "model.train(sentences_1, total_examples=model.corpus_count, epochs=model.iter)\n",
    "model.build_vocab(sentences_2, update=True)\n",
    "model.train(sentences_2, total_examples=model.corpus_count, epochs=model.iter)"
   ]
  },
  {
   "cell_type": "code",
   "execution_count": null,
   "metadata": {},
   "outputs": [],
   "source": [
    "say_vector = model['say']"
   ]
  },
  {
   "cell_type": "code",
   "execution_count": null,
   "metadata": {},
   "outputs": [],
   "source": [
    "say_vector"
   ]
  },
  {
   "cell_type": "code",
   "execution_count": null,
   "metadata": {},
   "outputs": [],
   "source": []
  },
  {
   "cell_type": "code",
   "execution_count": null,
   "metadata": {},
   "outputs": [],
   "source": [
    "audio_length= \"%.1g sec\" % 3.111\n",
    "audio_length"
   ]
  },
  {
   "cell_type": "code",
   "execution_count": null,
   "metadata": {},
   "outputs": [],
   "source": []
  }
 ],
 "metadata": {
  "kernelspec": {
   "display_name": "Python 3",
   "language": "python",
   "name": "python3"
  },
  "language_info": {
   "codemirror_mode": {
    "name": "ipython",
    "version": 3
   },
   "file_extension": ".py",
   "mimetype": "text/x-python",
   "name": "python",
   "nbconvert_exporter": "python",
   "pygments_lexer": "ipython3",
   "version": "3.6.1"
  }
 },
 "nbformat": 4,
 "nbformat_minor": 2
}
