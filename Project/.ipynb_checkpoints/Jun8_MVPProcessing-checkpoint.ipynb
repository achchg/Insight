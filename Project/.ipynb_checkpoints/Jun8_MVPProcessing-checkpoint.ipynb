{
 "cells": [
  {
   "cell_type": "code",
   "execution_count": 1,
   "metadata": {},
   "outputs": [],
   "source": [
    "## for speech to text\n",
    "import speech_recognition as sr\n",
    "\n",
    "\n",
    "## for audio processing and analytical study\n",
    "from pydub import AudioSegment ##for audio spliting\n",
    "from pydub.silence import split_on_silence\n",
    "\n",
    "## for audio collection\n",
    "import pyaudio\n",
    "import wave\n",
    "\n",
    "## for text recognition\n",
    "import nltk\n",
    "\n",
    "## for general studies\n",
    "from os import listdir\n",
    "from os.path import isfile, join\n",
    "import glob\n",
    "from numpy import fft as fft\n",
    "import matplotlib.pyplot as plt\n",
    "import numpy as np\n",
    "import sys\n",
    "import seaborn as sns\n",
    "from tqdm import tqdm\n",
    "import time as time\n",
    "import multiprocessing as mp\n",
    " \n",
    "%matplotlib inline\n",
    "# !ls Data/EC_06022018"
   ]
  },
  {
   "cell_type": "code",
   "execution_count": 7,
   "metadata": {},
   "outputs": [],
   "source": [
    "def text_clean(in_text):\n",
    "    '''clean and remove some common words'''\n",
    "    tokenizer = nltk.tokenize.RegexpTokenizer('\\w+')\n",
    "    \n",
    "    # Tokenizing the text\n",
    "    tokens = tokenizer.tokenize(in_text)\n",
    "    # A new list to hold the lowercased words\n",
    "    words = []\n",
    "    for word in tokens:\n",
    "        words.append(word.lower())\n",
    "        \n",
    "    # Getting the English stop words from nltk\n",
    "    sw = nltk.corpus.stopwords.words('english')\n",
    "    \n",
    "    # A new list to hold Moby Dick with No Stop words\n",
    "    words_ns = []\n",
    "\n",
    "    # Appending to words_ns all words that are in words but not in sw\n",
    "    for word in words:\n",
    "        if word not in sw:\n",
    "            words_ns.append(word)\n",
    "    # Creating the word frequency distribution\n",
    "    freqdist = nltk.probability.FreqDist(words_ns)\n",
    "\n",
    "    # Plotting the word frequency distribution\n",
    "    plt.clf()\n",
    "    fig=plt.figure(figsize=(6, 4))\n",
    "    plt.subplots_adjust(bottom=0.3)\n",
    "    freqdist.plot(10)\n",
    "    fig.savefig(\"Plot/word_freq.pdf\", format=\"pdf\")    \n",
    "    print(freqdist.most_common(5))\n",
    "    \n",
    "    out_text = \" \".join(str(x) for x in words_ns)\n",
    "    return out_text"
   ]
  },
  {
   "cell_type": "code",
   "execution_count": 8,
   "metadata": {},
   "outputs": [],
   "source": [
    "def SoundToText(file=\"\"):\n",
    "    '''Uses Sphinx builtin. \n",
    "    Input is a dic contained as config'''\n",
    "    if file != \"\":\n",
    "        print(file)\n",
    "        test = sr.AudioFile(file)\n",
    "        Recon  = sr.Recognizer()\n",
    "        with test as source:\n",
    "            test_au = Recon.record(source)\n",
    "        text = Recon.recognize_sphinx(test_au, language='en-US')\n",
    "        return {file: text}\n",
    "    else:\n",
    "        print('STH is wrong!')\n",
    "        return \"\""
   ]
  },
  {
   "cell_type": "markdown",
   "metadata": {},
   "source": [
    "## Just to make it work"
   ]
  },
  {
   "cell_type": "code",
   "execution_count": 18,
   "metadata": {},
   "outputs": [
    {
     "name": "stdout",
     "output_type": "stream",
     "text": [
      "['Data/Live/output_0.wav']\n",
      " Running 1 jobs on 6 cores\n",
      "Data/Live/output_0.wav\n",
      "['Data/Live/output_0.wav']\n",
      "bye bye baby shrieking front and why should anybody different if there's any need mean the difference why are people\n"
     ]
    },
    {
     "data": {
      "text/plain": [
       "<matplotlib.figure.Figure at 0x11875ebe0>"
      ]
     },
     "metadata": {},
     "output_type": "display_data"
    },
    {
     "data": {
      "image/png": "[encoded data removed]",
      "text/plain": [
       "<matplotlib.figure.Figure at 0x117d02898>"
      ]
     },
     "metadata": {},
     "output_type": "display_data"
    },
    {
     "name": "stdout",
     "output_type": "stream",
     "text": [
      "[('bye', 2), ('baby', 1), ('shrieking', 1), ('front', 1), ('anybody', 1)]\n",
      "--- 19.43798327445984 seconds ---\n"
     ]
    }
   ],
   "source": [
    "start_time = time.time()\n",
    "\n",
    "mytasks = []\n",
    "while len(mytasks) < 15:\n",
    "    time.sleep(1)\n",
    "    mytasks = glob.glob(\"Data/Live/output_*.wav\")\n",
    "print(mytasks)\n",
    "## don't open a file without it being done\n",
    "time.sleep(1)\n",
    "\n",
    "print(\" Running %s jobs on %s cores\" % (len(mytasks), mp.cpu_count()-2))\n",
    "npool = min(len(mytasks), mp.cpu_count()-2)\n",
    "pool  = mp.Pool(npool)\n",
    "print(mytasks)\n",
    "inputdic = {}\n",
    "for i in range(len(mytasks)):\n",
    "    inputdic[i] = {\"file\":\"Data/Live/output_\" + str(i) + \".wav\", \"n\":i}\n",
    "    \n",
    "mytextdic = {}\n",
    "for result in pool.map(SoundToText, mytasks):\n",
    "        mytextdic.update(result)\n",
    "mytext = \"\"\n",
    "for i in range(len(mytextdic.keys())):\n",
    "    mytext += mytextdic[\"Data/Live/output_\" + str(i) + \".wav\"]\n",
    "print(mytext)\n",
    "text_clean(mytext)\n",
    "print(\"--- %s seconds ---\" % (time.time() - start_time))"
   ]
  },
  {
   "cell_type": "code",
   "execution_count": null,
   "metadata": {},
   "outputs": [],
   "source": []
  }
 ],
 "metadata": {
  "kernelspec": {
   "display_name": "Python 3",
   "language": "python",
   "name": "python3"
  },
  "language_info": {
   "codemirror_mode": {
    "name": "ipython",
    "version": 3
   },
   "file_extension": ".py",
   "mimetype": "text/x-python",
   "name": "python",
   "nbconvert_exporter": "python",
   "pygments_lexer": "ipython3",
   "version": "3.6.1"
  }
 },
 "nbformat": 4,
 "nbformat_minor": 2
}
