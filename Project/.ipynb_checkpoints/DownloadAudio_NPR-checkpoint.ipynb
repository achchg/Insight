{
 "cells": [
  {
   "cell_type": "code",
   "execution_count": 79,
   "metadata": {},
   "outputs": [],
   "source": [
    "from bs4 import BeautifulSoup\n",
    "import os\n",
    "from glob import glob\n",
    "\n",
    "import urllib.request\n",
    "import shutil\n",
    "from tqdm import tqdm\n",
    "from pydub import AudioSegment\n",
    "\n",
    "%matplotlib inline"
   ]
  },
  {
   "cell_type": "code",
   "execution_count": 80,
   "metadata": {},
   "outputs": [
    {
     "name": "stdout",
     "output_type": "stream",
     "text": [
      "\u001b[1m\u001b[36mData\u001b[m\u001b[m                     MVP.ipynb                Prev_MVP.ipynb\r\n",
      "DownloadAudio.ipynb      NPR.html                 README.md\r\n",
      "Jun8_MVPProcessing.ipynb \u001b[1m\u001b[36mNPR_files\u001b[m\u001b[m\r\n",
      "Jun8_MVPrecording.ipynb  \u001b[1m\u001b[36mPlot\u001b[m\u001b[m\r\n"
     ]
    }
   ],
   "source": [
    "!ls"
   ]
  },
  {
   "cell_type": "markdown",
   "metadata": {},
   "source": [
    "##  Data source:\n",
    "##  NPR: https://www.npr.org/podcasts/2038/news-politics"
   ]
  },
  {
   "cell_type": "code",
   "execution_count": 81,
   "metadata": {},
   "outputs": [],
   "source": [
    "soup = BeautifulSoup(open(\"Data/NPR/NPR.html\"), \"html.parser\")"
   ]
  },
  {
   "cell_type": "code",
   "execution_count": 82,
   "metadata": {},
   "outputs": [
    {
     "name": "stdout",
     "output_type": "stream",
     "text": [
      "<p class=\"teaser\">\n",
      "<time datetime=\"2018-06-08\"><span class=\"date\">June 8, 2018 • </span></time>Before meeting with Kim Jong Un, President Trump heads to Quebec for the G7 summit. He'll meet with world leaders united against his trade policies. Also, a visit to an immigration court in Texas. And why is Pope Francis meeting with oil executives tomorrow?\n",
      "        </p> <li class=\"audio-tool audio-tool-download\"><a data-metrics='{\"category\":\"audio actions\",\"action\":\"download audio\",\"label\":\"618167844\",\"noninteraction\":true}' href=\"https://play.podtrac.com/npr-510318/npr.mc.tritondigital.com/NPR_510318/media/anon.npr-mp3/npr/upfirst/2018/06/20180608_upfirst_upfirst_06082018.mp3?orgId=1&amp;d=784&amp;p=510318&amp;story=618167844&amp;t=podcast&amp;e=618167844&amp;siteplayer=true&amp;dl=1\"><b class=\"icn-download\"></b><b class=\"audio-tool-label\">Download</b></a>\n",
      "</li>\n"
     ]
    }
   ],
   "source": [
    "pod_text = []\n",
    "pod_audi = []\n",
    "\n",
    "for i in soup.find_all('article', {'class' : 'item podcast-episode'}):\n",
    "    #pods.append(i)\n",
    "    #make sure both audi and text exist for the same episode\n",
    "    for j in i.find_all('p', {'class': 'teaser'}):\n",
    "        pod_text.append(j)\n",
    "    for j in i.find_all('li', {'class': 'audio-tool audio-tool-download'}):\n",
    "        #link = j.find_all('href')\n",
    "        pod_audi.append(j)\n",
    "print(pod_text[0], pod_audi[0])"
   ]
  },
  {
   "cell_type": "code",
   "execution_count": 83,
   "metadata": {},
   "outputs": [
    {
     "name": "stdout",
     "output_type": "stream",
     "text": [
      "1 0\n",
      "1 0\n",
      "1 0\n",
      "1 0\n",
      "1 0\n",
      "1 0\n",
      "<p class=\"teaser\">\n",
      "<time datetime=\"2018-06-08\"><span class=\"date\">June 8, 2018 • </span></time>Before meeting with Kim Jong Un, President Trump heads to Quebec for the G7 summit. He'll meet with world leaders united against his trade policies. Also, a visit to an immigration court in Texas. And why is Pope Francis meeting with oil executives tomorrow?\n",
      "        </p> <a data-metrics='{\"category\":\"audio actions\",\"action\":\"download audio\",\"label\":\"618167844\",\"noninteraction\":true}' href=\"https://play.podtrac.com/npr-510318/npr.mc.tritondigital.com/NPR_510318/media/anon.npr-mp3/npr/upfirst/2018/06/20180608_upfirst_upfirst_06082018.mp3?orgId=1&amp;d=784&amp;p=510318&amp;story=618167844&amp;t=podcast&amp;e=618167844&amp;siteplayer=true&amp;dl=1\"><b class=\"icn-download\"></b><b class=\"audio-tool-label\">Download</b></a>\n"
     ]
    }
   ],
   "source": [
    "pod_text = []\n",
    "pod_audi = []\n",
    "\n",
    "for i in soup.find_all('article', {'class' : 'item podcast-episode'}):\n",
    "    #pods.append(i)\n",
    "    #make sure both audi and text exist for the same episode\n",
    "    text = i.find_all('p', {'class': 'teaser'})\n",
    "    audi = i.find_all('li', {'class': 'audio-tool audio-tool-download'})\n",
    "    if len(text) != 1 or len(audi) != 1:\n",
    "        ## no download links...\n",
    "        pass\n",
    "        print (len(text), len(audi))\n",
    "    else:\n",
    "        pod_text.append(text[0])\n",
    "        pod_audi.append(audi[0].find_all('a', href=True)[0])\n",
    "print(pod_text[0], pod_audi[0])"
   ]
  },
  {
   "cell_type": "code",
   "execution_count": 84,
   "metadata": {},
   "outputs": [
    {
     "name": "stdout",
     "output_type": "stream",
     "text": [
      "314 314\n"
     ]
    }
   ],
   "source": [
    "print(len(pod_text), len(pod_audi))"
   ]
  },
  {
   "cell_type": "code",
   "execution_count": 85,
   "metadata": {},
   "outputs": [],
   "source": [
    "t = pod_text[0]"
   ]
  },
  {
   "cell_type": "code",
   "execution_count": 56,
   "metadata": {},
   "outputs": [
    {
     "data": {
      "text/plain": [
       "\"Before meeting with Kim Jong Un, President Trump heads to Quebec for the G7 summit. He'll meet with world leaders united against his trade policies. Also, a visit to an immigration court in Texas. And why is Pope Francis meeting with oil executives tomorrow?\""
      ]
     },
     "execution_count": 56,
     "metadata": {},
     "output_type": "execute_result"
    }
   ],
   "source": [
    "## Get teaser\n",
    "str(t).split(\"</time>\")[1].split(\"\\n\")[0]"
   ]
  },
  {
   "cell_type": "code",
   "execution_count": 67,
   "metadata": {},
   "outputs": [],
   "source": [
    "a = pod_audi[0]"
   ]
  },
  {
   "cell_type": "code",
   "execution_count": 68,
   "metadata": {},
   "outputs": [
    {
     "data": {
      "text/plain": [
       "<a data-metrics='{\"category\":\"audio actions\",\"action\":\"download audio\",\"label\":\"618167844\",\"noninteraction\":true}' href=\"https://play.podtrac.com/npr-510318/npr.mc.tritondigital.com/NPR_510318/media/anon.npr-mp3/npr/upfirst/2018/06/20180608_upfirst_upfirst_06082018.mp3?orgId=1&amp;d=784&amp;p=510318&amp;story=618167844&amp;t=podcast&amp;e=618167844&amp;siteplayer=true&amp;dl=1\"><b class=\"icn-download\"></b><b class=\"audio-tool-label\">Download</b></a>"
      ]
     },
     "execution_count": 68,
     "metadata": {},
     "output_type": "execute_result"
    }
   ],
   "source": [
    "a"
   ]
  },
  {
   "cell_type": "code",
   "execution_count": 70,
   "metadata": {},
   "outputs": [
    {
     "data": {
      "text/plain": [
       "'https://play.podtrac.com/npr-510318/npr.mc.tritondigital.com/NPR_510318/media/anon.npr-mp3/npr/upfirst/2018/06/20180608_upfirst_upfirst_06082018.mp3?orgId=1&d=784&p=510318&story=618167844&t=podcast&e=618167844&siteplayer=true&dl=1'"
      ]
     },
     "execution_count": 70,
     "metadata": {},
     "output_type": "execute_result"
    }
   ],
   "source": [
    "## Get download link\n",
    "a.get(\"href\")"
   ]
  },
  {
   "cell_type": "code",
   "execution_count": 86,
   "metadata": {},
   "outputs": [],
   "source": [
    "!ls Data/NPR"
   ]
  },
  {
   "cell_type": "code",
   "execution_count": 88,
   "metadata": {},
   "outputs": [
    {
     "name": "stderr",
     "output_type": "stream",
     "text": [
      "100%|██████████| 314/314 [16:21<00:00,  3.12s/it]\n"
     ]
    }
   ],
   "source": [
    "for i in tqdm(range(len(pod_text))):\n",
    "    t = pod_text[i]\n",
    "    ## Get time string\n",
    "    i_time = t.find(\"time\").get(\"datetime\").replace(\"-\", \"\")\n",
    "    ## Get teaser\n",
    "    i_teaser = str(t).split(\"</time>\")[1].split(\"\\n\")[0]\n",
    "    a = pod_audi[i]\n",
    "    ## Get download link\n",
    "    i_url = a.get(\"href\")\n",
    "    \n",
    "    with open(\"Data/NPR/\" + str(i) + \".txt\", \"w\") as text_file:\n",
    "        text_file.write(i_teaser)\n",
    "        text_file.write(\"\\n\")\n",
    "        text_file.write(i_time)\n",
    "    \n",
    "    ## download file\n",
    "    output_file = \"Data/NPR/\" + str(i) + \".mp3\"\n",
    "    with urllib.request.urlopen(i_url) as response, open(output_file, 'wb') as out_file:\n",
    "        shutil.copyfileobj(response, out_file)\n",
    "    sound = AudioSegment.from_mp3(output_file)\n",
    "    \n",
    "    ## split into 20 second pieces\n",
    "    for j, chunk in enumerate(sound[::20 * 1000]):\n",
    "      with open(\"Data/NPR/\" + str(i) + \"_\" + str(j) + \".wav\", \"wb\") as f:\n",
    "        chunk.export(f, format=\"wav\")\n",
    "    "
   ]
  },
  {
   "cell_type": "code",
   "execution_count": null,
   "metadata": {},
   "outputs": [],
   "source": []
  }
 ],
 "metadata": {
  "kernelspec": {
   "display_name": "Python 3",
   "language": "python",
   "name": "python3"
  },
  "language_info": {
   "codemirror_mode": {
    "name": "ipython",
    "version": 3
   },
   "file_extension": ".py",
   "mimetype": "text/x-python",
   "name": "python",
   "nbconvert_exporter": "python",
   "pygments_lexer": "ipython3",
   "version": "3.6.1"
  }
 },
 "nbformat": 4,
 "nbformat_minor": 2
}
