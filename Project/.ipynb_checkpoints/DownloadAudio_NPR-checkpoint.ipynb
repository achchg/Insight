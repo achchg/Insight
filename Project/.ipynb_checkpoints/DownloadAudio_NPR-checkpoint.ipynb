{
 "cells": [
  {
   "cell_type": "code",
   "execution_count": 1,
   "metadata": {},
   "outputs": [],
   "source": [
    "from bs4 import BeautifulSoup\n",
    "import os\n",
    "from glob import glob\n",
    "\n",
    "import urllib.request\n",
    "import shutil\n",
    "from tqdm import tqdm\n",
    "from pydub import AudioSegment\n",
    "import multiprocessing as mp\n",
    "\n",
    "\n",
    "## My codes\n",
    "from src.utils import SoundToText\n",
    "\n",
    "## settings\n",
    "%matplotlib inline\n",
    "\n",
    "# Some more magic so that the notebook will reload external python modules;\n",
    "# see http://stackoverflow.com/questions/1907993/autoreload-of-modules-in-ipython\n",
    "%load_ext autoreload\n",
    "%autoreload 2"
   ]
  },
  {
   "cell_type": "code",
   "execution_count": 5,
   "metadata": {},
   "outputs": [
    {
     "name": "stderr",
     "output_type": "stream",
     "text": [
      "\n"
     ]
    },
    {
     "name": "stdout",
     "output_type": "stream",
     "text": [
      "\u001b[1m\u001b[36mData\u001b[m\u001b[m                     MVP.ipynb                Text_to_Suammary.ipynb\r\n",
      "DownloadAudio_NPR.ipynb  \u001b[1m\u001b[36mPlot\u001b[m\u001b[m                     chunk_s2.wav\r\n",
      "Jun15_MVP.ipynb          Prev_MVP.ipynb           \u001b[1m\u001b[36msrc\u001b[m\u001b[m\r\n",
      "Jun8_MVPProcessing.ipynb README.md                \u001b[1m\u001b[36mwebsite\u001b[m\u001b[m\r\n",
      "Jun8_MVPrecording.ipynb  Sphinx-VS-Google.ipynb\r\n"
     ]
    }
   ],
   "source": [
    "!ls"
   ]
  },
  {
   "cell_type": "markdown",
   "metadata": {},
   "source": [
    "##  Data source:\n",
    "##  NPR: https://www.npr.org/podcasts/2038/news-politics\n",
    "\n",
    "## https://www.npr.org/podcasts/452538677/note-to-self\n",
    "## https://www.npr.org/podcasts/510298/ted-radio-hour\n",
    "\n",
    "## https://www.npr.org/series/4516989/storycorps/archive"
   ]
  },
  {
   "cell_type": "code",
   "execution_count": 6,
   "metadata": {},
   "outputs": [],
   "source": [
    "soup = BeautifulSoup(open(\"Data/NPR_story/StoryCorps_NPR.html\"), \"html.parser\")"
   ]
  },
  {
   "cell_type": "code",
   "execution_count": 5,
   "metadata": {},
   "outputs": [
    {
     "name": "stdout",
     "output_type": "stream",
     "text": [
      "<p class=\"teaser\"><a href=\"https://www.npr.org/2018/06/15/619957265/at-28-years-old-learning-to-be-a-sister\"><time datetime=\"2018-06-15\"><span class=\"date\">June 15, 2018 • </span></time>After a DNA test revealed that they were half sisters, two women recall meeting each other for the first time. The discovery, for both of them, fulfilled a missing link.</a></p> <li class=\"audio-tool audio-tool-download\"><a data-metrics='{\"category\":\"audio actions\",\"action\":\"download audio\",\"label\":\"619957265\",\"noninteraction\":true}' href=\"https://ondemand.npr.org/anon.npr-mp3/npr/me/2018/06/20180615_me_at_28_years_old_learning_to_be_a_sister.mp3?orgId=1&amp;topicId=1022&amp;aggIds=4516989&amp;d=148&amp;p=3&amp;story=619957265&amp;siteplayer=true&amp;dl=1\"><b class=\"icn-download\"></b><b class=\"audio-tool-label\">Download</b></a>\n",
      "</li>\n"
     ]
    }
   ],
   "source": [
    "pod_text = []\n",
    "pod_audi = []\n",
    "\n",
    "#for i in soup.find_all('article', {'class' : 'item podcast-episode'}):\n",
    "for i in soup.find_all('article', {'class' : 'item has-image'}):\n",
    "    #pods.append(i)\n",
    "    #make sure both audi and text exist for the same episode\n",
    "    for j in i.find_all('p', {'class': 'teaser'}):\n",
    "        pod_text.append(j)\n",
    "    for j in i.find_all('li', {'class': 'audio-tool audio-tool-download'}):\n",
    "        #link = j.find_all('href')\n",
    "        pod_audi.append(j)\n",
    "print(pod_text[0], pod_audi[0])"
   ]
  },
  {
   "cell_type": "code",
   "execution_count": 7,
   "metadata": {},
   "outputs": [
    {
     "name": "stdout",
     "output_type": "stream",
     "text": [
      "<p class=\"teaser\"><a href=\"https://www.npr.org/2018/06/15/619957265/at-28-years-old-learning-to-be-a-sister\"><time datetime=\"2018-06-15\"><span class=\"date\">June 15, 2018 • </span></time>After a DNA test revealed that they were half sisters, two women recall meeting each other for the first time. The discovery, for both of them, fulfilled a missing link.</a></p> <a data-metrics='{\"category\":\"audio actions\",\"action\":\"download audio\",\"label\":\"619957265\",\"noninteraction\":true}' href=\"https://ondemand.npr.org/anon.npr-mp3/npr/me/2018/06/20180615_me_at_28_years_old_learning_to_be_a_sister.mp3?orgId=1&amp;topicId=1022&amp;aggIds=4516989&amp;d=148&amp;p=3&amp;story=619957265&amp;siteplayer=true&amp;dl=1\"><b class=\"icn-download\"></b><b class=\"audio-tool-label\">Download</b></a>\n"
     ]
    }
   ],
   "source": [
    "pod_text = []\n",
    "pod_audi = []\n",
    "\n",
    "#for i in soup.find_all('article', {'class' : 'item podcast-episode'}):\n",
    "for i in soup.find_all('article', {'class' : 'item has-image'}):\n",
    "    #pods.append(i)\n",
    "    #make sure both audi and text exist for the same episode\n",
    "    text = i.find_all('p', {'class': 'teaser'})\n",
    "    audi = i.find_all('li', {'class': 'audio-tool audio-tool-download'})\n",
    "    if len(text) != 1 or len(audi) != 1:\n",
    "        ## no download links...\n",
    "        pass\n",
    "        #print (len(text), len(audi))\n",
    "    else:\n",
    "        pod_text.append(text[0])\n",
    "        pod_audi.append(audi[0].find_all('a', href=True)[0])\n",
    "print(pod_text[0], pod_audi[0])"
   ]
  },
  {
   "cell_type": "code",
   "execution_count": 7,
   "metadata": {},
   "outputs": [
    {
     "name": "stdout",
     "output_type": "stream",
     "text": [
      "426 426\n"
     ]
    }
   ],
   "source": [
    "print(len(pod_text), len(pod_audi))"
   ]
  },
  {
   "cell_type": "code",
   "execution_count": 8,
   "metadata": {},
   "outputs": [],
   "source": [
    "t = pod_text[0]"
   ]
  },
  {
   "cell_type": "code",
   "execution_count": 9,
   "metadata": {},
   "outputs": [
    {
     "data": {
      "text/plain": [
       "'After a DNA test revealed that they were half sisters, two women recall meeting each other for the first time. The discovery, for both of them, fulfilled a missing link.</a></p>'"
      ]
     },
     "execution_count": 9,
     "metadata": {},
     "output_type": "execute_result"
    }
   ],
   "source": [
    "## Get teaser\n",
    "str(t).split(\"</time>\")[1].split(\"\\n\")[0]"
   ]
  },
  {
   "cell_type": "code",
   "execution_count": 10,
   "metadata": {},
   "outputs": [],
   "source": [
    "a = pod_audi[0]"
   ]
  },
  {
   "cell_type": "code",
   "execution_count": 11,
   "metadata": {},
   "outputs": [
    {
     "data": {
      "text/plain": [
       "<a data-metrics='{\"category\":\"audio actions\",\"action\":\"download audio\",\"label\":\"619957265\",\"noninteraction\":true}' href=\"https://ondemand.npr.org/anon.npr-mp3/npr/me/2018/06/20180615_me_at_28_years_old_learning_to_be_a_sister.mp3?orgId=1&amp;topicId=1022&amp;aggIds=4516989&amp;d=148&amp;p=3&amp;story=619957265&amp;siteplayer=true&amp;dl=1\"><b class=\"icn-download\"></b><b class=\"audio-tool-label\">Download</b></a>"
      ]
     },
     "execution_count": 11,
     "metadata": {},
     "output_type": "execute_result"
    }
   ],
   "source": [
    "a"
   ]
  },
  {
   "cell_type": "code",
   "execution_count": 12,
   "metadata": {},
   "outputs": [
    {
     "data": {
      "text/plain": [
       "'https://ondemand.npr.org/anon.npr-mp3/npr/me/2018/06/20180615_me_at_28_years_old_learning_to_be_a_sister.mp3?orgId=1&topicId=1022&aggIds=4516989&d=148&p=3&story=619957265&siteplayer=true&dl=1'"
      ]
     },
     "execution_count": 12,
     "metadata": {},
     "output_type": "execute_result"
    }
   ],
   "source": [
    "## Get download link\n",
    "a.get(\"href\")"
   ]
  },
  {
   "cell_type": "code",
   "execution_count": 13,
   "metadata": {},
   "outputs": [
    {
     "name": "stdout",
     "output_type": "stream",
     "text": [
      "0.mp3               2.txt               3_5.wav             5_3.wav\r\n",
      "0.txt               2_0.wav             3_6.wav             5_4.wav\r\n",
      "0_0.wav             2_1.wav             3_7.wav             5_5.wav\r\n",
      "0_1.wav             2_10.wav            3_8.wav             5_6.wav\r\n",
      "0_2.wav             2_2.wav             3_9.wav             5_7.wav\r\n",
      "0_3.wav             2_3.wav             4.mp3               5_8.wav\r\n",
      "0_4.wav             2_4.wav             4.txt               5_9.wav\r\n",
      "0_5.wav             2_5.wav             4_0.wav             6.mp3\r\n",
      "0_6.wav             2_6.wav             4_1.wav             6.txt\r\n",
      "0_7.wav             2_7.wav             4_2.wav             6_0.wav\r\n",
      "1.mp3               2_8.wav             4_3.wav             6_1.wav\r\n",
      "1.txt               2_9.wav             4_4.wav             6_2.wav\r\n",
      "1_0.wav             3.mp3               4_5.wav             6_3.wav\r\n",
      "1_1.wav             3.txt               4_6.wav             6_4.wav\r\n",
      "1_2.wav             3_0.wav             4_7.wav             6_5.wav\r\n",
      "1_3.wav             3_1.wav             4_8.wav             6_6.wav\r\n",
      "1_4.wav             3_10.wav            5.mp3               6_7.wav\r\n",
      "1_5.wav             3_11.wav            5.txt               StoryCorps_NPR.html\r\n",
      "1_6.wav             3_2.wav             5_0.wav\r\n",
      "1_7.wav             3_3.wav             5_1.wav\r\n",
      "2.mp3               3_4.wav             5_2.wav\r\n"
     ]
    }
   ],
   "source": [
    "!ls Data/NPR_story"
   ]
  },
  {
   "cell_type": "code",
   "execution_count": 8,
   "metadata": {},
   "outputs": [
    {
     "name": "stderr",
     "output_type": "stream",
     "text": [
      "\n",
      "  0%|          | 0/1 [00:00<?, ?it/s]\u001b[A\n",
      "100%|██████████| 1/1 [00:01<00:00,  1.08s/it]\u001b[A\n",
      "\u001b[A"
     ]
    }
   ],
   "source": [
    "path = \"Data/NPR_story/\"\n",
    "for i in tqdm(range(0, len(pod_text))):\n",
    "    t = pod_text[i]\n",
    "    ## Get time string\n",
    "    i_time = t.find(\"time\").get(\"datetime\").replace(\"-\", \"\")\n",
    "    ## Get teaser\n",
    "    i_teaser = str(t).split(\"</time>\")[1].split(\"\\n\")[0]\n",
    "    a = pod_audi[i]\n",
    "    ## Get download link\n",
    "    i_url = a.get(\"href\")\n",
    "    \n",
    "    with open(path + str(i) + \".txt\", \"w\") as text_file:\n",
    "        text_file.write(i_teaser)\n",
    "        text_file.write(\"\\n\")\n",
    "        text_file.write(i_time)\n",
    "    \n",
    "    ## download file\n",
    "    output_file = path + str(i) + \".mp3\"\n",
    "    with urllib.request.urlopen(i_url) as response, open(output_file, 'wb') as out_file:\n",
    "        shutil.copyfileobj(response, out_file)\n",
    "    sound = AudioSegment.from_mp3(output_file)\n",
    "    \n",
    "    ## split into 20 second pieces\n",
    "    for j, chunk in enumerate(sound[::20 * 1000]):\n",
    "      with open(path + str(i) + \"_\" + str(j) + \".wav\", \"wb\") as f:\n",
    "        chunk.export(f, format=\"wav\")\n",
    "    "
   ]
  },
  {
   "cell_type": "markdown",
   "metadata": {},
   "source": [
    "## clean the tail files\n",
    "#### find *.wav -type f -size -500k -delete"
   ]
  },
  {
   "cell_type": "code",
   "execution_count": 2,
   "metadata": {},
   "outputs": [
    {
     "name": "stderr",
     "output_type": "stream",
     "text": [
      "100%|██████████| 1/1 [00:24<00:00, 24.80s/it]\n"
     ]
    }
   ],
   "source": [
    "path = \"Data/NPR_story/\"\n",
    "#start_time = time.time()\n",
    "## 228 is missing\n",
    "for i in tqdm(range(0, len(pod_text))): #len(pod_text) \n",
    "    file_path = path ## total \n",
    "    inputtasks = glob(file_path + str(i) + \"_*.wav\")\n",
    "    #print(\" Running %s jobs on %s cores\" % (len(inputtasks), mp.cpu_count()-2))\n",
    "    npool = min(len(inputtasks), mp.cpu_count()-1)\n",
    "    pool  = mp.Pool(npool)\n",
    "\n",
    "    #print(inputtasks)\n",
    "    inputdic = {}\n",
    "    for k in range(len(inputtasks)):\n",
    "        inputdic[k] = {\"file\":file_path + str(i) + \"_\" + str(k) + \".wav\", \"n\":i}\n",
    "\n",
    "    fulltextdic = {}\n",
    "    ## parallel\n",
    "    for result in pool.map(SoundToText, inputtasks):\n",
    "            fulltextdic.update(result)\n",
    "#     ## standard\n",
    "#     for j in inputtasks:\n",
    "#         print(j)\n",
    "#         result = SoundToText(j) #dictionary of values, plots\n",
    "#         fulltextdic.update(result)\n",
    "    \n",
    "    fulltext = \"\"\n",
    "    for l in range(len(fulltextdic.keys())):\n",
    "        fulltext += fulltextdic[file_path + str(i) + \"_\" + str(l) + \".wav\"]\n",
    "    #print(fulltext)\n",
    "    with open(file_path + str(i) + \"_trans.txt\", \"w\") as text_file:\n",
    "            text_file.write(fulltext)\n",
    "    pool.close()\n",
    "#print(\"--- %s seconds ---\" % (time.time() - start_time))"
   ]
  },
  {
   "cell_type": "markdown",
   "metadata": {},
   "source": [
    "## Finished!"
   ]
  },
  {
   "cell_type": "code",
   "execution_count": null,
   "metadata": {},
   "outputs": [],
   "source": []
  }
 ],
 "metadata": {
  "kernelspec": {
   "display_name": "Python 3",
   "language": "python",
   "name": "python3"
  },
  "language_info": {
   "codemirror_mode": {
    "name": "ipython",
    "version": 3
   },
   "file_extension": ".py",
   "mimetype": "text/x-python",
   "name": "python",
   "nbconvert_exporter": "python",
   "pygments_lexer": "ipython3",
   "version": "3.6.1"
  }
 },
 "nbformat": 4,
 "nbformat_minor": 2
}
