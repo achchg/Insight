{
 "cells": [
  {
   "cell_type": "code",
   "execution_count": 88,
   "metadata": {},
   "outputs": [],
   "source": [
    "import numpy as np\n",
    "import pandas as pd\n",
    "import re, nltk, spacy, gensim, string\n",
    "from nltk.corpus import stopwords\n",
    "from collections import Counter, OrderedDict\n",
    "from gensim.summarization import summarize\n",
    "from gensim.summarization import keywords\n",
    "from gensim.models.phrases import Phrases\n",
    "from gensim.models.phrases import Phraser\n",
    "import time as time\n",
    "import pickle\n",
    "import random\n",
    "\n",
    "# Sklearn\n",
    "from sklearn.decomposition import LatentDirichletAllocation, TruncatedSVD\n",
    "from sklearn.feature_extraction.text import CountVectorizer, TfidfVectorizer\n",
    "from sklearn.feature_extraction.stop_words import ENGLISH_STOP_WORDS\n",
    "from sklearn.model_selection import GridSearchCV\n",
    "from pprint import pprint\n",
    "from tqdm import tqdm\n",
    "import multiprocessing as mp\n",
    "\n",
    "# Plotting tools\n",
    "import pyLDAvis\n",
    "import pyLDAvis.sklearn\n",
    "import matplotlib.pyplot as plt\n",
    "import seaborn as sns\n",
    "sns.set_style(\"white\")\n",
    "\n",
    "%matplotlib inline"
   ]
  },
  {
   "cell_type": "code",
   "execution_count": 83,
   "metadata": {},
   "outputs": [],
   "source": [
    "# A custom function to clean the text before sending it into the vectorizer\n",
    "def cleanText(text):\n",
    "    \n",
    "    # replace ;\n",
    "    text = text.replace(\" ; \", \"\\n\")\n",
    "    \n",
    "    table = str.maketrans('', '', string.punctuation)\n",
    "    # get rid of punctuation\n",
    "    text = text.translate(table)\n",
    "    \n",
    "    # get rid of newlines\n",
    "    text = text.strip().replace(\"\\n\", \". \").replace(\"\\r\", \".\")\n",
    "    \n",
    "    # replace twitter @mentions\n",
    "    mentionFinder = re.compile(r\"@[a-z0-9_]{1,15}\", re.IGNORECASE)\n",
    "    text = mentionFinder.sub(\"@MENTION\", text)\n",
    "    \n",
    "    # replace HTML symbols\n",
    "    text = text.replace(\"&amp;\", \"and\").replace(\"&gt;\", \">\").replace(\"&lt;\", \"<\")\n",
    "    \n",
    "    # lowercase\n",
    "    text = text.lower()\n",
    "\n",
    "    return text\n",
    "\n",
    "def calc_score(ref, comp, debug=False):\n",
    "    '''gives the number of items in ref that is also found in comp'''\n",
    "    ## check if it is a list of strings\n",
    "    if not isinstance(ref, list):\n",
    "        ref = str(ref).split()\n",
    "    if not isinstance(comp, list):\n",
    "        comp = str(comp).split()\n",
    "        \n",
    "    s_ref = set(ref)\n",
    "    s_comp = set(comp)\n",
    "    s_inter = s_comp.intersection(s_ref)\n",
    "    if debug:\n",
    "        print(s_ref, len(s_ref))\n",
    "        print(s_comp)\n",
    "        print(s_inter, len(s_inter))\n",
    "    try:\n",
    "        return len(s_inter)/len(s_ref)\n",
    "    except ZeroDivisionError:\n",
    "        return 0"
   ]
  },
  {
   "cell_type": "code",
   "execution_count": 84,
   "metadata": {},
   "outputs": [],
   "source": [
    "# A custom stoplist\n",
    "STOPLIST = set(stopwords.words('english') + [\"n't\", \"'s\", \"'m\", \"ca\"] + list(ENGLISH_STOP_WORDS))\n",
    "# List of symbols we don't care about\n",
    "SYMBOLS = \" \".join(string.punctuation).split(\" \") + [\"-----\", \"---\", \"...\", \"“\", \"”\", \"'ve\", \"\\n\", \"\", \" \", \"\\n\\n\", \"npr\"]\n",
    "\n",
    "def lemming(data, keeptype=[], doalpha=False, dostop=True):\n",
    "    tokens = []\n",
    "    for tok in data:\n",
    "        \n",
    "        # stoplist the tokens\n",
    "        if dostop:\n",
    "            if tok.text not in STOPLIST:\n",
    "                pass\n",
    "            else:\n",
    "                continue\n",
    "            ##check if the token is stopword\n",
    "            if not tok.is_stop:\n",
    "                pass\n",
    "            else:\n",
    "                continue\n",
    "        else:\n",
    "            pass\n",
    "        \n",
    "        # stoplist symbols\n",
    "        if tok.text not in SYMBOLS:\n",
    "            pass\n",
    "        else: \n",
    "            continue\n",
    "        \n",
    "        ##check if the token is alpha\n",
    "        if doalpha:\n",
    "            if tok.is_alpha:\n",
    "                pass\n",
    "            else:\n",
    "                continue\n",
    "        else:\n",
    "            pass\n",
    "        \n",
    "        ##check if the token is noun\n",
    "        if len(keeptype) > 1:\n",
    "            if tok.pos_ in keeptype:\n",
    "                pass\n",
    "            else:\n",
    "                continue\n",
    "        else:\n",
    "            pass\n",
    "    \n",
    "        # lemmatize\n",
    "        if tok.lemma_ != \"-PRON-\" :\n",
    "            tokens.append(tok.lemma_.lower().strip())\n",
    "        else:\n",
    "            tokens.append(tok.lower_)\n",
    "    \n",
    "    # remove large strings of whitespace\n",
    "    return tokens"
   ]
  },
  {
   "cell_type": "code",
   "execution_count": 85,
   "metadata": {},
   "outputs": [],
   "source": [
    "# Initialize spacy 'en' model\n",
    "nlp = spacy.load('en')\n",
    "\n",
    "# Initialize vectorizer\n",
    "vectorizer = CountVectorizer(analyzer='word',       \n",
    "                             min_df=1,                        # minimum reqd occurences of a word \n",
    "                             token_pattern='[a-zA-Z0-9]{3,}',  # num chars > 3\n",
    "                             # max_features=50000,             # max number of uniq words\n",
    "                            )"
   ]
  },
  {
   "cell_type": "code",
   "execution_count": 86,
   "metadata": {},
   "outputs": [],
   "source": [
    "# ## https://radimrehurek.com/gensim/models/phrases.html\n",
    "# # rename some functions\n",
    "# Phraser = models.phrases.Phraser\n",
    "# Phrases = models.phrases.Phrases\n",
    "\n",
    "# # Generate list of sentences\n",
    "# sentence_stream = fulltextdic[0][\"text\"]\n",
    "\n",
    "# # Generate bigrams\n",
    "# phrases = Phrases(sentence_stream, min_count=1, threshold=2)\n",
    "# bigram = Phraser(phrases)\n",
    "\n",
    "# # # Generate trigrams \n",
    "# # trigram = Phrases(bigram[sentence_stream])\n",
    "\n",
    "# # Generate output\n",
    "# output_strs = []\n",
    "\n",
    "# doc = fulltextdic[0][\"text\"]\n",
    "# output_doc = list(bigram[doc])\n",
    "# output_strs.append(' '.join(output_doc))\n",
    "\n",
    "# print(doc)\n",
    "# print(output_strs)"
   ]
  },
  {
   "cell_type": "code",
   "execution_count": null,
   "metadata": {},
   "outputs": [
    {
     "name": "stdout",
     "output_type": "stream",
     "text": [
      " Running 304 jobs on 6 cores\n",
      "['the curtail north koreas nuclear weapons program a week after pomp hero was in north korea administration officials began confirming what a dot mushrooms im ordinances how blood got on tuesday coming clearer to onslaught the tremendous change would not come out and say we think the north is going to negotiate almost lsd were pretty darn sure were at out was the case look years old and an assurance from disney', 'he was morning editions newscaster when appropriate for mirrored in nineteen seventy nine that is a job he hoped for a ringing and later he became uses one judge and scorekeeper for the impure quiz show we we dont phone rang the art and the the suture cargo this is why wait dont tell ruby and the artist who is on how fast will undergo up carl kasell passed away from complications of alzheimers disease he was eighty four years']\n",
      "['and although its not the rest of that statement to calm every lawyer in america thinks that he would be a fool the testifies as rudy giuliani because of it and i have a quieter want to testify the president was to testify next really does only say that but its also possible what hes trying to communicate is that hes tapped and not afraid to sit down with mahler when he says that with his usual bravado he always also and the cabbie add that it depends on what', 'reaper observers is monday may seventh five steve inskeep an average like that and evidence you tomorrow you can subscribe billets where realism of life asked me to read as an us out and while youre doing that view you know feeling about you could be listening to the radio find more in depth coverage of the store to start and day and much more than two years morning edition which which will co host with david green talk it to the beat you find the patients wanted for him to your station have to modify that station jurisdictions that']\n",
      "['stay with us itll bring you the news that you need to start your day our support for it is pod from the following message home for twenty three inmates this fathers day gift to the heart of what makes you bothered you meet with it you make it wheat cleaning it you received more than seventy five detail on weiner reports about his genetic ancestry have inherited traits that even how his jeans painful its his health now through june seventeenth cape verde percent off each kit', 'are the reach the end of the week that is a first for friday june eighth im david im steve inskeep our editors are martha and overland cabin lately and richard to miramar social status to the floor of the pentagon is executors of upper can really start today with us right back here on my fingers very important stuff that what you and supplied to us were never used that you can also reach us interview was off apple pie test results and her really focuses out of forces here every morning why is it from your and your stationed here financial support lives of two new things like that humans are warriors did greg now of the delineate that endured it worked']\n",
      "['and now im the group also told me that along the way theyre getting these migraines so called workshops to tell about the complexity in the difficulty be applying for asylum law of the most likely they will be detained at the u s border and they try to sneak in without authorization or if they ask us border guard for asylum but does the numbers of santo americans in mexico that have opted to stay in mexico is comprising greatly alfred islam point that', 'will the u n chief and the e us foreign policy chief for both calling for an investigation an independent investigation human rights groups are accusing israel of excessive use of force a bomb and their disputes first of all about the numbers of injured palestinian officials say more than seven hundred people were wounded by live gunfire israel says those numbers are much lower theyre also disputes about who was killed israel says ten people who were killed or militants']\n",
      "['alatas schools have sent letters at the hands letting them know what the whats planned and what the schools policy is in some cases pants had been asked to sign permission slips of the kids can purchase a paid at the school district in philadelphia has encourage students and activism of that the district is very clear that the students are expected to return to class after that seventeen minutes is over and the district is actually encouraging principles to think of ways to turn this into a teaching opportunity by a baby inviting the speaker to come in talk to students at an essay writing contest or our project of the few schools in the region are going to shows to produce the videos that remember the people who died in parkland and those be shown during the protests for students who choose not to', 'our support with this broadcast in the following message come from the npr white gloved discover him selected winds from around the world war and the stories behind each one and enjoy unique bottles inspired by the favorite npr sharons if youre twenty one are older and one quarter of special offer at npr white love die short support also comes from zippered are you firing considered murder has revolutionized how you do with their technology ive been advised people with the bride experience and invites them to apply to your job tried for free and super corridor dot com slash but first the voters in southwest pennsylvania have left the political world hanging him usher happy as we were using the phrase dead heat to describe this special house races race for the eighteenth congressional district in pennsylvania law the votes are still being counted and it is still as predicted that dead heat too close to call this is even know']\n",
      "['does get good laugh if the hennessy its maybe more attention for the remarked rank as the fruit just said it struck me how did this brings to mind that beggar talking a lot about outsiders again and thats something that we saw back in twenty ten republicans had that big tea party wait but democrats are hoping that they have new comers new faces that are more likely to bring out the traditional voters that theyd like this', 'for the innocent person is wednesday may twenty third i retorted that im steve inskeep started with you tomorrow its the news does not stop with this august to homes i rewrote first for round up of the most important stories that and then a few items on demand in japan and npr one out there eating in a mix of local national and international need to get where we go what everyone in the house on your butt just based on what kind of talent in here when arafat youngster', 'no the clear shes got the fall like sham and two republicans will be a runoff to face her shes a progressive who beat out a more moderate democrat in the primaries same thing happened in kentucky so whats all that signal about the elections is false les aspin peers kelsey snell who happens to be in the studio high calcite and i lets start with georgia big night for progressive democrats there yeah absolutely this is all part of a broader trend that weve been seeing over and over here were tight on new faces', 'ah im so that ruffled some feathers to be sure on long at the g o p nominee as u p colleagues but his poll numbers are out republicans are feeling pretty good at this moment republicans are feeling really great in this moment and weve been talking to republican strategist over the past week to say that trends in moving in the right direction but they really need depressing to stay on message and help bring republican voters to the polls be as much as democrats are thinking and these new faces and these fresh ideas to bring their voters out the republicans need the present help bring a establishment republicans and he is very specific piece of very energize voters']\n",
      "['about what rudy giuliani revealed the president from reimbursed his attorney for hush money that was stormy daniels he may have been trying to prove that the money had not come from the trial and it the giuliani has to a depressing morally drunk last month from said he was not aware of the payment baby and a big mouth and he wants to sell the white house is what this was information that the president didnt know it out eventually alert and i had a potentially in the wind present trends north korea seems likely to release dobrinja american prisoners to stay with us who gave you the news she needs to get done']\n"
     ]
    },
    {
     "name": "stdout",
     "output_type": "stream",
     "text": [
      "['theyre a little surprised about is on blitz of a book tour in the midst of an ongoing criminal in counterintelligence investigation they have warm feelings many of them torch and call me a lot of them still dont understand what he was thinking in twenty six tina what hes thinking now i should mention however what it says lord is my testimony so zbig remains consistent i dont ever problem nobodys gonna call made to look out on inconsistency is', 'kowtow to sean hannity and upon the wine list of lawyer michael collins and how did james calmly of the f b i feel on election night two thousand six to one survives the front line of that did you think maybe the f b i had sent him into his back home has been our interview the former f b i director talk to the struggles to make the agencys same independent also why troubled history hands leader face as he meets president front to stay with us what even easy to start the day but in the', 'that young prosecutor rose to become the u s attorney in manhattan where were sitting right now the deputy attorney general and then the fbi director this last year year and half seems to have bruce him deeply hes not quite the same confident guy that we use to see what did you make of his defense of how we handle that hillary clinton email investigation into thousand sixty wished repartee twice made public statements which was somewhat unusual quite unusual road for prosecutor you was']\n",
      "['civil rights leaders disagree with the white house d n me to local matter of when mom died down the front and all hall where to tell what it is you talked of these this fact of the california is preparing did you get out with the federal government over auto emissions and stay with us weve got the news you need to start in the', 'there are right at first for today friday march thirtieth david drift and i know well king of our editors are actually proud derek mcdaniel and heavenly the market uses are part and republicans taylor iniki on technical director is agri kuomintang young hes the executive producer but first the inciting here with us on monday and its crackdown first where every listen and typecasting he can read us in on us on apples and nuts and then we really want to know that this shows here every morning because of your and your station your financial support let us do more of great things like the first new guns for your station now by going to joni to god and you are not a word and we would restore your weekend with nprs weekend edition you could find tomorrow morning what your local station confided station to the states that out not a big one']\n",
      "['oh i elliot abrams thinks about her drug use my pleasure and our either are thanks for listening to this special update you can go to npr dot org and also to need your aunt your station', 'now it is happen what we know all about his dismissal was a dismissal or did he leave of his own accord it has so long been speculated and then he was on his way out on the dead we began to think that maybe you can outlast everybody after all but now', 'to compete with other people like the presidents on a mock jury questionnaire and add the ambassador to the u n e t healy who both are positioning themselves as secretary of state or at least on some matters and to listen to me how close relationship even you know donald trump both know he was asked']\n",
      "['and luzon german politicians wanted to take out the u s ambassador the president from choice for the job spoke of a power and right wing movement in europe we find shes done stuff and inappropriate for the president was on medical mystery in china with those of cuba more american consulate workers have fallen ill after hearing strange sounds of the witness will get even usually it straight day']\n",
      "['and most republicans are headed for confrontation on immigration thats leading conservatives and moderates against each other the two challengers can you get a compromise can you get a bipartisan book you needed something not only to the senate this and make up in a good sign unlock the internal trauma is testing the staying power unspeakable linings youre a parent', 'now the issue here is that presidents do not do this president said that tried to step away from the fbi been the department of justice and greta far wall that is one of the many things that is more of an understanding more of a set of norms as opposed to hard and fast since watergate is so presence of avoided commenting to the justice to learn about specific investigations much less investigations aunt bertha president himself in us', 'right this is just as that north korea wants to see concessions from the u s and south korea in exchange for maybe more fees to denuclearization but we really cant know until we get into the weeds on this and whats happening in this case is the summit is so close now on in terms of the counter to that but theres not gonna be the typical creed head of state meeting on the greedy and weeds working in a negotiation by bureaucrats happening in the week that theyre just not enough time or get good point normally youd have lower level people work everything out of the presidents too short to shake hands and maybe do a final']\n",
      "['there are either or life as a first for tuesday march thirteenth and did mme to mind very gay with us here tomorrow and it is the news doesnt stop with just like cats and so on sunday but or anniversary gave the ground and most important stories and they know we appreciate you waking up with us here at npr and do what you know your npr stations in its first possible to each and every morning you can support them and so forth but city but dylan aint got into your downwards slash', 'maybe its interesting isnt it sort of a competition agree with his national security am and what is the largest day of competition and last day of subdivision yeah says the end of the deal could get its present from this agreement is so yes not only for purchases of american companies get reviewed by this secretive group called the key media on foreign investment in the united states and in this case before tramp issued his executive order this group had already stall the deal they were racing in number matches due to concerns']\n",
      "['well i dont know what a rod going to do it to come in come up up like him to the team to be on the same page for now all of those who go on the laptop yesterday by phone of them go look at her will concern called the speed of scuttle the builders of it down to damage the prospects for the future and accord to note that the russians weve been trying to get out of it you want to go interest in some of the pacific develop won the construction jury began to have twenty me sanction to deliberate on to that', 'our support for this broadcast in the following message come from one place god come for building your business web site to reach more customers that no coding or design experience is needed reform will indeed fifteen percent off any new plan but its an award rest dot com slash popped first of bert support also comes from what your paddle believing solar investment by the with the help of one to capital invested have financed more than a hundred and fifty large scale solar projects for information and wonder capital dot com slash up first', 'our fire has meandering to james what he told the b c news that donald trump is morally unfit to be president our president blots embodied respect and here to the values of the core of his country the most of them the truth i made one with el king in his outburst from npr pouty president he did about call me several times sunday morning and said what i hardly even knew this guy just another of many lines and president sounds personal attorney michael colin makes his first appearance in court today he wants to stop federal investigators from reviewing documents they seized in a raid lastly']\n",
      "['and if youre ready for more enduring easy it henry itself that is you can buy him here is morning edition im doing hears things teaches that endured sophomore effort on castro bullies in the latest headlines in taking care to every word to get in here on out to fight it out store or are the', 'you know that thursday that feels like a friday except in the realization its thursday comes crashing down and dont let today could be that kind of errors that visit moments got home slash all of your everyday and support also comes from twenty three me now through mothers day to get twenty percent off each twenty three in the dna kid was a free gift plan', 'by his lawyer the way i would do out of his law firm fallen short of funds but a matter of prison reversed that over periods of lean and said now the brother years as a trumpet previously denied any knowledge of this payments which came shortly before the election it was part of the settlement agreement concerning an alleged two thousand six sexual encounter', 'about eighty thousand members of the national rifle association beginning gather in dallas this weekend and present trouble be there to lend his support the house again rights organization handling a surge of criticism after the hard when she had a kind of me and i think i knew it when us delegation had spit shine out of those two countries seem on the brink of a trade war stay with us will give you the news of needs urgent funds up']\n"
     ]
    },
    {
     "name": "stdout",
     "output_type": "stream",
     "text": [
      "['here we are seeing those transit we had been talking about week after week coming back again the voters seem to really want new faces and brain and an ng i will we saw a really good example of that coming together as one addie think in our shes a twenty eight year old and she is going dancing common problem and it looks but gaining one and most competitive district you know you can only be twenty five one for the house to find a measure to the aid to hedge its she is she is emerging as are really competitive candidate am i yell republican women seem to be getting in on this tube yes ill take the congresswoman christina only skinny running for governor there and over in alabama theres congresswoman marge the roby who we is moving on that is moving on to the raw', 'just one small order of business still first they had to get democrats on the ballots which is why yesterdays voting was over the nprs congressional reporter kelsey snows been covering the story she says you swabs can do more than i thought it was just remembered california as is unusual primary audience not hardison and she could end up with two republicans on the ballot or two democrats on the ballot honor really do yeah weve inside the puzzle i ate this big open primary and see that everybody pitted against each other and democrats were really worried or at least they were saying they were worried that the democrats would against the ballad on de action is so far seem to be succeeding diligent quarter point out that its after two am not unless goes when were talking right now and youre still counting votes in the could be counting votes for the rest of the day it means to several days from now']\n",
      "['the big organizations had been calling for shokhin they thought he was pragmatic that technocrat that they dont know much about jackson that im choking was in the vet jackson is but other than that their beers are saying were were going see wanted to know him', 'charles of liberty is npr pod cast in the following message come from go to mediate the collaborative be platform that makes it easy to connect from anywhere in the world on any divides find out why more than eighteen million people use it to work together a bill to meeting downtown', 'to support also comes from american express hope in you listen to bob first because your p c and it gets right to the point at american express open knows youve got work to do so theyll get right to the point is it opened out how to see how american express open can help with money and knowhow say you can get business job', 'there are either or an asset for us that very same parts twenty ninth annual think that they were dreaming of you starting with us right back here tomorrow and we know as you know the news does not stop what i mean its over so that you should file was on twitter at augsburg figure the daily round and most important stories of that and if you want more npr news there he is a radio shows and thats fine nprs morning edition im hearing here is the skinheads teachings that npr dot boris answer by castle that is an latest headlines takin care everywhere to the npr white house in fine adding apps path', 'for another member presidents cabinet fighters yet the president has nominated his white house doctor to replace the head of veterans affairs again after wanda jackson pass senate confirmation that without any experience leading a big bureaucracy of david blaine along with noelle caine is the first from nprs and last week vladimir vote declared victory in the russian presidential election alyeska decide how to respond to countries shaking out with a hundred of its diplomats but might be in store for served nearly sixty eight people are dead after inmates reportedly said a police station on fire in northern venezuela what is this mean for that countrys troubled prison system stay with us do that denise you need to start again the']\n",
      "['and in an attempt to arrest my life to cut it easily be what will this communitys call for action mean for the national debate over spooks and then venezuela socialist leader in the closet liberal claims victory in his reelection bid to either of orange nor the u s will bow to the menzel whats next', 'our president child is demanding that the justice department answer a question that was developed the f b i quote infiltrated his campaign while tracking russian influence some lawmakers fear that could reveal sources and put lives of lives of david green that is steve inskeep and this is the first from npr news', 'which he made sunday afternoon is as enough direction to do it already and get the attorney general robert as unseen said that the justice department would be referring the matter to be its inspector general kind of as a way to defuse the situation a destiny i g to determine if there was any impropriety or political motivation', 'how well because its widely perceived as being totally of that but at what they actually issue at the moment is the way the government tried to pressure people in devoting full because with the local the day yesterday and set up a little red pants in some cases right by this the polling stations and officials of these tents lost the people to']\n",
      "['i immediately went to the hand that means that its from the car disasters for it than other bathtub of wires trans pacific division and then yesterday he suggested that maybe he wants back iniki keep young tenure as secretary of defense takes the temperature down on top of the covenant u s attack in syria stay with us and we get the news you need to start getting in or', 'trading in pure nestle sturdy course going greg my re forests morning he greg think somewhat thank you rachel been a reaper are enough members for this friday april thirteenth i read somewhere and an annual king deal the sunny day here with us on monday i dare say gail lots and eric baker daniel when a new series of him near our music is composed by need to fray and we weeks in young is the executive producer bob for us and we know the news doesnt stop with this contest is seeking solace on jupiter and the first thing you dealing out to most important news story didnt you know that covers the spirit chiefs and every morning because of your nprs of your financial support lets us do these things like that felt or tutwiler and heres the spring arrington you cant tell me that npr dot org exactly get with nprs weekend edition you can find that set tomorrow morning at a local station at stations dot npr dot or']\n",
      "['hey kid thinks the that is the first of this monday march twelfth i read somewhere and japan and allowed think its are you de humanize tomorrow you can subscribe to that first where every once in a private as angry as entering us on an old and make some of it was an outburst of invite more in depth coverage of the stories in fact thats an awful lot more on nprs morning edition', 'and lina serio weve been hearing stories of suffering in eastern good to air strikes it killed hundreds of people now the balance of power is shifting will the syrian government which the rebels and the area and regained control and u s defense secretary james madison is in the middle east today talking about the civil war in the end of line has been shipping weapons to the rebels signed whats the pentagons i couldnt do that']\n",
      "['for all us what a first for the daily round of the most important yours and if you like good news on demand to get into one at carried inmates of local national and international news for me now and every thought they will secure typecast based on what download and your wife and yet', 'its interesting the raft sat down with the commander of coalition ground forces she joins us now from that daddy again i dare say the u s s senate wants to keep some troops in iraq even other closing as the center for ground combat is the battle against ices is essentially over there what are these trips or staying behind one of the enemy doing', 'barry with assisted in our interest that the true hes got good morning started this threat against rosenstein is coming from the house freedom caucus why did they want rosenstein out a couple different reasons the system along back and forth about information the department of justice has and has not turned over to congress about this investigation but more broadly', 'her we are and what in the u n security council delegation is just back from a visit to bangladesh and me and are they were working on a plan for how to repatriate the nearly seven hundred thousand bringing the moslems who fled the bangladesh last year after a million more military crackdown that some u s u n officials called ethnic cleansing hey weve got reporter michael sullivan on the line isnt covering this issue']\n"
     ]
    },
    {
     "name": "stdout",
     "output_type": "stream",
     "text": [
      "['for the nikkei secret is it between two heads of state is confirmed yet we dont know that kim jong il in stockton shine it was his first foreign trip as north koreas weaver what could this mean as the u s ramps up for its own store', 'focuses couldve been china does wanted to get into good big game of flom hid the diplomacy that the present opposed to pin talking about good things are also cut ten strain of engaging in washington is that tie him to to this isnt amount', 'the reaper okay well that is a first for wednesday march twenty eighth and david grief and i know well king and we hope youll stay day here with us tomorrow and since the news doesnt stop with this type can send you can follow us on twitter at first fear gaily round up of the most important stories', 'i know well jeanne thats the big green and this is a first from nprs port city the supreme court hears arguments against democrats in maryland republican say the unfairly signs that voting district maps but the court is never struck down a voting mapping has a partisan gerrymandering so why make this case be deferred']\n",
      "['are we to an ad is outburst was meditating for it but id like to live and i know well teenage well get started day here with us tomorrow and since the news doesnt stop that i cant answer to solace and weird and now first of the daily round up of the most important stories in the day', 'theyve been losing cover if he can buy more in depth coverage of the stories that we try to have an awful lot more to nprs morning edition the mr radio show that i postpone want well well and in cleaning and steve inskeep any fine morning edition that in your staged station and figure it out']\n",
      "['are we are thats a first for this friday may seventeenth im steve inskeep not degrade us enjoy your weekend may come right back here to start your week with us on monday morning we wanted tell you that team that makes his likeness and that editors are jig conrad if we entered the producers geoffrey gearan our social strategist used for roman and executive producer vote first kissed and young', 'are my present truckload of giving very strong protectionist and north koreas leader if he surrendered we went as advisers sykes libya were the leader was overthrown so how could the west guarantee that rule before and i didnt read that steve inskeep and this is the first from nprs it out a president says it in general it gives up his nuclear program hed be a b in his country he running this country', 'are you support for this broadcast in the following message come from battle of language and learn to confidently speak and you language which babble ten to fifteen minute lets go to battle to be a beauty yelled back com slash of fire has been used vote of the flowers for the burson owns the first six months support also comes from allman border california theyre still at least four hours today of pretending youre not making weekend clients but with altman says that youll be spreading to the weekend in notes are']\n",
      "['to invite trotted to us on that but yeah thats the biggest surprise here is that tramp decided to say yes great but these two remarkable bugger all these critics are light on this whole eight were getting along for the olympics this is just a bunch of symbolism and propaganda and what i hear you saying is it me did make a difference in and out in august', 'consented to this year on monday he bled and if the news doesnt stop and five cats dancing topless on twitter at first the daily planet of the most boring stories of the day of first this year hed spend every morning and he does your aunt your state your financial support latest union things like this very shell supporter of your station now he can to act out an art work to answer your began with an years began two days in blinded tomorrow morning on your local station at station stock npr dot org', 'if that doesnt work it out the brazilians may well father case up along with other affected countries of the world trade one isolation arguing that these paris on in line with agreements but then lets forget will sing them brazils largest country in latin america and its not an easy country to do business with their often many restrictions on unbelievable amount of red tape the u s been urging the president stepped up and up in fact a victory this week with an agreement that opens up off the more at travel has some people here pointing out']\n",
      "['in there or at least some u s officials with misgivings about curing out reprisals for an attack that has yet to be investigated by outside experts and all of this is also giving fury have more time to move it up some of its assets to a safer places such as without russian bases and an odd of hums possible harms way up from an american strike', 'mara lets switch gears for a second because there are lot of the national security developments this week raided the president is weighing a decision on military action in syria john bolton that takes over as national security advisor might calm pale has his secretary of state confirmation hearing in the senate i given all of this what you think we should be paying attention to']\n",
      "['benjamin netanyahu said israel found older plodding plans to build nuclear weapons program apparently stopped years ago whats that mean for president constitution on the nuclear deal with that and a day of protest in puerto rico today people whove uttered a painfully slow recovery from hurricane maria resisting austerity measures and stay with us weve got the news you need to start and', 'and our a book and the first for tuesday the first time gave an and im steve inskeep join us here tomorrow and subscribe to his war every lust five cats you can break this was not like its was really huge waking up with us the your york npr station he is what makes the first half full and that in you can support them and were asked to khartoum aint got into your daughter lauren sweatshirt first']\n",
      "['this moment to retaliate against russia yeah our allies in europe were doing the same thing to you think i can put some pressure on us its you to make this move or with us more of a collaborative effort', 'reaper and thats up for us for this tuesday march twenty seventh avenue will taint im david brain how do we do this again tomorrow same time same place you can subscribe suffers were never you listen supply gas and we hope you also read us an overview whatd you do that on apple', 'too much longer wait times people outside a mosque go home would normally go to their local consulate now have to travel to moscow its baum basically slow down these applications to really up for all and many russians are actually going abroad on to apply for us he says thats interesting silly edith incest is symbolic move out', 'for russias alleged attempt to take out a former spy overseas means dozens of russian diplomats are now kicked out of the u s yet its a big step in retaliation against the kremlin somehow my impression he back against american diplomats this time of david trade with no king this is the first from npr news about residents decision to expel russian diplomats comes just a week after he had warmer words for his russian counterpart']\n",
      "['are we and that is a forest this friday evening sir is that right so far none that im david radar enters our ticket conrad and our zoo bruised body our producer used to every error social strategist for roman in kenya young it gave the executive producer of this saturday with us here on monday and as in stop and look like cats and supposedly there at first the wheeling round up the sponsors of that and we do what you know this but first its here each year to morning because of yours and yours addition your financial support lets us into new things just like this job', 'well fixed will toward the denuclearization which is something that the us side is certainly looking for north korea for its part has also been taking part in a flurry of diplomacy not just with the united states and south korea this week but also russias foreign minister visit pyongyang i met kim jong il and just yesterday and german himself is now met twice with chinese president xi ching ping is a dramatic shift after kim hadnt really met with any other heads of state up from the time he took at leadership of the country in twenty eleven to this year so allotted policy', 'of ross is gonna be a trying to show that the administration is now united and it is the direction that they wanna take and you know both trade war with china was suppose to be on hold according to secure the treasury the news in by then it was back on this week with the twenty five percent tariff on chinese goods and edition to the steel tariffs that one into effect on every upon as some of our allies acting right now why the administration is saying a is were not gonna be taking advantage of any more its a new day and that these countries are going to have to make changes', 'and rizzo north korean delegation continues talks in your city a u s delegation is laying the groundwork of north korea what obstacles but still stand when theyre feeling comes to bending president found you have been more loyal and his lawyer michael collins what did that loyalty sound id like to our reporter sears is only candidate presents concerts and high new west has released new music overnight so if you create your names of the wrappers might travel guide is that he mentioned yet good a bad of a stay with us we big idea crews her out our support robbers and fondling message come from wonder capital the easiest way to invest in large scale solar energy projects across the u s you can earn up to seven point five percent handily while helping to finance renewable energy projects and wonder cattle dot com slash bob bars and']\n"
     ]
    },
    {
     "name": "stdout",
     "output_type": "stream",
     "text": [
      "['an investigation of one of the presidents top lawyers rudy giuliani wants to and emotional brings to a close family to martin that is the big screen and this is a first term and your names and right so what we learned from a year of memos indictments and subpoenas well one thing weve learned about nafta is it is hard to renegotiate longest ever get to the on a new trade deal with mexico and canada people under any arent voting on whether to allow the president to extend his role in ten twenty thirty forty how risky is a power grab like this for country haunted by civil war', 'well we know that people have begun voting and so far you know we havent heard any reports of major violence but a colleague in the capital bujumbura told me that at least one effort for people to vote will has been stopped by police ally and you know as you said the run up to this has been intense opponents of the referendum but beat and tortured in even killed and over the weekend the government said terrorists crossed the border from congo been killed two dozen people small village the government didnt say if this had anything to do with the referendum but it gives you an idea of the kind of tension']\n"
     ]
    }
   ],
   "source": [
    "sumtoken = []\n",
    "token = []\n",
    "token_filter = []\n",
    "token_gensim_sentence = []\n",
    "token_gensim_word = []\n",
    "\n",
    "##304 NPR, 96 conv, 419 story\n",
    "path = 'Data/NPR/'\n",
    "#N = 1\n",
    "if \"_story\" in path: ## 31 seconds\n",
    "    N = 419\n",
    "elif \"_conv\" in path: ## 81 seconds\n",
    "    N = 96\n",
    "elif \"NPR\" in path: ## 124 seconds\n",
    "    N = 304\n",
    "fulltextdic = {}\n",
    "\n",
    "def TextToTokens(i=1):\n",
    "    '''input is file name\n",
    "    tranlsate the file, file summary'''\n",
    "    result = {}\n",
    "    with open(path + str(i) + '_trans.txt', 'r') as myfile:\n",
    "        temp_text = cleanText(myfile.read()) ##this is a string\n",
    "        #print(type(temp_text))\n",
    "    with open(path + str(i) + '.txt', 'r') as myfile:\n",
    "        ## remove the last element which is a date; for summary only\n",
    "        temp_sumtext = \" \".join(cleanText(myfile.read()).split(\" \")[:-1]) ## this is also a string\n",
    "        ##print(temp_sumtext, type(temp_text))\n",
    "    \n",
    "    ## add in phrases\n",
    "#     inputdocument = [d.split(\" \") for d in temp_text.split(\". \")]\n",
    "#     phrases = Phrases(inputdocument, min_count=1, threshold=2)\n",
    "#     bigram = Phraser(phrases)\n",
    "    \n",
    "    ## convert to tokens\n",
    "    nlp_temp_text = nlp(\"\".join(temp_text)) ## this is spacy token\n",
    "    nlp_temp_sumtext = nlp(\"\".join(temp_sumtext )) ## this is spacy token\n",
    "    \n",
    "    ## do lemming\n",
    "    result[\"origin\"] = temp_text\n",
    "    result[\"text\"] = lemming(nlp_temp_text) #bigram[lemming(nlp_temp_text)]\n",
    "    result[\"sumtext\"] = lemming(nlp_temp_sumtext) #bigram[lemming(nlp_temp_sumtext)]\n",
    "    result[\"textfilter\"] = lemming(nlp_temp_text, doalpha=True, keeptype=[\"NOUN\", \"PROPN\", \"NUM\", \"ADJ\", \"ADV\"]) #bigram[lemming(nlp_temp_text, doalpha=True, keeptype=[\"NOUN\", \"PROPN\", \"NUM\", \"ADJ\", \"ADV\"])]\n",
    "    \n",
    "#     token.append(lemming(nlp_temp_text))\n",
    "#     token_alltype.append(lemming(nlp_temp_text, doalpha=False, dostop=True, keeptype=[]))\n",
    "#     sumtoken.append(lemming(, doalpha=False, dostop=True, keeptype=[]))\n",
    "    \n",
    "    ## try gensim sentence\n",
    "    ratio = len(temp_sumtext)/len(temp_text)\n",
    "    sum_gensim = summarize(\"\".join(temp_text), ratio=ratio, split=True) #this is a list\n",
    "    result[\"gensim_sentence\"] = lemming(nlp(\" \".join(sum_gensim)))\n",
    "    \n",
    "    ## try random sentence\n",
    "    sentences = temp_text.split(\". \")\n",
    "    n_sentences = len(sum_gensim)\n",
    "    sum_random = random.choices(sentences, k=n_sentences)\n",
    "    result[\"random_sentence\"] = lemming(nlp(\" \".join(sum_random)))\n",
    "    \n",
    "    ## try longest sentence\n",
    "    sentences.sort(key = lambda x:len(x))\n",
    "    sum_long = sentences[-n_sentences:]\n",
    "    #print(sum_long)\n",
    "    result[\"long_sentence\"] = lemming(nlp(\" \".join(sum_random)))\n",
    "    \n",
    "    ## gensim keywords; use lemmed full text\n",
    "    #print(\" \".join(result[\"text\"]))\n",
    "    result[\"gensim_word\"] =  keywords(\" \".join(result[\"text\"]), words=len(result[\"sumtext\"]), split=True, lemmatize=True, deacc=True)\n",
    "    return {i:result}\n",
    "\n",
    "start_time = time.time()\n",
    "inputtasks = range(N)\n",
    "npool = min(len(inputtasks), mp.cpu_count()-2)\n",
    "print(\" Running %s jobs on %s cores\" % (len(inputtasks), mp.cpu_count()-2))\n",
    "pool  = mp.Pool(npool)\n",
    "\n",
    "for r in pool.map(TextToTokens, inputtasks):\n",
    "    fulltextdic.update(r)\n",
    "\n",
    "print(\"Done!!\")\n",
    "print(\"--- %s seconds ---\" % (time.time() - start_time))\n",
    "# for i in tqdm(range(2)):\n",
    "#     fulltextdic.update(TextToTokens(i))"
   ]
  },
  {
   "cell_type": "code",
   "execution_count": 80,
   "metadata": {},
   "outputs": [
    {
     "name": "stderr",
     "output_type": "stream",
     "text": [
      "  0%|          | 0/304 [00:00<?, ?it/s]\n"
     ]
    },
    {
     "ename": "KeyError",
     "evalue": "0",
     "output_type": "error",
     "traceback": [
      "\u001b[0;31m---------------------------------------------------------------------------\u001b[0m",
      "\u001b[0;31mKeyError\u001b[0m                                  Traceback (most recent call last)",
      "\u001b[0;32m<ipython-input-80-351c300f38a5>\u001b[0m in \u001b[0;36m<module>\u001b[0;34m()\u001b[0m\n\u001b[1;32m      9\u001b[0m \u001b[0;31m#for i in tqdm(range(1, 2)):\u001b[0m\u001b[0;34m\u001b[0m\u001b[0;34m\u001b[0m\u001b[0m\n\u001b[1;32m     10\u001b[0m     \u001b[0;31m## calculate the maximum score\u001b[0m\u001b[0;34m\u001b[0m\u001b[0;34m\u001b[0m\u001b[0m\n\u001b[0;32m---> 11\u001b[0;31m     \u001b[0mtoken\u001b[0m \u001b[0;34m=\u001b[0m \u001b[0mfulltextdic\u001b[0m\u001b[0;34m[\u001b[0m\u001b[0mi\u001b[0m\u001b[0;34m]\u001b[0m\u001b[0;34m[\u001b[0m\u001b[0;34m\"text\"\u001b[0m\u001b[0;34m]\u001b[0m\u001b[0;34m\u001b[0m\u001b[0m\n\u001b[0m\u001b[1;32m     12\u001b[0m     \u001b[0mtoken_sum\u001b[0m \u001b[0;34m=\u001b[0m \u001b[0mfulltextdic\u001b[0m\u001b[0;34m[\u001b[0m\u001b[0mi\u001b[0m\u001b[0;34m]\u001b[0m\u001b[0;34m[\u001b[0m\u001b[0;34m\"sumtext\"\u001b[0m\u001b[0;34m]\u001b[0m\u001b[0;34m\u001b[0m\u001b[0m\n\u001b[1;32m     13\u001b[0m     \u001b[0mtoken_filter\u001b[0m \u001b[0;34m=\u001b[0m \u001b[0mfulltextdic\u001b[0m\u001b[0;34m[\u001b[0m\u001b[0mi\u001b[0m\u001b[0;34m]\u001b[0m\u001b[0;34m[\u001b[0m\u001b[0;34m\"textfilter\"\u001b[0m\u001b[0;34m]\u001b[0m\u001b[0;34m\u001b[0m\u001b[0m\n",
      "\u001b[0;31mKeyError\u001b[0m: 0"
     ]
    }
   ],
   "source": [
    "best_rate     = []\n",
    "base_rate     = []\n",
    "filter_rate   = []\n",
    "gensimsentence_rate = []\n",
    "gensimkeyword_rate  = []\n",
    "comb_rate  = []\n",
    "\n",
    "for i in tqdm(range(N)):\n",
    "#for i in tqdm(range(1, 2)):\n",
    "    ## calculate the maximum score\n",
    "    token = fulltextdic[i][\"text\"]\n",
    "    token_sum = fulltextdic[i][\"sumtext\"]\n",
    "    token_filter = fulltextdic[i][\"textfilter\"]\n",
    "    token_gensimsentence = fulltextdic[i][\"gensim_sentence\"]\n",
    "    token_gensimkeyword = fulltextdic[i][\"gensim_word\"]\n",
    "    length = len(token_sum)\n",
    "    \n",
    "    ## best score: Nwords in sum also in token\n",
    "    best_score = calc_score(ref=token_sum, comp=token, debug=False)\n",
    "    \n",
    "    ## baseline score: high frequency words\n",
    "    words_base = [w[0] for w in Counter(token).most_common(length)]\n",
    "    words_base.sort(key=lambda x: token.index(x))\n",
    "    base_score =  calc_score(ref=token_sum, comp=words_base, debug=False)\n",
    "\n",
    "    words_filter = [w[0] for w in Counter(token_filter).most_common(length)]\n",
    "    words_filter.sort(key=lambda x: token_filter.index(x))\n",
    "    filter_score = calc_score(ref=token_sum, comp=words_filter, debug=False)\n",
    "    \n",
    "    gensimsentence_score = calc_score(ref=token_sum, comp=token_gensimsentence, debug=False)\n",
    "\n",
    "    gensimkeyword_score = calc_score(ref=token_sum, comp=token_gensimkeyword, debug=False)\n",
    "    \n",
    "    comb_words = [w[0] for w in Counter(words_filter + token_gensimsentence ).most_common(length)]\n",
    "    comb_score = calc_score(ref=token_sum, comp=comb_words, debug=False)\n",
    "    \n",
    "    best_rate.append(best_score)\n",
    "    base_rate.append(base_score/best_score)\n",
    "    filter_rate.append(filter_score/best_score)\n",
    "    gensimsentence_rate.append(gensimsentence_score/best_score)\n",
    "    gensimkeyword_rate.append(gensimkeyword_score/best_score)\n",
    "    comb_rate.append(comb_score/best_score)\n",
    "    \n",
    "#     if comb_score/best_score > 0.6:\n",
    "#         print(\" \".join(token_sum))\n",
    "#         print(\"best score\", best_score, \"\\n\")\n",
    "#         print(\" \".join(words_base))\n",
    "#         print(\"baseline score\", base_score, \"\\n\")\n",
    "#         print(\" \".join(token_gensimsentence))\n",
    "#         print(\"gensimsentence score\", gensimsentence_score, \"\\n\")\n",
    "#         print(\" \".join(words_filter))\n",
    "#         print(\"filter word score\", filter_score, \"\\n\")\n",
    "#         print(\" \".join(token_gensimkeyword))\n",
    "#         print(\"gensimskeyword score\", gensimkeyword_score, \"\\n\")\n",
    "#         print(\" \".join(comb_words))\n",
    "#         print(\"comb score\", comb_score, \"\\n\")\n",
    "#         #print(token)"
   ]
  },
  {
   "cell_type": "code",
   "execution_count": 121,
   "metadata": {
    "scrolled": false
   },
   "outputs": [
    {
     "data": {
      "text/plain": [
       "<matplotlib.figure.Figure at 0x1a33d40748>"
      ]
     },
     "metadata": {},
     "output_type": "display_data"
    },
    {
     "data": {
      "image/png": "[encoded data removed]",
      "text/plain": [
       "<matplotlib.figure.Figure at 0x1a33d40630>"
      ]
     },
     "metadata": {},
     "output_type": "display_data"
    }
   ],
   "source": [
    "plt.clf()\n",
    "plt.figure(figsize=(12, 8))\n",
    "mybins=np.arange(0, 1.05, 0.1)\n",
    "plt.hist(base_rate, alpha=0.5, bins=mybins, label=\"Baseline mean %.3f %s %.3f \" % (np.mean(np.array(base_rate)), r'$\\pm$', np.std(np.array(base_rate)/np.sqrt(N))))\n",
    "#plt.hist(filter_rate, alpha=0.5, bins=mybins, label=\"Filtered\") #; mean %.3f %s %.3f\" % (np.mean(np.array(my_rate)), r'$\\pm$', np.std(np.array(my_rate))/np.sqrt(N)))\n",
    "#plt.hist(gensimsentence_rate, alpha=0.5, bins=mybins, label=\"Gensim sentence\") #; mean %.3f %s %.3f \" % (np.mean(np.array(gensim_rate)), r'$\\pm$', np.std(np.array(gensim_rate)/np.sqrt(N))))\n",
    "#plt.hist(gensimkeyword_rate, alpha=0.5, bins=mybins, label=\"Gensim keywords\") #; mean %.3f %s %.3f \" % (np.mean(np.array(gensimkeyword_rate)), r'$\\pm$', np.std(np.array(gensimkeyword_rate)/np.sqrt(N))))\n",
    "plt.hist(comb_rate, alpha=0.5, bins=mybins, label=\"My highlights mean %.3f %s %.3f \" % (np.mean(np.array(comb_rate)), r'$\\pm$', np.std(np.array(comb_rate)/np.sqrt(N))))\n",
    "plt.ylim(0, N/2)\n",
    "#plt.xlabel(r\"$N_{matched}^{InDescription}$ / $N_{total}^{InDescription}$\", fontsize=32)\n",
    "plt.xlabel(\"Matching Accuracy\", fontsize=32)\n",
    "plt.ylabel(\"counts\", fontsize=32)\n",
    "plt.xticks(fontsize=20)\n",
    "plt.yticks(fontsize=20)\n",
    "plt.title(\"\", fontsize=40)\n",
    "plt.legend(fontsize=27)\n",
    "plt.savefig(\"Plot/\" + path.split(\"/\")[1] + \"_beforecompare.pdf\")\n",
    "plt.show()"
   ]
  },
  {
   "cell_type": "code",
   "execution_count": 122,
   "metadata": {},
   "outputs": [
    {
     "name": "stdout",
     "output_type": "stream",
     "text": [
      "                         dBFS    duration      max  max_dBFS     rms\n",
      "Data/NPR/0.wav     -21.109094  802.612245  29039.0 -1.049366  2884.0\n",
      "Data/NPR/0_0.wav   -20.274124    5.690000  27872.0 -1.405636  3175.0\n",
      "Data/NPR/0_1.wav   -21.500263    2.100000  24238.0 -2.619063  2757.0\n",
      "Data/NPR/0_10.wav  -19.173303    7.220000  28798.0 -1.121752  3604.0\n",
      "Data/NPR/0_100.wav -28.725374    0.660000  10706.0 -9.716454  1200.0\n"
     ]
    }
   ],
   "source": [
    "with open(path + 'info.pkl', 'rb') as f:\n",
    "    alldic = pickle.load(f)\n",
    "df = pd.DataFrame(alldic).transpose()\n",
    "print(df.head())"
   ]
  },
  {
   "cell_type": "markdown",
   "metadata": {},
   "source": [
    "## Pandas study"
   ]
  },
  {
   "cell_type": "code",
   "execution_count": 128,
   "metadata": {},
   "outputs": [
    {
     "name": "stdout",
     "output_type": "stream",
     "text": [
      " Running 304 jobs on 6 cores\n"
     ]
    },
    {
     "name": "stderr",
     "output_type": "stream",
     "text": [
      "\n",
      "\n",
      "\n",
      "\n",
      "\n",
      "\n"
     ]
    },
    {
     "name": "stdout",
     "output_type": "stream",
     "text": [
      "Done!!\n",
      "--- 130.99301409721375 seconds ---\n"
     ]
    }
   ],
   "source": [
    "all_sentence_dic = {}\n",
    "def sentence_score(i):\n",
    "    ## ML studies\n",
    "    tempdict = {}\n",
    "    temptextlist = fulltextdic[i][\"origin\"].split(\". \")\n",
    "    for j in range(len(temptextlist)):\n",
    "        sentence_dic = {}\n",
    "        try:\n",
    "            sentence_dic.update(alldic[path + str(i) + '_' + str(j) + '.wav'])\n",
    "        except KeyError:\n",
    "            continue\n",
    "        sentence_dic[\"words\"] = lemming(nlp(temptextlist[j]))\n",
    "        sentence_dic[\"ref\"] = fulltextdic[i][\"sumtext\"]\n",
    "        sentence_dic[\"score\"] = calc_score(ref=sentence_dic[\"ref\"], comp=sentence_dic[\"words\"], debug=False)\n",
    "        if len(sentence_dic[\"words\"]) < 4: ## don't keep too short sentences\n",
    "            continue\n",
    "        tempdict[str(i) + '_' + str(j)] = sentence_dic\n",
    "    return tempdict\n",
    "    \n",
    "start_time = time.time()\n",
    "inputtasks = range(N)\n",
    "npool = min(len(inputtasks), mp.cpu_count()-2)\n",
    "print(\" Running %s jobs on %s cores\" % (len(inputtasks), mp.cpu_count()-2))\n",
    "pool  = mp.Pool(npool)\n",
    "\n",
    "for r in pool.map(sentence_score, inputtasks):\n",
    "    all_sentence_dic.update(r)\n",
    "\n",
    "print(\"Done!!\")\n",
    "print(\"--- %s seconds ---\" % (time.time() - start_time))"
   ]
  },
  {
   "cell_type": "code",
   "execution_count": 129,
   "metadata": {},
   "outputs": [],
   "source": [
    "df = pd.DataFrame(all_sentence_dic).transpose()\n",
    "df.to_csv(path + \"all_sentence_dic.csv\")"
   ]
  },
  {
   "cell_type": "code",
   "execution_count": 4,
   "metadata": {},
   "outputs": [],
   "source": [
    "df = pd.read_csv(path + \"all_sentence_dic.csv\", index_col=0)"
   ]
  },
  {
   "cell_type": "markdown",
   "metadata": {},
   "source": [
    "## Quick inspection"
   ]
  },
  {
   "cell_type": "code",
   "execution_count": 5,
   "metadata": {},
   "outputs": [
    {
     "data": {
      "text/html": [
       "<div>\n",
       "<style>\n",
       "    .dataframe thead tr:only-child th {\n",
       "        text-align: right;\n",
       "    }\n",
       "\n",
       "    .dataframe thead th {\n",
       "        text-align: left;\n",
       "    }\n",
       "\n",
       "    .dataframe tbody tr th {\n",
       "        vertical-align: top;\n",
       "    }\n",
       "</style>\n",
       "<table border=\"1\" class=\"dataframe\">\n",
       "  <thead>\n",
       "    <tr style=\"text-align: right;\">\n",
       "      <th></th>\n",
       "      <th>dBFS</th>\n",
       "      <th>duration</th>\n",
       "      <th>max</th>\n",
       "      <th>max_dBFS</th>\n",
       "      <th>ref</th>\n",
       "      <th>rms</th>\n",
       "      <th>score</th>\n",
       "      <th>words</th>\n",
       "    </tr>\n",
       "  </thead>\n",
       "  <tbody>\n",
       "    <tr>\n",
       "      <th>0_0</th>\n",
       "      <td>-20.274124</td>\n",
       "      <td>5.69</td>\n",
       "      <td>27872</td>\n",
       "      <td>-1.405636</td>\n",
       "      <td>['meet', 'kim', 'jong', 'president', 'trump', ...</td>\n",
       "      <td>3175</td>\n",
       "      <td>0.000000</td>\n",
       "      <td>['wish', 'congratulate', 'couple', 'friend', '...</td>\n",
       "    </tr>\n",
       "    <tr>\n",
       "      <th>0_1</th>\n",
       "      <td>-21.500263</td>\n",
       "      <td>2.10</td>\n",
       "      <td>24238</td>\n",
       "      <td>-2.619063</td>\n",
       "      <td>['meet', 'kim', 'jong', 'president', 'trump', ...</td>\n",
       "      <td>2757</td>\n",
       "      <td>0.000000</td>\n",
       "      <td>['michael', 'gordon', 'morning', 'like']</td>\n",
       "    </tr>\n",
       "    <tr>\n",
       "      <th>0_10</th>\n",
       "      <td>-19.173303</td>\n",
       "      <td>7.22</td>\n",
       "      <td>28798</td>\n",
       "      <td>-1.121752</td>\n",
       "      <td>['meet', 'kim', 'jong', 'president', 'trump', ...</td>\n",
       "      <td>3604</td>\n",
       "      <td>0.083333</td>\n",
       "      <td>['leader', 'large', 'western', 'economy', 'lon...</td>\n",
       "    </tr>\n",
       "    <tr>\n",
       "      <th>0_100</th>\n",
       "      <td>-28.725374</td>\n",
       "      <td>0.66</td>\n",
       "      <td>10706</td>\n",
       "      <td>-9.716454</td>\n",
       "      <td>['meet', 'kim', 'jong', 'president', 'trump', ...</td>\n",
       "      <td>1200</td>\n",
       "      <td>0.000000</td>\n",
       "      <td>['try', 'convince', 'maybe', 'change', 'method...</td>\n",
       "    </tr>\n",
       "    <tr>\n",
       "      <th>0_101</th>\n",
       "      <td>-24.867523</td>\n",
       "      <td>1.54</td>\n",
       "      <td>18831</td>\n",
       "      <td>-4.811531</td>\n",
       "      <td>['meet', 'kim', 'jong', 'president', 'trump', ...</td>\n",
       "      <td>1871</td>\n",
       "      <td>0.041667</td>\n",
       "      <td>['expectation', 'effect', 'good', 'doer', 'cas...</td>\n",
       "    </tr>\n",
       "  </tbody>\n",
       "</table>\n",
       "</div>"
      ],
      "text/plain": [
       "            dBFS  duration    max  max_dBFS  \\\n",
       "0_0   -20.274124      5.69  27872 -1.405636   \n",
       "0_1   -21.500263      2.10  24238 -2.619063   \n",
       "0_10  -19.173303      7.22  28798 -1.121752   \n",
       "0_100 -28.725374      0.66  10706 -9.716454   \n",
       "0_101 -24.867523      1.54  18831 -4.811531   \n",
       "\n",
       "                                                     ref   rms     score  \\\n",
       "0_0    ['meet', 'kim', 'jong', 'president', 'trump', ...  3175  0.000000   \n",
       "0_1    ['meet', 'kim', 'jong', 'president', 'trump', ...  2757  0.000000   \n",
       "0_10   ['meet', 'kim', 'jong', 'president', 'trump', ...  3604  0.083333   \n",
       "0_100  ['meet', 'kim', 'jong', 'president', 'trump', ...  1200  0.000000   \n",
       "0_101  ['meet', 'kim', 'jong', 'president', 'trump', ...  1871  0.041667   \n",
       "\n",
       "                                                   words  \n",
       "0_0    ['wish', 'congratulate', 'couple', 'friend', '...  \n",
       "0_1             ['michael', 'gordon', 'morning', 'like']  \n",
       "0_10   ['leader', 'large', 'western', 'economy', 'lon...  \n",
       "0_100  ['try', 'convince', 'maybe', 'change', 'method...  \n",
       "0_101  ['expectation', 'effect', 'good', 'doer', 'cas...  "
      ]
     },
     "execution_count": 5,
     "metadata": {},
     "output_type": "execute_result"
    }
   ],
   "source": [
    "df.head()"
   ]
  },
  {
   "cell_type": "code",
   "execution_count": 6,
   "metadata": {},
   "outputs": [],
   "source": [
    "df['length'] = df['words'].apply(len)"
   ]
  },
  {
   "cell_type": "code",
   "execution_count": 7,
   "metadata": {},
   "outputs": [],
   "source": [
    "df[\"dBFS\"] = df[\"dBFS\"].values.astype(float)\n",
    "df[\"max_dBFS\"] = df[\"max_dBFS\"].values.astype(float)\n",
    "df[\"duration\"] = df[\"duration\"].values.astype(float)\n",
    "df[\"length\"] = df[\"length\"].values.astype(int)\n",
    "df[\"score\"] = df[\"score\"].values.astype(float)\n",
    "df[\"wordduration\"] = df[\"duration\"]/(df[\"length\"] + 1)\n",
    "df[\"DeltadBFS\"] = -(df[\"max_dBFS\"] - df[\"dBFS\"])/df[\"dBFS\"]"
   ]
  },
  {
   "cell_type": "code",
   "execution_count": 8,
   "metadata": {},
   "outputs": [
    {
     "name": "stderr",
     "output_type": "stream",
     "text": [
      "100%|██████████| 304/304 [00:09<00:00, 31.22it/s]\n"
     ]
    }
   ],
   "source": [
    "df['rankmax'] = df['max_dBFS'].rank(ascending=1, pct=True)\n",
    "df['rankave'] = df['dBFS'].rank(ascending=1, pct=True)\n",
    "for i in tqdm(range(N)):\n",
    "    df_temp = df.loc[df.index.str.startswith(str(i) + \"_\")].copy()\n",
    "    df_temp['rankmax'] = df_temp['max_dBFS'].rank(ascending=1, pct=True)\n",
    "    df_temp['rankave'] = df_temp['dBFS'].rank(ascending=1, pct=True)\n",
    "    #print(df_temp.shape, max(df_temp['rankmax']))\n",
    "    df.loc[df.index.str.startswith(str(i) + \"_\")] = df_temp"
   ]
  },
  {
   "cell_type": "code",
   "execution_count": 78,
   "metadata": {},
   "outputs": [
    {
     "name": "stdout",
     "output_type": "stream",
     "text": [
      "highrank mean 0.037 err 0.000 lowrank 0.025 err 0.000\n"
     ]
    },
    {
     "data": {
      "image/png": "[encoded data removed]",
      "text/plain": [
       "<matplotlib.figure.Figure at 0x1a1ce356d8>"
      ]
     },
     "metadata": {},
     "output_type": "display_data"
    }
   ],
   "source": [
    "plt.clf()\n",
    "threshold_rankmax = 0.95\n",
    "threshold_deltadBFS = 0.78\n",
    "highrank = df[(df['DeltadBFS'] > threshold_deltadBFS)]['score'].values\n",
    "lowrank = df[(df['DeltadBFS'] < threshold_deltadBFS)]['score'].values\n",
    "#sns.distplot(highrank, label='highrank')\n",
    "#sns.distplot(lowrank, label='lowrank')\n",
    "plt.hist(highrank, bins=np.arange(0, 0.8, 0.02), alpha=0.5, label='high modulation', normed=True)\n",
    "plt.hist(lowrank, bins=np.arange(0, 0.8, 0.02), alpha=0.5, label='low modulation', normed=True)\n",
    "print(\"highrank mean %.3f err %.3f\" % (np.mean(highrank), np.std(highrank)/np.sqrt(len(highrank))), \"lowrank %.3f err %.3f\" % (np.mean(lowrank), np.std(lowrank)/np.sqrt(len(highrank))))\n",
    "plt.yscale('log', nonposy='clip')\n",
    "plt.xlabel('Matching score')\n",
    "plt.ylabel('Normalized')\n",
    "plt.legend()\n",
    "plt.savefig(\"Plot/\" + path.split(\"/\")[1] + \"_modulation.pdf\")\n",
    "plt.show()"
   ]
  },
  {
   "cell_type": "code",
   "execution_count": 79,
   "metadata": {},
   "outputs": [
    {
     "name": "stdout",
     "output_type": "stream",
     "text": [
      "highrank mean 0.052 err 0.003 lowrank 0.035 err 0.002\n"
     ]
    },
    {
     "data": {
      "image/png": "[encoded data removed]",
      "text/plain": [
       "<matplotlib.figure.Figure at 0x1a1acab710>"
      ]
     },
     "metadata": {},
     "output_type": "display_data"
    }
   ],
   "source": [
    "plt.clf()\n",
    "threshold_rankmax = 0.98\n",
    "threshold_deltadBFS = 0.9\n",
    "highrank = df[(df['rankmax'] > threshold_rankmax)]['score'].values\n",
    "lowrank = df[(df['rankmax'] < threshold_rankmax)]['score'].values\n",
    "#sns.distplot(highrank, label='highrank')\n",
    "#sns.distplot(lowrank, label='lowrank')\n",
    "plt.hist(highrank, bins=np.arange(0, 0.8, 0.02), alpha=0.5, label='high volume', normed=True)\n",
    "plt.hist(lowrank, bins=np.arange(0, 0.8, 0.02), alpha=0.5, label='low volume', normed=True)\n",
    "print(\"highrank mean %.3f err %.3f\" % (np.mean(highrank), np.std(highrank)/np.sqrt(len(highrank))), \"lowrank %.3f err %.3f\" % (np.mean(lowrank), np.std(lowrank)/np.sqrt(len(highrank))))\n",
    "plt.yscale('log', nonposy='clip')\n",
    "plt.xlabel('Matching score')\n",
    "plt.ylabel('Normalized')\n",
    "plt.legend()\n",
    "plt.savefig(\"Plot/\" + path.split(\"/\")[1] + \"_volume.pdf\")\n",
    "plt.show()"
   ]
  },
  {
   "cell_type": "code",
   "execution_count": 76,
   "metadata": {},
   "outputs": [
    {
     "name": "stdout",
     "output_type": "stream",
     "text": [
      "highrank mean 0.037 err 0.000 lowrank 0.025 err 0.000\n"
     ]
    },
    {
     "data": {
      "image/png": "[encoded data removed]",
      "text/plain": [
       "<matplotlib.figure.Figure at 0x1a1ab27b70>"
      ]
     },
     "metadata": {},
     "output_type": "display_data"
    }
   ],
   "source": [
    "plt.clf()\n",
    "threshold_rankmax = 0.98\n",
    "threshold_deltadBFS = 0.78\n",
    "highrank = df[((df['DeltadBFS'] > threshold_deltadBFS) |  (df['rankmax'] > threshold_rankmax))]['score'].values\n",
    "lowrank = df[((df['DeltadBFS'] < threshold_deltadBFS) &  (df['rankmax'] < threshold_rankmax) )]['score'].values\n",
    "#sns.distplot(highrank, label='highrank')\n",
    "#sns.distplot(lowrank, label='lowrank')\n",
    "plt.hist(highrank, bins=np.arange(0, 0.8, 0.02), alpha=0.5, label='highrank', normed=True)\n",
    "plt.hist(lowrank, bins=np.arange(0, 0.8, 0.02), alpha=0.5, label='lowrank', normed=True)\n",
    "print(\"highrank mean %.3f err %.3f\" % (np.mean(highrank), np.std(highrank)/np.sqrt(len(highrank))), \"lowrank %.3f err %.3f\" % (np.mean(lowrank), np.std(lowrank)/np.sqrt(len(highrank))))\n",
    "plt.yscale('log', nonposy='clip')\n",
    "plt.legend()\n",
    "plt.show()"
   ]
  },
  {
   "cell_type": "markdown",
   "metadata": {},
   "source": [
    "## There are some saparation from volume modulation and sound modulation but not great\n",
    "## Will give up and save this as something to do for the future"
   ]
  },
  {
   "cell_type": "code",
   "execution_count": 34,
   "metadata": {},
   "outputs": [
    {
     "data": {
      "text/plain": [
       "0.09374857017358763"
      ]
     },
     "execution_count": 34,
     "metadata": {},
     "output_type": "execute_result"
    }
   ],
   "source": [
    "np.mean(df[(df['score'] > 0.001) & (df['rankmax'] > 0.9)]['score'])"
   ]
  },
  {
   "cell_type": "code",
   "execution_count": 35,
   "metadata": {},
   "outputs": [
    {
     "data": {
      "text/html": [
       "<div>\n",
       "<style>\n",
       "    .dataframe thead tr:only-child th {\n",
       "        text-align: right;\n",
       "    }\n",
       "\n",
       "    .dataframe thead th {\n",
       "        text-align: left;\n",
       "    }\n",
       "\n",
       "    .dataframe tbody tr th {\n",
       "        vertical-align: top;\n",
       "    }\n",
       "</style>\n",
       "<table border=\"1\" class=\"dataframe\">\n",
       "  <thead>\n",
       "    <tr style=\"text-align: right;\">\n",
       "      <th></th>\n",
       "      <th>dBFS</th>\n",
       "      <th>duration</th>\n",
       "      <th>max</th>\n",
       "      <th>max_dBFS</th>\n",
       "      <th>ref</th>\n",
       "      <th>rms</th>\n",
       "      <th>score</th>\n",
       "      <th>words</th>\n",
       "      <th>length</th>\n",
       "      <th>wordduration</th>\n",
       "      <th>DeltadBFS</th>\n",
       "      <th>rankmax</th>\n",
       "      <th>rankave</th>\n",
       "    </tr>\n",
       "  </thead>\n",
       "  <tbody>\n",
       "    <tr>\n",
       "      <th>0_0</th>\n",
       "      <td>-20.274124</td>\n",
       "      <td>5.69</td>\n",
       "      <td>27872</td>\n",
       "      <td>-1.405636</td>\n",
       "      <td>['meet', 'kim', 'jong', 'president', 'trump', ...</td>\n",
       "      <td>3175</td>\n",
       "      <td>0.000000</td>\n",
       "      <td>['wish', 'congratulate', 'couple', 'friend', '...</td>\n",
       "      <td>94</td>\n",
       "      <td>0.059895</td>\n",
       "      <td>0.930668</td>\n",
       "      <td>0.688889</td>\n",
       "      <td>0.744444</td>\n",
       "    </tr>\n",
       "    <tr>\n",
       "      <th>0_1</th>\n",
       "      <td>-21.500263</td>\n",
       "      <td>2.10</td>\n",
       "      <td>24238</td>\n",
       "      <td>-2.619063</td>\n",
       "      <td>['meet', 'kim', 'jong', 'president', 'trump', ...</td>\n",
       "      <td>2757</td>\n",
       "      <td>0.000000</td>\n",
       "      <td>['michael', 'gordon', 'morning', 'like']</td>\n",
       "      <td>40</td>\n",
       "      <td>0.051220</td>\n",
       "      <td>0.878185</td>\n",
       "      <td>0.522222</td>\n",
       "      <td>0.383333</td>\n",
       "    </tr>\n",
       "    <tr>\n",
       "      <th>0_10</th>\n",
       "      <td>-19.173303</td>\n",
       "      <td>7.22</td>\n",
       "      <td>28798</td>\n",
       "      <td>-1.121752</td>\n",
       "      <td>['meet', 'kim', 'jong', 'president', 'trump', ...</td>\n",
       "      <td>3604</td>\n",
       "      <td>0.083333</td>\n",
       "      <td>['leader', 'large', 'western', 'economy', 'lon...</td>\n",
       "      <td>101</td>\n",
       "      <td>0.070784</td>\n",
       "      <td>0.941494</td>\n",
       "      <td>0.944444</td>\n",
       "      <td>0.922222</td>\n",
       "    </tr>\n",
       "    <tr>\n",
       "      <th>0_100</th>\n",
       "      <td>-28.725374</td>\n",
       "      <td>0.66</td>\n",
       "      <td>10706</td>\n",
       "      <td>-9.716454</td>\n",
       "      <td>['meet', 'kim', 'jong', 'president', 'trump', ...</td>\n",
       "      <td>1200</td>\n",
       "      <td>0.000000</td>\n",
       "      <td>['try', 'convince', 'maybe', 'change', 'method...</td>\n",
       "      <td>129</td>\n",
       "      <td>0.005077</td>\n",
       "      <td>0.661747</td>\n",
       "      <td>0.044444</td>\n",
       "      <td>0.044444</td>\n",
       "    </tr>\n",
       "    <tr>\n",
       "      <th>0_101</th>\n",
       "      <td>-24.867523</td>\n",
       "      <td>1.54</td>\n",
       "      <td>18831</td>\n",
       "      <td>-4.811531</td>\n",
       "      <td>['meet', 'kim', 'jong', 'president', 'trump', ...</td>\n",
       "      <td>1871</td>\n",
       "      <td>0.041667</td>\n",
       "      <td>['expectation', 'effect', 'good', 'doer', 'cas...</td>\n",
       "      <td>106</td>\n",
       "      <td>0.014393</td>\n",
       "      <td>0.806513</td>\n",
       "      <td>0.222222</td>\n",
       "      <td>0.111111</td>\n",
       "    </tr>\n",
       "  </tbody>\n",
       "</table>\n",
       "</div>"
      ],
      "text/plain": [
       "            dBFS  duration    max  max_dBFS  \\\n",
       "0_0   -20.274124      5.69  27872 -1.405636   \n",
       "0_1   -21.500263      2.10  24238 -2.619063   \n",
       "0_10  -19.173303      7.22  28798 -1.121752   \n",
       "0_100 -28.725374      0.66  10706 -9.716454   \n",
       "0_101 -24.867523      1.54  18831 -4.811531   \n",
       "\n",
       "                                                     ref   rms     score  \\\n",
       "0_0    ['meet', 'kim', 'jong', 'president', 'trump', ...  3175  0.000000   \n",
       "0_1    ['meet', 'kim', 'jong', 'president', 'trump', ...  2757  0.000000   \n",
       "0_10   ['meet', 'kim', 'jong', 'president', 'trump', ...  3604  0.083333   \n",
       "0_100  ['meet', 'kim', 'jong', 'president', 'trump', ...  1200  0.000000   \n",
       "0_101  ['meet', 'kim', 'jong', 'president', 'trump', ...  1871  0.041667   \n",
       "\n",
       "                                                   words  length  \\\n",
       "0_0    ['wish', 'congratulate', 'couple', 'friend', '...      94   \n",
       "0_1             ['michael', 'gordon', 'morning', 'like']      40   \n",
       "0_10   ['leader', 'large', 'western', 'economy', 'lon...     101   \n",
       "0_100  ['try', 'convince', 'maybe', 'change', 'method...     129   \n",
       "0_101  ['expectation', 'effect', 'good', 'doer', 'cas...     106   \n",
       "\n",
       "       wordduration  DeltadBFS   rankmax   rankave  \n",
       "0_0        0.059895   0.930668  0.688889  0.744444  \n",
       "0_1        0.051220   0.878185  0.522222  0.383333  \n",
       "0_10       0.070784   0.941494  0.944444  0.922222  \n",
       "0_100      0.005077   0.661747  0.044444  0.044444  \n",
       "0_101      0.014393   0.806513  0.222222  0.111111  "
      ]
     },
     "execution_count": 35,
     "metadata": {},
     "output_type": "execute_result"
    }
   ],
   "source": [
    "df.head()"
   ]
  },
  {
   "cell_type": "code",
   "execution_count": 36,
   "metadata": {},
   "outputs": [
    {
     "name": "stderr",
     "output_type": "stream",
     "text": [
      "/Users/renormalization/anaconda/lib/python3.6/site-packages/statsmodels/nonparametric/kde.py:475: DeprecationWarning: object of type <class 'numpy.float64'> cannot be safely interpreted as an integer.\n",
      "  grid,delta = np.linspace(a,b,gridsize,retstep=True)\n",
      "/Users/renormalization/anaconda/lib/python3.6/site-packages/statsmodels/nonparametric/kde.py:475: DeprecationWarning: object of type <class 'numpy.float64'> cannot be safely interpreted as an integer.\n",
      "  grid,delta = np.linspace(a,b,gridsize,retstep=True)\n"
     ]
    },
    {
     "data": {
      "text/plain": [
       "<seaborn.axisgrid.JointGrid at 0x10256a470>"
      ]
     },
     "execution_count": 36,
     "metadata": {},
     "output_type": "execute_result"
    },
    {
     "data": {
      "image/png": "[encoded data removed]",
      "text/plain": [
       "<matplotlib.figure.Figure at 0x10256a400>"
      ]
     },
     "metadata": {},
     "output_type": "display_data"
    }
   ],
   "source": [
    "sns.jointplot(x=\"rankmax\", y=\"score\", data=df[df['score'] > 0.05], kind=\"kde\")"
   ]
  },
  {
   "cell_type": "code",
   "execution_count": 37,
   "metadata": {},
   "outputs": [],
   "source": [
    "from sklearn import linear_model\n",
    "from sklearn.model_selection import cross_val_predict\n",
    "from sklearn.metrics import mean_squared_error, r2_score\n",
    "from sklearn.model_selection import train_test_split\n",
    "from sklearn import neighbors\n",
    "from sklearn.ensemble import RandomForestRegressor"
   ]
  },
  {
   "cell_type": "code",
   "execution_count": 38,
   "metadata": {},
   "outputs": [
    {
     "data": {
      "text/plain": [
       "(16178, 5)"
      ]
     },
     "execution_count": 38,
     "metadata": {},
     "output_type": "execute_result"
    }
   ],
   "source": [
    "X = df[(df[\"duration\"] > 1) & (df[\"length\"] > 3)][[\"DeltadBFS\", \"duration\", \"wordduration\", \"rankmax\", \"rankave\"]]\n",
    "y = df[(df[\"duration\"] > 1) & (df[\"length\"] > 3)][[\"score\"]]\n",
    "#y = np.log(y / (1 - y))\n",
    "X_train, X_test, y_train, y_test = train_test_split(X, y, test_size=0.2, random_state=42)\n",
    "X_train, X_val, y_train, y_val = train_test_split(X_train, y_train, test_size=0.2, random_state=42)\n",
    "X_train.shape"
   ]
  },
  {
   "cell_type": "code",
   "execution_count": 39,
   "metadata": {},
   "outputs": [
    {
     "data": {
      "text/plain": [
       "array([[-0.01133544,  0.00422445, -0.27943897,  0.00266556,  0.00701982]])"
      ]
     },
     "execution_count": 39,
     "metadata": {},
     "output_type": "execute_result"
    }
   ],
   "source": [
    "lr = linear_model.LinearRegression()\n",
    "lr.fit(X_train, y_train)\n",
    "lr.coef_"
   ]
  },
  {
   "cell_type": "code",
   "execution_count": 40,
   "metadata": {},
   "outputs": [
    {
     "name": "stdout",
     "output_type": "stream",
     "text": [
      "Coefficients: \n",
      " [[-0.01133544  0.00422445 -0.27943897  0.00266556  0.00701982]]\n",
      "Mean squared error: 0.00327\n",
      "Variance score: 0.14\n"
     ]
    }
   ],
   "source": [
    "# Make predictions using the testing set\n",
    "y_pred = lr.predict(X_val)\n",
    "\n",
    "# The coefficients\n",
    "print('Coefficients: \\n', lr.coef_)\n",
    "# The mean squared error\n",
    "print(\"Mean squared error: %.5f\" % mean_squared_error(y_val, y_pred))\n",
    "# Explained variance score: 1 is perfect prediction\n",
    "print('Variance score: %.2f' % r2_score(y_val, y_pred))"
   ]
  },
  {
   "cell_type": "code",
   "execution_count": 41,
   "metadata": {},
   "outputs": [
    {
     "name": "stdout",
     "output_type": "stream",
     "text": [
      "Mean squared error: 0.00338\n",
      "Variance score: 0.11\n"
     ]
    }
   ],
   "source": [
    "# #############################################################################\n",
    "# Fit regression model\n",
    "n_neighbors = 50\n",
    "\n",
    "knn = neighbors.KNeighborsRegressor(n_neighbors)\n",
    "yknn = knn.fit(X_train, y_train).predict(X_val)\n",
    "\n",
    "print(\"Mean squared error: %.5f\"\n",
    "      % mean_squared_error(y_val, yknn))\n",
    "# Explained variance score: 1 is perfect prediction\n",
    "print('Variance score: %.2f' % r2_score(y_val, yknn))"
   ]
  },
  {
   "cell_type": "code",
   "execution_count": 42,
   "metadata": {},
   "outputs": [
    {
     "name": "stderr",
     "output_type": "stream",
     "text": [
      "/Users/renormalization/anaconda/lib/python3.6/site-packages/ipykernel_launcher.py:2: DataConversionWarning: A column-vector y was passed when a 1d array was expected. Please change the shape of y to (n_samples,), for example using ravel().\n",
      "  \n"
     ]
    },
    {
     "name": "stdout",
     "output_type": "stream",
     "text": [
      "Mean squared error: 0.00317\n",
      "Variance score: 0.17\n"
     ]
    }
   ],
   "source": [
    "RF = RandomForestRegressor(n_estimators=50, max_depth=5, random_state=0)\n",
    "yRF = RF.fit(X_train, y_train).predict(X_val)\n",
    "print(\"Mean squared error: %.5f\"\n",
    "      % mean_squared_error(y_val, yRF))\n",
    "# Explained variance score: 1 is perfect prediction\n",
    "print('Variance score: %.2f' % r2_score(y_val, yRF))"
   ]
  },
  {
   "cell_type": "code",
   "execution_count": 43,
   "metadata": {},
   "outputs": [
    {
     "data": {
      "image/png": "[encoded data removed]",
      "text/plain": [
       "<matplotlib.figure.Figure at 0x1a1a84de48>"
      ]
     },
     "metadata": {},
     "output_type": "display_data"
    }
   ],
   "source": [
    "plt.clf()\n",
    "plt.scatter(y_val[:50], yRF[:50])\n",
    "plt.show()"
   ]
  },
  {
   "cell_type": "code",
   "execution_count": null,
   "metadata": {},
   "outputs": [],
   "source": []
  }
 ],
 "metadata": {
  "kernelspec": {
   "display_name": "Python 3",
   "language": "python",
   "name": "python3"
  },
  "language_info": {
   "codemirror_mode": {
    "name": "ipython",
    "version": 3
   },
   "file_extension": ".py",
   "mimetype": "text/x-python",
   "name": "python",
   "nbconvert_exporter": "python",
   "pygments_lexer": "ipython3",
   "version": "3.6.1"
  }
 },
 "nbformat": 4,
 "nbformat_minor": 2
}
