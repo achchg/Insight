{
 "cells": [
  {
   "cell_type": "markdown",
   "metadata": {},
   "source": [
    "# Creating first MVP product; on Jun 7 2018"
   ]
  },
  {
   "cell_type": "markdown",
   "metadata": {},
   "source": [
    "## Install Libraries"
   ]
  },
  {
   "cell_type": "markdown",
   "metadata": {},
   "source": [
    "#### Python library resource: https://awesome-python.com/\n",
    "\n",
    "Installations for extra packages: \n",
    "- !pip install SpeechRecognition\n",
    "- !pip install PocketSphinx\n",
    "- !brew install portaudio\n",
    "- !pip install pyaudio\n",
    "- !pip install sumy\n",
    "- !pip install --upgrade google-api-python-client\n",
    "- !pip install --upgrade google-cloud-speech\n",
    "- !pip install oauth2client\n",
    "- !pip install pyAudioAnalysis ; 2to3 -w *.py; fixes"
   ]
  },
  {
   "cell_type": "markdown",
   "metadata": {},
   "source": [
    "## Data Sources:\n",
    "\n",
    "- __[NYT daily from podbay](http://podbay.fm/show/1200361736/e/1527587699?autostart=1)__; \n",
    "- NYT daily: https://itunes.apple.com/us/podcast/the-daily/id1200361736?mt=2&ign-mpt=uo%3D4\n",
    "- Open Audio Source: http://www.openslr.org/resources.php\n",
    "- Economist: https://www.economist.com/audio-edition/2018-06-02\n",
    "- Economist text: https://xmuplus.github.io/\n",
    "- NPR: https://www.npr.org/programs/morning-edition/\n",
    "- NPR sunday: https://www.npr.org/programs/weekend-edition-sunday/\n",
    "- Ted talk: https://itunes.apple.com/us/podcast/ted-talks-daily/id160904630?mt=2\n",
    "- Public meeting: http://www.sbccd.org/Board_of_Trustees/Agendas_and_Minutes\n",
    "- NPR upfirst: https://www.npr.org/podcasts/510318/up-first\n",
    "- Congress: https://www.loc.gov/item/sn88063877/"
   ]
  },
  {
   "cell_type": "markdown",
   "metadata": {},
   "source": [
    "## Speech Recognition\n",
    "\n",
    "- Real python: https://realpython.com/python-speech-recognition/#working-with-audio-files\n",
    "- Speech Recognition: https://github.com/Uberi/speech_recognition#readme\n",
    "- Speech Recognition: https://pypi.org/project/SpeechRecognition/3.2.0/\n",
    "- Pocket Sphinx: https://pypi.org/project/pocketsphinx/\n",
    "- Pydub: https://github.com/jiaaro/pydub/blob/master/API.markdown\n",
    "- Audio processing in python: http://myinspirationinformation.com/uncategorized/audio-signals-in-python/\n",
    "- Speaker Recognition: https://github.com/orchidas/Speaker-Recognition\n",
    "- Audio training analysis: https://github.com/tyiannak/pyAudioAnalysis"
   ]
  },
  {
   "cell_type": "markdown",
   "metadata": {},
   "source": [
    "## Natural Language Processing\n",
    "\n",
    "- Insight: https://blog.insightdatascience.com/how-to-solve-90-of-nlp-problems-a-step-by-step-guide-fda605278e4e\n",
    "- Insight ipynb: https://github.com/hundredblocks/concrete_NLP_tutorial/blob/master/NLP_notebook.ipynb\n",
    "- Intro/resource: https://github.com/icoxfog417/awesome-text-summarization\n",
    "- Summy: https://github.com/miso-belica/sumy\n",
    "- NewsHighlights: https://cs.nyu.edu/~kcho/DMQA/\n",
    "- Q&AAnswer: https://rajpurkar.github.io/SQuAD-explorer/"
   ]
  },
  {
   "cell_type": "markdown",
   "metadata": {},
   "source": [
    "## Web App\n",
    "\n",
    "* Dash audio? https://community.plot.ly/t/audio-recording-feature-in-dash-app/7837\n",
    "* Flask audio: https://henri.io/posts/streaming-microphone-input-with-flask.html\n",
    "* Flask example: https://realpython.com/flask-by-example-part-1-project-setup/\n"
   ]
  },
  {
   "cell_type": "markdown",
   "metadata": {},
   "source": [
    "## Compeditors\n",
    "\n",
    "* wrap-up: http://www.wrappup.co/faq/\n",
    "* trint: https://trint.com/"
   ]
  },
  {
   "cell_type": "markdown",
   "metadata": {},
   "source": [
    "\n",
    "***\n",
    "### Import basic libraries\n",
    "***\n"
   ]
  },
  {
   "cell_type": "code",
   "execution_count": 1,
   "metadata": {},
   "outputs": [
    {
     "name": "stderr",
     "output_type": "stream",
     "text": [
      "/Users/renormalization/anaconda/lib/python3.6/site-packages/pydub/utils.py:187: RuntimeWarning: Couldn't find ffplay or avplay - defaulting to ffplay, but may not work\n",
      "  warn(\"Couldn't find ffplay or avplay - defaulting to ffplay, but may not work\", RuntimeWarning)\n"
     ]
    }
   ],
   "source": [
    "## for speech to text\n",
    "import speech_recognition as sr\n",
    "\n",
    "\n",
    "## for audio processing and analytical study\n",
    "from pydub import AudioSegment ##for audio spliting\n",
    "from pydub.silence import split_on_silence\n",
    "from pydub.playback import play\n",
    "\n",
    "## for audio collection\n",
    "import pyaudio\n",
    "import wave\n",
    "\n",
    "## for text recognition\n",
    "import nltk\n",
    "import string\n",
    "import json\n",
    "\n",
    "## for general studies\n",
    "from os import listdir\n",
    "from os.path import isfile, join\n",
    "import glob\n",
    "from numpy import fft as fft\n",
    "import matplotlib.pyplot as plt\n",
    "import numpy as np\n",
    "import sys\n",
    "import seaborn as sns\n",
    "sns.set_style(\"white\")\n",
    "from tqdm import tqdm\n",
    "import time as time\n",
    "import multiprocessing as mp\n",
    "\n",
    "## My codes\n",
    "from src.utils import wer\n",
    "from src.utils import SoundToText\n",
    "from src.utils import PrepareSound\n",
    "\n",
    "## settings\n",
    "%matplotlib inline\n",
    "\n",
    "# Some more magic so that the notebook will reload external python modules;\n",
    "# see http://stackoverflow.com/questions/1907993/autoreload-of-modules-in-ipython\n",
    "%load_ext autoreload\n",
    "%autoreload 2"
   ]
  },
  {
   "cell_type": "code",
   "execution_count": 2,
   "metadata": {},
   "outputs": [],
   "source": [
    "## Intitialize a recognizer\n",
    "r_live = sr.Recognizer()\n",
    "r_rec  = sr.Recognizer()"
   ]
  },
  {
   "cell_type": "markdown",
   "metadata": {},
   "source": [
    "\n",
    "***\n",
    "### Study WAV sound files; small forier analysis\n",
    "***\n"
   ]
  },
  {
   "cell_type": "code",
   "execution_count": 3,
   "metadata": {},
   "outputs": [
    {
     "name": "stdout",
     "output_type": "stream",
     "text": [
      "Data/NCE/2/1.wav    Data/NCE/2/1_0.wav  Data/NCE/2/1_19.wav Data/NCE/2/1_7.wav\r\n",
      "Data/NCE/2/10.wav   Data/NCE/2/1_1.wav  Data/NCE/2/1_2.wav  Data/NCE/2/1_8.wav\r\n",
      "Data/NCE/2/11.wav   Data/NCE/2/1_10.wav Data/NCE/2/1_20.wav Data/NCE/2/1_9.wav\r\n",
      "Data/NCE/2/12.wav   Data/NCE/2/1_11.wav Data/NCE/2/1_21.wav Data/NCE/2/21.wav\r\n",
      "Data/NCE/2/13.wav   Data/NCE/2/1_12.wav Data/NCE/2/1_22.wav Data/NCE/2/31.wav\r\n",
      "Data/NCE/2/14.wav   Data/NCE/2/1_13.wav Data/NCE/2/1_23.wav Data/NCE/2/41.wav\r\n",
      "Data/NCE/2/15.wav   Data/NCE/2/1_14.wav Data/NCE/2/1_24.wav Data/NCE/2/51.wav\r\n",
      "Data/NCE/2/16.wav   Data/NCE/2/1_15.wav Data/NCE/2/1_3.wav  Data/NCE/2/61.wav\r\n",
      "Data/NCE/2/17.wav   Data/NCE/2/1_16.wav Data/NCE/2/1_4.wav  Data/NCE/2/71.wav\r\n",
      "Data/NCE/2/18.wav   Data/NCE/2/1_17.wav Data/NCE/2/1_5.wav  Data/NCE/2/81.wav\r\n",
      "Data/NCE/2/19.wav   Data/NCE/2/1_18.wav Data/NCE/2/1_6.wav  Data/NCE/2/91.wav\r\n"
     ]
    }
   ],
   "source": [
    "!ls Data/NCE/2/*1*.wav"
   ]
  },
  {
   "cell_type": "code",
   "execution_count": 4,
   "metadata": {},
   "outputs": [],
   "source": [
    "# The wav file path\n",
    "f_wav = 'Data/NCE/2/1.wav'"
   ]
  },
  {
   "cell_type": "code",
   "execution_count": 5,
   "metadata": {},
   "outputs": [
    {
     "name": "stdout",
     "output_type": "stream",
     "text": [
      "78.3934693877551\n",
      "DBFS -21.91979724347295 Max DBFS -1.1749991515185085\n",
      "RMS 2627\n",
      "Frame rate 44100\n"
     ]
    }
   ],
   "source": [
    "## Get the length of audio file\n",
    "sound = AudioSegment.from_file(f_wav)\n",
    "print(sound.duration_seconds)\n",
    "print(\"DBFS\", sound.dBFS, \"Max DBFS\", sound.max_dBFS)\n",
    "print(\"RMS\", sound.rms)\n",
    "print(\"Frame rate\", sound.frame_rate)"
   ]
  },
  {
   "cell_type": "code",
   "execution_count": 38,
   "metadata": {},
   "outputs": [
    {
     "data": {
      "text/plain": [
       "<matplotlib.figure.Figure at 0x1a24c02048>"
      ]
     },
     "metadata": {},
     "output_type": "display_data"
    },
    {
     "data": {
      "image/png": "[encoded data removed]",
      "text/plain": [
       "<matplotlib.figure.Figure at 0x1a24c020f0>"
      ]
     },
     "metadata": {},
     "output_type": "display_data"
    }
   ],
   "source": [
    "## Get the raw sound data as array\n",
    "r_np = sound.get_array_of_samples()\n",
    "sns.set_style(\"white\")\n",
    "##inspect time vs Amplitude\n",
    "plt.clf()\n",
    "plt.figure(figsize=(12, 8))\n",
    "plt.title(f_wav)\n",
    "plt.plot(np.linspace(0, len(r_np)/sound.frame_rate, len(r_np)), r_np, linewidth=0.3, alpha=0.8)\n",
    "#plt.xlim(1.5, 15)\n",
    "plt.xlim(1.5, 5)\n",
    "#plt.xlim(5, 9.5)\n",
    "#plt.xlim(9.5, 15)\n",
    "plt.xlabel('Time')\n",
    "plt.ylabel('Amplitude')\n",
    "plt.show()"
   ]
  },
  {
   "cell_type": "code",
   "execution_count": 7,
   "metadata": {},
   "outputs": [
    {
     "data": {
      "image/png": "[encoded data removed]",
      "text/plain": [
       "<matplotlib.figure.Figure at 0x1a249bed30>"
      ]
     },
     "metadata": {},
     "output_type": "display_data"
    }
   ],
   "source": [
    "## Frequency analysis, if needed\n",
    "fourier=fft.fft(r_np)\n",
    "plt.clf()\n",
    "# plt.subplot(1, 2, 1)\n",
    "# plt.plot(fourier, color='#ff7f00')\n",
    "# plt.xlabel('Frequency')\n",
    "# plt.ylabel('Amplitude')\n",
    "# plt.title(f_wav)\n",
    "\n",
    "n = len(r_np)\n",
    "fourier = fourier[0:int(n/2)]\n",
    "\n",
    "# scale by the number of points so that the magnitude does not depend on the length\n",
    "fourier = fourier / float(n)\n",
    "fourier = abs(fourier)\n",
    "fourier = fourier ** 2\n",
    "\n",
    "# rebase 0 as the minimal voice\n",
    "vol =  10*np.log10(fourier) - 10*np.log10(min(fourier))\n",
    "\n",
    "#calculate the frequency at each point in Hz\n",
    "freqArray = np.arange(0, (n/2), 1.0) * (sound.frame_rate*1.0/n);\n",
    "\n",
    "# plt.subplot(1, 2, 2)\n",
    "plt.plot(freqArray/1000, vol, color='#ff7f00', linewidth=0.02)\n",
    "plt.xlabel('Frequency (kHz)')\n",
    "plt.ylabel('Power (dB)')\n",
    "plt.title(f_wav)\n",
    "plt.show()"
   ]
  },
  {
   "cell_type": "markdown",
   "metadata": {},
   "source": [
    "\n",
    "***\n",
    "### Sound file decomposition; split to smaller parts or based on silence\n",
    "***"
   ]
  },
  {
   "cell_type": "code",
   "execution_count": 8,
   "metadata": {},
   "outputs": [
    {
     "name": "stdout",
     "output_type": "stream",
     "text": [
      "1.3065578231292518\n",
      "--- 0.012733936309814453 seconds ---\n",
      "\u001b[1m\u001b[36mData\u001b[m\u001b[m                    MvpRecordingJun8.ipynb  all_trans.txt\r\n",
      "DownloadNPR.ipynb       NlpStudies.ipynb        chunk_s0.wav\r\n",
      "DownloadNPRconv.ipynb   \u001b[1m\u001b[36mPlot\u001b[m\u001b[m                    chunk_s1.wav\r\n",
      "DownloadNPRstory.ipynb  README.md               chunk_s2.wav\r\n",
      "MVP.ipynb               SphinxPerformance.ipynb \u001b[1m\u001b[31mrun.py\u001b[m\u001b[m\r\n",
      "MvpJun15.ipynb          SummaryLDA.ipynb        \u001b[1m\u001b[36msrc\u001b[m\u001b[m\r\n",
      "MvpJun7.ipynb           SummaryStudies.ipynb    \u001b[1m\u001b[36mwebsite\u001b[m\u001b[m\r\n",
      "MvpProcessingJun8.ipynb all_sum.txt\r\n"
     ]
    }
   ],
   "source": [
    "## split sound in 10-second slices and export\n",
    "start_time = time.time()\n",
    "sound_file = AudioSegment.from_wav(f_wav)\n",
    "print(sound_file.duration_seconds/60)\n",
    "for i, chunk in enumerate(sound_file[::30 * 1000]):\n",
    "  with open(\"chunk_s\" + str(i) + \".wav\", \"wb\") as f:\n",
    "    chunk.export(f, format=\"wav\")\n",
    "\n",
    "print(\"--- %s seconds ---\" % (time.time() - start_time))\n",
    "!ls"
   ]
  },
  {
   "cell_type": "code",
   "execution_count": 9,
   "metadata": {},
   "outputs": [
    {
     "name": "stdout",
     "output_type": "stream",
     "text": [
      "DURATION 78.3934693877551\n",
      "DBFS -21.91979724347295 Max DBFS -1.1749991515185085\n",
      "RMS 2627 7.87359778969\n",
      "Frame rate 44100\n"
     ]
    }
   ],
   "source": [
    "#sound_file = AudioSegment.from_wav(f_wav)\n",
    "print(\"DURATION\", sound_file.duration_seconds)\n",
    "print(\"DBFS\", sound_file.dBFS, \"Max DBFS\", sound_file.max_dBFS)\n",
    "print(\"RMS\", sound_file.rms, np.log(sound_file.rms))\n",
    "print(\"Frame rate\", sound_file.frame_rate)"
   ]
  },
  {
   "cell_type": "code",
   "execution_count": 10,
   "metadata": {},
   "outputs": [],
   "source": [
    "# #f_wav = \"Data/Live/output_8.wav\"\n",
    "# #f_wav = 'Data/NCE/2/1.wav'\n",
    "# f_wav = 'Data/NPR_story/1.mp3'\n",
    "\n",
    "# # silence split, if necessary\n",
    "# start_time = time.time()\n",
    "# #sound_file = AudioSegment.from_wav(f_wav)\n",
    "# sound_file = AudioSegment.from_mp3(f_wav)\n",
    "# audio_chunks = split_on_silence(sound_file, \n",
    "#     # must be silent for at least half a second; in ms\n",
    "#     min_silence_len=500,\n",
    "#     # keep a part of silence so there is no cutoff ; in ms                           \n",
    "#     keep_silence=250,\n",
    "#     # consider it silent; roughly this is 10dB, intensity 1/10 of the ave\n",
    "#     silence_thresh= (sound_file.dBFS * 1.5 - sound_file.max_dBFS/2))\n",
    "\n",
    "# print(len(audio_chunks))\n",
    "# ## split into chunks\n",
    "# for i, chunk in enumerate(audio_chunks):\n",
    "#     out_file = \"chunk_s{0}.wav\".format(i)\n",
    "#     #print(\"exporting\", out_file, chunk.dBFS, chunk.max_dBFS, chunk.duration_seconds, chunk.rms)\n",
    "#     chunk.export(out_file, format=\"wav\")\n",
    "\n",
    "# print(\"--- %s seconds ---\" % (time.time() - start_time))\n",
    "# #!ls"
   ]
  },
  {
   "cell_type": "code",
   "execution_count": 11,
   "metadata": {},
   "outputs": [],
   "source": [
    "# print(len(audio_chunks))\n",
    "# fulldbfs = []\n",
    "# fullmaxdbfs = []\n",
    "# fullmax = []\n",
    "# fullrms = []\n",
    "# ## split into chunks\n",
    "# for i, chunk in enumerate(audio_chunks):\n",
    "#     out_file = \"chunk_s{0}.wav\".format(i)\n",
    "#     fulldbfs.append(chunk.dBFS)\n",
    "#     fullmaxdbfs.append(chunk.max_dBFS)\n",
    "#     fullmax.append(chunk.max)\n",
    "#     fullrms.append(chunk.rms)\n",
    "#     print(\"exporting\", out_file, chunk.dBFS, chunk.max_dBFS, chunk.duration_seconds, chunk.rms)\n",
    "#     chunk.export(out_file, format=\"wav\")\n",
    "\n",
    "# print(\"--- %s seconds ---\" % (time.time() - start_time))\n",
    "# !ls"
   ]
  },
  {
   "cell_type": "code",
   "execution_count": 12,
   "metadata": {},
   "outputs": [],
   "source": [
    "# fulltextdic = {}\n",
    "# for i in tqdm(range(42)):\n",
    "#     fulltextdic.update(SoundToText('chunk_s' + str(i) + '.wav'))"
   ]
  },
  {
   "cell_type": "code",
   "execution_count": 13,
   "metadata": {},
   "outputs": [],
   "source": [
    "# fulltext = \"\"\n",
    "# fulltime = []\n",
    "# for l in range(len(fulltextdic.keys())):\n",
    "#     #print(fulltextdic.keys())\n",
    "#     fulltext += fulltextdic['chunk_s' + str(l) + '.wav'][0] + \" ; \"\n",
    "#     fulltime.append(fulltextdic['chunk_s' + str(l) + '.wav'][1])\n",
    "# print(fulltext)\n",
    "# print(fulltime)"
   ]
  },
  {
   "cell_type": "code",
   "execution_count": 14,
   "metadata": {},
   "outputs": [
    {
     "name": "stdout",
     "output_type": "stream",
     "text": [
      "odict_keys(['Data/NPR/0eff0c3bb-8651-41ef-bb47-6e48d7ede4d8_0.wav', 'Data/NPR/0eff0c3bb-8651-41ef-bb47-6e48d7ede4d8_1.wav', 'Data/NPR/0eff0c3bb-8651-41ef-bb47-6e48d7ede4d8_2.wav', 'Data/NPR/0eff0c3bb-8651-41ef-bb47-6e48d7ede4d8_3.wav', 'Data/NPR/0eff0c3bb-8651-41ef-bb47-6e48d7ede4d8_4.wav', 'Data/NPR/0eff0c3bb-8651-41ef-bb47-6e48d7ede4d8_5.wav', 'Data/NPR/0eff0c3bb-8651-41ef-bb47-6e48d7ede4d8_6.wav', 'Data/NPR/0eff0c3bb-8651-41ef-bb47-6e48d7ede4d8_7.wav', 'Data/NPR/0eff0c3bb-8651-41ef-bb47-6e48d7ede4d8_8.wav', 'Data/NPR/0eff0c3bb-8651-41ef-bb47-6e48d7ede4d8_9.wav', 'Data/NPR/0eff0c3bb-8651-41ef-bb47-6e48d7ede4d8_10.wav', 'Data/NPR/0eff0c3bb-8651-41ef-bb47-6e48d7ede4d8_11.wav', 'Data/NPR/0eff0c3bb-8651-41ef-bb47-6e48d7ede4d8_12.wav', 'Data/NPR/0eff0c3bb-8651-41ef-bb47-6e48d7ede4d8_13.wav', 'Data/NPR/0eff0c3bb-8651-41ef-bb47-6e48d7ede4d8_14.wav', 'Data/NPR/0eff0c3bb-8651-41ef-bb47-6e48d7ede4d8_15.wav', 'Data/NPR/0eff0c3bb-8651-41ef-bb47-6e48d7ede4d8_16.wav', 'Data/NPR/0eff0c3bb-8651-41ef-bb47-6e48d7ede4d8_17.wav', 'Data/NPR/0eff0c3bb-8651-41ef-bb47-6e48d7ede4d8_18.wav', 'Data/NPR/0eff0c3bb-8651-41ef-bb47-6e48d7ede4d8_19.wav', 'Data/NPR/0eff0c3bb-8651-41ef-bb47-6e48d7ede4d8_20.wav', 'Data/NPR/0eff0c3bb-8651-41ef-bb47-6e48d7ede4d8_21.wav', 'Data/NPR/0eff0c3bb-8651-41ef-bb47-6e48d7ede4d8_22.wav', 'Data/NPR/0eff0c3bb-8651-41ef-bb47-6e48d7ede4d8_23.wav', 'Data/NPR/0eff0c3bb-8651-41ef-bb47-6e48d7ede4d8_24.wav', 'Data/NPR/0eff0c3bb-8651-41ef-bb47-6e48d7ede4d8_25.wav', 'Data/NPR/0eff0c3bb-8651-41ef-bb47-6e48d7ede4d8_26.wav', 'Data/NPR/0eff0c3bb-8651-41ef-bb47-6e48d7ede4d8_27.wav', 'Data/NPR/0eff0c3bb-8651-41ef-bb47-6e48d7ede4d8_28.wav', 'Data/NPR/0eff0c3bb-8651-41ef-bb47-6e48d7ede4d8_29.wav', 'Data/NPR/0eff0c3bb-8651-41ef-bb47-6e48d7ede4d8_30.wav', 'Data/NPR/0eff0c3bb-8651-41ef-bb47-6e48d7ede4d8_31.wav', 'Data/NPR/0eff0c3bb-8651-41ef-bb47-6e48d7ede4d8_32.wav', 'Data/NPR/0eff0c3bb-8651-41ef-bb47-6e48d7ede4d8_33.wav', 'Data/NPR/0eff0c3bb-8651-41ef-bb47-6e48d7ede4d8_34.wav', 'Data/NPR/0eff0c3bb-8651-41ef-bb47-6e48d7ede4d8_35.wav', 'Data/NPR/0eff0c3bb-8651-41ef-bb47-6e48d7ede4d8_36.wav', 'Data/NPR/0eff0c3bb-8651-41ef-bb47-6e48d7ede4d8_37.wav', 'Data/NPR/0eff0c3bb-8651-41ef-bb47-6e48d7ede4d8_38.wav', 'Data/NPR/0eff0c3bb-8651-41ef-bb47-6e48d7ede4d8_39.wav', 'Data/NPR/0eff0c3bb-8651-41ef-bb47-6e48d7ede4d8_40.wav', 'Data/NPR/0eff0c3bb-8651-41ef-bb47-6e48d7ede4d8_41.wav', 'Data/NPR/0eff0c3bb-8651-41ef-bb47-6e48d7ede4d8_42.wav', 'Data/NPR/0eff0c3bb-8651-41ef-bb47-6e48d7ede4d8_43.wav', 'Data/NPR/0eff0c3bb-8651-41ef-bb47-6e48d7ede4d8_44.wav', 'Data/NPR/0eff0c3bb-8651-41ef-bb47-6e48d7ede4d8_45.wav', 'Data/NPR/0eff0c3bb-8651-41ef-bb47-6e48d7ede4d8_46.wav', 'Data/NPR/0eff0c3bb-8651-41ef-bb47-6e48d7ede4d8_47.wav', 'Data/NPR/0eff0c3bb-8651-41ef-bb47-6e48d7ede4d8_48.wav', 'Data/NPR/0eff0c3bb-8651-41ef-bb47-6e48d7ede4d8_49.wav', 'Data/NPR/0eff0c3bb-8651-41ef-bb47-6e48d7ede4d8_50.wav', 'Data/NPR/0eff0c3bb-8651-41ef-bb47-6e48d7ede4d8_51.wav', 'Data/NPR/0eff0c3bb-8651-41ef-bb47-6e48d7ede4d8_52.wav', 'Data/NPR/0eff0c3bb-8651-41ef-bb47-6e48d7ede4d8_53.wav', 'Data/NPR/0eff0c3bb-8651-41ef-bb47-6e48d7ede4d8_54.wav', 'Data/NPR/0eff0c3bb-8651-41ef-bb47-6e48d7ede4d8_55.wav', 'Data/NPR/0eff0c3bb-8651-41ef-bb47-6e48d7ede4d8_56.wav', 'Data/NPR/0eff0c3bb-8651-41ef-bb47-6e48d7ede4d8_57.wav', 'Data/NPR/0eff0c3bb-8651-41ef-bb47-6e48d7ede4d8_58.wav', 'Data/NPR/0eff0c3bb-8651-41ef-bb47-6e48d7ede4d8_59.wav', 'Data/NPR/0eff0c3bb-8651-41ef-bb47-6e48d7ede4d8_60.wav', 'Data/NPR/0eff0c3bb-8651-41ef-bb47-6e48d7ede4d8_61.wav', 'Data/NPR/0eff0c3bb-8651-41ef-bb47-6e48d7ede4d8_62.wav', 'Data/NPR/0eff0c3bb-8651-41ef-bb47-6e48d7ede4d8_63.wav', 'Data/NPR/0eff0c3bb-8651-41ef-bb47-6e48d7ede4d8_64.wav', 'Data/NPR/0eff0c3bb-8651-41ef-bb47-6e48d7ede4d8_65.wav', 'Data/NPR/0eff0c3bb-8651-41ef-bb47-6e48d7ede4d8_66.wav', 'Data/NPR/0eff0c3bb-8651-41ef-bb47-6e48d7ede4d8_67.wav', 'Data/NPR/0eff0c3bb-8651-41ef-bb47-6e48d7ede4d8_68.wav', 'Data/NPR/0eff0c3bb-8651-41ef-bb47-6e48d7ede4d8_69.wav', 'Data/NPR/0eff0c3bb-8651-41ef-bb47-6e48d7ede4d8_70.wav', 'Data/NPR/0eff0c3bb-8651-41ef-bb47-6e48d7ede4d8_71.wav', 'Data/NPR/0eff0c3bb-8651-41ef-bb47-6e48d7ede4d8_72.wav', 'Data/NPR/0eff0c3bb-8651-41ef-bb47-6e48d7ede4d8_73.wav', 'Data/NPR/0eff0c3bb-8651-41ef-bb47-6e48d7ede4d8_74.wav', 'Data/NPR/0eff0c3bb-8651-41ef-bb47-6e48d7ede4d8_75.wav', 'Data/NPR/0eff0c3bb-8651-41ef-bb47-6e48d7ede4d8_76.wav', 'Data/NPR/0eff0c3bb-8651-41ef-bb47-6e48d7ede4d8_77.wav', 'Data/NPR/0eff0c3bb-8651-41ef-bb47-6e48d7ede4d8_78.wav', 'Data/NPR/0eff0c3bb-8651-41ef-bb47-6e48d7ede4d8_79.wav', 'Data/NPR/0eff0c3bb-8651-41ef-bb47-6e48d7ede4d8_80.wav', 'Data/NPR/0eff0c3bb-8651-41ef-bb47-6e48d7ede4d8_81.wav', 'Data/NPR/0eff0c3bb-8651-41ef-bb47-6e48d7ede4d8_82.wav', 'Data/NPR/0eff0c3bb-8651-41ef-bb47-6e48d7ede4d8_83.wav', 'Data/NPR/0eff0c3bb-8651-41ef-bb47-6e48d7ede4d8_84.wav', 'Data/NPR/0eff0c3bb-8651-41ef-bb47-6e48d7ede4d8_85.wav', 'Data/NPR/0eff0c3bb-8651-41ef-bb47-6e48d7ede4d8_86.wav', 'Data/NPR/0eff0c3bb-8651-41ef-bb47-6e48d7ede4d8_87.wav', 'Data/NPR/0eff0c3bb-8651-41ef-bb47-6e48d7ede4d8_88.wav', 'Data/NPR/0eff0c3bb-8651-41ef-bb47-6e48d7ede4d8_89.wav', 'Data/NPR/0eff0c3bb-8651-41ef-bb47-6e48d7ede4d8_90.wav', 'Data/NPR/0eff0c3bb-8651-41ef-bb47-6e48d7ede4d8_91.wav', 'Data/NPR/0eff0c3bb-8651-41ef-bb47-6e48d7ede4d8_92.wav', 'Data/NPR/0eff0c3bb-8651-41ef-bb47-6e48d7ede4d8_93.wav', 'Data/NPR/0eff0c3bb-8651-41ef-bb47-6e48d7ede4d8_94.wav', 'Data/NPR/0eff0c3bb-8651-41ef-bb47-6e48d7ede4d8_95.wav', 'Data/NPR/0eff0c3bb-8651-41ef-bb47-6e48d7ede4d8_96.wav', 'Data/NPR/0eff0c3bb-8651-41ef-bb47-6e48d7ede4d8_97.wav', 'Data/NPR/0eff0c3bb-8651-41ef-bb47-6e48d7ede4d8_98.wav', 'Data/NPR/0eff0c3bb-8651-41ef-bb47-6e48d7ede4d8_99.wav', 'Data/NPR/0eff0c3bb-8651-41ef-bb47-6e48d7ede4d8_100.wav', 'Data/NPR/0eff0c3bb-8651-41ef-bb47-6e48d7ede4d8_101.wav', 'Data/NPR/0eff0c3bb-8651-41ef-bb47-6e48d7ede4d8_102.wav', 'Data/NPR/0eff0c3bb-8651-41ef-bb47-6e48d7ede4d8_103.wav', 'Data/NPR/0eff0c3bb-8651-41ef-bb47-6e48d7ede4d8_104.wav', 'Data/NPR/0eff0c3bb-8651-41ef-bb47-6e48d7ede4d8_105.wav', 'Data/NPR/0eff0c3bb-8651-41ef-bb47-6e48d7ede4d8_106.wav', 'Data/NPR/0eff0c3bb-8651-41ef-bb47-6e48d7ede4d8_107.wav', 'Data/NPR/0eff0c3bb-8651-41ef-bb47-6e48d7ede4d8_108.wav', 'Data/NPR/0eff0c3bb-8651-41ef-bb47-6e48d7ede4d8_109.wav', 'Data/NPR/0eff0c3bb-8651-41ef-bb47-6e48d7ede4d8_110.wav', 'Data/NPR/0eff0c3bb-8651-41ef-bb47-6e48d7ede4d8_111.wav', 'Data/NPR/0eff0c3bb-8651-41ef-bb47-6e48d7ede4d8_112.wav', 'Data/NPR/0eff0c3bb-8651-41ef-bb47-6e48d7ede4d8_113.wav', 'Data/NPR/0eff0c3bb-8651-41ef-bb47-6e48d7ede4d8_114.wav', 'Data/NPR/0eff0c3bb-8651-41ef-bb47-6e48d7ede4d8_115.wav', 'Data/NPR/0eff0c3bb-8651-41ef-bb47-6e48d7ede4d8_116.wav', 'Data/NPR/0eff0c3bb-8651-41ef-bb47-6e48d7ede4d8_117.wav', 'Data/NPR/0eff0c3bb-8651-41ef-bb47-6e48d7ede4d8_118.wav', 'Data/NPR/0eff0c3bb-8651-41ef-bb47-6e48d7ede4d8_119.wav', 'Data/NPR/0eff0c3bb-8651-41ef-bb47-6e48d7ede4d8_120.wav', 'Data/NPR/0eff0c3bb-8651-41ef-bb47-6e48d7ede4d8_121.wav', 'Data/NPR/0eff0c3bb-8651-41ef-bb47-6e48d7ede4d8_122.wav', 'Data/NPR/0eff0c3bb-8651-41ef-bb47-6e48d7ede4d8_123.wav', 'Data/NPR/0eff0c3bb-8651-41ef-bb47-6e48d7ede4d8_124.wav', 'Data/NPR/0eff0c3bb-8651-41ef-bb47-6e48d7ede4d8_125.wav', 'Data/NPR/0eff0c3bb-8651-41ef-bb47-6e48d7ede4d8_126.wav', 'Data/NPR/0eff0c3bb-8651-41ef-bb47-6e48d7ede4d8_127.wav', 'Data/NPR/0eff0c3bb-8651-41ef-bb47-6e48d7ede4d8_128.wav', 'Data/NPR/0eff0c3bb-8651-41ef-bb47-6e48d7ede4d8_129.wav', 'Data/NPR/0eff0c3bb-8651-41ef-bb47-6e48d7ede4d8_130.wav', 'Data/NPR/0eff0c3bb-8651-41ef-bb47-6e48d7ede4d8_131.wav', 'Data/NPR/0eff0c3bb-8651-41ef-bb47-6e48d7ede4d8_132.wav'])\n",
      "--- 9.64452600479126 seconds ---\n"
     ]
    }
   ],
   "source": [
    "start_time = time.time()\n",
    "print(PrepareSound(\"Data/NPR/0.mp3\", fixsplit=False, silencesplit=True).keys())\n",
    "print(\"--- %s seconds ---\" % (time.time() - start_time))"
   ]
  },
  {
   "cell_type": "markdown",
   "metadata": {},
   "source": [
    "\n",
    "***\n",
    "### Text recognition; and sphinx performance evaluation\n",
    "***\n"
   ]
  },
  {
   "cell_type": "code",
   "execution_count": 17,
   "metadata": {},
   "outputs": [
    {
     "data": {
      "text/plain": [
       "{'chunk_s2.wav': \"i said angrily it's none of your business the young man said rudely this is a private conversation\"}"
      ]
     },
     "execution_count": 17,
     "metadata": {},
     "output_type": "execute_result"
    }
   ],
   "source": [
    "SoundToText('chunk_s2.wav')"
   ]
  },
  {
   "cell_type": "code",
   "execution_count": 18,
   "metadata": {},
   "outputs": [],
   "source": [
    "table = str.maketrans('', '', string.punctuation)\n",
    "with open('Data/NCE/2/T' + str(1) + '.TXT', 'r') as myfile:\n",
    "    realtext=myfile.read().replace('\\n', '')\n",
    "    realtext = realtext.translate(table)\n",
    "    realtext = realtext.lower()\n",
    "    realtext = ' '.join(realtext.split()) ## remove the extra space"
   ]
  },
  {
   "cell_type": "code",
   "execution_count": 19,
   "metadata": {},
   "outputs": [],
   "source": [
    "with open('Data/NCE/2/' + str(1) + '_trans.txt', 'r') as myfile:\n",
    "    comptext = myfile.read().replace('\\n', '')\n",
    "    comptext = comptext.lower()"
   ]
  },
  {
   "cell_type": "code",
   "execution_count": 20,
   "metadata": {},
   "outputs": [],
   "source": [
    "def calc_score(ref, comp, debug=False):\n",
    "    '''gives the number of items in ref that is also found in comp'''\n",
    "    ## check if it is a list of strings\n",
    "    if not isinstance(ref, list):\n",
    "        ref = str(ref).split()\n",
    "    if not isinstance(comp, list):\n",
    "        comp = str(comp).split()\n",
    "        \n",
    "    s_ref = set(ref)\n",
    "    s_comp = set(comp)\n",
    "    s_inter = s_comp.intersection(s_ref)\n",
    "    if debug:\n",
    "        print(s_ref, len(s_ref))\n",
    "        print(s_comp)\n",
    "        print(s_inter, len(s_inter))\n",
    "    return len(s_inter)/len(s_ref)"
   ]
  },
  {
   "cell_type": "code",
   "execution_count": 21,
   "metadata": {},
   "outputs": [],
   "source": [
    "def compare():\n",
    "    '''compare list of texts in two folders'''\n",
    "    result = [] ## an array of output wer scores\n",
    "    for i in range(1, 1 + len(glob.glob(\"Data/NCE/2/T*.TXT\"))):\n",
    "        table = str.maketrans('', '', string.punctuation)\n",
    "        ##NCE files\n",
    "        #print(i)\n",
    "        with open('Data/NCE/2/T' + str(i) + '.TXT', 'r') as myfile:\n",
    "            realtext=myfile.read().replace('\\n', '')\n",
    "#         with open('Data/NCE/2/' + str(i) + '.txt', 'r') as myfile:\n",
    "#             realtext=myfile.read().replace('\\n', '')\n",
    "#             ## removing the punctuation\n",
    "            realtext = realtext.translate(table)\n",
    "            realtext = realtext.lower()\n",
    "            realtext = ' '.join(realtext.split()) ## remove the extra space\n",
    "        ##translated files\n",
    "        with open('Data/NCE/2/' + str(i) + '_trans.txt', 'r') as myfile:\n",
    "            comptext = myfile.read().replace('\\n', '')\n",
    "            comptext = comptext.translate(table)\n",
    "            comptext = comptext.lower()\n",
    "        result.append(calc_score(realtext, comptext))\n",
    "    return np.array(result)"
   ]
  },
  {
   "cell_type": "code",
   "execution_count": 22,
   "metadata": {},
   "outputs": [],
   "source": [
    "NCE_2 = compare()"
   ]
  },
  {
   "cell_type": "code",
   "execution_count": 23,
   "metadata": {},
   "outputs": [
    {
     "data": {
      "image/png": "[encoded data removed]",
      "text/plain": [
       "<matplotlib.figure.Figure at 0x1a34b89b70>"
      ]
     },
     "metadata": {},
     "output_type": "display_data"
    },
    {
     "name": "stdout",
     "output_type": "stream",
     "text": [
      "0.909529985494 0.0353798501963\n"
     ]
    }
   ],
   "source": [
    "plt.clf()\n",
    "plt.hist(NCE_2, bins=np.arange(0.795, 1.015, 0.02))\n",
    "plt.xlabel(\"Matched words\")\n",
    "plt.ylabel(\"NCE2 counts\")\n",
    "plt.title(\"Speech Reco Performance\")\n",
    "plt.savefig(\"Plot/Speech_Reco_Performance.pdf\")\n",
    "plt.show()\n",
    "print(NCE_2.mean(), NCE_2.std())"
   ]
  },
  {
   "cell_type": "markdown",
   "metadata": {},
   "source": [
    "#### May need to remove small files\n",
    "#### find *.wav  -type f -size -100k -delete"
   ]
  },
  {
   "cell_type": "markdown",
   "metadata": {},
   "source": [
    "#### For NPR processing"
   ]
  },
  {
   "cell_type": "code",
   "execution_count": 4,
   "metadata": {},
   "outputs": [
    {
     "name": "stderr",
     "output_type": "stream",
     "text": [
      "100%|██████████| 61/61 [2:01:38<00:00, 119.65s/it]\n"
     ]
    }
   ],
   "source": [
    "#start_time = time.time()\n",
    "for i in tqdm(range(0, 314)):\n",
    "    file_path = \"Data/NPR/\" ## total 314\n",
    "    inputtasks = glob.glob(file_path + str(i) + \"_*.wav\")\n",
    "    #print(\" Running %s jobs on %s cores\" % (len(inputtasks), mp.cpu_count()-2))\n",
    "    npool = min(len(inputtasks), mp.cpu_count()-2)\n",
    "    pool  = mp.Pool(npool)\n",
    "\n",
    "    #print(inputtasks)\n",
    "    inputdic = {}\n",
    "    for k in range(len(inputtasks)):\n",
    "        inputdic[k] = {\"file\":file_path + str(i) + \"_\" + str(k) + \".wav\", \"n\":i}\n",
    "\n",
    "    fulltextdic = {}\n",
    "    ## parallel\n",
    "    for result in pool.map(SoundToText, inputtasks):\n",
    "            fulltextdic.update(result)\n",
    "#     ## standard\n",
    "#     for i in inputtasks:\n",
    "#         print(i)\n",
    "#         result = SoundToText(i) #dictionary of values, plots\n",
    "#         fulltextdic.update(result)\n",
    "    \n",
    "    fulltext = \"\"\n",
    "    for k in range(len(fulltextdic.keys())):\n",
    "        fulltext += fulltextdic[file_path + str(i) + \"_\" + str(k) + \".wav\"]\n",
    "    #print(fulltext)\n",
    "    with open(file_path + \"_trans.txt\", \"w\") as text_file:\n",
    "            text_file.write(fulltext)\n",
    "    pool.close()\n",
    "#print(\"--- %s seconds ---\" % (time.time() - start_time))"
   ]
  },
  {
   "cell_type": "markdown",
   "metadata": {},
   "source": [
    "#### For NCE processing"
   ]
  },
  {
   "cell_type": "code",
   "execution_count": 3,
   "metadata": {},
   "outputs": [
    {
     "name": "stdout",
     "output_type": "stream",
     "text": [
      " Running 97 jobs on 6 cores\n"
     ]
    }
   ],
   "source": [
    "#start_time = time.time()\n",
    "file_path = \"Data/NCE/2/\" ## total 314\n",
    "inputtasks = glob.glob(file_path + \"*.wav\")\n",
    "print(\" Running %s jobs on %s cores\" % (len(inputtasks), mp.cpu_count()-2))\n",
    "npool = min(len(inputtasks), mp.cpu_count()-2)\n",
    "pool  = mp.Pool(npool)\n",
    "\n",
    "## parallel\n",
    "for result in pool.map(SoundToText, inputtasks):  \n",
    "    fulltext = list(result.values())[0]\n",
    "    with open(list(result.keys())[0].replace(\".wav\", \"\") + \"_trans.txt\", \"w\") as text_file:\n",
    "        text_file.write(fulltext)\n",
    "            \n",
    "# ## standard\n",
    "# for i in inputtasks:\n",
    "#     print(i)\n",
    "#     result = SoundToText(i) #dictionary of values, plots\n",
    "#     fulltext = list(result.values())[0]\n",
    "#     with open(list(result.keys())[0].replace(\".wav\", \"\") + \"_trans.txt\", \"w\") as text_file:\n",
    "#         text_file.write(fulltext)\n",
    "\n",
    "pool.close()\n",
    "#print(\"--- %s seconds ---\" % (time.time() - start_time))"
   ]
  },
  {
   "cell_type": "markdown",
   "metadata": {},
   "source": [
    "#### Or in steps"
   ]
  },
  {
   "cell_type": "code",
   "execution_count": 25,
   "metadata": {},
   "outputs": [],
   "source": [
    "# inputtasks = glob.glob(\"Data/NPR/0_*.wav\")\n",
    "# print(\" Running %s jobs on %s cores\" % (len(inputtasks), mp.cpu_count()-2))\n",
    "# npool = min(len(inputtasks), mp.cpu_count()-2)\n",
    "# pool  = mp.Pool(npool)\n",
    "\n",
    "# print(inputtasks)\n",
    "# inputdic = {}\n",
    "# for i in range(len(inputtasks)):\n",
    "#     inputdic[i] = {\"file\":\"Data/NPR/0_\" + str(i) + \".wav\", \"n\":i}"
   ]
  },
  {
   "cell_type": "code",
   "execution_count": 26,
   "metadata": {},
   "outputs": [],
   "source": [
    "# start_time = time.time()\n",
    "# fulltextdic = {}\n",
    "# for i in inputtasks:\n",
    "#     result = SoundToText(i) #dictionary of values, plots\n",
    "#     print(result)\n",
    "#     fulltextdic.update(result)\n",
    "# print(\"--- %s seconds ---\" % (time.time() - start_time))"
   ]
  },
  {
   "cell_type": "code",
   "execution_count": 27,
   "metadata": {},
   "outputs": [],
   "source": [
    "# ## single file processing\n",
    "# start_time = time.time()\n",
    "# fulltextdic = {}\n",
    "# for result in pool.map(SoundToText, inputtasks):\n",
    "#         fulltextdic.update(result)\n",
    "# fulltext = \"\"\n",
    "# for i in range(len(fulltextdic.keys())):\n",
    "#     fulltext += fulltextdic[\"chunk_s\" + str(i) + \".wav\"]\n",
    "# print(fulltext)\n",
    "# print(\"--- %s seconds ---\" % (time.time() - start_time))"
   ]
  },
  {
   "cell_type": "code",
   "execution_count": 28,
   "metadata": {},
   "outputs": [
    {
     "data": {
      "text/plain": [
       "\"               Lesson 1         A private conversation    First listen and then answer the question.    Why did the writer complain to the people behind him?    Last week I went to the theatre. I had a very good seat. The play was very interesting. I did not enjoy it. A young man and a young woman were sitting behind me. They were talking loudly. I got very angry. I could not hear the actors. I turned round. I looked at the man and the woman angrily. They did not pay any attention. In the end, I could not bear it. I turned round again. 'I can't hear a word!' I said angrily.    'It's none of your business,' the young man said rudely. 'This is a private conversation!'\""
      ]
     },
     "execution_count": 28,
     "metadata": {},
     "output_type": "execute_result"
    }
   ],
   "source": [
    "with open('Data/NCE/2/T1.TXT', 'r') as myfile:\n",
    "    realtext=myfile.read().replace('\\n', '')\n",
    "realtext"
   ]
  },
  {
   "cell_type": "markdown",
   "metadata": {},
   "source": [
    "***\n",
    "### Text exploration\n",
    "***"
   ]
  },
  {
   "cell_type": "code",
   "execution_count": 29,
   "metadata": {},
   "outputs": [],
   "source": [
    "def text_clean(in_text):\n",
    "    '''clean and remove some common words'''\n",
    "    tokenizer = nltk.tokenize.RegexpTokenizer('\\w+')\n",
    "    \n",
    "    # Tokenizing the text\n",
    "    tokens = tokenizer.tokenize(in_text)\n",
    "    # A new list to hold the lowercased words\n",
    "    words = []\n",
    "    for word in tokens:\n",
    "        words.append(word.lower())\n",
    "        \n",
    "    # Getting the English stop words from nltk\n",
    "    sw = nltk.corpus.stopwords.words('english')\n",
    "    \n",
    "    # A new list to hold Moby Dick with No Stop words\n",
    "    words_ns = []\n",
    "\n",
    "    # Appending to words_ns all words that are in words but not in sw\n",
    "    for word in words:\n",
    "        if word not in sw:\n",
    "            words_ns.append(word)\n",
    "    # Creating the word frequency distribution\n",
    "    freqdist = nltk.probability.FreqDist(words_ns)\n",
    "\n",
    "    # Plotting the word frequency distribution\n",
    "    plt.clf()\n",
    "    fig=plt.figure(figsize=(6, 4))\n",
    "    plt.subplots_adjust(bottom=0.3)\n",
    "    freqdist.plot(10)\n",
    "    fig.savefig(\"Plot/word_freq.pdf\", format=\"pdf\")    \n",
    "    print(freqdist.most_common(5))\n",
    "    \n",
    "    out_text = \" \".join(str(x) for x in words_ns)\n",
    "    return out_text"
   ]
  },
  {
   "cell_type": "code",
   "execution_count": 30,
   "metadata": {},
   "outputs": [
    {
     "data": {
      "text/plain": [
       "<matplotlib.figure.Figure at 0x180672e400>"
      ]
     },
     "metadata": {},
     "output_type": "display_data"
    },
    {
     "data": {
      "image/png": "[encoded data removed]",
      "text/plain": [
       "<matplotlib.figure.Figure at 0x1a093606d8>"
      ]
     },
     "metadata": {},
     "output_type": "display_data"
    },
    {
     "name": "stdout",
     "output_type": "stream",
     "text": [
      "[('young', 3), ('man', 3), ('private', 2), ('conversation', 2), ('behind', 2)]\n"
     ]
    },
    {
     "data": {
      "text/plain": [
       "'lesson 1 private conversation first listen answer question writer complain people behind last week went theatre good seat play interesting enjoy young man young woman sitting behind talking loudly got angry could hear actors turned round looked man woman angrily pay attention end could bear turned round hear word said angrily none business young man said rudely private conversation'"
      ]
     },
     "execution_count": 30,
     "metadata": {},
     "output_type": "execute_result"
    }
   ],
   "source": [
    "text_clean(realtext)"
   ]
  },
  {
   "cell_type": "code",
   "execution_count": 113,
   "metadata": {},
   "outputs": [
    {
     "data": {
      "text/plain": [
       "<matplotlib.figure.Figure at 0x1281d4748>"
      ]
     },
     "metadata": {},
     "output_type": "display_data"
    },
    {
     "data": {
      "image/png": "[encoded data removed]",
      "text/plain": [
       "<matplotlib.figure.Figure at 0x1380191d0>"
      ]
     },
     "metadata": {},
     "output_type": "display_data"
    },
    {
     "name": "stdout",
     "output_type": "stream",
     "text": [
      "[('felt', 1), ('inglese', 1), ('presentation', 1), ('nice', 1), ('tell', 1)]\n"
     ]
    },
    {
     "data": {
      "text/plain": [
       "'felt inglese presentation nice tell prevent aids tryto call words meeting need catch residents ooze fully honor'"
      ]
     },
     "execution_count": 113,
     "metadata": {},
     "output_type": "execute_result"
    }
   ],
   "source": [
    "text_clean(fulltext)"
   ]
  },
  {
   "cell_type": "markdown",
   "metadata": {},
   "source": [
    "## Sumy text summarization"
   ]
  },
  {
   "cell_type": "code",
   "execution_count": 3,
   "metadata": {},
   "outputs": [
    {
     "name": "stdout",
     "output_type": "stream",
     "text": [
      "Lesson 1 A private conversation\n",
      "First listen and then answer the question.\n",
      "Why did the writer complain to the people behind him?\n",
      "A young man and a young woman were sitting behind me.\n",
      "I could not hear the actors.\n",
      "I turned round.\n",
      "I looked at the man and the woman angrily.\n",
      "I turned round again.\n",
      "'I can't hear a word!'\n",
      "'It's none of your business,' the young man said rudely.\n"
     ]
    }
   ],
   "source": [
    "#from __future__ import absolute_import\n",
    "#from __future__ import division, print_function, unicode_literals\n",
    "\n",
    "from sumy.parsers.plaintext import PlaintextParser\n",
    "from sumy.nlp.tokenizers import Tokenizer\n",
    "from sumy.summarizers.lsa import LsaSummarizer as Summarizer\n",
    "from sumy.nlp.stemmers import Stemmer\n",
    "from sumy.utils import get_stop_words\n",
    "\n",
    "LANGUAGE = \"english\"\n",
    "SENTENCES_COUNT = 10\n",
    "\n",
    "#url = \"http://www.zsstritezuct.estranky.cz/clanky/predmety/cteni/jak-naucit-dite-spravne-cist.html\"\n",
    "#parser = HtmlParser.from_url(url, Tokenizer(LANGUAGE))\n",
    "# or for plain text files\n",
    "parser = PlaintextParser.from_file(\"Data/NCE/2/T1.txt\", Tokenizer(LANGUAGE))\n",
    "stemmer = Stemmer(LANGUAGE)\n",
    "\n",
    "summarizer = Summarizer(stemmer)\n",
    "summarizer.stop_words = get_stop_words(LANGUAGE)\n",
    "\n",
    "for sentence in summarizer(parser.document, SENTENCES_COUNT):\n",
    "    print(sentence)"
   ]
  },
  {
   "cell_type": "markdown",
   "metadata": {},
   "source": [
    "***\n",
    "### Live Audio import\n",
    "***"
   ]
  },
  {
   "cell_type": "code",
   "execution_count": 49,
   "metadata": {},
   "outputs": [],
   "source": [
    "def record_live(Name=\"output\", Length=100, Nout=Lseg, Running=False):\n",
    "    '''this function records audio, length in seconds'''\n",
    "    start_time = time.time()\n",
    "    FORMAT = pyaudio.paInt16\n",
    "    RATE = 32000\n",
    "    RECORD_SECONDS = Lseg ## fixed 10 sec pieces\n",
    "    CHANNELS = 1  ##2 for stereo\n",
    "    CHUNK = 1024\n",
    "\n",
    "    ## initialize pyaudio\n",
    "    p = pyaudio.PyAudio()\n",
    "    \n",
    "    N_rec = Length/RECORD_SECONDS\n",
    "    n_rec = 0\n",
    "\n",
    "    #keypressed = input('Press q to quit: ')\n",
    "    while n_rec < N_rec:\n",
    "        stream = p.open(format=FORMAT,\n",
    "                            channels=CHANNELS,\n",
    "                            rate=RATE,\n",
    "                            input=True,\n",
    "                            frames_per_buffer=CHUNK)\n",
    "        print(\"* recording: \" + str(n_rec))\n",
    "\n",
    "        frames = []\n",
    "\n",
    "        for i in range(0, int(RATE / CHUNK * RECORD_SECONDS)):\n",
    "            data = stream.read(CHUNK)\n",
    "            frames.append(data)\n",
    "\n",
    "        ## initialize output waveform\n",
    "        wf = wave.open(\"Data/Live/\" + Name + \"_\" + str(n_rec) + \".wav\", 'wb')\n",
    "        wf.setnchannels(CHANNELS)\n",
    "        wf.setsampwidth(p.get_sample_size(FORMAT))\n",
    "        wf.setframerate(RATE)\n",
    "        wf.writeframes(b''.join(frames))\n",
    "        n_rec += 1\n",
    "        \n",
    "    stream.stop_stream()\n",
    "    stream.close()\n",
    "    p.terminate()\n",
    "\n",
    "    wf.close()\n",
    "    print(\"--- %s seconds ---\" % (time.time() - start_time))\n",
    "    return"
   ]
  },
  {
   "cell_type": "code",
   "execution_count": 48,
   "metadata": {},
   "outputs": [
    {
     "name": "stdout",
     "output_type": "stream",
     "text": [
      "rm: Data/Live/output*: No such file or directory\r\n"
     ]
    }
   ],
   "source": [
    "!ls Data/Live/\n",
    "!rm Data/Live/output*\n",
    "!ls Data/Live/"
   ]
  },
  {
   "cell_type": "code",
   "execution_count": 50,
   "metadata": {},
   "outputs": [
    {
     "name": "stdout",
     "output_type": "stream",
     "text": [
      "* recording: 0\n",
      "* recording: 1\n",
      "* recording: 2\n",
      "* recording: 3\n",
      "* recording: 4\n",
      "* recording: 5\n",
      "* recording: 6\n",
      "* recording: 7\n",
      "* recording: 8\n",
      "* recording: 9\n",
      "* recording: 10\n",
      "* recording: 11\n",
      "* recording: 12\n",
      "* recording: 13\n",
      "* recording: 14\n",
      "* recording: 15\n",
      "* recording: 16\n",
      "* recording: 17\n",
      "--- 182.67663073539734 seconds ---\n"
     ]
    }
   ],
   "source": [
    "record_live(Length=180)"
   ]
  },
  {
   "cell_type": "code",
   "execution_count": 51,
   "metadata": {},
   "outputs": [
    {
     "name": "stdout",
     "output_type": "stream",
     "text": [
      "output_0.wav  output_12.wav output_16.wav output_4.wav  output_8.wav\r\n",
      "output_1.wav  output_13.wav output_17.wav output_5.wav  output_9.wav\r\n",
      "output_10.wav output_14.wav output_2.wav  output_6.wav\r\n",
      "output_11.wav output_15.wav output_3.wav  output_7.wav\r\n"
     ]
    }
   ],
   "source": [
    "!ls Data/Live/"
   ]
  },
  {
   "cell_type": "code",
   "execution_count": 52,
   "metadata": {},
   "outputs": [
    {
     "name": "stdout",
     "output_type": "stream",
     "text": [
      " Running 18 jobs on 6 cores\n",
      "Data/Live/output_9.wav\n",
      "Data/Live/output_8.wav\n",
      "Data/Live/output_11.wav\n",
      "Data/Live/output_10.wav\n",
      "Data/Live/output_12.wav\n",
      "Data/Live/output_13.wav\n",
      "['Data/Live/output_9.wav', 'Data/Live/output_8.wav', 'Data/Live/output_11.wav', 'Data/Live/output_10.wav', 'Data/Live/output_12.wav', 'Data/Live/output_13.wav', 'Data/Live/output_17.wav', 'Data/Live/output_16.wav', 'Data/Live/output_14.wav', 'Data/Live/output_15.wav', 'Data/Live/output_5.wav', 'Data/Live/output_4.wav', 'Data/Live/output_6.wav', 'Data/Live/output_7.wav', 'Data/Live/output_3.wav', 'Data/Live/output_2.wav', 'Data/Live/output_0.wav', 'Data/Live/output_1.wav']\n",
      "Data/Live/output_17.wav\n",
      "Data/Live/output_16.wav\n",
      "Data/Live/output_14.wav\n",
      "Data/Live/output_15.wav\n",
      "Data/Live/output_5.wav\n",
      "Data/Live/output_4.wav\n",
      "Data/Live/output_6.wav\n",
      "Data/Live/output_7.wav\n",
      "Data/Live/output_3.wav\n",
      "Data/Live/output_2.wav\n",
      "Data/Live/output_0.wav\n",
      "Data/Live/output_1.wav\n",
      "the level of it though to talk about what or who wishes and c. n. for breakfast meeting tax noso the problem is truth is that what you're most vicious there's an already have met in la meetings are very few acetate alsowhat is called lotto than red cells meeting gets rid of somebody to become an take a piece of paper right nowthe chief of the wall out there is fast primates and useful and these are married this matters because you need is for us to quit itoh is that you don't want it right now all were you not the contras meetings all across the loot especially in the meetings are alwaysyou want to someone's nose right now what has to go to these meetings but no one ought to work solution for photos for his ought not tothe user is that while you're at letters will attend the meetings if they don't see ghosts of shoshone for robot use youris this product and get the eighties the commerce not needy or awfully recorded into the actual moran says that altosbut to look for fatally have to train or to pass these ideas is ready for an attorney who's talking i was aloneif foreigners and she in a better time that hadn't forest is usual canceled that henry ford's gingrich there areon the phone from florida state stories i've read them as full an outline the speaker's legal merit isis news bullets but so doeswhere did it is that it's actually uses like foreigners will taxed at different levels of tar and labs social very great love for exampleand have prayer and therefore all new records which means the protests only the rich last time the shots horizontal start buta little bit more on today's sports news i could get a new future and inkatha's to our national out and yarborough you or what's the useso those hotline is too far you to lose are the files or not or did you seeing white house rules as a media profilethat's all that lazy to subplots horror and recording of studies show thousand has to the school system problemthat proceed on that occasion by this time the nato have to look directly to computer would face but what kinds of assault impactthese guys thanks youth and the world is huge get out of time for his gives you the paris he loses a guy\n",
      "--- 25.46451687812805 seconds ---\n"
     ]
    }
   ],
   "source": [
    "start_time = time.time()\n",
    "\n",
    "mytasks = glob.glob(\"Data/Live/output_*.wav\")\n",
    "print(\" Running %s jobs on %s cores\" % (len(mytasks), mp.cpu_count()-2))\n",
    "npool = min(len(mytasks), mp.cpu_count()-2)\n",
    "pool  = mp.Pool(npool)\n",
    "print(mytasks)\n",
    "inputdic = {}\n",
    "for i in range(len(mytasks)):\n",
    "    inputdic[i] = {\"file\":\"Data/Live/output_\" + str(i) + \".wav\", \"n\":i}\n",
    "    \n",
    "mytextdic = {}\n",
    "for result in pool.map(SoundToText, mytasks):\n",
    "        mytextdic.update(result)\n",
    "mytext = \"\"\n",
    "for i in range(len(mytextdic.keys())):\n",
    "    mytext += mytextdic[\"Data/Live/output_\" + str(i) + \".wav\"]\n",
    "print(mytext)\n",
    "print(\"--- %s seconds ---\" % (time.time() - start_time))"
   ]
  },
  {
   "cell_type": "code",
   "execution_count": 140,
   "metadata": {},
   "outputs": [
    {
     "data": {
      "text/plain": [
       "<matplotlib.figure.Figure at 0x12b8db0f0>"
      ]
     },
     "metadata": {},
     "output_type": "display_data"
    },
    {
     "data": {
      "image/png": "[encoded data removed]",
      "text/plain": [
       "<matplotlib.figure.Figure at 0x1281d9a20>"
      ]
     },
     "metadata": {},
     "output_type": "display_data"
    },
    {
     "name": "stdout",
     "output_type": "stream",
     "text": [
      "[('meetings', 5), ('time', 4), ('right', 3), ('get', 3), ('meeting', 2)]\n"
     ]
    },
    {
     "data": {
      "text/plain": [
       "'level though talk wishes c n breakfast meeting tax noso problem truth vicious already met la meetings acetate alsowhat called lotto red cells meeting gets rid somebody become take piece paper right nowthe chief wall fast primates useful married matters need us quit itoh want right contras meetings across loot especially meetings alwaysyou want someone nose right go meetings one ought work solution photos ought tothe user letters attend meetings see ghosts shoshone robot use youris product get eighties commerce needy awfully recorded actual moran says altosbut look fatally train pass ideas ready attorney talking aloneif foreigners better time forest usual canceled henry ford gingrich areon phone florida state stories read full outline speaker legal merit isis news bullets doeswhere actually uses like foreigners taxed different levels tar labs social great love exampleand prayer therefore new records means protests rich last time shots horizontal start buta little bit today sports news could get new future inkatha national yarborough useso hotline far lose files seeing white house rules media profilethat lazy subplots horror recording studies show thousand school system problemthat proceed occasion time nato look directly computer would face kinds assault impactthese guys thanks youth world huge get time gives paris loses guy'"
      ]
     },
     "execution_count": 140,
     "metadata": {},
     "output_type": "execute_result"
    }
   ],
   "source": [
    "text_clean(mytext)"
   ]
  },
  {
   "cell_type": "code",
   "execution_count": 56,
   "metadata": {},
   "outputs": [
    {
     "name": "stdout",
     "output_type": "stream",
     "text": [
      "world_freq.pdf\r\n"
     ]
    }
   ],
   "source": [
    "!ls Plot/"
   ]
  },
  {
   "cell_type": "markdown",
   "metadata": {},
   "source": [
    "## Sumy text summarization"
   ]
  },
  {
   "cell_type": "code",
   "execution_count": 1,
   "metadata": {},
   "outputs": [
    {
     "name": "stdout",
     "output_type": "stream",
     "text": [
      "Lesson 1 A private conversation\n",
      "First listen and then answer the question.\n",
      "Why did the writer complain to the people behind him?\n",
      "I had a very good seat.\n",
      "A young man and a young woman were sitting behind me.\n",
      "I looked at the man and the woman angrily.\n",
      "In the end, I could not bear it.\n",
      "'I can't hear a word!'\n",
      "'It's none of your business,' the young man said rudely.\n",
      "'This is a private conversation!'\n"
     ]
    }
   ],
   "source": [
    "#from __future__ import absolute_import\n",
    "#from __future__ import division, print_function, unicode_literals\n",
    "\n",
    "from sumy.parsers.plaintext import PlaintextParser\n",
    "from sumy.nlp.tokenizers import Tokenizer\n",
    "from sumy.summarizers.lsa import LsaSummarizer as Summarizer\n",
    "from sumy.nlp.stemmers import Stemmer\n",
    "from sumy.utils import get_stop_words\n",
    "\n",
    "LANGUAGE = \"english\"\n",
    "SENTENCES_COUNT = 10\n",
    "\n",
    "#url = \"http://www.zsstritezuct.estranky.cz/clanky/predmety/cteni/jak-naucit-dite-spravne-cist.html\"\n",
    "#parser = HtmlParser.from_url(url, Tokenizer(LANGUAGE))\n",
    "# or for plain text files\n",
    "parser = PlaintextParser.from_file(\"Data/NCE/2/T1.txt\", Tokenizer(LANGUAGE))\n",
    "stemmer = Stemmer(LANGUAGE)\n",
    "\n",
    "summarizer = Summarizer(stemmer)\n",
    "summarizer.stop_words = get_stop_words(LANGUAGE)\n",
    "\n",
    "for sentence in summarizer(parser.document, SENTENCES_COUNT):\n",
    "    print(sentence)"
   ]
  },
  {
   "cell_type": "code",
   "execution_count": null,
   "metadata": {},
   "outputs": [],
   "source": []
  }
 ],
 "metadata": {
  "kernelspec": {
   "display_name": "Python 3",
   "language": "python",
   "name": "python3"
  },
  "language_info": {
   "codemirror_mode": {
    "name": "ipython",
    "version": 3
   },
   "file_extension": ".py",
   "mimetype": "text/x-python",
   "name": "python",
   "nbconvert_exporter": "python",
   "pygments_lexer": "ipython3",
   "version": "3.6.1"
  }
 },
 "nbformat": 4,
 "nbformat_minor": 2
}
