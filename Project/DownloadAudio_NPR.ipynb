{
 "cells": [
  {
   "cell_type": "code",
   "execution_count": 1,
   "metadata": {},
   "outputs": [],
   "source": [
    "from bs4 import BeautifulSoup\n",
    "import os\n",
    "from glob import glob\n",
    "\n",
    "import urllib.request\n",
    "import shutil\n",
    "from tqdm import tqdm\n",
    "from pydub import AudioSegment\n",
    "import multiprocessing as mp\n",
    "import pickle\n",
    "\n",
    "## My codes\n",
    "from src.utils import SoundToText\n",
    "from src.utils import PrepareSound\n",
    "\n",
    "## settings\n",
    "%matplotlib inline\n",
    "\n",
    "# Some more magic so that the notebook will reload external python modules;\n",
    "# see http://stackoverflow.com/questions/1907993/autoreload-of-modules-in-ipython\n",
    "%load_ext autoreload\n",
    "%autoreload 2"
   ]
  },
  {
   "cell_type": "code",
   "execution_count": 2,
   "metadata": {},
   "outputs": [
    {
     "name": "stdout",
     "output_type": "stream",
     "text": [
      "0.mp3\t       170.txt\t      241_trans.txt  41.mp3\t   info_137.pkl\r\n",
      "0_trans.txt    171.mp3\t      241.txt\t     41_trans.txt  info_138.pkl\r\n",
      "0.txt\t       171_trans.txt  242.mp3\t     41.txt\t   info_139.pkl\r\n",
      "100.mp3        171.txt\t      242_trans.txt  42.mp3\t   info_13.pkl\r\n",
      "100_trans.txt  172.mp3\t      242.txt\t     42_trans.txt  info_140.pkl\r\n",
      "100.txt        172_trans.txt  243.mp3\t     42.txt\t   info_141.pkl\r\n",
      "101.mp3        172.txt\t      243_trans.txt  43.mp3\t   info_142.pkl\r\n",
      "101_trans.txt  173.mp3\t      243.txt\t     43_trans.txt  info_143.pkl\r\n",
      "101.txt        173_trans.txt  244.mp3\t     43.txt\t   info_144.pkl\r\n",
      "102.mp3        173.txt\t      244_trans.txt  44.mp3\t   info_145.pkl\r\n",
      "102_trans.txt  174.mp3\t      244.txt\t     44_trans.txt  info_146.pkl\r\n",
      "102.txt        174_trans.txt  245.mp3\t     44.txt\t   info_147.pkl\r\n",
      "103.mp3        174.txt\t      245_trans.txt  45.mp3\t   info_148.pkl\r\n",
      "103_trans.txt  175.mp3\t      245.txt\t     45_trans.txt  info_149.pkl\r\n",
      "103.txt        175_trans.txt  246.mp3\t     45.txt\t   info_14.pkl\r\n",
      "104.mp3        175.txt\t      246_trans.txt  46.mp3\t   info_150.pkl\r\n",
      "104_trans.txt  176.mp3\t      246.txt\t     46_trans.txt  info_151.pkl\r\n",
      "104.txt        176_trans.txt  247.mp3\t     46.txt\t   info_152.pkl\r\n",
      "105.mp3        176.txt\t      247_trans.txt  47.mp3\t   info_153.pkl\r\n",
      "105_trans.txt  177.mp3\t      247.txt\t     47_trans.txt  info_154.pkl\r\n",
      "105.txt        177_trans.txt  248.mp3\t     47.txt\t   info_155.pkl\r\n",
      "106.mp3        177.txt\t      248_trans.txt  48.mp3\t   info_156.pkl\r\n",
      "106_trans.txt  178.mp3\t      248.txt\t     48_trans.txt  info_157.pkl\r\n",
      "106.txt        178_trans.txt  249.mp3\t     48.txt\t   info_158.pkl\r\n",
      "107.mp3        178.txt\t      249_trans.txt  49.mp3\t   info_159.pkl\r\n",
      "107_trans.txt  179.mp3\t      249.txt\t     49_trans.txt  info_15.pkl\r\n",
      "107.txt        179_trans.txt  24.mp3\t     49.txt\t   info_160.pkl\r\n",
      "108.mp3        179.txt\t      24_trans.txt   4.mp3\t   info_161.pkl\r\n",
      "108_trans.txt  17.mp3\t      24.txt\t     4_trans.txt   info_162.pkl\r\n",
      "108.txt        17_trans.txt   250.mp3\t     4.txt\t   info_163.pkl\r\n",
      "109.mp3        17.txt\t      250_trans.txt  50.mp3\t   info_164.pkl\r\n",
      "109_trans.txt  180.mp3\t      250.txt\t     50_trans.txt  info_165.pkl\r\n",
      "109.txt        180_trans.txt  251.mp3\t     50.txt\t   info_166.pkl\r\n",
      "10.mp3\t       180.txt\t      251_trans.txt  51.mp3\t   info_167.pkl\r\n",
      "10_trans.txt   181.mp3\t      251.txt\t     51_trans.txt  info_168.pkl\r\n",
      "10.txt\t       181_trans.txt  252.mp3\t     51.txt\t   info_169.pkl\r\n",
      "110.mp3        181.txt\t      252_trans.txt  52.mp3\t   info_16.pkl\r\n",
      "110_trans.txt  182.mp3\t      252.txt\t     52_trans.txt  info_170.pkl\r\n",
      "110.txt        182_trans.txt  253.mp3\t     52.txt\t   info_171.pkl\r\n",
      "111.mp3        182.txt\t      253_trans.txt  53.mp3\t   info_172.pkl\r\n",
      "111_trans.txt  183.mp3\t      253.txt\t     53_trans.txt  info_173.pkl\r\n",
      "111.txt        183_trans.txt  254.mp3\t     53.txt\t   info_174.pkl\r\n",
      "112.mp3        183.txt\t      254_trans.txt  54.mp3\t   info_175.pkl\r\n",
      "112_trans.txt  184.mp3\t      254.txt\t     54_trans.txt  info_176.pkl\r\n",
      "112.txt        184_trans.txt  255.mp3\t     54.txt\t   info_177.pkl\r\n",
      "113.mp3        184.txt\t      255_trans.txt  55.mp3\t   info_178.pkl\r\n",
      "113_trans.txt  185.mp3\t      255.txt\t     55_trans.txt  info_179.pkl\r\n",
      "113.txt        185_trans.txt  256.mp3\t     55.txt\t   info_17.pkl\r\n",
      "114.mp3        185.txt\t      256_trans.txt  56.mp3\t   info_180.pkl\r\n",
      "114_trans.txt  186.mp3\t      256.txt\t     56_trans.txt  info_181.pkl\r\n",
      "114.txt        186_trans.txt  257.mp3\t     56.txt\t   info_182.pkl\r\n",
      "115.mp3        186.txt\t      257_trans.txt  57.mp3\t   info_183.pkl\r\n",
      "115_trans.txt  187.mp3\t      257.txt\t     57_trans.txt  info_184.pkl\r\n",
      "115.txt        187_trans.txt  258.mp3\t     57.txt\t   info_185.pkl\r\n",
      "116.mp3        187.txt\t      258_trans.txt  58.mp3\t   info_186.pkl\r\n",
      "116_trans.txt  188.mp3\t      258.txt\t     58_trans.txt  info_187.pkl\r\n",
      "116.txt        188_trans.txt  259.mp3\t     58.txt\t   info_188.pkl\r\n",
      "117.mp3        188.txt\t      259_trans.txt  59.mp3\t   info_189.pkl\r\n",
      "117_trans.txt  189.mp3\t      259.txt\t     59_trans.txt  info_18.pkl\r\n",
      "117.txt        189_trans.txt  25.mp3\t     59.txt\t   info_190.pkl\r\n",
      "118.mp3        189.txt\t      25_trans.txt   5.mp3\t   info_191.pkl\r\n",
      "118_trans.txt  18.mp3\t      25.txt\t     5_trans.txt   info_192.pkl\r\n",
      "118.txt        18_trans.txt   260.mp3\t     5.txt\t   info_193.pkl\r\n",
      "119.mp3        18.txt\t      260_trans.txt  60.mp3\t   info_194.pkl\r\n",
      "119_trans.txt  190.mp3\t      260.txt\t     60_trans.txt  info_195.pkl\r\n",
      "119.txt        190_trans.txt  261.mp3\t     60.txt\t   info_196.pkl\r\n",
      "11.mp3\t       190.txt\t      261_trans.txt  61.mp3\t   info_197.pkl\r\n",
      "11_trans.txt   191.mp3\t      261.txt\t     61_trans.txt  info_198.pkl\r\n",
      "11.txt\t       191_trans.txt  262.mp3\t     61.txt\t   info_199.pkl\r\n",
      "120.mp3        191.txt\t      262_trans.txt  62.mp3\t   info_19.pkl\r\n",
      "120_trans.txt  192.mp3\t      262.txt\t     62_trans.txt  info_1.pkl\r\n",
      "120.txt        192_trans.txt  263.mp3\t     62.txt\t   info_200.pkl\r\n",
      "121.mp3        192.txt\t      263_trans.txt  63.mp3\t   info_201.pkl\r\n",
      "121_trans.txt  193.mp3\t      263.txt\t     63_trans.txt  info_202.pkl\r\n",
      "121.txt        193_trans.txt  264.mp3\t     63.txt\t   info_203.pkl\r\n",
      "122.mp3        193.txt\t      264_trans.txt  64.mp3\t   info_204.pkl\r\n",
      "122_trans.txt  194.mp3\t      264.txt\t     64_trans.txt  info_205.pkl\r\n",
      "122.txt        194_trans.txt  265.mp3\t     64.txt\t   info_206.pkl\r\n",
      "123.mp3        194.txt\t      265_trans.txt  65.mp3\t   info_207.pkl\r\n",
      "123_trans.txt  195.mp3\t      265.txt\t     65_trans.txt  info_208.pkl\r\n",
      "123.txt        195_trans.txt  266.mp3\t     65.txt\t   info_209.pkl\r\n",
      "124.mp3        195.txt\t      266_trans.txt  66.mp3\t   info_20.pkl\r\n",
      "124_trans.txt  196.mp3\t      266.txt\t     66_trans.txt  info_210.pkl\r\n",
      "124.txt        196_trans.txt  267.mp3\t     66.txt\t   info_211.pkl\r\n",
      "125.mp3        196.txt\t      267_trans.txt  67.mp3\t   info_212.pkl\r\n",
      "125_trans.txt  197.mp3\t      267.txt\t     67_trans.txt  info_213.pkl\r\n",
      "125.txt        197_trans.txt  268.mp3\t     67.txt\t   info_214.pkl\r\n",
      "126.mp3        197.txt\t      268_trans.txt  68.mp3\t   info_215.pkl\r\n",
      "126_trans.txt  198.mp3\t      268.txt\t     68_trans.txt  info_216.pkl\r\n",
      "126.txt        198_trans.txt  269.mp3\t     68.txt\t   info_217.pkl\r\n",
      "127.mp3        198.txt\t      269_trans.txt  69.mp3\t   info_218.pkl\r\n",
      "127_trans.txt  199.mp3\t      269.txt\t     69_trans.txt  info_219.pkl\r\n",
      "127.txt        199_trans.txt  26.mp3\t     69.txt\t   info_21.pkl\r\n",
      "128.mp3        199.txt\t      26_trans.txt   6.mp3\t   info_220.pkl\r\n",
      "128_trans.txt  19.mp3\t      26.txt\t     6_trans.txt   info_221.pkl\r\n",
      "128.txt        19_trans.txt   270.mp3\t     6.txt\t   info_222.pkl\r\n",
      "129.mp3        19.txt\t      270_trans.txt  70.mp3\t   info_223.pkl\r\n",
      "129_trans.txt  1.mp3\t      270.txt\t     70_trans.txt  info_224.pkl\r\n",
      "129.txt        1_trans.txt    271.mp3\t     70.txt\t   info_225.pkl\r\n",
      "12.mp3\t       1.txt\t      271_trans.txt  71.mp3\t   info_226.pkl\r\n",
      "12_trans.txt   200.mp3\t      271.txt\t     71_trans.txt  info_227.pkl\r\n",
      "12.txt\t       200_trans.txt  272.mp3\t     71.txt\t   info_228.pkl\r\n",
      "130.mp3        200.txt\t      272_trans.txt  72.mp3\t   info_229.pkl\r\n",
      "130_trans.txt  201.mp3\t      272.txt\t     72_trans.txt  info_22.pkl\r\n",
      "130.txt        201_trans.txt  273.mp3\t     72.txt\t   info_230.pkl\r\n",
      "131.mp3        201.txt\t      273_trans.txt  73.mp3\t   info_231.pkl\r\n",
      "131_trans.txt  202.mp3\t      273.txt\t     73_trans.txt  info_232.pkl\r\n",
      "131.txt        202_trans.txt  274.mp3\t     73.txt\t   info_233.pkl\r\n",
      "132.mp3        202.txt\t      274_trans.txt  74.mp3\t   info_234.pkl\r\n",
      "132_trans.txt  203.mp3\t      274.txt\t     74_trans.txt  info_235.pkl\r\n",
      "132.txt        203_trans.txt  275.mp3\t     74.txt\t   info_236.pkl\r\n",
      "133.mp3        203.txt\t      275.txt\t     75.mp3\t   info_237.pkl\r\n",
      "133_trans.txt  204.mp3\t      276.mp3\t     75_trans.txt  info_238.pkl\r\n",
      "133.txt        204_trans.txt  276.txt\t     75.txt\t   info_239.pkl\r\n",
      "134.mp3        204.txt\t      277.mp3\t     76.mp3\t   info_23.pkl\r\n",
      "134_trans.txt  205.mp3\t      277.txt\t     76_trans.txt  info_240.pkl\r\n",
      "134.txt        205_trans.txt  278.mp3\t     76.txt\t   info_241.pkl\r\n",
      "135.mp3        205.txt\t      278.txt\t     77.mp3\t   info_242.pkl\r\n",
      "135_trans.txt  206.mp3\t      279.mp3\t     77_trans.txt  info_243.pkl\r\n",
      "135.txt        206_trans.txt  279.txt\t     77.txt\t   info_244.pkl\r\n",
      "136.mp3        206.txt\t      27.mp3\t     78.mp3\t   info_245.pkl\r\n",
      "136_trans.txt  207.mp3\t      27_trans.txt   78_trans.txt  info_246.pkl\r\n",
      "136.txt        207_trans.txt  27.txt\t     78.txt\t   info_247.pkl\r\n",
      "137.mp3        207.txt\t      280.mp3\t     79.mp3\t   info_248.pkl\r\n",
      "137_trans.txt  208.mp3\t      280.txt\t     79_trans.txt  info_249.pkl\r\n",
      "137.txt        208_trans.txt  281.mp3\t     79.txt\t   info_24.pkl\r\n",
      "138.mp3        208.txt\t      281.txt\t     7.mp3\t   info_250.pkl\r\n",
      "138_trans.txt  209.mp3\t      282.mp3\t     7_trans.txt   info_251.pkl\r\n",
      "138.txt        209_trans.txt  282.txt\t     7.txt\t   info_252.pkl\r\n",
      "139.mp3        209.txt\t      283.mp3\t     80.mp3\t   info_253.pkl\r\n",
      "139_trans.txt  20.mp3\t      283.txt\t     80_trans.txt  info_254.pkl\r\n",
      "139.txt        20_trans.txt   284.mp3\t     80.txt\t   info_255.pkl\r\n",
      "13.mp3\t       20.txt\t      284.txt\t     81.mp3\t   info_256.pkl\r\n",
      "13_trans.txt   210.mp3\t      285.mp3\t     81_trans.txt  info_257.pkl\r\n",
      "13.txt\t       210_trans.txt  285.txt\t     81.txt\t   info_258.pkl\r\n",
      "140.mp3        210.txt\t      286.mp3\t     82.mp3\t   info_259.pkl\r\n",
      "140_trans.txt  211.mp3\t      286.txt\t     82_trans.txt  info_25.pkl\r\n",
      "140.txt        211_trans.txt  287.mp3\t     82.txt\t   info_260.pkl\r\n",
      "141.mp3        211.txt\t      287.txt\t     83.mp3\t   info_261.pkl\r\n",
      "141_trans.txt  212.mp3\t      288.mp3\t     83_trans.txt  info_262.pkl\r\n",
      "141.txt        212_trans.txt  288.txt\t     83.txt\t   info_263.pkl\r\n",
      "142.mp3        212.txt\t      289.mp3\t     84.mp3\t   info_264.pkl\r\n",
      "142_trans.txt  213.mp3\t      289.txt\t     84_trans.txt  info_265.pkl\r\n",
      "142.txt        213_trans.txt  28.mp3\t     84.txt\t   info_266.pkl\r\n",
      "143.mp3        213.txt\t      28_trans.txt   85.mp3\t   info_267.pkl\r\n",
      "143_trans.txt  214.mp3\t      28.txt\t     85_trans.txt  info_268.pkl\r\n",
      "143.txt        214_trans.txt  290.mp3\t     85.txt\t   info_269.pkl\r\n",
      "144.mp3        214.txt\t      290.txt\t     86.mp3\t   info_26.pkl\r\n",
      "144_trans.txt  215.mp3\t      291.mp3\t     86_trans.txt  info_270.pkl\r\n",
      "144.txt        215_trans.txt  291.txt\t     86.txt\t   info_271.pkl\r\n",
      "145.mp3        215.txt\t      292.mp3\t     87.mp3\t   info_272.pkl\r\n",
      "145_trans.txt  216.mp3\t      292.txt\t     87_trans.txt  info_273.pkl\r\n",
      "145.txt        216_trans.txt  293.mp3\t     87.txt\t   info_274.pkl\r\n",
      "146.mp3        216.txt\t      293.txt\t     88.mp3\t   info_27.pkl\r\n",
      "146_trans.txt  217.mp3\t      294.mp3\t     88_trans.txt  info_28.pkl\r\n",
      "146.txt        217_trans.txt  294.txt\t     88.txt\t   info_29.pkl\r\n",
      "147.mp3        217.txt\t      295.mp3\t     89.mp3\t   info_2.pkl\r\n",
      "147_trans.txt  218.mp3\t      295.txt\t     89_trans.txt  info_30.pkl\r\n",
      "147.txt        218_trans.txt  296.mp3\t     89.txt\t   info_31.pkl\r\n",
      "148.mp3        218.txt\t      296.txt\t     8.mp3\t   info_32.pkl\r\n",
      "148_trans.txt  219.mp3\t      297.mp3\t     8_trans.txt   info_33.pkl\r\n",
      "148.txt        219_trans.txt  297.txt\t     8.txt\t   info_34.pkl\r\n",
      "149.mp3        219.txt\t      298.mp3\t     90.mp3\t   info_35.pkl\r\n",
      "149_trans.txt  21.mp3\t      298.txt\t     90_trans.txt  info_36.pkl\r\n",
      "149.txt        21_trans.txt   299.mp3\t     90.txt\t   info_37.pkl\r\n",
      "14.mp3\t       21.txt\t      299.txt\t     91.mp3\t   info_38.pkl\r\n",
      "14_trans.txt   220.mp3\t      29.mp3\t     91_trans.txt  info_39.pkl\r\n",
      "14.txt\t       220_trans.txt  29_trans.txt   91.txt\t   info_3.pkl\r\n",
      "150.mp3        220.txt\t      29.txt\t     92.mp3\t   info_40.pkl\r\n",
      "150_trans.txt  221.mp3\t      2.mp3\t     92_trans.txt  info_41.pkl\r\n",
      "150.txt        221_trans.txt  2_trans.txt    92.txt\t   info_42.pkl\r\n",
      "151.mp3        221.txt\t      2.txt\t     93.mp3\t   info_43.pkl\r\n",
      "151_trans.txt  222.mp3\t      300.mp3\t     93_trans.txt  info_44.pkl\r\n",
      "151.txt        222_trans.txt  300.txt\t     93.txt\t   info_45.pkl\r\n",
      "152.mp3        222.txt\t      301.mp3\t     94.mp3\t   info_46.pkl\r\n",
      "152_trans.txt  223.mp3\t      301.txt\t     94_trans.txt  info_47.pkl\r\n",
      "152.txt        223_trans.txt  302.mp3\t     94.txt\t   info_48.pkl\r\n",
      "153.mp3        223.txt\t      302.txt\t     95.mp3\t   info_49.pkl\r\n",
      "153_trans.txt  224.mp3\t      303.mp3\t     95_trans.txt  info_4.pkl\r\n",
      "153.txt        224_trans.txt  303.txt\t     95.txt\t   info_50.pkl\r\n",
      "154.mp3        224.txt\t      304.mp3\t     96.mp3\t   info_51.pkl\r\n",
      "154_trans.txt  225.mp3\t      304.txt\t     96_trans.txt  info_52.pkl\r\n",
      "154.txt        225_trans.txt  305.mp3\t     96.txt\t   info_53.pkl\r\n",
      "155.mp3        225.txt\t      305.txt\t     97.mp3\t   info_54.pkl\r\n",
      "155_trans.txt  226.mp3\t      306.mp3\t     97_trans.txt  info_55.pkl\r\n",
      "155.txt        226_trans.txt  306.txt\t     97.txt\t   info_56.pkl\r\n",
      "156.mp3        226.txt\t      307.mp3\t     98.mp3\t   info_57.pkl\r\n",
      "156_trans.txt  227.mp3\t      307.txt\t     98_trans.txt  info_58.pkl\r\n",
      "156.txt        227_trans.txt  308.mp3\t     98.txt\t   info_59.pkl\r\n",
      "157.mp3        227.txt\t      308.txt\t     99.mp3\t   info_5.pkl\r\n",
      "157_trans.txt  228.mp3\t      309.mp3\t     99_trans.txt  info_60.pkl\r\n",
      "157.txt        228_trans.txt  309.txt\t     99.txt\t   info_61.pkl\r\n",
      "158.mp3        228.txt\t      30.mp3\t     9.mp3\t   info_62.pkl\r\n",
      "158_trans.txt  229.mp3\t      30_trans.txt   9_trans.txt   info_63.pkl\r\n",
      "158.txt        229_trans.txt  30.txt\t     9.txt\t   info_64.pkl\r\n",
      "159.mp3        229.txt\t      310.mp3\t     info_0.pkl    info_65.pkl\r\n",
      "159_trans.txt  22.mp3\t      310.txt\t     info_100.pkl  info_66.pkl\r\n",
      "159.txt        22_trans.txt   311.mp3\t     info_101.pkl  info_67.pkl\r\n",
      "15.mp3\t       22.txt\t      311.txt\t     info_102.pkl  info_68.pkl\r\n",
      "15_trans.txt   230.mp3\t      312.mp3\t     info_103.pkl  info_69.pkl\r\n",
      "15.txt\t       230_trans.txt  312.txt\t     info_104.pkl  info_6.pkl\r\n",
      "160.mp3        230.txt\t      313.mp3\t     info_105.pkl  info_70.pkl\r\n",
      "160_trans.txt  231.mp3\t      313.txt\t     info_106.pkl  info_71.pkl\r\n",
      "160.txt        231_trans.txt  31.mp3\t     info_107.pkl  info_72.pkl\r\n",
      "161.mp3        231.txt\t      31_trans.txt   info_108.pkl  info_73.pkl\r\n",
      "161_trans.txt  232.mp3\t      31.txt\t     info_109.pkl  info_74.pkl\r\n",
      "161.txt        232_trans.txt  32.mp3\t     info_10.pkl   info_75.pkl\r\n",
      "162.mp3        232.txt\t      32_trans.txt   info_110.pkl  info_76.pkl\r\n",
      "162_trans.txt  233.mp3\t      32.txt\t     info_111.pkl  info_77.pkl\r\n",
      "162.txt        233_trans.txt  33.mp3\t     info_112.pkl  info_78.pkl\r\n",
      "163.mp3        233.txt\t      33_trans.txt   info_113.pkl  info_79.pkl\r\n",
      "163_trans.txt  234.mp3\t      33.txt\t     info_114.pkl  info_7.pkl\r\n",
      "163.txt        234_trans.txt  34.mp3\t     info_115.pkl  info_80.pkl\r\n",
      "164.mp3        234.txt\t      34_trans.txt   info_116.pkl  info_81.pkl\r\n",
      "164_trans.txt  235.mp3\t      34.txt\t     info_117.pkl  info_82.pkl\r\n",
      "164.txt        235_trans.txt  35.mp3\t     info_118.pkl  info_83.pkl\r\n",
      "165.mp3        235.txt\t      35_trans.txt   info_119.pkl  info_84.pkl\r\n",
      "165_trans.txt  236.mp3\t      35.txt\t     info_11.pkl   info_85.pkl\r\n",
      "165.txt        236_trans.txt  36.mp3\t     info_120.pkl  info_86.pkl\r\n",
      "166.mp3        236.txt\t      36_trans.txt   info_121.pkl  info_87.pkl\r\n",
      "166_trans.txt  237.mp3\t      36.txt\t     info_122.pkl  info_88.pkl\r\n",
      "166.txt        237_trans.txt  37.mp3\t     info_123.pkl  info_89.pkl\r\n",
      "167.mp3        237.txt\t      37_trans.txt   info_124.pkl  info_8.pkl\r\n",
      "167_trans.txt  238.mp3\t      37.txt\t     info_125.pkl  info_90.pkl\r\n",
      "167.txt        238_trans.txt  38.mp3\t     info_126.pkl  info_91.pkl\r\n",
      "168.mp3        238.txt\t      38_trans.txt   info_127.pkl  info_92.pkl\r\n",
      "168_trans.txt  239.mp3\t      38.txt\t     info_128.pkl  info_93.pkl\r\n",
      "168.txt        239_trans.txt  39.mp3\t     info_129.pkl  info_94.pkl\r\n",
      "169.mp3        239.txt\t      39_trans.txt   info_12.pkl   info_95.pkl\r\n",
      "169_trans.txt  23.mp3\t      39.txt\t     info_130.pkl  info_96.pkl\r\n",
      "169.txt        23_trans.txt   3.mp3\t     info_131.pkl  info_97.pkl\r\n",
      "16.mp3\t       23.txt\t      3_trans.txt    info_132.pkl  info_98.pkl\r\n",
      "16_trans.txt   240.mp3\t      3.txt\t     info_133.pkl  info_99.pkl\r\n",
      "16.txt\t       240_trans.txt  40.mp3\t     info_134.pkl  info_9.pkl\r\n",
      "170.mp3        240.txt\t      40_trans.txt   info_135.pkl  info.pkl\r\n",
      "170_trans.txt  241.mp3\t      40.txt\t     info_136.pkl  NPR.html\r\n"
     ]
    }
   ],
   "source": [
    "!ls Data/NPR"
   ]
  },
  {
   "cell_type": "markdown",
   "metadata": {},
   "source": [
    "##  Data source:\n",
    "##  NPR: https://www.npr.org/podcasts/2038/news-politics\n",
    "\n",
    "## https://www.npr.org/podcasts/452538677/note-to-self\n",
    "## https://www.npr.org/podcasts/510298/ted-radio-hour\n",
    "\n",
    "## https://www.npr.org/series/4516989/storycorps/archive"
   ]
  },
  {
   "cell_type": "code",
   "execution_count": 3,
   "metadata": {},
   "outputs": [],
   "source": [
    "soup = BeautifulSoup(open(\"Data/NPR/NPR.html\"), \"html.parser\")"
   ]
  },
  {
   "cell_type": "code",
   "execution_count": 4,
   "metadata": {},
   "outputs": [
    {
     "name": "stdout",
     "output_type": "stream",
     "text": [
      "<p class=\"teaser\">\n",
      "<time datetime=\"2018-06-08\"><span class=\"date\">June 8, 2018 • </span></time>Before meeting with Kim Jong Un, President Trump heads to Quebec for the G7 summit. He'll meet with world leaders united against his trade policies. Also, a visit to an immigration court in Texas. And why is Pope Francis meeting with oil executives tomorrow?\n",
      "        </p> <li class=\"audio-tool audio-tool-download\"><a data-metrics='{\"category\":\"audio actions\",\"action\":\"download audio\",\"label\":\"618167844\",\"noninteraction\":true}' href=\"https://play.podtrac.com/npr-510318/npr.mc.tritondigital.com/NPR_510318/media/anon.npr-mp3/npr/upfirst/2018/06/20180608_upfirst_upfirst_06082018.mp3?orgId=1&amp;d=784&amp;p=510318&amp;story=618167844&amp;t=podcast&amp;e=618167844&amp;siteplayer=true&amp;dl=1\"><b class=\"icn-download\"></b><b class=\"audio-tool-label\">Download</b></a>\n",
      "</li>\n"
     ]
    }
   ],
   "source": [
    "pod_text = []\n",
    "pod_audi = []\n",
    "\n",
    "for i in soup.find_all('article', {'class' : 'item podcast-episode'}):\n",
    "#for i in soup.find_all('article', {'class' : 'item has-image'}):\n",
    "    #pods.append(i)\n",
    "    #make sure both audi and text exist for the same episode\n",
    "    for j in i.find_all('p', {'class': 'teaser'}):\n",
    "        pod_text.append(j)\n",
    "    for j in i.find_all('li', {'class': 'audio-tool audio-tool-download'}):\n",
    "        #link = j.find_all('href')\n",
    "        pod_audi.append(j)\n",
    "print(pod_text[0], pod_audi[0])"
   ]
  },
  {
   "cell_type": "code",
   "execution_count": 5,
   "metadata": {},
   "outputs": [
    {
     "name": "stdout",
     "output_type": "stream",
     "text": [
      "<p class=\"teaser\">\n",
      "<time datetime=\"2018-06-08\"><span class=\"date\">June 8, 2018 • </span></time>Before meeting with Kim Jong Un, President Trump heads to Quebec for the G7 summit. He'll meet with world leaders united against his trade policies. Also, a visit to an immigration court in Texas. And why is Pope Francis meeting with oil executives tomorrow?\n",
      "        </p> <a data-metrics='{\"category\":\"audio actions\",\"action\":\"download audio\",\"label\":\"618167844\",\"noninteraction\":true}' href=\"https://play.podtrac.com/npr-510318/npr.mc.tritondigital.com/NPR_510318/media/anon.npr-mp3/npr/upfirst/2018/06/20180608_upfirst_upfirst_06082018.mp3?orgId=1&amp;d=784&amp;p=510318&amp;story=618167844&amp;t=podcast&amp;e=618167844&amp;siteplayer=true&amp;dl=1\"><b class=\"icn-download\"></b><b class=\"audio-tool-label\">Download</b></a>\n"
     ]
    }
   ],
   "source": [
    "pod_text = []\n",
    "pod_audi = []\n",
    "\n",
    "for i in soup.find_all('article', {'class' : 'item podcast-episode'}):\n",
    "#for i in soup.find_all('article', {'class' : 'item has-image'}):\n",
    "    #pods.append(i)\n",
    "    #make sure both audi and text exist for the same episode\n",
    "    text = i.find_all('p', {'class': 'teaser'})\n",
    "    audi = i.find_all('li', {'class': 'audio-tool audio-tool-download'})\n",
    "    if len(text) != 1 or len(audi) != 1:\n",
    "        ## no download links...\n",
    "        pass\n",
    "        #print (len(text), len(audi))\n",
    "    else:\n",
    "        pod_text.append(text[0])\n",
    "        pod_audi.append(audi[0].find_all('a', href=True)[0])\n",
    "print(pod_text[0], pod_audi[0])"
   ]
  },
  {
   "cell_type": "code",
   "execution_count": 6,
   "metadata": {},
   "outputs": [
    {
     "name": "stdout",
     "output_type": "stream",
     "text": [
      "314 314\n"
     ]
    }
   ],
   "source": [
    "print(len(pod_text), len(pod_audi))\n",
    "N = len(pod_text)"
   ]
  },
  {
   "cell_type": "code",
   "execution_count": 7,
   "metadata": {},
   "outputs": [],
   "source": [
    "t = pod_text[0]"
   ]
  },
  {
   "cell_type": "code",
   "execution_count": 8,
   "metadata": {},
   "outputs": [
    {
     "data": {
      "text/plain": [
       "\"Before meeting with Kim Jong Un, President Trump heads to Quebec for the G7 summit. He'll meet with world leaders united against his trade policies. Also, a visit to an immigration court in Texas. And why is Pope Francis meeting with oil executives tomorrow?\""
      ]
     },
     "execution_count": 8,
     "metadata": {},
     "output_type": "execute_result"
    }
   ],
   "source": [
    "## Get teaser\n",
    "str(t).split(\"</time>\")[1].split(\"\\n\")[0]"
   ]
  },
  {
   "cell_type": "code",
   "execution_count": 9,
   "metadata": {},
   "outputs": [],
   "source": [
    "a = pod_audi[0]"
   ]
  },
  {
   "cell_type": "code",
   "execution_count": 10,
   "metadata": {},
   "outputs": [
    {
     "data": {
      "text/plain": [
       "<a data-metrics='{\"category\":\"audio actions\",\"action\":\"download audio\",\"label\":\"618167844\",\"noninteraction\":true}' href=\"https://play.podtrac.com/npr-510318/npr.mc.tritondigital.com/NPR_510318/media/anon.npr-mp3/npr/upfirst/2018/06/20180608_upfirst_upfirst_06082018.mp3?orgId=1&amp;d=784&amp;p=510318&amp;story=618167844&amp;t=podcast&amp;e=618167844&amp;siteplayer=true&amp;dl=1\"><b class=\"icn-download\"></b><b class=\"audio-tool-label\">Download</b></a>"
      ]
     },
     "execution_count": 10,
     "metadata": {},
     "output_type": "execute_result"
    }
   ],
   "source": [
    "a"
   ]
  },
  {
   "cell_type": "code",
   "execution_count": 11,
   "metadata": {},
   "outputs": [
    {
     "data": {
      "text/plain": [
       "'https://play.podtrac.com/npr-510318/npr.mc.tritondigital.com/NPR_510318/media/anon.npr-mp3/npr/upfirst/2018/06/20180608_upfirst_upfirst_06082018.mp3?orgId=1&d=784&p=510318&story=618167844&t=podcast&e=618167844&siteplayer=true&dl=1'"
      ]
     },
     "execution_count": 11,
     "metadata": {},
     "output_type": "execute_result"
    }
   ],
   "source": [
    "## Get download link\n",
    "a.get(\"href\")"
   ]
  },
  {
   "cell_type": "code",
   "execution_count": 17,
   "metadata": {},
   "outputs": [
    {
     "name": "stdout",
     "output_type": "stream",
     "text": [
      "NPR.html\r\n"
     ]
    }
   ],
   "source": [
    "!ls Data/NPR"
   ]
  },
  {
   "cell_type": "code",
   "execution_count": 18,
   "metadata": {},
   "outputs": [
    {
     "name": "stderr",
     "output_type": "stream",
     "text": [
      "100%|██████████| 314/314 [20:16<00:00,  3.88s/it]\n"
     ]
    }
   ],
   "source": [
    "path = \"Data/NPR/\"\n",
    "for i in tqdm(range(0, len(pod_text))):\n",
    "    t = pod_text[i]\n",
    "    ## Get time string\n",
    "    i_time = t.find(\"time\").get(\"datetime\").replace(\"-\", \"\")\n",
    "    ## Get teaser\n",
    "    i_teaser = str(t).split(\"</time>\")[1].split(\"\\n\")[0]\n",
    "    a = pod_audi[i]\n",
    "    ## Get download link\n",
    "    i_url = a.get(\"href\")\n",
    "    \n",
    "    with open(path + str(i) + \".txt\", \"w\") as text_file:\n",
    "        text_file.write(i_teaser)\n",
    "        text_file.write(\"\\n\")\n",
    "        text_file.write(i_time)\n",
    "    \n",
    "    ## download file\n",
    "    output_file = path + str(i) + \".mp3\"\n",
    "    with urllib.request.urlopen(i_url) as response, open(output_file, 'wb') as out_file:\n",
    "        shutil.copyfileobj(response, out_file)\n",
    "        \n",
    "#     sound = AudioSegment.from_mp3(output_file)\n",
    "    \n",
    "#     ## split into 20 second pieces\n",
    "#     for j, chunk in enumerate(sound[::20 * 1000]):\n",
    "#       with open(path + str(i) + \"_\" + str(j) + \".wav\", \"wb\") as f:\n",
    "#         chunk.export(f, format=\"wav\")\n",
    "    "
   ]
  },
  {
   "cell_type": "code",
   "execution_count": 12,
   "metadata": {},
   "outputs": [
    {
     "name": "stderr",
     "output_type": "stream",
     "text": [
      "  3%|▎         | 1/39 [01:09<43:48, 69.17s/it]"
     ]
    },
    {
     "name": "stdout",
     "output_type": "stream",
     "text": [
      "cannot recognize  Data/NPR/276_1.wav\n"
     ]
    },
    {
     "name": "stderr",
     "output_type": "stream",
     "text": [
      "\r",
      "  5%|▌         | 2/39 [02:34<47:39, 77.29s/it]"
     ]
    },
    {
     "name": "stdout",
     "output_type": "stream",
     "text": [
      "cannot recognize  Data/NPR/277_77.wav\n",
      "cannot recognize  Data/NPR/277_76.wav\n",
      "cannot recognize  Data/NPR/277_74.wav\n"
     ]
    },
    {
     "name": "stderr",
     "output_type": "stream",
     "text": [
      " 79%|███████▉  | 31/39 [36:28<09:24, 70.60s/it]"
     ]
    },
    {
     "name": "stdout",
     "output_type": "stream",
     "text": [
      "cannot recognize  Data/NPR/306_83.wav\n",
      "cannot recognize  Data/NPR/306_84.wav\n"
     ]
    },
    {
     "name": "stderr",
     "output_type": "stream",
     "text": [
      "100%|██████████| 39/39 [44:17<00:00, 68.15s/it]\n"
     ]
    }
   ],
   "source": [
    "path = \"Data/NPR/\"\n",
    "bigdic = {}\n",
    "for i in tqdm(range(275, N)):\n",
    "    bigdic.update(PrepareSound(path + str(i) + \".mp3\", silencesplit=True))\n",
    "    file_path = path ## total \n",
    "    inputtasks = glob(file_path + str(i) + \"_*.wav\")\n",
    "    #print(\" Running %s jobs on %s cores\" % (len(inputtasks), mp.cpu_count()-2))\n",
    "    npool = min(len(inputtasks), mp.cpu_count())\n",
    "    pool  = mp.Pool(npool)\n",
    "\n",
    "    fulltextdic = {}\n",
    "    ## parallel\n",
    "    for result in pool.map(SoundToText, inputtasks):\n",
    "            fulltextdic.update(result)\n",
    "#     ## standard\n",
    "#     for j in inputtasks:\n",
    "#         print(j)\n",
    "#         result = SoundToText(j) #dictionary of values, plots\n",
    "#         fulltextdic.update(result)\n",
    "    \n",
    "    for k in inputtasks:\n",
    "        os.remove(k)\n",
    "        \n",
    "    fulltext = \"\"\n",
    "    for l in range(len(fulltextdic.keys())):\n",
    "        fulltext += fulltextdic[file_path + str(i) + \"_\" + str(l) + \".wav\"] + \" ; \"\n",
    "    #print(fulltext)\n",
    "    with open(file_path + str(i) + \"_trans.txt\", \"w\") as text_file:\n",
    "        text_file.write(fulltext)\n",
    "    with open(file_path + 'info_' + str(i) + '.pkl', 'wb') as f:\n",
    "        pickle.dump(fulltextdic, f)\n",
    "    pool.close()"
   ]
  },
  {
   "cell_type": "code",
   "execution_count": 19,
   "metadata": {},
   "outputs": [
    {
     "ename": "NameError",
     "evalue": "name 'bigdic' is not defined",
     "output_type": "error",
     "traceback": [
      "\u001b[0;31m---------------------------------------------------------------------------\u001b[0m",
      "\u001b[0;31mNameError\u001b[0m                                 Traceback (most recent call last)",
      "\u001b[0;32m<ipython-input-19-1427798078a2>\u001b[0m in \u001b[0;36m<module>\u001b[0;34m()\u001b[0m\n\u001b[1;32m      1\u001b[0m \u001b[0;32mwith\u001b[0m \u001b[0mopen\u001b[0m\u001b[0;34m(\u001b[0m\u001b[0mpath\u001b[0m \u001b[0;34m+\u001b[0m \u001b[0;34m'info.pkl'\u001b[0m\u001b[0;34m,\u001b[0m \u001b[0;34m'wb'\u001b[0m\u001b[0;34m)\u001b[0m \u001b[0;32mas\u001b[0m \u001b[0mf\u001b[0m\u001b[0;34m:\u001b[0m\u001b[0;34m\u001b[0m\u001b[0m\n\u001b[0;32m----> 2\u001b[0;31m     \u001b[0mpickle\u001b[0m\u001b[0;34m.\u001b[0m\u001b[0mdump\u001b[0m\u001b[0;34m(\u001b[0m\u001b[0mbigdic\u001b[0m\u001b[0;34m,\u001b[0m \u001b[0mf\u001b[0m\u001b[0;34m)\u001b[0m\u001b[0;34m\u001b[0m\u001b[0m\n\u001b[0m",
      "\u001b[0;31mNameError\u001b[0m: name 'bigdic' is not defined"
     ]
    }
   ],
   "source": [
    "with open(path + 'info.pkl', 'wb') as f:\n",
    "    pickle.dump(bigdic, f)"
   ]
  },
  {
   "cell_type": "code",
   "execution_count": 10,
   "metadata": {},
   "outputs": [],
   "source": [
    "with open(path + 'info.pkl', 'rb') as f:\n",
    "    mydic = pickle.load(f)"
   ]
  },
  {
   "cell_type": "code",
   "execution_count": 11,
   "metadata": {},
   "outputs": [
    {
     "data": {
      "text/plain": [
       "{'dBFS': -21.10909357824653,\n",
       " 'duration': 802.6122448979592,\n",
       " 'max': 29039,\n",
       " 'max_dBFS': -1.0493655646660165,\n",
       " 'rms': 2884}"
      ]
     },
     "execution_count": 11,
     "metadata": {},
     "output_type": "execute_result"
    }
   ],
   "source": [
    "mydic[path + \"0.wav\"]"
   ]
  },
  {
   "cell_type": "markdown",
   "metadata": {},
   "source": [
    "## clean the tail files\n",
    "#### find *.wav -type f -size -500k -delete"
   ]
  },
  {
   "cell_type": "code",
   "execution_count": 2,
   "metadata": {},
   "outputs": [
    {
     "name": "stderr",
     "output_type": "stream",
     "text": [
      "\r",
      "  0%|          | 0/313 [00:00<?, ?it/s]"
     ]
    },
    {
     "name": "stdout",
     "output_type": "stream",
     "text": [
      "cannot recognize  Data/NPR/1_1.wav\n"
     ]
    },
    {
     "name": "stderr",
     "output_type": "stream",
     "text": [
      "  1%|          | 2/313 [02:23<6:11:11, 71.61s/it]"
     ]
    },
    {
     "name": "stdout",
     "output_type": "stream",
     "text": [
      "cannot recognize  Data/NPR/3_126.wav\n"
     ]
    },
    {
     "name": "stderr",
     "output_type": "stream",
     "text": [
      "  2%|▏         | 5/313 [06:14<6:24:32, 74.91s/it]"
     ]
    },
    {
     "name": "stdout",
     "output_type": "stream",
     "text": [
      "cannot recognize  Data/NPR/6_113.wav\n"
     ]
    },
    {
     "name": "stderr",
     "output_type": "stream",
     "text": [
      "  2%|▏         | 7/313 [08:32<6:13:20, 73.20s/it]"
     ]
    },
    {
     "name": "stdout",
     "output_type": "stream",
     "text": [
      "cannot recognize  Data/NPR/8_1.wav\n"
     ]
    },
    {
     "name": "stderr",
     "output_type": "stream",
     "text": [
      "  4%|▎         | 11/313 [13:21<6:06:37, 72.84s/it]"
     ]
    },
    {
     "name": "stdout",
     "output_type": "stream",
     "text": [
      "cannot recognize  Data/NPR/12_1.wav\n"
     ]
    },
    {
     "name": "stderr",
     "output_type": "stream",
     "text": [
      "  4%|▍         | 12/313 [14:29<6:03:28, 72.45s/it]Process ForkPoolWorker-87:\n",
      "Process ForkPoolWorker-85:\n",
      "Exception ignored in: <bound method Hypothesis.<lambda> of <pocketsphinx.pocketsphinx.Hypothesis; proxy of <Swig Object of type 'Hypothesis *' at 0x110c09750> >>\n",
      "Traceback (most recent call last):\n",
      "  File \"/Users/renormalization/anaconda/lib/python3.6/site-packages/pocketsphinx/pocketsphinx.py\", line 132, in <lambda>\n",
      "    __del__ = lambda self: None\n",
      "KeyboardInterrupt\n",
      "Traceback (most recent call last):\n",
      "Traceback (most recent call last):\n",
      "  File \"/Users/renormalization/anaconda/lib/python3.6/multiprocessing/process.py\", line 249, in _bootstrap\n",
      "    self.run()\n",
      "  File \"/Users/renormalization/anaconda/lib/python3.6/multiprocessing/process.py\", line 93, in run\n",
      "    self._target(*self._args, **self._kwargs)\n",
      "  File \"/Users/renormalization/anaconda/lib/python3.6/multiprocessing/process.py\", line 249, in _bootstrap\n",
      "    self.run()\n",
      "  File \"/Users/renormalization/anaconda/lib/python3.6/multiprocessing/pool.py\", line 119, in worker\n",
      "    result = (True, func(*args, **kwds))\n",
      "  File \"/Users/renormalization/anaconda/lib/python3.6/multiprocessing/process.py\", line 93, in run\n",
      "    self._target(*self._args, **self._kwargs)\n",
      "  File \"/Users/renormalization/anaconda/lib/python3.6/multiprocessing/pool.py\", line 44, in mapstar\n",
      "    return list(map(*args))\n",
      "  File \"/Users/renormalization/anaconda/lib/python3.6/multiprocessing/pool.py\", line 119, in worker\n",
      "    result = (True, func(*args, **kwds))\n",
      "  File \"/Users/renormalization/Git/Insight/Project/src/utils.py\", line 79, in SoundToText\n",
      "    text = Recon.recognize_sphinx(test_au, language='en-US')\n",
      "  File \"/Users/renormalization/anaconda/lib/python3.6/multiprocessing/pool.py\", line 44, in mapstar\n",
      "    return list(map(*args))\n",
      "  File \"/Users/renormalization/anaconda/lib/python3.6/site-packages/speech_recognition/__init__.py\", line 799, in recognize_sphinx\n",
      "    decoder.end_utt()  # stop utterance processing\n",
      "  File \"/Users/renormalization/Git/Insight/Project/src/utils.py\", line 79, in SoundToText\n",
      "    text = Recon.recognize_sphinx(test_au, language='en-US')\n",
      "  File \"/Users/renormalization/anaconda/lib/python3.6/site-packages/pocketsphinx/pocketsphinx.py\", line 340, in end_utt\n",
      "    return _pocketsphinx.Decoder_end_utt(self)\n",
      "  File \"/Users/renormalization/anaconda/lib/python3.6/site-packages/speech_recognition/__init__.py\", line 799, in recognize_sphinx\n",
      "    decoder.end_utt()  # stop utterance processing\n",
      "KeyboardInterrupt\n",
      "  File \"/Users/renormalization/anaconda/lib/python3.6/site-packages/pocketsphinx/pocketsphinx.py\", line 340, in end_utt\n",
      "    return _pocketsphinx.Decoder_end_utt(self)\n",
      "KeyboardInterrupt\n",
      "\n",
      "\n"
     ]
    },
    {
     "ename": "KeyboardInterrupt",
     "evalue": "",
     "output_type": "error",
     "traceback": [
      "\u001b[0;31m---------------------------------------------------------------------------\u001b[0m",
      "\u001b[0;31mKeyboardInterrupt\u001b[0m                         Traceback (most recent call last)",
      "\u001b[0;32m<ipython-input-2-e43f3ced7a8c>\u001b[0m in \u001b[0;36m<module>\u001b[0;34m()\u001b[0m\n\u001b[1;32m     11\u001b[0m     \u001b[0mfulltextdic\u001b[0m \u001b[0;34m=\u001b[0m \u001b[0;34m{\u001b[0m\u001b[0;34m}\u001b[0m\u001b[0;34m\u001b[0m\u001b[0m\n\u001b[1;32m     12\u001b[0m     \u001b[0;31m## parallel\u001b[0m\u001b[0;34m\u001b[0m\u001b[0;34m\u001b[0m\u001b[0m\n\u001b[0;32m---> 13\u001b[0;31m     \u001b[0;32mfor\u001b[0m \u001b[0mresult\u001b[0m \u001b[0;32min\u001b[0m \u001b[0mpool\u001b[0m\u001b[0;34m.\u001b[0m\u001b[0mmap\u001b[0m\u001b[0;34m(\u001b[0m\u001b[0mSoundToText\u001b[0m\u001b[0;34m,\u001b[0m \u001b[0minputtasks\u001b[0m\u001b[0;34m)\u001b[0m\u001b[0;34m:\u001b[0m\u001b[0;34m\u001b[0m\u001b[0m\n\u001b[0m\u001b[1;32m     14\u001b[0m             \u001b[0mfulltextdic\u001b[0m\u001b[0;34m.\u001b[0m\u001b[0mupdate\u001b[0m\u001b[0;34m(\u001b[0m\u001b[0mresult\u001b[0m\u001b[0;34m)\u001b[0m\u001b[0;34m\u001b[0m\u001b[0m\n\u001b[1;32m     15\u001b[0m \u001b[0;31m#     ## standard\u001b[0m\u001b[0;34m\u001b[0m\u001b[0;34m\u001b[0m\u001b[0m\n",
      "\u001b[0;32m~/anaconda/lib/python3.6/multiprocessing/pool.py\u001b[0m in \u001b[0;36mmap\u001b[0;34m(self, func, iterable, chunksize)\u001b[0m\n\u001b[1;32m    258\u001b[0m         \u001b[0;32min\u001b[0m \u001b[0ma\u001b[0m \u001b[0mlist\u001b[0m \u001b[0mthat\u001b[0m \u001b[0;32mis\u001b[0m \u001b[0mreturned\u001b[0m\u001b[0;34m.\u001b[0m\u001b[0;34m\u001b[0m\u001b[0m\n\u001b[1;32m    259\u001b[0m         '''\n\u001b[0;32m--> 260\u001b[0;31m         \u001b[0;32mreturn\u001b[0m \u001b[0mself\u001b[0m\u001b[0;34m.\u001b[0m\u001b[0m_map_async\u001b[0m\u001b[0;34m(\u001b[0m\u001b[0mfunc\u001b[0m\u001b[0;34m,\u001b[0m \u001b[0miterable\u001b[0m\u001b[0;34m,\u001b[0m \u001b[0mmapstar\u001b[0m\u001b[0;34m,\u001b[0m \u001b[0mchunksize\u001b[0m\u001b[0;34m)\u001b[0m\u001b[0;34m.\u001b[0m\u001b[0mget\u001b[0m\u001b[0;34m(\u001b[0m\u001b[0;34m)\u001b[0m\u001b[0;34m\u001b[0m\u001b[0m\n\u001b[0m\u001b[1;32m    261\u001b[0m \u001b[0;34m\u001b[0m\u001b[0m\n\u001b[1;32m    262\u001b[0m     \u001b[0;32mdef\u001b[0m \u001b[0mstarmap\u001b[0m\u001b[0;34m(\u001b[0m\u001b[0mself\u001b[0m\u001b[0;34m,\u001b[0m \u001b[0mfunc\u001b[0m\u001b[0;34m,\u001b[0m \u001b[0miterable\u001b[0m\u001b[0;34m,\u001b[0m \u001b[0mchunksize\u001b[0m\u001b[0;34m=\u001b[0m\u001b[0;32mNone\u001b[0m\u001b[0;34m)\u001b[0m\u001b[0;34m:\u001b[0m\u001b[0;34m\u001b[0m\u001b[0m\n",
      "\u001b[0;32m~/anaconda/lib/python3.6/multiprocessing/pool.py\u001b[0m in \u001b[0;36mget\u001b[0;34m(self, timeout)\u001b[0m\n\u001b[1;32m    600\u001b[0m \u001b[0;34m\u001b[0m\u001b[0m\n\u001b[1;32m    601\u001b[0m     \u001b[0;32mdef\u001b[0m \u001b[0mget\u001b[0m\u001b[0;34m(\u001b[0m\u001b[0mself\u001b[0m\u001b[0;34m,\u001b[0m \u001b[0mtimeout\u001b[0m\u001b[0;34m=\u001b[0m\u001b[0;32mNone\u001b[0m\u001b[0;34m)\u001b[0m\u001b[0;34m:\u001b[0m\u001b[0;34m\u001b[0m\u001b[0m\n\u001b[0;32m--> 602\u001b[0;31m         \u001b[0mself\u001b[0m\u001b[0;34m.\u001b[0m\u001b[0mwait\u001b[0m\u001b[0;34m(\u001b[0m\u001b[0mtimeout\u001b[0m\u001b[0;34m)\u001b[0m\u001b[0;34m\u001b[0m\u001b[0m\n\u001b[0m\u001b[1;32m    603\u001b[0m         \u001b[0;32mif\u001b[0m \u001b[0;32mnot\u001b[0m \u001b[0mself\u001b[0m\u001b[0;34m.\u001b[0m\u001b[0mready\u001b[0m\u001b[0;34m(\u001b[0m\u001b[0;34m)\u001b[0m\u001b[0;34m:\u001b[0m\u001b[0;34m\u001b[0m\u001b[0m\n\u001b[1;32m    604\u001b[0m             \u001b[0;32mraise\u001b[0m \u001b[0mTimeoutError\u001b[0m\u001b[0;34m\u001b[0m\u001b[0m\n",
      "\u001b[0;32m~/anaconda/lib/python3.6/multiprocessing/pool.py\u001b[0m in \u001b[0;36mwait\u001b[0;34m(self, timeout)\u001b[0m\n\u001b[1;32m    597\u001b[0m \u001b[0;34m\u001b[0m\u001b[0m\n\u001b[1;32m    598\u001b[0m     \u001b[0;32mdef\u001b[0m \u001b[0mwait\u001b[0m\u001b[0;34m(\u001b[0m\u001b[0mself\u001b[0m\u001b[0;34m,\u001b[0m \u001b[0mtimeout\u001b[0m\u001b[0;34m=\u001b[0m\u001b[0;32mNone\u001b[0m\u001b[0;34m)\u001b[0m\u001b[0;34m:\u001b[0m\u001b[0;34m\u001b[0m\u001b[0m\n\u001b[0;32m--> 599\u001b[0;31m         \u001b[0mself\u001b[0m\u001b[0;34m.\u001b[0m\u001b[0m_event\u001b[0m\u001b[0;34m.\u001b[0m\u001b[0mwait\u001b[0m\u001b[0;34m(\u001b[0m\u001b[0mtimeout\u001b[0m\u001b[0;34m)\u001b[0m\u001b[0;34m\u001b[0m\u001b[0m\n\u001b[0m\u001b[1;32m    600\u001b[0m \u001b[0;34m\u001b[0m\u001b[0m\n\u001b[1;32m    601\u001b[0m     \u001b[0;32mdef\u001b[0m \u001b[0mget\u001b[0m\u001b[0;34m(\u001b[0m\u001b[0mself\u001b[0m\u001b[0;34m,\u001b[0m \u001b[0mtimeout\u001b[0m\u001b[0;34m=\u001b[0m\u001b[0;32mNone\u001b[0m\u001b[0;34m)\u001b[0m\u001b[0;34m:\u001b[0m\u001b[0;34m\u001b[0m\u001b[0m\n",
      "\u001b[0;32m~/anaconda/lib/python3.6/threading.py\u001b[0m in \u001b[0;36mwait\u001b[0;34m(self, timeout)\u001b[0m\n\u001b[1;32m    549\u001b[0m             \u001b[0msignaled\u001b[0m \u001b[0;34m=\u001b[0m \u001b[0mself\u001b[0m\u001b[0;34m.\u001b[0m\u001b[0m_flag\u001b[0m\u001b[0;34m\u001b[0m\u001b[0m\n\u001b[1;32m    550\u001b[0m             \u001b[0;32mif\u001b[0m \u001b[0;32mnot\u001b[0m \u001b[0msignaled\u001b[0m\u001b[0;34m:\u001b[0m\u001b[0;34m\u001b[0m\u001b[0m\n\u001b[0;32m--> 551\u001b[0;31m                 \u001b[0msignaled\u001b[0m \u001b[0;34m=\u001b[0m \u001b[0mself\u001b[0m\u001b[0;34m.\u001b[0m\u001b[0m_cond\u001b[0m\u001b[0;34m.\u001b[0m\u001b[0mwait\u001b[0m\u001b[0;34m(\u001b[0m\u001b[0mtimeout\u001b[0m\u001b[0;34m)\u001b[0m\u001b[0;34m\u001b[0m\u001b[0m\n\u001b[0m\u001b[1;32m    552\u001b[0m             \u001b[0;32mreturn\u001b[0m \u001b[0msignaled\u001b[0m\u001b[0;34m\u001b[0m\u001b[0m\n\u001b[1;32m    553\u001b[0m \u001b[0;34m\u001b[0m\u001b[0m\n",
      "\u001b[0;32m~/anaconda/lib/python3.6/threading.py\u001b[0m in \u001b[0;36mwait\u001b[0;34m(self, timeout)\u001b[0m\n\u001b[1;32m    293\u001b[0m         \u001b[0;32mtry\u001b[0m\u001b[0;34m:\u001b[0m    \u001b[0;31m# restore state no matter what (e.g., KeyboardInterrupt)\u001b[0m\u001b[0;34m\u001b[0m\u001b[0m\n\u001b[1;32m    294\u001b[0m             \u001b[0;32mif\u001b[0m \u001b[0mtimeout\u001b[0m \u001b[0;32mis\u001b[0m \u001b[0;32mNone\u001b[0m\u001b[0;34m:\u001b[0m\u001b[0;34m\u001b[0m\u001b[0m\n\u001b[0;32m--> 295\u001b[0;31m                 \u001b[0mwaiter\u001b[0m\u001b[0;34m.\u001b[0m\u001b[0macquire\u001b[0m\u001b[0;34m(\u001b[0m\u001b[0;34m)\u001b[0m\u001b[0;34m\u001b[0m\u001b[0m\n\u001b[0m\u001b[1;32m    296\u001b[0m                 \u001b[0mgotit\u001b[0m \u001b[0;34m=\u001b[0m \u001b[0;32mTrue\u001b[0m\u001b[0;34m\u001b[0m\u001b[0m\n\u001b[1;32m    297\u001b[0m             \u001b[0;32melse\u001b[0m\u001b[0;34m:\u001b[0m\u001b[0;34m\u001b[0m\u001b[0m\n",
      "\u001b[0;31mKeyboardInterrupt\u001b[0m: "
     ]
    },
    {
     "name": "stderr",
     "output_type": "stream",
     "text": [
      "Process ForkPoolWorker-89:\n",
      "Traceback (most recent call last):\n",
      "  File \"/Users/renormalization/anaconda/lib/python3.6/multiprocessing/process.py\", line 249, in _bootstrap\n",
      "    self.run()\n",
      "  File \"/Users/renormalization/anaconda/lib/python3.6/multiprocessing/process.py\", line 93, in run\n",
      "    self._target(*self._args, **self._kwargs)\n",
      "  File \"/Users/renormalization/anaconda/lib/python3.6/multiprocessing/pool.py\", line 119, in worker\n",
      "    result = (True, func(*args, **kwds))\n",
      "  File \"/Users/renormalization/anaconda/lib/python3.6/multiprocessing/pool.py\", line 44, in mapstar\n",
      "    return list(map(*args))\n",
      "  File \"/Users/renormalization/Git/Insight/Project/src/utils.py\", line 79, in SoundToText\n",
      "    text = Recon.recognize_sphinx(test_au, language='en-US')\n",
      "  File \"/Users/renormalization/anaconda/lib/python3.6/site-packages/speech_recognition/__init__.py\", line 798, in recognize_sphinx\n",
      "    decoder.process_raw(raw_data, False, True)  # process audio data with recognition enabled (no_search = False), as a full utterance (full_utt = True)\n",
      "  File \"/Users/renormalization/anaconda/lib/python3.6/site-packages/pocketsphinx/pocketsphinx.py\", line 345, in process_raw\n",
      "    return _pocketsphinx.Decoder_process_raw(self, SDATA, no_search, full_utt)\n",
      "KeyboardInterrupt\n",
      "\n",
      "Process ForkPoolWorker-91:\n",
      "Traceback (most recent call last):\n",
      "  File \"/Users/renormalization/anaconda/lib/python3.6/multiprocessing/process.py\", line 249, in _bootstrap\n",
      "    self.run()\n",
      "  File \"/Users/renormalization/anaconda/lib/python3.6/multiprocessing/process.py\", line 93, in run\n",
      "    self._target(*self._args, **self._kwargs)\n",
      "  File \"/Users/renormalization/anaconda/lib/python3.6/multiprocessing/pool.py\", line 119, in worker\n",
      "    result = (True, func(*args, **kwds))\n",
      "  File \"/Users/renormalization/anaconda/lib/python3.6/multiprocessing/pool.py\", line 44, in mapstar\n",
      "    return list(map(*args))\n",
      "  File \"/Users/renormalization/Git/Insight/Project/src/utils.py\", line 79, in SoundToText\n",
      "    text = Recon.recognize_sphinx(test_au, language='en-US')\n",
      "  File \"/Users/renormalization/anaconda/lib/python3.6/site-packages/speech_recognition/__init__.py\", line 798, in recognize_sphinx\n",
      "    decoder.process_raw(raw_data, False, True)  # process audio data with recognition enabled (no_search = False), as a full utterance (full_utt = True)\n",
      "  File \"/Users/renormalization/anaconda/lib/python3.6/site-packages/pocketsphinx/pocketsphinx.py\", line 345, in process_raw\n",
      "    return _pocketsphinx.Decoder_process_raw(self, SDATA, no_search, full_utt)\n",
      "KeyboardInterrupt\n",
      "Process ForkPoolWorker-88:\n",
      "Traceback (most recent call last):\n",
      "  File \"/Users/renormalization/anaconda/lib/python3.6/multiprocessing/process.py\", line 249, in _bootstrap\n",
      "    self.run()\n",
      "  File \"/Users/renormalization/anaconda/lib/python3.6/multiprocessing/process.py\", line 93, in run\n",
      "    self._target(*self._args, **self._kwargs)\n",
      "  File \"/Users/renormalization/anaconda/lib/python3.6/multiprocessing/pool.py\", line 119, in worker\n",
      "    result = (True, func(*args, **kwds))\n",
      "  File \"/Users/renormalization/anaconda/lib/python3.6/multiprocessing/pool.py\", line 44, in mapstar\n",
      "    return list(map(*args))\n",
      "  File \"/Users/renormalization/Git/Insight/Project/src/utils.py\", line 79, in SoundToText\n",
      "    text = Recon.recognize_sphinx(test_au, language='en-US')\n",
      "  File \"/Users/renormalization/anaconda/lib/python3.6/site-packages/speech_recognition/__init__.py\", line 798, in recognize_sphinx\n",
      "    decoder.process_raw(raw_data, False, True)  # process audio data with recognition enabled (no_search = False), as a full utterance (full_utt = True)\n",
      "  File \"/Users/renormalization/anaconda/lib/python3.6/site-packages/pocketsphinx/pocketsphinx.py\", line 345, in process_raw\n",
      "    return _pocketsphinx.Decoder_process_raw(self, SDATA, no_search, full_utt)\n",
      "KeyboardInterrupt\n",
      "\n",
      "Process ForkPoolWorker-90:\n",
      "Traceback (most recent call last):\n",
      "  File \"/Users/renormalization/anaconda/lib/python3.6/multiprocessing/process.py\", line 249, in _bootstrap\n",
      "    self.run()\n",
      "  File \"/Users/renormalization/anaconda/lib/python3.6/multiprocessing/process.py\", line 93, in run\n",
      "    self._target(*self._args, **self._kwargs)\n",
      "  File \"/Users/renormalization/anaconda/lib/python3.6/multiprocessing/pool.py\", line 119, in worker\n",
      "    result = (True, func(*args, **kwds))\n",
      "  File \"/Users/renormalization/anaconda/lib/python3.6/multiprocessing/pool.py\", line 44, in mapstar\n",
      "    return list(map(*args))\n",
      "  File \"/Users/renormalization/Git/Insight/Project/src/utils.py\", line 79, in SoundToText\n",
      "    text = Recon.recognize_sphinx(test_au, language='en-US')\n",
      "  File \"/Users/renormalization/anaconda/lib/python3.6/site-packages/speech_recognition/__init__.py\", line 798, in recognize_sphinx\n",
      "    decoder.process_raw(raw_data, False, True)  # process audio data with recognition enabled (no_search = False), as a full utterance (full_utt = True)\n",
      "  File \"/Users/renormalization/anaconda/lib/python3.6/site-packages/pocketsphinx/pocketsphinx.py\", line 345, in process_raw\n",
      "    return _pocketsphinx.Decoder_process_raw(self, SDATA, no_search, full_utt)\n",
      "KeyboardInterrupt\n",
      "\n",
      "\n"
     ]
    }
   ],
   "source": [
    "#start_time = time.time()\n",
    "## 228 is missing\n",
    "for i in tqdm(range(1, 314)): #len(pod_text) \n",
    "    file_path = path ## total \n",
    "    inputtasks = glob(file_path + str(i) + \"_*.wav\")\n",
    "    #print(\" Running %s jobs on %s cores\" % (len(inputtasks), mp.cpu_count()-2))\n",
    "    npool = min(len(inputtasks), mp.cpu_count()-1)\n",
    "    pool  = mp.Pool(npool)\n",
    "\n",
    "    fulltextdic = {}\n",
    "    ## parallel\n",
    "    for result in pool.map(SoundToText, inputtasks):\n",
    "            fulltextdic.update(result)\n",
    "#     ## standard\n",
    "#     for j in inputtasks:\n",
    "#         print(j)\n",
    "#         result = SoundToText(j) #dictionary of values, plots\n",
    "#         fulltextdic.update(result)\n",
    "    \n",
    "    fulltext = \"\"\n",
    "    for l in range(len(fulltextdic.keys())):\n",
    "        fulltext += fulltextdic[file_path + str(i) + \"_\" + str(l) + \".wav\"] + \" ; \"\n",
    "    #print(fulltext)\n",
    "    with open(file_path + str(i) + \"_trans.txt\", \"w\") as text_file:\n",
    "        text_file.write(fulltext)\n",
    "    with open(file_path + 'info_' + str(i) + '.pkl', 'wb') as f:\n",
    "        pickle.dump(fulltextdic, f)\n",
    "    pool.close()\n",
    "#print(\"--- %s seconds ---\" % (time.time() - start_time))"
   ]
  },
  {
   "cell_type": "markdown",
   "metadata": {},
   "source": [
    "## Finished!"
   ]
  },
  {
   "cell_type": "code",
   "execution_count": null,
   "metadata": {},
   "outputs": [],
   "source": []
  }
 ],
 "metadata": {
  "kernelspec": {
   "display_name": "Python 3",
   "language": "python",
   "name": "python3"
  },
  "language_info": {
   "codemirror_mode": {
    "name": "ipython",
    "version": 3
   },
   "file_extension": ".py",
   "mimetype": "text/x-python",
   "name": "python",
   "nbconvert_exporter": "python",
   "pygments_lexer": "ipython3",
   "version": "3.6.5"
  }
 },
 "nbformat": 4,
 "nbformat_minor": 2
}
