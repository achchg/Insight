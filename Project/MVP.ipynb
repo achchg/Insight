{
 "cells": [
  {
   "cell_type": "markdown",
   "metadata": {},
   "source": [
    "Creating first MVP product; for Jun 7 2018"
   ]
  },
  {
   "cell_type": "markdown",
   "metadata": {},
   "source": [
    "## Install Libraries"
   ]
  },
  {
   "cell_type": "markdown",
   "metadata": {},
   "source": [
    "#### Python library resource: https://awesome-python.com/\n",
    "\n",
    "Installations for extra packages: \n",
    "- !pip install SpeechRecognition\n",
    "- !pip install PocketSphinx\n",
    "- !brew install portaudio\n",
    "- !pip install pyaudio\n",
    "- !pip install sumy\n",
    "- !pip install --upgrade google-api-python-client\n",
    "- !pip install --upgrade google-cloud-speech\n",
    "- !pip install oauth2client\n",
    "- !pip install pyAudioAnalysis ; 2to3 -w *.py; fixes"
   ]
  },
  {
   "cell_type": "markdown",
   "metadata": {},
   "source": [
    "## Data Sources:\n",
    "\n",
    "- __[NYT daily from podbay](http://podbay.fm/show/1200361736/e/1527587699?autostart=1)__; \n",
    "- NYT daily: https://itunes.apple.com/us/podcast/the-daily/id1200361736?mt=2&ign-mpt=uo%3D4\n",
    "- Open Audio Source: http://www.openslr.org/resources.php\n",
    "- Economist: https://www.economist.com/audio-edition/2018-06-02\n",
    "- Economist text: https://xmuplus.github.io/\n",
    "- NPR: https://www.npr.org/programs/morning-edition/\n",
    "- NPR sunday: https://www.npr.org/programs/weekend-edition-sunday/\n",
    "- Ted talk: https://itunes.apple.com/us/podcast/ted-talks-daily/id160904630?mt=2\n",
    "- Public meeting: http://www.sbccd.org/Board_of_Trustees/Agendas_and_Minutes\n",
    "- NPR upfirst: https://www.npr.org/podcasts/510318/up-first\n",
    "- Congress: https://www.loc.gov/item/sn88063877/"
   ]
  },
  {
   "cell_type": "markdown",
   "metadata": {},
   "source": [
    "## Speech Recognition\n",
    "\n",
    "- Real python: https://realpython.com/python-speech-recognition/#working-with-audio-files\n",
    "- Speech Recognition: https://github.com/Uberi/speech_recognition#readme\n",
    "- Speech Recognition: https://pypi.org/project/SpeechRecognition/3.2.0/\n",
    "- Pocket Sphinx: https://pypi.org/project/pocketsphinx/\n",
    "- Pydub: https://github.com/jiaaro/pydub/blob/master/API.markdown\n",
    "- Audio processing in python: http://myinspirationinformation.com/uncategorized/audio-signals-in-python/\n",
    "- Speaker Recognition: https://github.com/orchidas/Speaker-Recognition\n",
    "- Audio training analysis: https://github.com/tyiannak/pyAudioAnalysis"
   ]
  },
  {
   "cell_type": "markdown",
   "metadata": {},
   "source": [
    "## Natural Language Processing\n",
    "\n",
    "- Insight: https://blog.insightdatascience.com/how-to-solve-90-of-nlp-problems-a-step-by-step-guide-fda605278e4e\n",
    "- Intro/resource: https://github.com/icoxfog417/awesome-text-summarization\n",
    "- Summy: https://github.com/miso-belica/sumy\n",
    "- NewsHighlights: https://cs.nyu.edu/~kcho/DMQA/\n",
    "- Q&AAnswer: https://rajpurkar.github.io/SQuAD-explorer/"
   ]
  },
  {
   "cell_type": "markdown",
   "metadata": {},
   "source": [
    "## Web App\n",
    "\n",
    "* Dash audio? https://community.plot.ly/t/audio-recording-feature-in-dash-app/7837\n",
    "* Flask audio: https://henri.io/posts/streaming-microphone-input-with-flask.html\n",
    "* Flask example: https://realpython.com/flask-by-example-part-1-project-setup/\n"
   ]
  },
  {
   "cell_type": "markdown",
   "metadata": {},
   "source": [
    "\n",
    "***\n",
    "### Import basic libraries\n",
    "***\n"
   ]
  },
  {
   "cell_type": "code",
   "execution_count": 3,
   "metadata": {},
   "outputs": [
    {
     "name": "stderr",
     "output_type": "stream",
     "text": [
      "/Users/renormalization/anaconda/lib/python3.6/site-packages/pydub/utils.py:187: RuntimeWarning: Couldn't find ffplay or avplay - defaulting to ffplay, but may not work\n",
      "  warn(\"Couldn't find ffplay or avplay - defaulting to ffplay, but may not work\", RuntimeWarning)\n"
     ]
    }
   ],
   "source": [
    "## for speech to text\n",
    "import speech_recognition as sr\n",
    "\n",
    "\n",
    "## for audio processing and analytical study\n",
    "from pydub import AudioSegment ##for audio spliting\n",
    "from pydub.silence import split_on_silence\n",
    "from pydub.playback import play\n",
    "\n",
    "## for audio collection\n",
    "import pyaudio\n",
    "import wave\n",
    "\n",
    "## for text recognition\n",
    "import nltk\n",
    "import string\n",
    "import json\n",
    "\n",
    "## for general studies\n",
    "from os import listdir\n",
    "from os.path import isfile, join\n",
    "import glob\n",
    "from numpy import fft as fft\n",
    "import matplotlib.pyplot as plt\n",
    "import numpy as np\n",
    "import sys\n",
    "import seaborn as sns\n",
    "from tqdm import tqdm\n",
    "import time as time\n",
    "import multiprocessing as mp\n",
    "\n",
    "## My codes\n",
    "from src.utils import wer\n",
    "from src.utils import SoundToText\n",
    "from src.utils import PrepareSound\n",
    "\n",
    "## settings\n",
    "%matplotlib inline\n",
    "\n",
    "# Some more magic so that the notebook will reload external python modules;\n",
    "# see http://stackoverflow.com/questions/1907993/autoreload-of-modules-in-ipython\n",
    "%load_ext autoreload\n",
    "%autoreload 2"
   ]
  },
  {
   "cell_type": "code",
   "execution_count": 4,
   "metadata": {},
   "outputs": [],
   "source": [
    "## Intitialize a recognizer\n",
    "r_live = sr.Recognizer()\n",
    "r_rec  = sr.Recognizer()"
   ]
  },
  {
   "cell_type": "markdown",
   "metadata": {},
   "source": [
    "\n",
    "***\n",
    "### Study WAV sound files\n",
    "***\n"
   ]
  },
  {
   "cell_type": "code",
   "execution_count": 5,
   "metadata": {},
   "outputs": [
    {
     "name": "stdout",
     "output_type": "stream",
     "text": [
      "Data/NCE/2/1.wav    Data/NCE/2/1_0.wav  Data/NCE/2/1_19.wav Data/NCE/2/1_7.wav\r\n",
      "Data/NCE/2/10.wav   Data/NCE/2/1_1.wav  Data/NCE/2/1_2.wav  Data/NCE/2/1_8.wav\r\n",
      "Data/NCE/2/11.wav   Data/NCE/2/1_10.wav Data/NCE/2/1_20.wav Data/NCE/2/1_9.wav\r\n",
      "Data/NCE/2/12.wav   Data/NCE/2/1_11.wav Data/NCE/2/1_21.wav Data/NCE/2/21.wav\r\n",
      "Data/NCE/2/13.wav   Data/NCE/2/1_12.wav Data/NCE/2/1_22.wav Data/NCE/2/31.wav\r\n",
      "Data/NCE/2/14.wav   Data/NCE/2/1_13.wav Data/NCE/2/1_23.wav Data/NCE/2/41.wav\r\n",
      "Data/NCE/2/15.wav   Data/NCE/2/1_14.wav Data/NCE/2/1_24.wav Data/NCE/2/51.wav\r\n",
      "Data/NCE/2/16.wav   Data/NCE/2/1_15.wav Data/NCE/2/1_3.wav  Data/NCE/2/61.wav\r\n",
      "Data/NCE/2/17.wav   Data/NCE/2/1_16.wav Data/NCE/2/1_4.wav  Data/NCE/2/71.wav\r\n",
      "Data/NCE/2/18.wav   Data/NCE/2/1_17.wav Data/NCE/2/1_5.wav  Data/NCE/2/81.wav\r\n",
      "Data/NCE/2/19.wav   Data/NCE/2/1_18.wav Data/NCE/2/1_6.wav  Data/NCE/2/91.wav\r\n"
     ]
    }
   ],
   "source": [
    "!ls Data/NCE/2/*1*.wav"
   ]
  },
  {
   "cell_type": "code",
   "execution_count": 6,
   "metadata": {},
   "outputs": [],
   "source": [
    "# The wav file path\n",
    "f_wav = 'Data/NCE/2/1.wav'"
   ]
  },
  {
   "cell_type": "code",
   "execution_count": 7,
   "metadata": {},
   "outputs": [
    {
     "name": "stdout",
     "output_type": "stream",
     "text": [
      "78.3934693877551\n",
      "DBFS -21.91979724347295 Max DBFS -1.1749991515185085\n",
      "RMS 2627\n",
      "Frame rate 44100\n"
     ]
    }
   ],
   "source": [
    "## Get the length of audio file\n",
    "sound = AudioSegment.from_file(f_wav)\n",
    "print(sound.duration_seconds)\n",
    "print(\"DBFS\", sound.dBFS, \"Max DBFS\", sound.max_dBFS)\n",
    "print(\"RMS\", sound.rms)\n",
    "print(\"Frame rate\", sound.frame_rate)"
   ]
  },
  {
   "cell_type": "code",
   "execution_count": 16,
   "metadata": {},
   "outputs": [
    {
     "data": {
      "image/png": "[encoded data removed]",
      "text/plain": [
       "<matplotlib.figure.Figure at 0x1a700f4c88>"
      ]
     },
     "metadata": {},
     "output_type": "display_data"
    }
   ],
   "source": [
    "## Get the raw sound data as array\n",
    "r_np = sound.get_array_of_samples()\n",
    "sns.set_style(\"white\")\n",
    "##inspect time vs Amplitude\n",
    "plt.clf()\n",
    "plt.title(f_wav)\n",
    "plt.plot(np.linspace(0, len(r_np)/sound.frame_rate, len(r_np)), r_np, linewidth=0.3, alpha=0.8)\n",
    "plt.xlim(1, 10)\n",
    "plt.xlabel('Time')\n",
    "plt.ylabel('Amplitude')\n",
    "plt.show()"
   ]
  },
  {
   "cell_type": "code",
   "execution_count": 7,
   "metadata": {},
   "outputs": [
    {
     "data": {
      "image/png": "[encoded data removed]",
      "text/plain": [
       "<matplotlib.figure.Figure at 0x11983da58>"
      ]
     },
     "metadata": {},
     "output_type": "display_data"
    }
   ],
   "source": [
    "## Frequency analysis, if needed\n",
    "fourier=fft.fft(r_np)\n",
    "plt.clf()\n",
    "# plt.subplot(1, 2, 1)\n",
    "# plt.plot(fourier, color='#ff7f00')\n",
    "# plt.xlabel('Frequency')\n",
    "# plt.ylabel('Amplitude')\n",
    "# plt.title(f_wav)\n",
    "\n",
    "n = len(r_np)\n",
    "fourier = fourier[0:int(n/2)]\n",
    "\n",
    "# scale by the number of points so that the magnitude does not depend on the length\n",
    "fourier = fourier / float(n)\n",
    "fourier = abs(fourier)\n",
    "fourier = fourier ** 2\n",
    "\n",
    "# rebase 0 as the minimal voice\n",
    "vol =  10*np.log10(fourier) - 10*np.log10(min(fourier))\n",
    "\n",
    "#calculate the frequency at each point in Hz\n",
    "freqArray = np.arange(0, (n/2), 1.0) * (sound.frame_rate*1.0/n);\n",
    "\n",
    "# plt.subplot(1, 2, 2)\n",
    "plt.plot(freqArray/1000, vol, color='#ff7f00', linewidth=0.02)\n",
    "plt.xlabel('Frequency (kHz)')\n",
    "plt.ylabel('Power (dB)')\n",
    "plt.title(f_wav)\n",
    "plt.show()"
   ]
  },
  {
   "cell_type": "markdown",
   "metadata": {},
   "source": [
    "\n",
    "***\n",
    "### Sound file decomposition\n",
    "***"
   ]
  },
  {
   "cell_type": "code",
   "execution_count": 166,
   "metadata": {},
   "outputs": [
    {
     "name": "stdout",
     "output_type": "stream",
     "text": [
      "1.3065578231292518\n",
      "--- 0.028814077377319336 seconds ---\n",
      "\u001b[1m\u001b[36mData\u001b[m\u001b[m                     \u001b[1m\u001b[36mPlot\u001b[m\u001b[m                     chunk_s0.wav\r\n",
      "DownloadAudio_NPR.ipynb  Prev_MVP.ipynb           chunk_s1.wav\r\n",
      "Jun15_MVP.ipynb          README.md                chunk_s2.wav\r\n",
      "Jun8_MVPProcessing.ipynb Sphinx-VS-Google.ipynb   \u001b[1m\u001b[36msrc\u001b[m\u001b[m\r\n",
      "Jun8_MVPrecording.ipynb  Text_to_Suammary.ipynb   \u001b[1m\u001b[36mwebsite\u001b[m\u001b[m\r\n",
      "MVP.ipynb                all_sum.txt\r\n",
      "NLP_studies.ipynb        all_trans.txt\r\n"
     ]
    }
   ],
   "source": [
    "## split sound in 10-second slices and export\n",
    "start_time = time.time()\n",
    "sound_file = AudioSegment.from_wav(f_wav)\n",
    "print(sound_file.duration_seconds/60)\n",
    "for i, chunk in enumerate(sound_file[::30 * 1000]):\n",
    "  with open(\"chunk_s\" + str(i) + \".wav\", \"wb\") as f:\n",
    "    chunk.export(f, format=\"wav\")\n",
    "\n",
    "print(\"--- %s seconds ---\" % (time.time() - start_time))\n",
    "!ls"
   ]
  },
  {
   "cell_type": "code",
   "execution_count": 16,
   "metadata": {},
   "outputs": [
    {
     "name": "stdout",
     "output_type": "stream",
     "text": [
      "159.16408163265305\n",
      "DBFS -21.242631898253602 Max DBFS -1.53625337582213\n",
      "RMS 2840 7.95155933116\n",
      "Frame rate 44100\n"
     ]
    }
   ],
   "source": [
    "#sound_file = AudioSegment.from_wav(f_wav)\n",
    "print(\"DURATION\", sound_file.duration_seconds)\n",
    "print(\"DBFS\", sound_file.dBFS, \"Max DBFS\", sound_file.max_dBFS)\n",
    "print(\"RMS\", sound_file.rms, np.log(sound_file.rms))\n",
    "print(\"Frame rate\", sound_file.frame_rate)"
   ]
  },
  {
   "cell_type": "code",
   "execution_count": 51,
   "metadata": {},
   "outputs": [
    {
     "name": "stdout",
     "output_type": "stream",
     "text": [
      "42\n",
      "exporting chunk_s0.wav -19.284879824236235\n",
      "exporting chunk_s1.wav -20.34554548646348\n",
      "exporting chunk_s2.wav -19.067902106066782\n",
      "exporting chunk_s3.wav -20.055310774851087\n",
      "exporting chunk_s4.wav -21.640002823962433\n",
      "exporting chunk_s5.wav -21.160444840264667\n",
      "exporting chunk_s6.wav -24.345041356998056\n",
      "exporting chunk_s7.wav -22.426972658393463\n",
      "exporting chunk_s8.wav -20.594570169562758\n",
      "exporting chunk_s9.wav -20.375939914176\n",
      "exporting chunk_s10.wav -21.09705492124233\n",
      "exporting chunk_s11.wav -21.979517117189943\n",
      "exporting chunk_s12.wav -20.67441475999404\n",
      "exporting chunk_s13.wav -20.43983767929059\n",
      "exporting chunk_s14.wav -20.749219174176567\n",
      "exporting chunk_s15.wav -20.329011427591293\n",
      "exporting chunk_s16.wav -22.636281331956766\n",
      "exporting chunk_s17.wav -22.44100479333232\n",
      "exporting chunk_s18.wav -21.23651722736534\n",
      "exporting chunk_s19.wav -22.100202974987425\n",
      "exporting chunk_s20.wav -21.691379770136532\n",
      "exporting chunk_s21.wav -21.064034392094406\n",
      "exporting chunk_s22.wav -21.588927985796428\n",
      "exporting chunk_s23.wav -21.169538426478\n",
      "exporting chunk_s24.wav -20.620154546346217\n",
      "exporting chunk_s25.wav -20.763678790697305\n",
      "exporting chunk_s26.wav -22.490296557126776\n",
      "exporting chunk_s27.wav -20.603089924672577\n",
      "exporting chunk_s28.wav -21.157415759279104\n",
      "exporting chunk_s29.wav -21.10608234935935\n",
      "exporting chunk_s30.wav -21.437481104189207\n",
      "exporting chunk_s31.wav -21.82116761098881\n",
      "exporting chunk_s32.wav -20.195148550950353\n",
      "exporting chunk_s33.wav -21.10608234935935\n",
      "exporting chunk_s34.wav -21.172571738762382\n",
      "exporting chunk_s35.wav -20.927292716731948\n",
      "exporting chunk_s36.wav -21.465676983499954\n",
      "exporting chunk_s37.wav -22.38501175727963\n",
      "exporting chunk_s38.wav -20.865575765347092\n",
      "exporting chunk_s39.wav -25.295720309929486\n",
      "exporting chunk_s40.wav -22.73740717687886\n",
      "exporting chunk_s41.wav -21.172571738762382\n",
      "--- 22.59235692024231 seconds ---\n",
      "\u001b[1m\u001b[36mData\u001b[m\u001b[m                     chunk_s14.wav            chunk_s32.wav\r\n",
      "DownloadAudio_NPR.ipynb  chunk_s15.wav            chunk_s33.wav\r\n",
      "Jun15_MVP.ipynb          chunk_s16.wav            chunk_s34.wav\r\n",
      "Jun8_MVPProcessing.ipynb chunk_s17.wav            chunk_s35.wav\r\n",
      "Jun8_MVPrecording.ipynb  chunk_s18.wav            chunk_s36.wav\r\n",
      "MVP.ipynb                chunk_s19.wav            chunk_s37.wav\r\n",
      "NLP_studies.ipynb        chunk_s2.wav             chunk_s38.wav\r\n",
      "\u001b[1m\u001b[36mPlot\u001b[m\u001b[m                     chunk_s20.wav            chunk_s39.wav\r\n",
      "Prev_MVP.ipynb           chunk_s21.wav            chunk_s4.wav\r\n",
      "README.md                chunk_s22.wav            chunk_s40.wav\r\n",
      "Sphinx-VS-Google.ipynb   chunk_s23.wav            chunk_s41.wav\r\n",
      "Text_to_Suammary.ipynb   chunk_s24.wav            chunk_s5.wav\r\n",
      "all_sum.txt              chunk_s25.wav            chunk_s6.wav\r\n",
      "all_trans.txt            chunk_s26.wav            chunk_s7.wav\r\n",
      "chunk_s0.wav             chunk_s27.wav            chunk_s8.wav\r\n",
      "chunk_s1.wav             chunk_s28.wav            chunk_s9.wav\r\n",
      "chunk_s10.wav            chunk_s29.wav            \u001b[1m\u001b[36msrc\u001b[m\u001b[m\r\n",
      "chunk_s11.wav            chunk_s3.wav             \u001b[1m\u001b[36mwebsite\u001b[m\u001b[m\r\n",
      "chunk_s12.wav            chunk_s30.wav\r\n",
      "chunk_s13.wav            chunk_s31.wav\r\n"
     ]
    }
   ],
   "source": [
    "#f_wav = \"Data/Live/output_8.wav\"\n",
    "#f_wav = 'Data/NCE/2/1.wav'\n",
    "f_wav = 'Data/NPR_story/1.mp3'\n",
    "!rm chunk_*.wav\n",
    "# silence split, if necessary\n",
    "start_time = time.time()\n",
    "#sound_file = AudioSegment.from_wav(f_wav)\n",
    "sound_file = AudioSegment.from_mp3(f_wav)\n",
    "audio_chunks = split_on_silence(sound_file, \n",
    "    # must be silent for at least half a second; in ms\n",
    "    min_silence_len=500,\n",
    "    # keep a part of silence so there is no cutoff ; in ms                           \n",
    "    keep_silence=250,\n",
    "    # consider it silent; roughly this is 10dB, intensity 1/10 of the ave\n",
    "    silence_thresh= (sound_file.dBFS * 1.5 - sound_file.max_dBFS/2))\n",
    "\n",
    "print(len(audio_chunks))\n",
    "## split into chunks\n",
    "for i, chunk in enumerate(audio_chunks):\n",
    "    out_file = \"chunk_s{0}.wav\".format(i)\n",
    "    print(\"exporting\", out_file, chunk.dBFS, chunk.max_dBFS, chunk.duration_seconds, chunk.rms)\n",
    "    chunk.export(out_file, format=\"wav\")\n",
    "\n",
    "print(\"--- %s seconds ---\" % (time.time() - start_time))\n",
    "!ls"
   ]
  },
  {
   "cell_type": "code",
   "execution_count": 53,
   "metadata": {},
   "outputs": [
    {
     "name": "stdout",
     "output_type": "stream",
     "text": [
      "42\n",
      "exporting chunk_s0.wav -19.284879824236235 -1.53625337582213 9.13498866213152 3558\n",
      "exporting chunk_s1.wav -20.34554548646348 -2.159141109992312 7.151995464852607 3149\n",
      "exporting chunk_s2.wav -19.067902106066782 -4.91967383168064 1.4479818594104308 3648\n",
      "exporting chunk_s3.wav -20.055310774851087 -3.2011178067309416 3.731995464852608 3256\n",
      "exporting chunk_s4.wav -21.640002823962433 -2.2644590686078327 9.696984126984127 2713\n",
      "exporting chunk_s5.wav -21.160444840264667 -2.0366338654545038 6.490997732426304 2867\n",
      "exporting chunk_s6.wav -24.345041356998056 -6.167087890809997 0.6229931972789116 1987\n",
      "exporting chunk_s7.wav -22.426972658393463 -4.71748477665996 1.1760090702947845 2478\n",
      "exporting chunk_s8.wav -20.594570169562758 -1.9168220010322998 15.089002267573695 3060\n",
      "exporting chunk_s9.wav -20.375939914176 -2.7763647670236935 4.089002267573696 3138\n",
      "exporting chunk_s10.wav -21.09705492124233 -2.71020424315604 2.86 2888\n",
      "exporting chunk_s11.wav -21.979517117189943 -1.9682051974199752 1.9740136054421769 2609\n",
      "exporting chunk_s12.wav -20.67441475999404 -2.0232395305004562 4.696009070294784 3032\n",
      "exporting chunk_s13.wav -20.43983767929059 -2.49806790141832 1.9010204081632653 3115\n",
      "exporting chunk_s14.wav -20.749219174176567 -3.7516073240618484 1.5 3006\n",
      "exporting chunk_s15.wav -20.329011427591293 -3.509243363127408 3.1140136054421768 3155\n",
      "exporting chunk_s16.wav -22.636281331956766 -1.8943752703629193 1.5529931972789115 2419\n",
      "exporting chunk_s17.wav -22.44100479333232 -2.8496545714512624 4.200997732426304 2474\n",
      "exporting chunk_s18.wav -21.23651722736534 -1.6112362818480408 3.0529931972789117 2842\n",
      "exporting chunk_s19.wav -22.100202974987425 -2.8231989456881372 1.1 2573\n",
      "exporting chunk_s20.wav -21.691379770136532 -1.6778638782314623 8.188004535147392 2697\n",
      "exporting chunk_s21.wav -21.064034392094406 -2.650296340722789 1.3450113378684807 2899\n",
      "exporting chunk_s22.wav -21.588927985796428 -2.9794188670224795 2.9719954648526077 2729\n",
      "exporting chunk_s23.wav -21.169538426478 -1.627205930836543 1.2670068027210883 2864\n",
      "exporting chunk_s24.wav -20.620154546346217 -2.444867607927055 2.288004535147392 3051\n",
      "exporting chunk_s25.wav -20.763678790697305 -1.6650111241282561 2.99 3001\n",
      "exporting chunk_s26.wav -22.490296557126776 -2.345683037067148 1.529002267573696 2460\n",
      "exporting chunk_s27.wav -20.603089924672577 -1.5797027363619893 4.308004535147393 3057\n",
      "exporting chunk_s28.wav -21.157415759279104 -2.3672395751333664 3.929002267573696 2868\n",
      "exporting chunk_s29.wav -21.10608234935935 -2.958525861813966 1.064013605442177 2885\n",
      "exporting chunk_s30.wav -21.437481104189207 -1.6875159401626476 3.1110204081632653 2777\n",
      "exporting chunk_s31.wav -21.82116761098881 -1.6936344649544701 1.5380045351473923 2657\n",
      "exporting chunk_s32.wav -20.195148550950353 -4.891231405217708 2.0290022675736963 3204\n",
      "exporting chunk_s33.wav -21.10608234935935 -2.40177180037281 2.3449886621315192 2885\n",
      "exporting chunk_s34.wav -21.172571738762382 -2.9083644450027335 2.664013605442177 2863\n",
      "exporting chunk_s35.wav -20.927292716731948 -2.591156004946289 1.6059863945578232 2945\n",
      "exporting chunk_s36.wav -21.465676983499954 -1.6039000912764019 1.4739909297052154 2768\n",
      "exporting chunk_s37.wav -22.38501175727963 -4.197242657747543 2.355011337868481 2490\n",
      "exporting chunk_s38.wav -20.865575765347092 -1.7488960085581498 3.300997732426304 2966\n",
      "exporting chunk_s39.wav -25.295720309929486 -6.168166280486479 0.6609977324263039 1781\n",
      "exporting chunk_s40.wav -22.73740717687886 -2.3961815252719942 2.204013605442177 2391\n",
      "exporting chunk_s41.wav -21.172571738762382 -5.215137510972908 10.780997732426304 2863\n",
      "--- 1953.7814919948578 seconds ---\n",
      "\u001b[1m\u001b[36mData\u001b[m\u001b[m                     chunk_s14.wav            chunk_s32.wav\n",
      "DownloadAudio_NPR.ipynb  chunk_s15.wav            chunk_s33.wav\n",
      "Jun15_MVP.ipynb          chunk_s16.wav            chunk_s34.wav\n",
      "Jun8_MVPProcessing.ipynb chunk_s17.wav            chunk_s35.wav\n",
      "Jun8_MVPrecording.ipynb  chunk_s18.wav            chunk_s36.wav\n",
      "MVP.ipynb                chunk_s19.wav            chunk_s37.wav\n",
      "NLP_studies.ipynb        chunk_s2.wav             chunk_s38.wav\n",
      "\u001b[1m\u001b[36mPlot\u001b[m\u001b[m                     chunk_s20.wav            chunk_s39.wav\n",
      "Prev_MVP.ipynb           chunk_s21.wav            chunk_s4.wav\n",
      "README.md                chunk_s22.wav            chunk_s40.wav\n",
      "Sphinx-VS-Google.ipynb   chunk_s23.wav            chunk_s41.wav\n",
      "Text_to_Suammary.ipynb   chunk_s24.wav            chunk_s5.wav\n",
      "all_sum.txt              chunk_s25.wav            chunk_s6.wav\n",
      "all_trans.txt            chunk_s26.wav            chunk_s7.wav\n",
      "chunk_s0.wav             chunk_s27.wav            chunk_s8.wav\n",
      "chunk_s1.wav             chunk_s28.wav            chunk_s9.wav\n",
      "chunk_s10.wav            chunk_s29.wav            \u001b[1m\u001b[36msrc\u001b[m\u001b[m\n",
      "chunk_s11.wav            chunk_s3.wav             \u001b[1m\u001b[36mwebsite\u001b[m\u001b[m\n",
      "chunk_s12.wav            chunk_s30.wav\n",
      "chunk_s13.wav            chunk_s31.wav\n"
     ]
    }
   ],
   "source": [
    "print(len(audio_chunks))\n",
    "fulldbfs = []\n",
    "fullmaxdbfs = []\n",
    "fullmax = []\n",
    "fullrms = []\n",
    "## split into chunks\n",
    "for i, chunk in enumerate(audio_chunks):\n",
    "    out_file = \"chunk_s{0}.wav\".format(i)\n",
    "    fulldbfs.append(chunk.dBFS)\n",
    "    fullmaxdbfs.append(chunk.max_dBFS)\n",
    "    fullmax.append(chunk.max)\n",
    "    fullrms.append(chunk.rms)\n",
    "    print(\"exporting\", out_file, chunk.dBFS, chunk.max_dBFS, chunk.duration_seconds, chunk.rms)\n",
    "    chunk.export(out_file, format=\"wav\")\n",
    "\n",
    "print(\"--- %s seconds ---\" % (time.time() - start_time))\n",
    "!ls"
   ]
  },
  {
   "cell_type": "code",
   "execution_count": 42,
   "metadata": {},
   "outputs": [
    {
     "name": "stderr",
     "output_type": "stream",
     "text": [
      "\r",
      "  0%|          | 0/42 [00:00<?, ?it/s]"
     ]
    },
    {
     "name": "stdout",
     "output_type": "stream",
     "text": [
      "chunk_s0.wav\n"
     ]
    },
    {
     "name": "stderr",
     "output_type": "stream",
     "text": [
      "\r",
      "  2%|▏         | 1/42 [00:04<03:04,  4.51s/it]"
     ]
    },
    {
     "name": "stdout",
     "output_type": "stream",
     "text": [
      "chunk_s1.wav\n"
     ]
    },
    {
     "name": "stderr",
     "output_type": "stream",
     "text": [
      "\r",
      "  5%|▍         | 2/42 [00:07<02:36,  3.92s/it]"
     ]
    },
    {
     "name": "stdout",
     "output_type": "stream",
     "text": [
      "chunk_s2.wav\n"
     ]
    },
    {
     "name": "stderr",
     "output_type": "stream",
     "text": [
      "\r",
      "  7%|▋         | 3/42 [00:08<01:53,  2.91s/it]"
     ]
    },
    {
     "name": "stdout",
     "output_type": "stream",
     "text": [
      "chunk_s3.wav\n"
     ]
    },
    {
     "name": "stderr",
     "output_type": "stream",
     "text": [
      "\r",
      " 10%|▉         | 4/42 [00:09<01:33,  2.45s/it]"
     ]
    },
    {
     "name": "stdout",
     "output_type": "stream",
     "text": [
      "chunk_s4.wav\n"
     ]
    },
    {
     "name": "stderr",
     "output_type": "stream",
     "text": [
      "\r",
      " 12%|█▏        | 5/42 [00:13<01:37,  2.63s/it]"
     ]
    },
    {
     "name": "stdout",
     "output_type": "stream",
     "text": [
      "chunk_s5.wav\n"
     ]
    },
    {
     "name": "stderr",
     "output_type": "stream",
     "text": [
      "\r",
      " 14%|█▍        | 6/42 [00:15<01:34,  2.62s/it]"
     ]
    },
    {
     "name": "stdout",
     "output_type": "stream",
     "text": [
      "chunk_s6.wav\n"
     ]
    },
    {
     "name": "stderr",
     "output_type": "stream",
     "text": [
      "\r",
      " 17%|█▋        | 7/42 [00:16<01:21,  2.32s/it]"
     ]
    },
    {
     "name": "stdout",
     "output_type": "stream",
     "text": [
      "chunk_s7.wav\n"
     ]
    },
    {
     "name": "stderr",
     "output_type": "stream",
     "text": [
      "\r",
      " 19%|█▉        | 8/42 [00:17<01:12,  2.13s/it]"
     ]
    },
    {
     "name": "stdout",
     "output_type": "stream",
     "text": [
      "chunk_s8.wav\n"
     ]
    },
    {
     "name": "stderr",
     "output_type": "stream",
     "text": [
      "\r",
      " 21%|██▏       | 9/42 [00:26<01:35,  2.90s/it]"
     ]
    },
    {
     "name": "stdout",
     "output_type": "stream",
     "text": [
      "chunk_s9.wav\n"
     ]
    },
    {
     "name": "stderr",
     "output_type": "stream",
     "text": [
      "\r",
      " 24%|██▍       | 10/42 [00:27<01:27,  2.74s/it]"
     ]
    },
    {
     "name": "stdout",
     "output_type": "stream",
     "text": [
      "chunk_s10.wav\n"
     ]
    },
    {
     "name": "stderr",
     "output_type": "stream",
     "text": [
      "\r",
      " 26%|██▌       | 11/42 [00:28<01:20,  2.61s/it]"
     ]
    },
    {
     "name": "stdout",
     "output_type": "stream",
     "text": [
      "chunk_s11.wav\n"
     ]
    },
    {
     "name": "stderr",
     "output_type": "stream",
     "text": [
      "\r",
      " 29%|██▊       | 12/42 [00:30<01:15,  2.50s/it]"
     ]
    },
    {
     "name": "stdout",
     "output_type": "stream",
     "text": [
      "chunk_s12.wav\n"
     ]
    },
    {
     "name": "stderr",
     "output_type": "stream",
     "text": [
      "\r",
      " 31%|███       | 13/42 [00:31<01:11,  2.46s/it]"
     ]
    },
    {
     "name": "stdout",
     "output_type": "stream",
     "text": [
      "chunk_s13.wav\n"
     ]
    },
    {
     "name": "stderr",
     "output_type": "stream",
     "text": [
      "\r",
      " 33%|███▎      | 14/42 [00:32<01:05,  2.34s/it]"
     ]
    },
    {
     "name": "stdout",
     "output_type": "stream",
     "text": [
      "chunk_s14.wav\n"
     ]
    },
    {
     "name": "stderr",
     "output_type": "stream",
     "text": [
      "\r",
      " 36%|███▌      | 15/42 [00:33<01:00,  2.24s/it]"
     ]
    },
    {
     "name": "stdout",
     "output_type": "stream",
     "text": [
      "chunk_s15.wav\n"
     ]
    },
    {
     "name": "stderr",
     "output_type": "stream",
     "text": [
      "\r",
      " 38%|███▊      | 16/42 [00:34<00:56,  2.17s/it]"
     ]
    },
    {
     "name": "stdout",
     "output_type": "stream",
     "text": [
      "chunk_s16.wav\n"
     ]
    },
    {
     "name": "stderr",
     "output_type": "stream",
     "text": [
      "\r",
      " 40%|████      | 17/42 [00:35<00:52,  2.10s/it]"
     ]
    },
    {
     "name": "stdout",
     "output_type": "stream",
     "text": [
      "chunk_s17.wav\n"
     ]
    },
    {
     "name": "stderr",
     "output_type": "stream",
     "text": [
      "\r",
      " 43%|████▎     | 18/42 [00:37<00:49,  2.06s/it]"
     ]
    },
    {
     "name": "stdout",
     "output_type": "stream",
     "text": [
      "chunk_s18.wav\n"
     ]
    },
    {
     "name": "stderr",
     "output_type": "stream",
     "text": [
      "\r",
      " 45%|████▌     | 19/42 [00:38<00:46,  2.03s/it]"
     ]
    },
    {
     "name": "stdout",
     "output_type": "stream",
     "text": [
      "chunk_s19.wav\n"
     ]
    },
    {
     "name": "stderr",
     "output_type": "stream",
     "text": [
      "\r",
      " 48%|████▊     | 20/42 [00:39<00:43,  1.97s/it]"
     ]
    },
    {
     "name": "stdout",
     "output_type": "stream",
     "text": [
      "chunk_s20.wav\n"
     ]
    },
    {
     "name": "stderr",
     "output_type": "stream",
     "text": [
      "\r",
      " 50%|█████     | 21/42 [00:41<00:41,  1.99s/it]"
     ]
    },
    {
     "name": "stdout",
     "output_type": "stream",
     "text": [
      "chunk_s21.wav\n"
     ]
    },
    {
     "name": "stderr",
     "output_type": "stream",
     "text": [
      "\r",
      " 52%|█████▏    | 22/42 [00:42<00:38,  1.93s/it]"
     ]
    },
    {
     "name": "stdout",
     "output_type": "stream",
     "text": [
      "chunk_s22.wav\n"
     ]
    },
    {
     "name": "stderr",
     "output_type": "stream",
     "text": [
      "\r",
      " 55%|█████▍    | 23/42 [00:43<00:35,  1.89s/it]"
     ]
    },
    {
     "name": "stdout",
     "output_type": "stream",
     "text": [
      "chunk_s23.wav\n"
     ]
    },
    {
     "name": "stderr",
     "output_type": "stream",
     "text": [
      "\r",
      " 57%|█████▋    | 24/42 [00:44<00:33,  1.84s/it]"
     ]
    },
    {
     "name": "stdout",
     "output_type": "stream",
     "text": [
      "chunk_s24.wav\n"
     ]
    },
    {
     "name": "stderr",
     "output_type": "stream",
     "text": [
      "\r",
      " 60%|█████▉    | 25/42 [00:45<00:30,  1.81s/it]"
     ]
    },
    {
     "name": "stdout",
     "output_type": "stream",
     "text": [
      "chunk_s25.wav\n"
     ]
    },
    {
     "name": "stderr",
     "output_type": "stream",
     "text": [
      "\r",
      " 62%|██████▏   | 26/42 [00:46<00:28,  1.79s/it]"
     ]
    },
    {
     "name": "stdout",
     "output_type": "stream",
     "text": [
      "chunk_s26.wav\n"
     ]
    },
    {
     "name": "stderr",
     "output_type": "stream",
     "text": [
      "\r",
      " 64%|██████▍   | 27/42 [00:47<00:26,  1.74s/it]"
     ]
    },
    {
     "name": "stdout",
     "output_type": "stream",
     "text": [
      "chunk_s27.wav\n"
     ]
    },
    {
     "name": "stderr",
     "output_type": "stream",
     "text": [
      "\r",
      " 67%|██████▋   | 28/42 [00:48<00:24,  1.73s/it]"
     ]
    },
    {
     "name": "stdout",
     "output_type": "stream",
     "text": [
      "chunk_s28.wav\n"
     ]
    },
    {
     "name": "stderr",
     "output_type": "stream",
     "text": [
      "\r",
      " 69%|██████▉   | 29/42 [00:50<00:22,  1.73s/it]"
     ]
    },
    {
     "name": "stdout",
     "output_type": "stream",
     "text": [
      "chunk_s29.wav\n"
     ]
    },
    {
     "name": "stderr",
     "output_type": "stream",
     "text": [
      "\r",
      " 71%|███████▏  | 30/42 [00:51<00:20,  1.70s/it]"
     ]
    },
    {
     "name": "stdout",
     "output_type": "stream",
     "text": [
      "chunk_s30.wav\n"
     ]
    },
    {
     "name": "stderr",
     "output_type": "stream",
     "text": [
      "\r",
      " 74%|███████▍  | 31/42 [00:52<00:18,  1.68s/it]"
     ]
    },
    {
     "name": "stdout",
     "output_type": "stream",
     "text": [
      "chunk_s31.wav\n"
     ]
    },
    {
     "name": "stderr",
     "output_type": "stream",
     "text": [
      "\r",
      " 76%|███████▌  | 32/42 [00:52<00:16,  1.65s/it]"
     ]
    },
    {
     "name": "stdout",
     "output_type": "stream",
     "text": [
      "chunk_s32.wav\n"
     ]
    },
    {
     "name": "stderr",
     "output_type": "stream",
     "text": [
      "\r",
      " 79%|███████▊  | 33/42 [00:53<00:14,  1.63s/it]"
     ]
    },
    {
     "name": "stdout",
     "output_type": "stream",
     "text": [
      "chunk_s33.wav\n"
     ]
    },
    {
     "name": "stderr",
     "output_type": "stream",
     "text": [
      "\r",
      " 81%|████████  | 34/42 [00:54<00:12,  1.61s/it]"
     ]
    },
    {
     "name": "stdout",
     "output_type": "stream",
     "text": [
      "chunk_s34.wav\n"
     ]
    },
    {
     "name": "stderr",
     "output_type": "stream",
     "text": [
      "\r",
      " 83%|████████▎ | 35/42 [00:55<00:11,  1.60s/it]"
     ]
    },
    {
     "name": "stdout",
     "output_type": "stream",
     "text": [
      "chunk_s35.wav\n"
     ]
    },
    {
     "name": "stderr",
     "output_type": "stream",
     "text": [
      "\r",
      " 86%|████████▌ | 36/42 [00:56<00:09,  1.57s/it]"
     ]
    },
    {
     "name": "stdout",
     "output_type": "stream",
     "text": [
      "chunk_s36.wav\n"
     ]
    },
    {
     "name": "stderr",
     "output_type": "stream",
     "text": [
      "\r",
      " 88%|████████▊ | 37/42 [00:57<00:07,  1.55s/it]"
     ]
    },
    {
     "name": "stdout",
     "output_type": "stream",
     "text": [
      "chunk_s37.wav\n"
     ]
    },
    {
     "name": "stderr",
     "output_type": "stream",
     "text": [
      "\r",
      " 90%|█████████ | 38/42 [00:58<00:06,  1.53s/it]"
     ]
    },
    {
     "name": "stdout",
     "output_type": "stream",
     "text": [
      "chunk_s38.wav\n"
     ]
    },
    {
     "name": "stderr",
     "output_type": "stream",
     "text": [
      "\r",
      " 93%|█████████▎| 39/42 [00:59<00:04,  1.54s/it]"
     ]
    },
    {
     "name": "stdout",
     "output_type": "stream",
     "text": [
      "chunk_s39.wav\n"
     ]
    },
    {
     "name": "stderr",
     "output_type": "stream",
     "text": [
      "\r",
      " 95%|█████████▌| 40/42 [01:00<00:03,  1.51s/it]"
     ]
    },
    {
     "name": "stdout",
     "output_type": "stream",
     "text": [
      "chunk_s40.wav\n"
     ]
    },
    {
     "name": "stderr",
     "output_type": "stream",
     "text": [
      "\r",
      " 98%|█████████▊| 41/42 [01:01<00:01,  1.51s/it]"
     ]
    },
    {
     "name": "stdout",
     "output_type": "stream",
     "text": [
      "chunk_s41.wav\n"
     ]
    },
    {
     "name": "stderr",
     "output_type": "stream",
     "text": [
      "100%|██████████| 42/42 [01:13<00:00,  1.74s/it]\n"
     ]
    }
   ],
   "source": [
    "fulltextdic = {}\n",
    "for i in tqdm(range(42)):\n",
    "    fulltextdic.update(SoundToText('chunk_s' + str(i) + '.wav'))"
   ]
  },
  {
   "cell_type": "code",
   "execution_count": 46,
   "metadata": {},
   "outputs": [
    {
     "name": "stdout",
     "output_type": "stream",
     "text": [
      "in in this friday which is where we're from strike or and today we have a man with an awkward last night hi mrs allen fuchs ; my last name is build a few kate has his son of russian immigrants robber the united states getting a lot of taunting ; about that last name ; you recently talked about the teasing with his middle school classmates banter kept ; no mccoy by mining o's either the f. word dumbo because of acute years or combinations of sue is that the us walking around with an army of hecklers be ; i still the doses consciously the small ain't haunting that was always there are great but what a rubber the first time ; you saw me ; you can step out on the first ; you had a hole in gold chain mail about church as with the younger man not a haircut and ted koppel haircut and i we don't know that i had it in me to stick up for you at that age no ability of the fact that the kamikaze mission ; no this country is so polarized but kids of all demographic ; they were united in making fond of the last name fuchs ; that pembroke by people together ; the argument the kids on the lowest social wrong they don't want you sit at their lunch that ; so i would go to the library ; because i in barcelona ; never wear wouldn't hire holocaust encyclopedia ; i reckon eisenhower is godard ; blood was such a lonely cared that they have human contact ; had school grizzled would call nintendo hot war ; the house would talk to ; i remember trying to painfully segue from the conversation of video games into dozens of housing don't know what the heck is acquired ; that's base we my child ; the men around six years old my parents ; decided to try nature ; there were like you're pale to be irish ; so it's roy's irish name to sort out into a hat ; and two thousand ; and then i went to school now that hey guys i'm no longer the f. word ; i'm cinematic what would you talking about i didn't buy it for us to be on top ; but you know ; this past year i decided to go back to see you ; that is gone to my head that ; i'm letting the bullies when ; and i'm robert reading about this ; philosophy of broken vase ; but you go back together ; can you show proudly ; because the glues now part of the art ; i'm hoping to do something like that it like ; dan ; start going to pieces back ; but the end you tell us you storm was better chance to new york city for covers national archives are alive or don't ; \n",
      "[9.13498866213152, 7.151995464852607, 1.4479818594104308, 3.731995464852608, 9.696984126984127, 6.490997732426304, 0.6229931972789116, 1.1760090702947845, 15.089002267573695, 4.089002267573696, 2.86, 1.9740136054421769, 4.696009070294784, 1.9010204081632653, 1.5, 3.1140136054421768, 1.5529931972789115, 4.200997732426304, 3.0529931972789117, 1.1, 8.188004535147392, 1.3450113378684807, 2.9719954648526077, 1.2670068027210883, 2.288004535147392, 2.99, 1.529002267573696, 4.308004535147393, 3.929002267573696, 1.064013605442177, 3.1110204081632653, 1.5380045351473923, 2.0290022675736963, 2.3449886621315192, 2.664013605442177, 1.6059863945578232, 1.4739909297052154, 2.355011337868481, 3.300997732426304, 0.6609977324263039, 2.204013605442177, 10.780997732426304]\n"
     ]
    }
   ],
   "source": [
    "fulltext = \"\"\n",
    "fulltime = []\n",
    "for l in range(len(fulltextdic.keys())):\n",
    "    #print(fulltextdic.keys())\n",
    "    fulltext += fulltextdic['chunk_s' + str(l) + '.wav'][0] + \" ; \"\n",
    "    fulltime.append(fulltextdic['chunk_s' + str(l) + '.wav'][1])\n",
    "print(fulltext)\n",
    "print(fulltime)"
   ]
  },
  {
   "cell_type": "code",
   "execution_count": 66,
   "metadata": {},
   "outputs": [
    {
     "data": {
      "image/png": "[encoded data removed]",
      "text/plain": [
       "<matplotlib.figure.Figure at 0x123a55940>"
      ]
     },
     "metadata": {},
     "output_type": "display_data"
    }
   ],
   "source": [
    "plt.plot(np.cumsum(fulltime), fulldbfs - np.min(fulldbfs))\n",
    "plt.plot(np.cumsum(fulltime), fullmaxdbfs - np.min(fullmaxdbfs))\n",
    "#plt.plot(np.cumsum(fulltime), fullrms - np.min(fullrms))\n",
    "#plt.plot(np.cumsum(fulltime), fullmax - np.min(fullmax))\n",
    "plt.show()"
   ]
  },
  {
   "cell_type": "code",
   "execution_count": 132,
   "metadata": {},
   "outputs": [
    {
     "name": "stdout",
     "output_type": "stream",
     "text": [
      "dict_keys(['Data/NPR/0.wav', 'Data/NPR/0_0.wav', 'Data/NPR/0_1.wav', 'Data/NPR/0_2.wav', 'Data/NPR/0_3.wav', 'Data/NPR/0_4.wav', 'Data/NPR/0_5.wav', 'Data/NPR/0_6.wav', 'Data/NPR/0_7.wav', 'Data/NPR/0_8.wav', 'Data/NPR/0_9.wav', 'Data/NPR/0_10.wav', 'Data/NPR/0_11.wav', 'Data/NPR/0_12.wav', 'Data/NPR/0_13.wav', 'Data/NPR/0_14.wav', 'Data/NPR/0_15.wav', 'Data/NPR/0_16.wav', 'Data/NPR/0_17.wav', 'Data/NPR/0_18.wav', 'Data/NPR/0_19.wav', 'Data/NPR/0_20.wav', 'Data/NPR/0_21.wav', 'Data/NPR/0_22.wav', 'Data/NPR/0_23.wav', 'Data/NPR/0_24.wav', 'Data/NPR/0_25.wav', 'Data/NPR/0_26.wav', 'Data/NPR/0_27.wav', 'Data/NPR/0_28.wav', 'Data/NPR/0_29.wav', 'Data/NPR/0_30.wav', 'Data/NPR/0_31.wav', 'Data/NPR/0_32.wav', 'Data/NPR/0_33.wav', 'Data/NPR/0_34.wav', 'Data/NPR/0_35.wav', 'Data/NPR/0_36.wav', 'Data/NPR/0_37.wav', 'Data/NPR/0_38.wav', 'Data/NPR/0_39.wav', 'Data/NPR/0_40.wav', 'Data/NPR/0_41.wav', 'Data/NPR/0_42.wav', 'Data/NPR/0_43.wav', 'Data/NPR/0_44.wav', 'Data/NPR/0_45.wav', 'Data/NPR/0_46.wav', 'Data/NPR/0_47.wav', 'Data/NPR/0_48.wav', 'Data/NPR/0_49.wav', 'Data/NPR/0_50.wav', 'Data/NPR/0_51.wav', 'Data/NPR/0_52.wav', 'Data/NPR/0_53.wav', 'Data/NPR/0_54.wav', 'Data/NPR/0_55.wav', 'Data/NPR/0_56.wav', 'Data/NPR/0_57.wav', 'Data/NPR/0_58.wav', 'Data/NPR/0_59.wav', 'Data/NPR/0_60.wav', 'Data/NPR/0_61.wav', 'Data/NPR/0_62.wav', 'Data/NPR/0_63.wav', 'Data/NPR/0_64.wav', 'Data/NPR/0_65.wav', 'Data/NPR/0_66.wav', 'Data/NPR/0_67.wav', 'Data/NPR/0_68.wav', 'Data/NPR/0_69.wav', 'Data/NPR/0_70.wav', 'Data/NPR/0_71.wav', 'Data/NPR/0_72.wav', 'Data/NPR/0_73.wav', 'Data/NPR/0_74.wav', 'Data/NPR/0_75.wav', 'Data/NPR/0_76.wav', 'Data/NPR/0_77.wav', 'Data/NPR/0_78.wav', 'Data/NPR/0_79.wav', 'Data/NPR/0_80.wav', 'Data/NPR/0_81.wav', 'Data/NPR/0_82.wav', 'Data/NPR/0_83.wav', 'Data/NPR/0_84.wav', 'Data/NPR/0_85.wav', 'Data/NPR/0_86.wav', 'Data/NPR/0_87.wav', 'Data/NPR/0_88.wav', 'Data/NPR/0_89.wav', 'Data/NPR/0_90.wav', 'Data/NPR/0_91.wav', 'Data/NPR/0_92.wav', 'Data/NPR/0_93.wav', 'Data/NPR/0_94.wav', 'Data/NPR/0_95.wav', 'Data/NPR/0_96.wav', 'Data/NPR/0_97.wav', 'Data/NPR/0_98.wav', 'Data/NPR/0_99.wav', 'Data/NPR/0_100.wav', 'Data/NPR/0_101.wav', 'Data/NPR/0_102.wav', 'Data/NPR/0_103.wav', 'Data/NPR/0_104.wav', 'Data/NPR/0_105.wav', 'Data/NPR/0_106.wav', 'Data/NPR/0_107.wav', 'Data/NPR/0_108.wav', 'Data/NPR/0_109.wav', 'Data/NPR/0_110.wav', 'Data/NPR/0_111.wav', 'Data/NPR/0_112.wav', 'Data/NPR/0_113.wav', 'Data/NPR/0_114.wav', 'Data/NPR/0_115.wav', 'Data/NPR/0_116.wav', 'Data/NPR/0_117.wav', 'Data/NPR/0_118.wav', 'Data/NPR/0_119.wav', 'Data/NPR/0_120.wav', 'Data/NPR/0_121.wav', 'Data/NPR/0_122.wav', 'Data/NPR/0_123.wav', 'Data/NPR/0_124.wav', 'Data/NPR/0_125.wav', 'Data/NPR/0_126.wav', 'Data/NPR/0_127.wav', 'Data/NPR/0_128.wav', 'Data/NPR/0_129.wav', 'Data/NPR/0_130.wav', 'Data/NPR/0_131.wav', 'Data/NPR/0_132.wav'])\n",
      "--- 10.28458285331726 seconds ---\n"
     ]
    }
   ],
   "source": [
    "start_time = time.time()\n",
    "print(PrepareSound(\"Data/NPR/0.mp3\", fixsplit=False, silencesplit=True).keys())\n",
    "print(\"--- %s seconds ---\" % (time.time() - start_time))"
   ]
  },
  {
   "cell_type": "markdown",
   "metadata": {},
   "source": [
    "\n",
    "***\n",
    "### Text recognition\n",
    "***\n"
   ]
  },
  {
   "cell_type": "code",
   "execution_count": 3,
   "metadata": {},
   "outputs": [
    {
     "name": "stdout",
     "output_type": "stream",
     "text": [
      "\u001b[1m\u001b[36mData\u001b[m\u001b[m                     NLP_studies.ipynb        all_sum.txt\r\n",
      "DownloadAudio_NPR.ipynb  \u001b[1m\u001b[36mPlot\u001b[m\u001b[m                     all_trans.txt\r\n",
      "Jun15_MVP.ipynb          Prev_MVP.ipynb           chunk_s2.wav\r\n",
      "Jun8_MVPProcessing.ipynb README.md                \u001b[1m\u001b[36msrc\u001b[m\u001b[m\r\n",
      "Jun8_MVPrecording.ipynb  Sphinx-VS-Google.ipynb   \u001b[1m\u001b[36mwebsite\u001b[m\u001b[m\r\n",
      "MVP.ipynb                Text_to_Suammary.ipynb\r\n"
     ]
    }
   ],
   "source": [
    "!ls"
   ]
  },
  {
   "cell_type": "code",
   "execution_count": null,
   "metadata": {},
   "outputs": [],
   "source": []
  },
  {
   "cell_type": "code",
   "execution_count": 5,
   "metadata": {},
   "outputs": [
    {
     "ename": "ValueError",
     "evalue": "Grammar 'counting.gram' does not exist.",
     "output_type": "error",
     "traceback": [
      "\u001b[0;31m---------------------------------------------------------------------------\u001b[0m",
      "\u001b[0;31mValueError\u001b[0m                                Traceback (most recent call last)",
      "\u001b[0;32m<ipython-input-5-8553f32719ee>\u001b[0m in \u001b[0;36m<module>\u001b[0;34m()\u001b[0m\n\u001b[0;32m----> 1\u001b[0;31m \u001b[0mSoundToText\u001b[0m\u001b[0;34m(\u001b[0m\u001b[0;34m'chunk_s2.wav'\u001b[0m\u001b[0;34m)\u001b[0m\u001b[0;34m\u001b[0m\u001b[0m\n\u001b[0m",
      "\u001b[0;32m~/Git/Insight/Project/src/utils.py\u001b[0m in \u001b[0;36mSoundToText\u001b[0;34m(file, useGoogle)\u001b[0m\n\u001b[1;32m     15\u001b[0m \u001b[0;34m\u001b[0m\u001b[0m\n\u001b[1;32m     16\u001b[0m         \u001b[0;32mif\u001b[0m \u001b[0;32mnot\u001b[0m \u001b[0museGoogle\u001b[0m\u001b[0;34m:\u001b[0m\u001b[0;34m\u001b[0m\u001b[0m\n\u001b[0;32m---> 17\u001b[0;31m             \u001b[0mtext\u001b[0m \u001b[0;34m=\u001b[0m \u001b[0mRecon\u001b[0m\u001b[0;34m.\u001b[0m\u001b[0mrecognize_sphinx\u001b[0m\u001b[0;34m(\u001b[0m\u001b[0mtest_au\u001b[0m\u001b[0;34m,\u001b[0m \u001b[0mlanguage\u001b[0m\u001b[0;34m=\u001b[0m\u001b[0;34m'en-US'\u001b[0m\u001b[0;34m,\u001b[0m \u001b[0mgrammar\u001b[0m\u001b[0;34m=\u001b[0m\u001b[0;34m'counting.gram'\u001b[0m\u001b[0;34m)\u001b[0m\u001b[0;34m\u001b[0m\u001b[0m\n\u001b[0m\u001b[1;32m     18\u001b[0m         \u001b[0;32melse\u001b[0m\u001b[0;34m:\u001b[0m\u001b[0;34m\u001b[0m\u001b[0m\n\u001b[1;32m     19\u001b[0m             \u001b[0;31m## google API requires internet connection\u001b[0m\u001b[0;34m\u001b[0m\u001b[0;34m\u001b[0m\u001b[0m\n",
      "\u001b[0;32m~/anaconda/lib/python3.6/site-packages/speech_recognition/__init__.py\u001b[0m in \u001b[0;36mrecognize_sphinx\u001b[0;34m(self, audio_data, language, keyword_entries, grammar, show_all)\u001b[0m\n\u001b[1;32m    778\u001b[0m         \u001b[0;32melif\u001b[0m \u001b[0mgrammar\u001b[0m \u001b[0;32mis\u001b[0m \u001b[0;32mnot\u001b[0m \u001b[0;32mNone\u001b[0m\u001b[0;34m:\u001b[0m  \u001b[0;31m# a path to a FSG or JSGF grammar\u001b[0m\u001b[0;34m\u001b[0m\u001b[0m\n\u001b[1;32m    779\u001b[0m             \u001b[0;32mif\u001b[0m \u001b[0;32mnot\u001b[0m \u001b[0mos\u001b[0m\u001b[0;34m.\u001b[0m\u001b[0mpath\u001b[0m\u001b[0;34m.\u001b[0m\u001b[0mexists\u001b[0m\u001b[0;34m(\u001b[0m\u001b[0mgrammar\u001b[0m\u001b[0;34m)\u001b[0m\u001b[0;34m:\u001b[0m\u001b[0;34m\u001b[0m\u001b[0m\n\u001b[0;32m--> 780\u001b[0;31m                 \u001b[0;32mraise\u001b[0m \u001b[0mValueError\u001b[0m\u001b[0;34m(\u001b[0m\u001b[0;34m\"Grammar '{0}' does not exist.\"\u001b[0m\u001b[0;34m.\u001b[0m\u001b[0mformat\u001b[0m\u001b[0;34m(\u001b[0m\u001b[0mgrammar\u001b[0m\u001b[0;34m)\u001b[0m\u001b[0;34m)\u001b[0m\u001b[0;34m\u001b[0m\u001b[0m\n\u001b[0m\u001b[1;32m    781\u001b[0m             \u001b[0mgrammar_path\u001b[0m \u001b[0;34m=\u001b[0m \u001b[0mos\u001b[0m\u001b[0;34m.\u001b[0m\u001b[0mpath\u001b[0m\u001b[0;34m.\u001b[0m\u001b[0mabspath\u001b[0m\u001b[0;34m(\u001b[0m\u001b[0mos\u001b[0m\u001b[0;34m.\u001b[0m\u001b[0mpath\u001b[0m\u001b[0;34m.\u001b[0m\u001b[0mdirname\u001b[0m\u001b[0;34m(\u001b[0m\u001b[0mgrammar\u001b[0m\u001b[0;34m)\u001b[0m\u001b[0;34m)\u001b[0m\u001b[0;34m\u001b[0m\u001b[0m\n\u001b[1;32m    782\u001b[0m             \u001b[0mgrammar_name\u001b[0m \u001b[0;34m=\u001b[0m \u001b[0mos\u001b[0m\u001b[0;34m.\u001b[0m\u001b[0mpath\u001b[0m\u001b[0;34m.\u001b[0m\u001b[0msplitext\u001b[0m\u001b[0;34m(\u001b[0m\u001b[0mos\u001b[0m\u001b[0;34m.\u001b[0m\u001b[0mpath\u001b[0m\u001b[0;34m.\u001b[0m\u001b[0mbasename\u001b[0m\u001b[0;34m(\u001b[0m\u001b[0mgrammar\u001b[0m\u001b[0;34m)\u001b[0m\u001b[0;34m)\u001b[0m\u001b[0;34m[\u001b[0m\u001b[0;36m0\u001b[0m\u001b[0;34m]\u001b[0m\u001b[0;34m\u001b[0m\u001b[0m\n",
      "\u001b[0;31mValueError\u001b[0m: Grammar 'counting.gram' does not exist."
     ]
    }
   ],
   "source": [
    "SoundToText('chunk_s2.wav')"
   ]
  },
  {
   "cell_type": "code",
   "execution_count": 73,
   "metadata": {},
   "outputs": [],
   "source": [
    "table = str.maketrans('', '', string.punctuation)\n",
    "with open('Data/NCE/2/T' + str(1) + '.TXT', 'r') as myfile:\n",
    "    realtext=myfile.read().replace('\\n', '')\n",
    "    realtext = realtext.translate(table)\n",
    "    realtext = realtext.lower()\n",
    "    realtext = ' '.join(realtext.split()) ## remove the extra space"
   ]
  },
  {
   "cell_type": "code",
   "execution_count": 74,
   "metadata": {},
   "outputs": [],
   "source": [
    "with open('Data/NCE/2/' + str(1) + '_trans.txt', 'r') as myfile:\n",
    "    comptext = myfile.read().replace('\\n', '')\n",
    "    comptext = comptext.lower()"
   ]
  },
  {
   "cell_type": "code",
   "execution_count": 11,
   "metadata": {},
   "outputs": [],
   "source": [
    "def compare():\n",
    "    '''compare list of texts in two folders'''\n",
    "    result = [] ## an array of output wer scores\n",
    "    for i in range(1, 1 + len(glob.glob(\"Data/NCE/2/T*.TXT\"))):\n",
    "        table = str.maketrans('', '', string.punctuation)\n",
    "        ##NCE files\n",
    "        #print(i)\n",
    "        with open('Data/NCE/2/T' + str(i) + '.TXT', 'r') as myfile:\n",
    "            realtext=myfile.read().replace('\\n', '')\n",
    "#         with open('Data/NCE/2/' + str(i) + '.txt', 'r') as myfile:\n",
    "#             realtext=myfile.read().replace('\\n', '')\n",
    "#             ## removing the punctuation\n",
    "            realtext = realtext.translate(table)\n",
    "            realtext = realtext.lower()\n",
    "            realtext = ' '.join(realtext.split()) ## remove the extra space\n",
    "        ##translated files\n",
    "        with open('Data/NCE/2/' + str(i) + '_trans.txt', 'r') as myfile:\n",
    "            comptext = myfile.read().replace('\\n', '')\n",
    "            comptext = comptext.translate(table)\n",
    "            comptext = comptext.lower()\n",
    "        result.append(wer(realtext, comptext))\n",
    "    return np.array(result)"
   ]
  },
  {
   "cell_type": "code",
   "execution_count": 12,
   "metadata": {},
   "outputs": [],
   "source": [
    "NCE_2 = compare()"
   ]
  },
  {
   "cell_type": "code",
   "execution_count": 18,
   "metadata": {},
   "outputs": [
    {
     "data": {
      "image/png": "[encoded data removed]",
      "text/plain": [
       "<matplotlib.figure.Figure at 0x1202b6048>"
      ]
     },
     "metadata": {},
     "output_type": "display_data"
    },
    {
     "name": "stdout",
     "output_type": "stream",
     "text": [
      "0.134742708333 0.0510665818336\n"
     ]
    }
   ],
   "source": [
    "plt.clf()\n",
    "plt.hist(NCE_2)\n",
    "plt.xlabel(\"WER score\")\n",
    "plt.ylabel(\"NCE2 counts\")\n",
    "plt.title(\"Speech Reco Performance\")\n",
    "plt.show()\n",
    "print(NCE_2.mean(), NCE_2.std())"
   ]
  },
  {
   "cell_type": "markdown",
   "metadata": {},
   "source": [
    "#### May need to remove small files\n",
    "#### find *.wav  -type f -size -100k -delete"
   ]
  },
  {
   "cell_type": "code",
   "execution_count": 29,
   "metadata": {},
   "outputs": [],
   "source": [
    "#!ls Data/NCE/2"
   ]
  },
  {
   "cell_type": "markdown",
   "metadata": {},
   "source": [
    "#### For NPR processing"
   ]
  },
  {
   "cell_type": "code",
   "execution_count": 4,
   "metadata": {},
   "outputs": [
    {
     "name": "stderr",
     "output_type": "stream",
     "text": [
      "100%|██████████| 61/61 [2:01:38<00:00, 119.65s/it]\n"
     ]
    }
   ],
   "source": [
    "#start_time = time.time()\n",
    "for i in tqdm(range(0, 314)):\n",
    "    file_path = \"Data/NPR/\" ## total 314\n",
    "    inputtasks = glob.glob(file_path + str(i) + \"_*.wav\")\n",
    "    #print(\" Running %s jobs on %s cores\" % (len(inputtasks), mp.cpu_count()-2))\n",
    "    npool = min(len(inputtasks), mp.cpu_count()-2)\n",
    "    pool  = mp.Pool(npool)\n",
    "\n",
    "    #print(inputtasks)\n",
    "    inputdic = {}\n",
    "    for k in range(len(inputtasks)):\n",
    "        inputdic[k] = {\"file\":file_path + str(i) + \"_\" + str(k) + \".wav\", \"n\":i}\n",
    "\n",
    "    fulltextdic = {}\n",
    "    ## parallel\n",
    "    for result in pool.map(SoundToText, inputtasks):\n",
    "            fulltextdic.update(result)\n",
    "#     ## standard\n",
    "#     for i in inputtasks:\n",
    "#         print(i)\n",
    "#         result = SoundToText(i) #dictionary of values, plots\n",
    "#         fulltextdic.update(result)\n",
    "    \n",
    "    fulltext = \"\"\n",
    "    for k in range(len(fulltextdic.keys())):\n",
    "        fulltext += fulltextdic[file_path + str(i) + \"_\" + str(k) + \".wav\"]\n",
    "    #print(fulltext)\n",
    "    with open(file_path + \"_trans.txt\", \"w\") as text_file:\n",
    "            text_file.write(fulltext)\n",
    "    pool.close()\n",
    "#print(\"--- %s seconds ---\" % (time.time() - start_time))"
   ]
  },
  {
   "cell_type": "markdown",
   "metadata": {},
   "source": [
    "#### For NCE processing"
   ]
  },
  {
   "cell_type": "code",
   "execution_count": 3,
   "metadata": {},
   "outputs": [
    {
     "name": "stdout",
     "output_type": "stream",
     "text": [
      " Running 97 jobs on 6 cores\n"
     ]
    }
   ],
   "source": [
    "#start_time = time.time()\n",
    "file_path = \"Data/NCE/2/\" ## total 314\n",
    "inputtasks = glob.glob(file_path + \"*.wav\")\n",
    "print(\" Running %s jobs on %s cores\" % (len(inputtasks), mp.cpu_count()-2))\n",
    "npool = min(len(inputtasks), mp.cpu_count()-2)\n",
    "pool  = mp.Pool(npool)\n",
    "\n",
    "## parallel\n",
    "for result in pool.map(SoundToText, inputtasks):  \n",
    "    fulltext = list(result.values())[0]\n",
    "    with open(list(result.keys())[0].replace(\".wav\", \"\") + \"_trans.txt\", \"w\") as text_file:\n",
    "        text_file.write(fulltext)\n",
    "            \n",
    "# ## standard\n",
    "# for i in inputtasks:\n",
    "#     print(i)\n",
    "#     result = SoundToText(i) #dictionary of values, plots\n",
    "#     fulltext = list(result.values())[0]\n",
    "#     with open(list(result.keys())[0].replace(\".wav\", \"\") + \"_trans.txt\", \"w\") as text_file:\n",
    "#         text_file.write(fulltext)\n",
    "\n",
    "pool.close()\n",
    "#print(\"--- %s seconds ---\" % (time.time() - start_time))"
   ]
  },
  {
   "cell_type": "markdown",
   "metadata": {},
   "source": [
    "#### Or in steps"
   ]
  },
  {
   "cell_type": "code",
   "execution_count": 3,
   "metadata": {},
   "outputs": [
    {
     "name": "stdout",
     "output_type": "stream",
     "text": [
      "['Data/NPR/0_40.wav', 'Data/NPR/0_26.wav', 'Data/NPR/0_32.wav', 'Data/NPR/0_33.wav', 'Data/NPR/0_27.wav', 'Data/NPR/0_19.wav', 'Data/NPR/0_31.wav', 'Data/NPR/0_25.wav', 'Data/NPR/0_8.wav', 'Data/NPR/0_9.wav', 'Data/NPR/0_24.wav', 'Data/NPR/0_30.wav', 'Data/NPR/0_18.wav', 'Data/NPR/0_34.wav', 'Data/NPR/0_20.wav', 'Data/NPR/0_21.wav', 'Data/NPR/0_35.wav', 'Data/NPR/0_23.wav', 'Data/NPR/0_37.wav', 'Data/NPR/0_36.wav', 'Data/NPR/0_22.wav', 'Data/NPR/0_13.wav', 'Data/NPR/0_2.wav', 'Data/NPR/0_3.wav', 'Data/NPR/0_12.wav', 'Data/NPR/0_38.wav', 'Data/NPR/0_10.wav', 'Data/NPR/0_1.wav', 'Data/NPR/0_0.wav', 'Data/NPR/0_11.wav', 'Data/NPR/0_39.wav', 'Data/NPR/0_15.wav', 'Data/NPR/0_29.wav', 'Data/NPR/0_4.wav', 'Data/NPR/0_5.wav', 'Data/NPR/0_28.wav', 'Data/NPR/0_14.wav', 'Data/NPR/0_16.wav', 'Data/NPR/0_7.wav', 'Data/NPR/0_6.wav', 'Data/NPR/0_17.wav']\n"
     ]
    }
   ],
   "source": [
    "inputtasks = glob.glob(\"Data/NPR/0_*.wav\")\n",
    "print(\" Running %s jobs on %s cores\" % (len(inputtasks), mp.cpu_count()-2))\n",
    "npool = min(len(inputtasks), mp.cpu_count()-2)\n",
    "pool  = mp.Pool(npool)\n",
    "\n",
    "print(inputtasks)\n",
    "inputdic = {}\n",
    "for i in range(len(inputtasks)):\n",
    "    inputdic[i] = {\"file\":\"Data/NPR/0_\" + str(i) + \".wav\", \"n\":i}"
   ]
  },
  {
   "cell_type": "code",
   "execution_count": 20,
   "metadata": {},
   "outputs": [
    {
     "name": "stdout",
     "output_type": "stream",
     "text": [
      "chunk_s5.wav\n",
      "{'chunk_s5.wav': \"in the end i could not bear it i turned round again i can't hear though we're\"}\n",
      "chunk_s4.wav\n",
      "{'chunk_s4.wav': 'i turned round i looked at the man in the woman angrily they did not pay any attention'}\n",
      "chunk_s6.wav\n",
      "{'chunk_s6.wav': \"i said angrily it's none of your business the young man said rudely this is a\"}\n",
      "chunk_s7.wav\n",
      "{'chunk_s7.wav': 'private conversation'}\n",
      "chunk_s3.wav\n",
      "{'chunk_s3.wav': 'sitting behind me they were talking loudly i got very angry i could not hear the actors'}\n",
      "chunk_s2.wav\n",
      "{'chunk_s2.wav': 'very good seats the play was very interesting i did not enjoy it a young man in the young woman worse'}\n",
      "chunk_s0.wav\n",
      "{'chunk_s0.wav': \"bless 'em one at a private conversation first listen and then answer the question\"}\n",
      "chunk_s1.wav\n",
      "{'chunk_s1.wav': \"why did the right ear complained to the people behind him last week i went to the theater i hadn't\"}\n",
      "--- 16.12859082221985 seconds ---\n"
     ]
    }
   ],
   "source": [
    "start_time = time.time()\n",
    "fulltextdic = {}\n",
    "for i in inputtasks:\n",
    "    result = SoundToText(i) #dictionary of values, plots\n",
    "    print(result)\n",
    "    fulltextdic.update(result)\n",
    "print(\"--- %s seconds ---\" % (time.time() - start_time))"
   ]
  },
  {
   "cell_type": "code",
   "execution_count": 9,
   "metadata": {},
   "outputs": [
    {
     "ename": "KeyError",
     "evalue": "'chunk_s0.wav'",
     "output_type": "error",
     "traceback": [
      "\u001b[0;31m---------------------------------------------------------------------------\u001b[0m",
      "\u001b[0;31mKeyError\u001b[0m                                  Traceback (most recent call last)",
      "\u001b[0;32m<ipython-input-9-c75a277d8f28>\u001b[0m in \u001b[0;36m<module>\u001b[0;34m()\u001b[0m\n\u001b[1;32m      5\u001b[0m \u001b[0mfulltext\u001b[0m \u001b[0;34m=\u001b[0m \u001b[0;34m\"\"\u001b[0m\u001b[0;34m\u001b[0m\u001b[0m\n\u001b[1;32m      6\u001b[0m \u001b[0;32mfor\u001b[0m \u001b[0mi\u001b[0m \u001b[0;32min\u001b[0m \u001b[0mrange\u001b[0m\u001b[0;34m(\u001b[0m\u001b[0mlen\u001b[0m\u001b[0;34m(\u001b[0m\u001b[0mfulltextdic\u001b[0m\u001b[0;34m.\u001b[0m\u001b[0mkeys\u001b[0m\u001b[0;34m(\u001b[0m\u001b[0;34m)\u001b[0m\u001b[0;34m)\u001b[0m\u001b[0;34m)\u001b[0m\u001b[0;34m:\u001b[0m\u001b[0;34m\u001b[0m\u001b[0m\n\u001b[0;32m----> 7\u001b[0;31m     \u001b[0mfulltext\u001b[0m \u001b[0;34m+=\u001b[0m \u001b[0mfulltextdic\u001b[0m\u001b[0;34m[\u001b[0m\u001b[0;34m\"chunk_s\"\u001b[0m \u001b[0;34m+\u001b[0m \u001b[0mstr\u001b[0m\u001b[0;34m(\u001b[0m\u001b[0mi\u001b[0m\u001b[0;34m)\u001b[0m \u001b[0;34m+\u001b[0m \u001b[0;34m\".wav\"\u001b[0m\u001b[0;34m]\u001b[0m\u001b[0;34m\u001b[0m\u001b[0m\n\u001b[0m\u001b[1;32m      8\u001b[0m \u001b[0mprint\u001b[0m\u001b[0;34m(\u001b[0m\u001b[0mfulltext\u001b[0m\u001b[0;34m)\u001b[0m\u001b[0;34m\u001b[0m\u001b[0m\n\u001b[1;32m      9\u001b[0m \u001b[0mprint\u001b[0m\u001b[0;34m(\u001b[0m\u001b[0;34m\"--- %s seconds ---\"\u001b[0m \u001b[0;34m%\u001b[0m \u001b[0;34m(\u001b[0m\u001b[0mtime\u001b[0m\u001b[0;34m.\u001b[0m\u001b[0mtime\u001b[0m\u001b[0;34m(\u001b[0m\u001b[0;34m)\u001b[0m \u001b[0;34m-\u001b[0m \u001b[0mstart_time\u001b[0m\u001b[0;34m)\u001b[0m\u001b[0;34m)\u001b[0m\u001b[0;34m\u001b[0m\u001b[0m\n",
      "\u001b[0;31mKeyError\u001b[0m: 'chunk_s0.wav'"
     ]
    }
   ],
   "source": [
    "## single file processing\n",
    "start_time = time.time()\n",
    "fulltextdic = {}\n",
    "for result in pool.map(SoundToText, inputtasks):\n",
    "        fulltextdic.update(result)\n",
    "fulltext = \"\"\n",
    "for i in range(len(fulltextdic.keys())):\n",
    "    fulltext += fulltextdic[\"chunk_s\" + str(i) + \".wav\"]\n",
    "print(fulltext)\n",
    "print(\"--- %s seconds ---\" % (time.time() - start_time))"
   ]
  },
  {
   "cell_type": "code",
   "execution_count": 30,
   "metadata": {},
   "outputs": [],
   "source": [
    "with open('Data/NCE/2/T1.TXT', 'r') as myfile:\n",
    "    realtext=myfile.read().replace('\\n', '')"
   ]
  },
  {
   "cell_type": "code",
   "execution_count": 31,
   "metadata": {},
   "outputs": [
    {
     "data": {
      "text/plain": [
       "\"               Lesson 1         A private conversation    First listen and then answer the question.    Why did the writer complain to the people behind him?    Last week I went to the theatre. I had a very good seat. The play was very interesting. I did not enjoy it. A young man and a young woman were sitting behind me. They were talking loudly. I got very angry. I could not hear the actors. I turned round. I looked at the man and the woman angrily. They did not pay any attention. In the end, I could not bear it. I turned round again. 'I can't hear a word!' I said angrily.    'It's none of your business,' the young man said rudely. 'This is a private conversation!'\""
      ]
     },
     "execution_count": 31,
     "metadata": {},
     "output_type": "execute_result"
    }
   ],
   "source": [
    "realtext"
   ]
  },
  {
   "cell_type": "markdown",
   "metadata": {},
   "source": [
    "***\n",
    "### Text exploration\n",
    "***"
   ]
  },
  {
   "cell_type": "code",
   "execution_count": 138,
   "metadata": {},
   "outputs": [],
   "source": [
    "def text_clean(in_text):\n",
    "    '''clean and remove some common words'''\n",
    "    tokenizer = nltk.tokenize.RegexpTokenizer('\\w+')\n",
    "    \n",
    "    # Tokenizing the text\n",
    "    tokens = tokenizer.tokenize(in_text)\n",
    "    # A new list to hold the lowercased words\n",
    "    words = []\n",
    "    for word in tokens:\n",
    "        words.append(word.lower())\n",
    "        \n",
    "    # Getting the English stop words from nltk\n",
    "    sw = nltk.corpus.stopwords.words('english')\n",
    "    \n",
    "    # A new list to hold Moby Dick with No Stop words\n",
    "    words_ns = []\n",
    "\n",
    "    # Appending to words_ns all words that are in words but not in sw\n",
    "    for word in words:\n",
    "        if word not in sw:\n",
    "            words_ns.append(word)\n",
    "    # Creating the word frequency distribution\n",
    "    freqdist = nltk.probability.FreqDist(words_ns)\n",
    "\n",
    "    # Plotting the word frequency distribution\n",
    "    plt.clf()\n",
    "    fig=plt.figure(figsize=(6, 4))\n",
    "    plt.subplots_adjust(bottom=0.3)\n",
    "    freqdist.plot(10)\n",
    "    fig.savefig(\"Plot/word_freq.pdf\", format=\"pdf\")    \n",
    "    print(freqdist.most_common(5))\n",
    "    \n",
    "    out_text = \" \".join(str(x) for x in words_ns)\n",
    "    return out_text"
   ]
  },
  {
   "cell_type": "code",
   "execution_count": 139,
   "metadata": {},
   "outputs": [
    {
     "data": {
      "text/plain": [
       "<matplotlib.figure.Figure at 0x12b928828>"
      ]
     },
     "metadata": {},
     "output_type": "display_data"
    },
    {
     "data": {
      "image/png": "[encoded data removed]",
      "text/plain": [
       "<matplotlib.figure.Figure at 0x138ce1978>"
      ]
     },
     "metadata": {},
     "output_type": "display_data"
    },
    {
     "name": "stdout",
     "output_type": "stream",
     "text": [
      "[('young', 3), ('man', 3), ('private', 2), ('conversation', 2), ('behind', 2)]\n"
     ]
    },
    {
     "data": {
      "text/plain": [
       "'lesson 1 private conversation first listen answer question writer complain people behind last week went theatre good seat play interesting enjoy young man young woman sitting behind talking loudly got angry could hear actors turned round looked man woman angrily pay attention end could bear turned round hear word said angrily none business young man said rudely private conversation'"
      ]
     },
     "execution_count": 139,
     "metadata": {},
     "output_type": "execute_result"
    }
   ],
   "source": [
    "text_clean(realtext)"
   ]
  },
  {
   "cell_type": "code",
   "execution_count": 113,
   "metadata": {},
   "outputs": [
    {
     "data": {
      "text/plain": [
       "<matplotlib.figure.Figure at 0x1281d4748>"
      ]
     },
     "metadata": {},
     "output_type": "display_data"
    },
    {
     "data": {
      "image/png": "[encoded data removed]",
      "text/plain": [
       "<matplotlib.figure.Figure at 0x1380191d0>"
      ]
     },
     "metadata": {},
     "output_type": "display_data"
    },
    {
     "name": "stdout",
     "output_type": "stream",
     "text": [
      "[('felt', 1), ('inglese', 1), ('presentation', 1), ('nice', 1), ('tell', 1)]\n"
     ]
    },
    {
     "data": {
      "text/plain": [
       "'felt inglese presentation nice tell prevent aids tryto call words meeting need catch residents ooze fully honor'"
      ]
     },
     "execution_count": 113,
     "metadata": {},
     "output_type": "execute_result"
    }
   ],
   "source": [
    "text_clean(fulltext)"
   ]
  },
  {
   "cell_type": "markdown",
   "metadata": {},
   "source": [
    "## Sumy text summarization"
   ]
  },
  {
   "cell_type": "code",
   "execution_count": 3,
   "metadata": {},
   "outputs": [
    {
     "name": "stdout",
     "output_type": "stream",
     "text": [
      "Lesson 1 A private conversation\n",
      "First listen and then answer the question.\n",
      "Why did the writer complain to the people behind him?\n",
      "A young man and a young woman were sitting behind me.\n",
      "I could not hear the actors.\n",
      "I turned round.\n",
      "I looked at the man and the woman angrily.\n",
      "I turned round again.\n",
      "'I can't hear a word!'\n",
      "'It's none of your business,' the young man said rudely.\n"
     ]
    }
   ],
   "source": [
    "#from __future__ import absolute_import\n",
    "#from __future__ import division, print_function, unicode_literals\n",
    "\n",
    "from sumy.parsers.plaintext import PlaintextParser\n",
    "from sumy.nlp.tokenizers import Tokenizer\n",
    "from sumy.summarizers.lsa import LsaSummarizer as Summarizer\n",
    "from sumy.nlp.stemmers import Stemmer\n",
    "from sumy.utils import get_stop_words\n",
    "\n",
    "LANGUAGE = \"english\"\n",
    "SENTENCES_COUNT = 10\n",
    "\n",
    "#url = \"http://www.zsstritezuct.estranky.cz/clanky/predmety/cteni/jak-naucit-dite-spravne-cist.html\"\n",
    "#parser = HtmlParser.from_url(url, Tokenizer(LANGUAGE))\n",
    "# or for plain text files\n",
    "parser = PlaintextParser.from_file(\"Data/NCE/2/T1.txt\", Tokenizer(LANGUAGE))\n",
    "stemmer = Stemmer(LANGUAGE)\n",
    "\n",
    "summarizer = Summarizer(stemmer)\n",
    "summarizer.stop_words = get_stop_words(LANGUAGE)\n",
    "\n",
    "for sentence in summarizer(parser.document, SENTENCES_COUNT):\n",
    "    print(sentence)"
   ]
  },
  {
   "cell_type": "markdown",
   "metadata": {},
   "source": [
    "***\n",
    "### Live Audio import\n",
    "***"
   ]
  },
  {
   "cell_type": "code",
   "execution_count": 49,
   "metadata": {},
   "outputs": [],
   "source": [
    "def record_live(Name=\"output\", Length=100, Nout=Lseg, Running=False):\n",
    "    '''this function records audio, length in seconds'''\n",
    "    start_time = time.time()\n",
    "    FORMAT = pyaudio.paInt16\n",
    "    RATE = 32000\n",
    "    RECORD_SECONDS = Lseg ## fixed 10 sec pieces\n",
    "    CHANNELS = 1  ##2 for stereo\n",
    "    CHUNK = 1024\n",
    "\n",
    "    ## initialize pyaudio\n",
    "    p = pyaudio.PyAudio()\n",
    "    \n",
    "    N_rec = Length/RECORD_SECONDS\n",
    "    n_rec = 0\n",
    "\n",
    "    #keypressed = input('Press q to quit: ')\n",
    "    while n_rec < N_rec:\n",
    "        stream = p.open(format=FORMAT,\n",
    "                            channels=CHANNELS,\n",
    "                            rate=RATE,\n",
    "                            input=True,\n",
    "                            frames_per_buffer=CHUNK)\n",
    "        print(\"* recording: \" + str(n_rec))\n",
    "\n",
    "        frames = []\n",
    "\n",
    "        for i in range(0, int(RATE / CHUNK * RECORD_SECONDS)):\n",
    "            data = stream.read(CHUNK)\n",
    "            frames.append(data)\n",
    "\n",
    "        ## initialize output waveform\n",
    "        wf = wave.open(\"Data/Live/\" + Name + \"_\" + str(n_rec) + \".wav\", 'wb')\n",
    "        wf.setnchannels(CHANNELS)\n",
    "        wf.setsampwidth(p.get_sample_size(FORMAT))\n",
    "        wf.setframerate(RATE)\n",
    "        wf.writeframes(b''.join(frames))\n",
    "        n_rec += 1\n",
    "        \n",
    "    stream.stop_stream()\n",
    "    stream.close()\n",
    "    p.terminate()\n",
    "\n",
    "    wf.close()\n",
    "    print(\"--- %s seconds ---\" % (time.time() - start_time))\n",
    "    return"
   ]
  },
  {
   "cell_type": "code",
   "execution_count": 48,
   "metadata": {},
   "outputs": [
    {
     "name": "stdout",
     "output_type": "stream",
     "text": [
      "rm: Data/Live/output*: No such file or directory\r\n"
     ]
    }
   ],
   "source": [
    "!ls Data/Live/\n",
    "!rm Data/Live/output*\n",
    "!ls Data/Live/"
   ]
  },
  {
   "cell_type": "code",
   "execution_count": 50,
   "metadata": {},
   "outputs": [
    {
     "name": "stdout",
     "output_type": "stream",
     "text": [
      "* recording: 0\n",
      "* recording: 1\n",
      "* recording: 2\n",
      "* recording: 3\n",
      "* recording: 4\n",
      "* recording: 5\n",
      "* recording: 6\n",
      "* recording: 7\n",
      "* recording: 8\n",
      "* recording: 9\n",
      "* recording: 10\n",
      "* recording: 11\n",
      "* recording: 12\n",
      "* recording: 13\n",
      "* recording: 14\n",
      "* recording: 15\n",
      "* recording: 16\n",
      "* recording: 17\n",
      "--- 182.67663073539734 seconds ---\n"
     ]
    }
   ],
   "source": [
    "record_live(Length=180)"
   ]
  },
  {
   "cell_type": "code",
   "execution_count": 51,
   "metadata": {},
   "outputs": [
    {
     "name": "stdout",
     "output_type": "stream",
     "text": [
      "output_0.wav  output_12.wav output_16.wav output_4.wav  output_8.wav\r\n",
      "output_1.wav  output_13.wav output_17.wav output_5.wav  output_9.wav\r\n",
      "output_10.wav output_14.wav output_2.wav  output_6.wav\r\n",
      "output_11.wav output_15.wav output_3.wav  output_7.wav\r\n"
     ]
    }
   ],
   "source": [
    "!ls Data/Live/"
   ]
  },
  {
   "cell_type": "code",
   "execution_count": 52,
   "metadata": {},
   "outputs": [
    {
     "name": "stdout",
     "output_type": "stream",
     "text": [
      " Running 18 jobs on 6 cores\n",
      "Data/Live/output_9.wav\n",
      "Data/Live/output_8.wav\n",
      "Data/Live/output_11.wav\n",
      "Data/Live/output_10.wav\n",
      "Data/Live/output_12.wav\n",
      "Data/Live/output_13.wav\n",
      "['Data/Live/output_9.wav', 'Data/Live/output_8.wav', 'Data/Live/output_11.wav', 'Data/Live/output_10.wav', 'Data/Live/output_12.wav', 'Data/Live/output_13.wav', 'Data/Live/output_17.wav', 'Data/Live/output_16.wav', 'Data/Live/output_14.wav', 'Data/Live/output_15.wav', 'Data/Live/output_5.wav', 'Data/Live/output_4.wav', 'Data/Live/output_6.wav', 'Data/Live/output_7.wav', 'Data/Live/output_3.wav', 'Data/Live/output_2.wav', 'Data/Live/output_0.wav', 'Data/Live/output_1.wav']\n",
      "Data/Live/output_17.wav\n",
      "Data/Live/output_16.wav\n",
      "Data/Live/output_14.wav\n",
      "Data/Live/output_15.wav\n",
      "Data/Live/output_5.wav\n",
      "Data/Live/output_4.wav\n",
      "Data/Live/output_6.wav\n",
      "Data/Live/output_7.wav\n",
      "Data/Live/output_3.wav\n",
      "Data/Live/output_2.wav\n",
      "Data/Live/output_0.wav\n",
      "Data/Live/output_1.wav\n",
      "the level of it though to talk about what or who wishes and c. n. for breakfast meeting tax noso the problem is truth is that what you're most vicious there's an already have met in la meetings are very few acetate alsowhat is called lotto than red cells meeting gets rid of somebody to become an take a piece of paper right nowthe chief of the wall out there is fast primates and useful and these are married this matters because you need is for us to quit itoh is that you don't want it right now all were you not the contras meetings all across the loot especially in the meetings are alwaysyou want to someone's nose right now what has to go to these meetings but no one ought to work solution for photos for his ought not tothe user is that while you're at letters will attend the meetings if they don't see ghosts of shoshone for robot use youris this product and get the eighties the commerce not needy or awfully recorded into the actual moran says that altosbut to look for fatally have to train or to pass these ideas is ready for an attorney who's talking i was aloneif foreigners and she in a better time that hadn't forest is usual canceled that henry ford's gingrich there areon the phone from florida state stories i've read them as full an outline the speaker's legal merit isis news bullets but so doeswhere did it is that it's actually uses like foreigners will taxed at different levels of tar and labs social very great love for exampleand have prayer and therefore all new records which means the protests only the rich last time the shots horizontal start buta little bit more on today's sports news i could get a new future and inkatha's to our national out and yarborough you or what's the useso those hotline is too far you to lose are the files or not or did you seeing white house rules as a media profilethat's all that lazy to subplots horror and recording of studies show thousand has to the school system problemthat proceed on that occasion by this time the nato have to look directly to computer would face but what kinds of assault impactthese guys thanks youth and the world is huge get out of time for his gives you the paris he loses a guy\n",
      "--- 25.46451687812805 seconds ---\n"
     ]
    }
   ],
   "source": [
    "start_time = time.time()\n",
    "\n",
    "mytasks = glob.glob(\"Data/Live/output_*.wav\")\n",
    "print(\" Running %s jobs on %s cores\" % (len(mytasks), mp.cpu_count()-2))\n",
    "npool = min(len(mytasks), mp.cpu_count()-2)\n",
    "pool  = mp.Pool(npool)\n",
    "print(mytasks)\n",
    "inputdic = {}\n",
    "for i in range(len(mytasks)):\n",
    "    inputdic[i] = {\"file\":\"Data/Live/output_\" + str(i) + \".wav\", \"n\":i}\n",
    "    \n",
    "mytextdic = {}\n",
    "for result in pool.map(SoundToText, mytasks):\n",
    "        mytextdic.update(result)\n",
    "mytext = \"\"\n",
    "for i in range(len(mytextdic.keys())):\n",
    "    mytext += mytextdic[\"Data/Live/output_\" + str(i) + \".wav\"]\n",
    "print(mytext)\n",
    "print(\"--- %s seconds ---\" % (time.time() - start_time))"
   ]
  },
  {
   "cell_type": "code",
   "execution_count": 140,
   "metadata": {},
   "outputs": [
    {
     "data": {
      "text/plain": [
       "<matplotlib.figure.Figure at 0x12b8db0f0>"
      ]
     },
     "metadata": {},
     "output_type": "display_data"
    },
    {
     "data": {
      "image/png": "[encoded data removed]",
      "text/plain": [
       "<matplotlib.figure.Figure at 0x1281d9a20>"
      ]
     },
     "metadata": {},
     "output_type": "display_data"
    },
    {
     "name": "stdout",
     "output_type": "stream",
     "text": [
      "[('meetings', 5), ('time', 4), ('right', 3), ('get', 3), ('meeting', 2)]\n"
     ]
    },
    {
     "data": {
      "text/plain": [
       "'level though talk wishes c n breakfast meeting tax noso problem truth vicious already met la meetings acetate alsowhat called lotto red cells meeting gets rid somebody become take piece paper right nowthe chief wall fast primates useful married matters need us quit itoh want right contras meetings across loot especially meetings alwaysyou want someone nose right go meetings one ought work solution photos ought tothe user letters attend meetings see ghosts shoshone robot use youris product get eighties commerce needy awfully recorded actual moran says altosbut look fatally train pass ideas ready attorney talking aloneif foreigners better time forest usual canceled henry ford gingrich areon phone florida state stories read full outline speaker legal merit isis news bullets doeswhere actually uses like foreigners taxed different levels tar labs social great love exampleand prayer therefore new records means protests rich last time shots horizontal start buta little bit today sports news could get new future inkatha national yarborough useso hotline far lose files seeing white house rules media profilethat lazy subplots horror recording studies show thousand school system problemthat proceed occasion time nato look directly computer would face kinds assault impactthese guys thanks youth world huge get time gives paris loses guy'"
      ]
     },
     "execution_count": 140,
     "metadata": {},
     "output_type": "execute_result"
    }
   ],
   "source": [
    "text_clean(mytext)"
   ]
  },
  {
   "cell_type": "code",
   "execution_count": 56,
   "metadata": {},
   "outputs": [
    {
     "name": "stdout",
     "output_type": "stream",
     "text": [
      "world_freq.pdf\r\n"
     ]
    }
   ],
   "source": [
    "!ls Plot/"
   ]
  },
  {
   "cell_type": "code",
   "execution_count": null,
   "metadata": {},
   "outputs": [],
   "source": []
  }
 ],
 "metadata": {
  "kernelspec": {
   "display_name": "Python 3",
   "language": "python",
   "name": "python3"
  },
  "language_info": {
   "codemirror_mode": {
    "name": "ipython",
    "version": 3
   },
   "file_extension": ".py",
   "mimetype": "text/x-python",
   "name": "python",
   "nbconvert_exporter": "python",
   "pygments_lexer": "ipython3",
   "version": "3.6.1"
  }
 },
 "nbformat": 4,
 "nbformat_minor": 2
}
