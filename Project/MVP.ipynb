{
 "cells": [
  {
   "cell_type": "markdown",
   "metadata": {},
   "source": [
    "Creating first MVP product; for Jun 7 2018"
   ]
  },
  {
   "cell_type": "markdown",
   "metadata": {},
   "source": [
    "## Install Libraries"
   ]
  },
  {
   "cell_type": "markdown",
   "metadata": {},
   "source": [
    "#### Python library resource: https://awesome-python.com/\n",
    "\n",
    "Installations for extra packages: \n",
    "- !pip install SpeechRecognition\n",
    "- !pip install PocketSphinx\n",
    "- !brew install portaudio\n",
    "- !pip install pyaudio\n",
    "- !pip install sumy"
   ]
  },
  {
   "cell_type": "markdown",
   "metadata": {},
   "source": [
    "## Data Sources:\n",
    "\n",
    "- __[NYT daily from podbay](http://podbay.fm/show/1200361736/e/1527587699?autostart=1)__; \n",
    "- NYT daily: https://itunes.apple.com/us/podcast/the-daily/id1200361736?mt=2&ign-mpt=uo%3D4\n",
    "- Open Audio Source: http://www.openslr.org/resources.php\n",
    "- Economist: https://www.economist.com/audio-edition/2018-06-02\n",
    "- Economist text: https://xmuplus.github.io/\n",
    "- NPR: https://www.npr.org/programs/morning-edition/\n",
    "- NPR sunday: https://www.npr.org/programs/weekend-edition-sunday/\n",
    "- Ted talk: https://itunes.apple.com/us/podcast/ted-talks-daily/id160904630?mt=2\n",
    "- Public meeting: http://www.sbccd.org/Board_of_Trustees/Agendas_and_Minutes\n",
    "- NPR upfirst: https://www.npr.org/podcasts/510318/up-first"
   ]
  },
  {
   "cell_type": "markdown",
   "metadata": {},
   "source": [
    "## Speech Recognition\n",
    "\n",
    "- Real python: https://realpython.com/python-speech-recognition/#working-with-audio-files\n",
    "- Speech Recognition: https://github.com/Uberi/speech_recognition#readme\n",
    "- Speech Recognition: https://pypi.org/project/SpeechRecognition/3.2.0/\n",
    "- Pocket Sphinx: https://pypi.org/project/pocketsphinx/\n",
    "- Pydub: https://github.com/jiaaro/pydub/blob/master/API.markdown\n",
    "- Audio processing in python: http://myinspirationinformation.com/uncategorized/audio-signals-in-python/\n",
    "- Speaker Recognition: https://github.com/orchidas/Speaker-Recognition\n",
    "- Audio training analysis: https://github.com/tyiannak/pyAudioAnalysis"
   ]
  },
  {
   "cell_type": "markdown",
   "metadata": {},
   "source": [
    "## Natural Language Processing\n",
    "\n",
    "- Insight: https://blog.insightdatascience.com/how-to-solve-90-of-nlp-problems-a-step-by-step-guide-fda605278e4e\n",
    "- Intro/resource: https://github.com/icoxfog417/awesome-text-summarization\n",
    "- Summy: https://github.com/miso-belica/sumy"
   ]
  },
  {
   "cell_type": "markdown",
   "metadata": {},
   "source": [
    "## Web App\n",
    "\n",
    "* Dash audio? https://community.plot.ly/t/audio-recording-feature-in-dash-app/7837\n",
    "* Flask audio: https://henri.io/posts/streaming-microphone-input-with-flask.html"
   ]
  },
  {
   "cell_type": "markdown",
   "metadata": {},
   "source": [
    "\n",
    "***\n",
    "### Import basic libraries\n",
    "***\n"
   ]
  },
  {
   "cell_type": "code",
   "execution_count": 1,
   "metadata": {},
   "outputs": [],
   "source": [
    "## for speech to text\n",
    "import speech_recognition as sr\n",
    "\n",
    "\n",
    "## for audio processing and analytical study\n",
    "from pydub import AudioSegment ##for audio spliting\n",
    "from pydub.silence import split_on_silence\n",
    "\n",
    "## for audio collection\n",
    "import pyaudio\n",
    "import wave\n",
    "\n",
    "## for text recognition\n",
    "import nltk\n",
    "\n",
    "## for general studies\n",
    "from os import listdir\n",
    "from os.path import isfile, join\n",
    "import glob\n",
    "from numpy import fft as fft\n",
    "import matplotlib.pyplot as plt\n",
    "import numpy as np\n",
    "import sys\n",
    "import seaborn as sns\n",
    "from tqdm import tqdm\n",
    "import time as time\n",
    "import multiprocessing as mp\n",
    " \n",
    "%matplotlib inline\n",
    "# !ls Data/EC_06022018"
   ]
  },
  {
   "cell_type": "code",
   "execution_count": 2,
   "metadata": {},
   "outputs": [],
   "source": [
    "## Intitialize a recognizer\n",
    "r_live = sr.Recognizer()\n",
    "r_rec  = sr.Recognizer()"
   ]
  },
  {
   "cell_type": "markdown",
   "metadata": {},
   "source": [
    "\n",
    "***\n",
    "### Study WAV sound files\n",
    "***\n"
   ]
  },
  {
   "cell_type": "code",
   "execution_count": 3,
   "metadata": {},
   "outputs": [
    {
     "name": "stdout",
     "output_type": "stream",
     "text": [
      "Data/NCE/2/1.wav\r\n",
      "Data/NCE/2/10.wav\r\n",
      "Data/NCE/2/11.wav\r\n",
      "Data/NCE/2/12.wav\r\n",
      "Data/NCE/2/13.wav\r\n",
      "Data/NCE/2/14.wav\r\n",
      "Data/NCE/2/15.wav\r\n",
      "Data/NCE/2/16.wav\r\n",
      "Data/NCE/2/17.wav\r\n",
      "Data/NCE/2/18.wav\r\n",
      "Data/NCE/2/19.wav\r\n",
      "Data/NCE/2/21.wav\r\n",
      "Data/NCE/2/31.wav\r\n",
      "Data/NCE/2/41.wav\r\n",
      "Data/NCE/2/51.wav\r\n",
      "Data/NCE/2/61.wav\r\n",
      "Data/NCE/2/71.wav\r\n",
      "Data/NCE/2/81.wav\r\n",
      "Data/NCE/2/91.wav\r\n",
      "Data/NCE/2/Lesson 1 A private conversation.wav\r\n",
      "Data/NCE/2/Lesson 10 Not for jazz.wav\r\n",
      "Data/NCE/2/Lesson 11 One good turn deserves another.wav\r\n",
      "Data/NCE/2/Lesson 12 Goodbye and good luck.wav\r\n",
      "Data/NCE/2/Lesson 13 The Greenwood Boys.wav\r\n",
      "Data/NCE/2/Lesson 14 Do you speak English.wav\r\n",
      "Data/NCE/2/Lesson 15 Good news.wav\r\n",
      "Data/NCE/2/Lesson 16 A polite request.wav\r\n",
      "Data/NCE/2/Lesson 17 Always young.wav\r\n",
      "Data/NCE/2/Lesson 18 He often does this!.wav\r\n",
      "Data/NCE/2/Lesson 19 Sold out.wav\r\n",
      "Data/NCE/2/Lesson 21 Mad or not.wav\r\n",
      "Data/NCE/2/Lesson 31 Success story.wav\r\n",
      "Data/NCE/2/Lesson 41 Do you call that a hat.wav\r\n",
      "Data/NCE/2/Lesson 51 Reward for virtue.wav\r\n",
      "Data/NCE/2/Lesson 61 Trouble with the Hubble.wav\r\n",
      "Data/NCE/2/Lesson 71 A famous clock.wav\r\n",
      "Data/NCE/2/Lesson 81 Escape.wav\r\n",
      "Data/NCE/2/Lesson 91 Three men in a basket.wav\r\n"
     ]
    }
   ],
   "source": [
    "!ls Data/NCE/2/*1*.wav"
   ]
  },
  {
   "cell_type": "code",
   "execution_count": 4,
   "metadata": {},
   "outputs": [],
   "source": [
    "# The wav file path\n",
    "f_wav = 'Data/NCE/2/1.wav'"
   ]
  },
  {
   "cell_type": "code",
   "execution_count": 5,
   "metadata": {},
   "outputs": [
    {
     "name": "stdout",
     "output_type": "stream",
     "text": [
      "78.3934693877551\n",
      "DBFS -21.91979724347295 Max DBFS -1.1749991515185085\n",
      "RMS 2627\n",
      "Frame rate 44100\n"
     ]
    }
   ],
   "source": [
    "## Get the length of audio file\n",
    "sound = AudioSegment.from_file(f_wav)\n",
    "print(sound.duration_seconds)\n",
    "print(\"DBFS\", sound.dBFS, \"Max DBFS\", sound.max_dBFS)\n",
    "print(\"RMS\", sound.rms)\n",
    "print(\"Frame rate\", sound.frame_rate)"
   ]
  },
  {
   "cell_type": "code",
   "execution_count": 6,
   "metadata": {},
   "outputs": [
    {
     "data": {
      "image/png": "[encoded data removed]",
      "text/plain": [
       "<matplotlib.figure.Figure at 0x119806f60>"
      ]
     },
     "metadata": {},
     "output_type": "display_data"
    }
   ],
   "source": [
    "## Get the raw sound data as array\n",
    "r_np = sound.get_array_of_samples()\n",
    "\n",
    "##inspect time vs Amplitude\n",
    "plt.clf()\n",
    "plt.title(f_wav)\n",
    "plt.plot(np.linspace(0, len(r_np)/sound.frame_rate, len(r_np)), r_np, linewidth=0.02, alpha=0.8)\n",
    "plt.xlabel('Time')\n",
    "plt.ylabel('Amplitude')\n",
    "plt.show()"
   ]
  },
  {
   "cell_type": "code",
   "execution_count": 7,
   "metadata": {},
   "outputs": [
    {
     "data": {
      "image/png": "[encoded data removed]",
      "text/plain": [
       "<matplotlib.figure.Figure at 0x11983da58>"
      ]
     },
     "metadata": {},
     "output_type": "display_data"
    }
   ],
   "source": [
    "## Frequency analysis, if needed\n",
    "fourier=fft.fft(r_np)\n",
    "plt.clf()\n",
    "# plt.subplot(1, 2, 1)\n",
    "# plt.plot(fourier, color='#ff7f00')\n",
    "# plt.xlabel('Frequency')\n",
    "# plt.ylabel('Amplitude')\n",
    "# plt.title(f_wav)\n",
    "\n",
    "n = len(r_np)\n",
    "fourier = fourier[0:int(n/2)]\n",
    "\n",
    "# scale by the number of points so that the magnitude does not depend on the length\n",
    "fourier = fourier / float(n)\n",
    "fourier = abs(fourier)\n",
    "fourier = fourier ** 2\n",
    "\n",
    "# rebase 0 as the minimal voice\n",
    "vol =  10*np.log10(fourier) - 10*np.log10(min(fourier))\n",
    "\n",
    "#calculate the frequency at each point in Hz\n",
    "freqArray = np.arange(0, (n/2), 1.0) * (sound.frame_rate*1.0/n);\n",
    "\n",
    "# plt.subplot(1, 2, 2)\n",
    "plt.plot(freqArray/1000, vol, color='#ff7f00', linewidth=0.02)\n",
    "plt.xlabel('Frequency (kHz)')\n",
    "plt.ylabel('Power (dB)')\n",
    "plt.title(f_wav)\n",
    "plt.show()"
   ]
  },
  {
   "cell_type": "markdown",
   "metadata": {},
   "source": [
    "\n",
    "***\n",
    "### Sound file decomposition\n",
    "***"
   ]
  },
  {
   "cell_type": "code",
   "execution_count": 13,
   "metadata": {},
   "outputs": [
    {
     "name": "stdout",
     "output_type": "stream",
     "text": [
      "--- 0.02023005485534668 seconds ---\n",
      "20.mps         MVP.ipynb      chunk_s1.wav   chunk_s4.wav   chunk_s7.wav\r\n",
      "\u001b[1m\u001b[36mData\u001b[m\u001b[m           README.md      chunk_s2.wav   chunk_s5.wav   newSong.wav\r\n",
      "Jun7_MVP.ipynb chunk_s0.wav   chunk_s3.wav   chunk_s6.wav   output.wav\r\n"
     ]
    }
   ],
   "source": [
    "## split sound in 10-second slices and export\n",
    "start_time = time.time()\n",
    "sound_file = AudioSegment.from_wav(f_wav)\n",
    "\n",
    "for i, chunk in enumerate(sound_file[::10 * 1000]):\n",
    "  with open(\"chunk_s\" + str(i) + \".wav\", \"wb\") as f:\n",
    "    chunk.export(f, format=\"wav\")\n",
    "\n",
    "print(\"--- %s seconds ---\" % (time.time() - start_time))\n",
    "!ls"
   ]
  },
  {
   "cell_type": "code",
   "execution_count": 14,
   "metadata": {},
   "outputs": [],
   "source": [
    "# # silence split, if necessary\n",
    "# start_time = time.time()\n",
    "# sound_file = AudioSegment.from_wav(f_wav)\n",
    "# audio_chunks = split_on_silence(sound_file, \n",
    "#     # must be silent for at least half a second\n",
    "#     min_silence_len=500,\n",
    "#     # consider it silent if quieter than -16 dBFS\n",
    "#     silence_thresh=-19)\n",
    "\n",
    "# print(len(audio_chunks))\n",
    "# ## split into chunks\n",
    "# for i, chunk in enumerate(audio_chunks):\n",
    "#     out_file = \"chunk_s{0}.wav\".format(i)\n",
    "#     print(\"exporting\", out_file)\n",
    "#     chunk.export(out_file, format=\"wav\")\n",
    "\n",
    "# print(\"--- %s seconds ---\" % (time.time() - start_time))\n",
    "# !ls"
   ]
  },
  {
   "cell_type": "code",
   "execution_count": 15,
   "metadata": {},
   "outputs": [
    {
     "name": "stdout",
     "output_type": "stream",
     "text": [
      "20.mps         MVP.ipynb      chunk_s1.wav   chunk_s4.wav   chunk_s7.wav\r\n",
      "\u001b[1m\u001b[36mData\u001b[m\u001b[m           README.md      chunk_s2.wav   chunk_s5.wav   newSong.wav\r\n",
      "Jun7_MVP.ipynb chunk_s0.wav   chunk_s3.wav   chunk_s6.wav   output.wav\r\n"
     ]
    }
   ],
   "source": [
    "# clear files\n",
    "!ls\n",
    "#! rm chunk*"
   ]
  },
  {
   "cell_type": "markdown",
   "metadata": {},
   "source": [
    "\n",
    "***\n",
    "### Text recognition\n",
    "***\n"
   ]
  },
  {
   "cell_type": "code",
   "execution_count": 2,
   "metadata": {},
   "outputs": [],
   "source": [
    "def SoundToText(file=\"\"):\n",
    "    '''Uses Sphinx builtin. \n",
    "    Input is a dic contained as config'''\n",
    "    if file != \"\":\n",
    "        #print(file)\n",
    "        test = sr.AudioFile(file)\n",
    "        Recon  = sr.Recognizer()\n",
    "        with test as source:\n",
    "            test_au = Recon.record(source)\n",
    "        text = Recon.recognize_sphinx(test_au, language='en-US')\n",
    "        del test\n",
    "        del test_au\n",
    "        del Recon\n",
    "        return {file: text}\n",
    "    else:\n",
    "        print('STH is wrong!')\n",
    "        return \"\"\n",
    "#SoundToText('chunk_s2.wav')"
   ]
  },
  {
   "cell_type": "markdown",
   "metadata": {},
   "source": [
    "#### May need to remove small files\n",
    "#### find *.wav  -type f -size -100k -delete"
   ]
  },
  {
   "cell_type": "code",
   "execution_count": null,
   "metadata": {},
   "outputs": [
    {
     "name": "stderr",
     "output_type": "stream",
     "text": [
      "  2%|▏         | 3/176 [02:58<2:51:29, 59.48s/it]"
     ]
    }
   ],
   "source": [
    "#start_time = time.time()\n",
    "for i in tqdm(range(138, 314)):\n",
    "    inputtasks = glob.glob(\"Data/NPR/\" + str(i) + \"_*.wav\")\n",
    "    #print(\" Running %s jobs on %s cores\" % (len(inputtasks), mp.cpu_count()-2))\n",
    "    npool = min(len(inputtasks), mp.cpu_count()-2)\n",
    "    pool  = mp.Pool(npool)\n",
    "\n",
    "    #print(inputtasks)\n",
    "    inputdic = {}\n",
    "    for k in range(len(inputtasks)):\n",
    "        inputdic[k] = {\"file\":\"Data/NPR/\" + str(i) + \"_\" + str(k) + \".wav\", \"n\":i}\n",
    "\n",
    "    fulltextdic = {}\n",
    "    ## parallel\n",
    "    for result in pool.map(SoundToText, inputtasks):\n",
    "            fulltextdic.update(result)\n",
    "#     ## standard\n",
    "#     for i in inputtasks:\n",
    "#         print(i)\n",
    "#         result = SoundToText(i) #dictionary of values, plots\n",
    "#         fulltextdic.update(result)\n",
    "    \n",
    "    fulltext = \"\"\n",
    "    for k in range(len(fulltextdic.keys())):\n",
    "        fulltext += fulltextdic[\"Data/NPR/\" + str(i) + \"_\" + str(k) + \".wav\"]\n",
    "    #print(fulltext)\n",
    "    with open(\"Data/NPR/\" + str(i) + \"_trans.txt\", \"w\") as text_file:\n",
    "            text_file.write(fulltext)\n",
    "    pool.close()\n",
    "#print(\"--- %s seconds ---\" % (time.time() - start_time))"
   ]
  },
  {
   "cell_type": "code",
   "execution_count": 12,
   "metadata": {},
   "outputs": [],
   "source": [
    "with open(\"Data/NPR/\" + str(i) + \"_tran.txt\", \"w\") as text_file:\n",
    "        text_file.write(fulltext)"
   ]
  },
  {
   "cell_type": "code",
   "execution_count": 7,
   "metadata": {},
   "outputs": [
    {
     "name": "stdout",
     "output_type": "stream",
     "text": [
      " Running 41 jobs on 6 cores\n",
      "Data/NPR/0_27.wav\n",
      "Data/NPR/0_40.wav\n",
      "Data/NPR/0_32.wav\n",
      "Data/NPR/0_31.wav\n",
      "Data/NPR/0_8.wav\n",
      "Data/NPR/0_24.wav\n",
      "Data/NPR/0_26.wav\n",
      "Data/NPR/0_19.wav\n",
      "Data/NPR/0_25.wav\n",
      "Data/NPR/0_30.wav\n",
      "Data/NPR/0_33.wav\n",
      "Data/NPR/0_9.wav\n",
      "Data/NPR/0_18.wav\n",
      "Data/NPR/0_20.wav\n",
      "Data/NPR/0_35.wav\n",
      "Data/NPR/0_37.wav\n",
      "Data/NPR/0_22.wav\n",
      "Data/NPR/0_2.wav\n",
      "Data/NPR/0_34.wav\n",
      "Data/NPR/0_21.wav\n",
      "Data/NPR/0_13.wav\n",
      "Data/NPR/0_3.wav\n",
      "Data/NPR/0_12.wav\n",
      "Data/NPR/0_23.wav\n",
      "Data/NPR/0_10.wav\n",
      "Data/NPR/0_0.wav\n",
      "Data/NPR/0_36.wav\n",
      "Data/NPR/0_38.wav\n",
      "Data/NPR/0_1.wav\n",
      "Data/NPR/0_39.wav\n",
      "Data/NPR/0_11.wav\n",
      "Data/NPR/0_29.wav\n",
      "Data/NPR/0_5.wav\n",
      "Data/NPR/0_14.wav\n",
      "Data/NPR/0_15.wav\n",
      "Data/NPR/0_7.wav\n",
      "Data/NPR/0_4.wav\n",
      "Data/NPR/0_17.wav\n",
      "Data/NPR/0_16.wav\n",
      "Data/NPR/0_28.wav\n",
      "Data/NPR/0_6.wav\n"
     ]
    }
   ],
   "source": [
    "inputtasks = glob.glob(\"Data/NPR/0_*.wav\")\n",
    "print(\" Running %s jobs on %s cores\" % (len(inputtasks), mp.cpu_count()-2))\n",
    "npool = min(len(inputtasks), mp.cpu_count()-2)\n",
    "pool  = mp.Pool(npool)"
   ]
  },
  {
   "cell_type": "code",
   "execution_count": 3,
   "metadata": {},
   "outputs": [
    {
     "name": "stdout",
     "output_type": "stream",
     "text": [
      "['Data/NPR/0_40.wav', 'Data/NPR/0_26.wav', 'Data/NPR/0_32.wav', 'Data/NPR/0_33.wav', 'Data/NPR/0_27.wav', 'Data/NPR/0_19.wav', 'Data/NPR/0_31.wav', 'Data/NPR/0_25.wav', 'Data/NPR/0_8.wav', 'Data/NPR/0_9.wav', 'Data/NPR/0_24.wav', 'Data/NPR/0_30.wav', 'Data/NPR/0_18.wav', 'Data/NPR/0_34.wav', 'Data/NPR/0_20.wav', 'Data/NPR/0_21.wav', 'Data/NPR/0_35.wav', 'Data/NPR/0_23.wav', 'Data/NPR/0_37.wav', 'Data/NPR/0_36.wav', 'Data/NPR/0_22.wav', 'Data/NPR/0_13.wav', 'Data/NPR/0_2.wav', 'Data/NPR/0_3.wav', 'Data/NPR/0_12.wav', 'Data/NPR/0_38.wav', 'Data/NPR/0_10.wav', 'Data/NPR/0_1.wav', 'Data/NPR/0_0.wav', 'Data/NPR/0_11.wav', 'Data/NPR/0_39.wav', 'Data/NPR/0_15.wav', 'Data/NPR/0_29.wav', 'Data/NPR/0_4.wav', 'Data/NPR/0_5.wav', 'Data/NPR/0_28.wav', 'Data/NPR/0_14.wav', 'Data/NPR/0_16.wav', 'Data/NPR/0_7.wav', 'Data/NPR/0_6.wav', 'Data/NPR/0_17.wav']\n"
     ]
    }
   ],
   "source": [
    "print(inputtasks)\n",
    "inputdic = {}\n",
    "for i in range(len(inputtasks)):\n",
    "    inputdic[i] = {\"file\":\"Data/NPR/0_\" + str(i) + \".wav\", \"n\":i}"
   ]
  },
  {
   "cell_type": "code",
   "execution_count": 2,
   "metadata": {},
   "outputs": [],
   "source": []
  },
  {
   "cell_type": "code",
   "execution_count": 20,
   "metadata": {},
   "outputs": [
    {
     "name": "stdout",
     "output_type": "stream",
     "text": [
      "chunk_s5.wav\n",
      "{'chunk_s5.wav': \"in the end i could not bear it i turned round again i can't hear though we're\"}\n",
      "chunk_s4.wav\n",
      "{'chunk_s4.wav': 'i turned round i looked at the man in the woman angrily they did not pay any attention'}\n",
      "chunk_s6.wav\n",
      "{'chunk_s6.wav': \"i said angrily it's none of your business the young man said rudely this is a\"}\n",
      "chunk_s7.wav\n",
      "{'chunk_s7.wav': 'private conversation'}\n",
      "chunk_s3.wav\n",
      "{'chunk_s3.wav': 'sitting behind me they were talking loudly i got very angry i could not hear the actors'}\n",
      "chunk_s2.wav\n",
      "{'chunk_s2.wav': 'very good seats the play was very interesting i did not enjoy it a young man in the young woman worse'}\n",
      "chunk_s0.wav\n",
      "{'chunk_s0.wav': \"bless 'em one at a private conversation first listen and then answer the question\"}\n",
      "chunk_s1.wav\n",
      "{'chunk_s1.wav': \"why did the right ear complained to the people behind him last week i went to the theater i hadn't\"}\n",
      "--- 16.12859082221985 seconds ---\n"
     ]
    }
   ],
   "source": [
    "start_time = time.time()\n",
    "fulltextdic = {}\n",
    "for i in inputtasks:\n",
    "    result = SoundToText(i) #dictionary of values, plots\n",
    "    print(result)\n",
    "    fulltextdic.update(result)\n",
    "print(\"--- %s seconds ---\" % (time.time() - start_time))"
   ]
  },
  {
   "cell_type": "code",
   "execution_count": 9,
   "metadata": {},
   "outputs": [
    {
     "ename": "KeyError",
     "evalue": "'chunk_s0.wav'",
     "output_type": "error",
     "traceback": [
      "\u001b[0;31m---------------------------------------------------------------------------\u001b[0m",
      "\u001b[0;31mKeyError\u001b[0m                                  Traceback (most recent call last)",
      "\u001b[0;32m<ipython-input-9-c75a277d8f28>\u001b[0m in \u001b[0;36m<module>\u001b[0;34m()\u001b[0m\n\u001b[1;32m      5\u001b[0m \u001b[0mfulltext\u001b[0m \u001b[0;34m=\u001b[0m \u001b[0;34m\"\"\u001b[0m\u001b[0;34m\u001b[0m\u001b[0m\n\u001b[1;32m      6\u001b[0m \u001b[0;32mfor\u001b[0m \u001b[0mi\u001b[0m \u001b[0;32min\u001b[0m \u001b[0mrange\u001b[0m\u001b[0;34m(\u001b[0m\u001b[0mlen\u001b[0m\u001b[0;34m(\u001b[0m\u001b[0mfulltextdic\u001b[0m\u001b[0;34m.\u001b[0m\u001b[0mkeys\u001b[0m\u001b[0;34m(\u001b[0m\u001b[0;34m)\u001b[0m\u001b[0;34m)\u001b[0m\u001b[0;34m)\u001b[0m\u001b[0;34m:\u001b[0m\u001b[0;34m\u001b[0m\u001b[0m\n\u001b[0;32m----> 7\u001b[0;31m     \u001b[0mfulltext\u001b[0m \u001b[0;34m+=\u001b[0m \u001b[0mfulltextdic\u001b[0m\u001b[0;34m[\u001b[0m\u001b[0;34m\"chunk_s\"\u001b[0m \u001b[0;34m+\u001b[0m \u001b[0mstr\u001b[0m\u001b[0;34m(\u001b[0m\u001b[0mi\u001b[0m\u001b[0;34m)\u001b[0m \u001b[0;34m+\u001b[0m \u001b[0;34m\".wav\"\u001b[0m\u001b[0;34m]\u001b[0m\u001b[0;34m\u001b[0m\u001b[0m\n\u001b[0m\u001b[1;32m      8\u001b[0m \u001b[0mprint\u001b[0m\u001b[0;34m(\u001b[0m\u001b[0mfulltext\u001b[0m\u001b[0;34m)\u001b[0m\u001b[0;34m\u001b[0m\u001b[0m\n\u001b[1;32m      9\u001b[0m \u001b[0mprint\u001b[0m\u001b[0;34m(\u001b[0m\u001b[0;34m\"--- %s seconds ---\"\u001b[0m \u001b[0;34m%\u001b[0m \u001b[0;34m(\u001b[0m\u001b[0mtime\u001b[0m\u001b[0;34m.\u001b[0m\u001b[0mtime\u001b[0m\u001b[0;34m(\u001b[0m\u001b[0;34m)\u001b[0m \u001b[0;34m-\u001b[0m \u001b[0mstart_time\u001b[0m\u001b[0;34m)\u001b[0m\u001b[0;34m)\u001b[0m\u001b[0;34m\u001b[0m\u001b[0m\n",
      "\u001b[0;31mKeyError\u001b[0m: 'chunk_s0.wav'"
     ]
    }
   ],
   "source": [
    "start_time = time.time()\n",
    "fulltextdic = {}\n",
    "for result in pool.map(SoundToText, inputtasks):\n",
    "        fulltextdic.update(result)\n",
    "fulltext = \"\"\n",
    "for i in range(len(fulltextdic.keys())):\n",
    "    fulltext += fulltextdic[\"chunk_s\" + str(i) + \".wav\"]\n",
    "print(fulltext)\n",
    "print(\"--- %s seconds ---\" % (time.time() - start_time))"
   ]
  },
  {
   "cell_type": "code",
   "execution_count": 26,
   "metadata": {},
   "outputs": [],
   "source": [
    "with open('Data/NCE/2/T1.TXT', 'r') as myfile:\n",
    "    realtext=myfile.read().replace('\\n', '')"
   ]
  },
  {
   "cell_type": "code",
   "execution_count": 27,
   "metadata": {},
   "outputs": [
    {
     "data": {
      "text/plain": [
       "\"               Lesson 1         A private conversation    First listen and then answer the question.    Why did the writer complain to the people behind him?    Last week I went to the theatre. I had a very good seat. The play was very interesting. I did not enjoy it. A young man and a young woman were sitting behind me. They were talking loudly. I got very angry. I could not hear the actors. I turned round. I looked at the man and the woman angrily. They did not pay any attention. In the end, I could not bear it. I turned round again. 'I can't hear a word!' I said angrily.    'It's none of your business,' the young man said rudely. 'This is a private conversation!'\""
      ]
     },
     "execution_count": 27,
     "metadata": {},
     "output_type": "execute_result"
    }
   ],
   "source": [
    "realtext"
   ]
  },
  {
   "cell_type": "markdown",
   "metadata": {},
   "source": [
    "***\n",
    "### Text exploration\n",
    "***"
   ]
  },
  {
   "cell_type": "code",
   "execution_count": 138,
   "metadata": {},
   "outputs": [],
   "source": [
    "def text_clean(in_text):\n",
    "    '''clean and remove some common words'''\n",
    "    tokenizer = nltk.tokenize.RegexpTokenizer('\\w+')\n",
    "    \n",
    "    # Tokenizing the text\n",
    "    tokens = tokenizer.tokenize(in_text)\n",
    "    # A new list to hold the lowercased words\n",
    "    words = []\n",
    "    for word in tokens:\n",
    "        words.append(word.lower())\n",
    "        \n",
    "    # Getting the English stop words from nltk\n",
    "    sw = nltk.corpus.stopwords.words('english')\n",
    "    \n",
    "    # A new list to hold Moby Dick with No Stop words\n",
    "    words_ns = []\n",
    "\n",
    "    # Appending to words_ns all words that are in words but not in sw\n",
    "    for word in words:\n",
    "        if word not in sw:\n",
    "            words_ns.append(word)\n",
    "    # Creating the word frequency distribution\n",
    "    freqdist = nltk.probability.FreqDist(words_ns)\n",
    "\n",
    "    # Plotting the word frequency distribution\n",
    "    plt.clf()\n",
    "    fig=plt.figure(figsize=(6, 4))\n",
    "    plt.subplots_adjust(bottom=0.3)\n",
    "    freqdist.plot(10)\n",
    "    fig.savefig(\"Plot/word_freq.pdf\", format=\"pdf\")    \n",
    "    print(freqdist.most_common(5))\n",
    "    \n",
    "    out_text = \" \".join(str(x) for x in words_ns)\n",
    "    return out_text"
   ]
  },
  {
   "cell_type": "code",
   "execution_count": 139,
   "metadata": {},
   "outputs": [
    {
     "data": {
      "text/plain": [
       "<matplotlib.figure.Figure at 0x12b928828>"
      ]
     },
     "metadata": {},
     "output_type": "display_data"
    },
    {
     "data": {
      "image/png": "[encoded data removed]",
      "text/plain": [
       "<matplotlib.figure.Figure at 0x138ce1978>"
      ]
     },
     "metadata": {},
     "output_type": "display_data"
    },
    {
     "name": "stdout",
     "output_type": "stream",
     "text": [
      "[('young', 3), ('man', 3), ('private', 2), ('conversation', 2), ('behind', 2)]\n"
     ]
    },
    {
     "data": {
      "text/plain": [
       "'lesson 1 private conversation first listen answer question writer complain people behind last week went theatre good seat play interesting enjoy young man young woman sitting behind talking loudly got angry could hear actors turned round looked man woman angrily pay attention end could bear turned round hear word said angrily none business young man said rudely private conversation'"
      ]
     },
     "execution_count": 139,
     "metadata": {},
     "output_type": "execute_result"
    }
   ],
   "source": [
    "text_clean(realtext)"
   ]
  },
  {
   "cell_type": "code",
   "execution_count": 113,
   "metadata": {},
   "outputs": [
    {
     "data": {
      "text/plain": [
       "<matplotlib.figure.Figure at 0x1281d4748>"
      ]
     },
     "metadata": {},
     "output_type": "display_data"
    },
    {
     "data": {
      "image/png": "[encoded data removed]",
      "text/plain": [
       "<matplotlib.figure.Figure at 0x1380191d0>"
      ]
     },
     "metadata": {},
     "output_type": "display_data"
    },
    {
     "name": "stdout",
     "output_type": "stream",
     "text": [
      "[('felt', 1), ('inglese', 1), ('presentation', 1), ('nice', 1), ('tell', 1)]\n"
     ]
    },
    {
     "data": {
      "text/plain": [
       "'felt inglese presentation nice tell prevent aids tryto call words meeting need catch residents ooze fully honor'"
      ]
     },
     "execution_count": 113,
     "metadata": {},
     "output_type": "execute_result"
    }
   ],
   "source": [
    "text_clean(fulltext)"
   ]
  },
  {
   "cell_type": "markdown",
   "metadata": {},
   "source": [
    "## Sumy text summarization"
   ]
  },
  {
   "cell_type": "code",
   "execution_count": 3,
   "metadata": {},
   "outputs": [
    {
     "name": "stdout",
     "output_type": "stream",
     "text": [
      "Lesson 1 A private conversation\n",
      "First listen and then answer the question.\n",
      "Why did the writer complain to the people behind him?\n",
      "A young man and a young woman were sitting behind me.\n",
      "I could not hear the actors.\n",
      "I turned round.\n",
      "I looked at the man and the woman angrily.\n",
      "I turned round again.\n",
      "'I can't hear a word!'\n",
      "'It's none of your business,' the young man said rudely.\n"
     ]
    }
   ],
   "source": [
    "#from __future__ import absolute_import\n",
    "#from __future__ import division, print_function, unicode_literals\n",
    "\n",
    "from sumy.parsers.plaintext import PlaintextParser\n",
    "from sumy.nlp.tokenizers import Tokenizer\n",
    "from sumy.summarizers.lsa import LsaSummarizer as Summarizer\n",
    "from sumy.nlp.stemmers import Stemmer\n",
    "from sumy.utils import get_stop_words\n",
    "\n",
    "LANGUAGE = \"english\"\n",
    "SENTENCES_COUNT = 10\n",
    "\n",
    "#url = \"http://www.zsstritezuct.estranky.cz/clanky/predmety/cteni/jak-naucit-dite-spravne-cist.html\"\n",
    "#parser = HtmlParser.from_url(url, Tokenizer(LANGUAGE))\n",
    "# or for plain text files\n",
    "parser = PlaintextParser.from_file(\"Data/NCE/2/T1.txt\", Tokenizer(LANGUAGE))\n",
    "stemmer = Stemmer(LANGUAGE)\n",
    "\n",
    "summarizer = Summarizer(stemmer)\n",
    "summarizer.stop_words = get_stop_words(LANGUAGE)\n",
    "\n",
    "for sentence in summarizer(parser.document, SENTENCES_COUNT):\n",
    "    print(sentence)"
   ]
  },
  {
   "cell_type": "markdown",
   "metadata": {},
   "source": [
    "***\n",
    "### Live Audio import\n",
    "***"
   ]
  },
  {
   "cell_type": "code",
   "execution_count": 49,
   "metadata": {},
   "outputs": [],
   "source": [
    "def record_live(Name=\"output\", Length=100, Nout=Lseg, Running=False):\n",
    "    '''this function records audio, length in seconds'''\n",
    "    start_time = time.time()\n",
    "    FORMAT = pyaudio.paInt16\n",
    "    RATE = 32000\n",
    "    RECORD_SECONDS = Lseg ## fixed 10 sec pieces\n",
    "    CHANNELS = 1  ##2 for stereo\n",
    "    CHUNK = 1024\n",
    "\n",
    "    ## initialize pyaudio\n",
    "    p = pyaudio.PyAudio()\n",
    "    \n",
    "    N_rec = Length/RECORD_SECONDS\n",
    "    n_rec = 0\n",
    "\n",
    "    #keypressed = input('Press q to quit: ')\n",
    "    while n_rec < N_rec:\n",
    "        stream = p.open(format=FORMAT,\n",
    "                            channels=CHANNELS,\n",
    "                            rate=RATE,\n",
    "                            input=True,\n",
    "                            frames_per_buffer=CHUNK)\n",
    "        print(\"* recording: \" + str(n_rec))\n",
    "\n",
    "        frames = []\n",
    "\n",
    "        for i in range(0, int(RATE / CHUNK * RECORD_SECONDS)):\n",
    "            data = stream.read(CHUNK)\n",
    "            frames.append(data)\n",
    "\n",
    "        ## initialize output waveform\n",
    "        wf = wave.open(\"Data/Live/\" + Name + \"_\" + str(n_rec) + \".wav\", 'wb')\n",
    "        wf.setnchannels(CHANNELS)\n",
    "        wf.setsampwidth(p.get_sample_size(FORMAT))\n",
    "        wf.setframerate(RATE)\n",
    "        wf.writeframes(b''.join(frames))\n",
    "        n_rec += 1\n",
    "        \n",
    "    stream.stop_stream()\n",
    "    stream.close()\n",
    "    p.terminate()\n",
    "\n",
    "    wf.close()\n",
    "    print(\"--- %s seconds ---\" % (time.time() - start_time))\n",
    "    return"
   ]
  },
  {
   "cell_type": "code",
   "execution_count": 48,
   "metadata": {},
   "outputs": [
    {
     "name": "stdout",
     "output_type": "stream",
     "text": [
      "rm: Data/Live/output*: No such file or directory\r\n"
     ]
    }
   ],
   "source": [
    "!ls Data/Live/\n",
    "!rm Data/Live/output*\n",
    "!ls Data/Live/"
   ]
  },
  {
   "cell_type": "code",
   "execution_count": 50,
   "metadata": {},
   "outputs": [
    {
     "name": "stdout",
     "output_type": "stream",
     "text": [
      "* recording: 0\n",
      "* recording: 1\n",
      "* recording: 2\n",
      "* recording: 3\n",
      "* recording: 4\n",
      "* recording: 5\n",
      "* recording: 6\n",
      "* recording: 7\n",
      "* recording: 8\n",
      "* recording: 9\n",
      "* recording: 10\n",
      "* recording: 11\n",
      "* recording: 12\n",
      "* recording: 13\n",
      "* recording: 14\n",
      "* recording: 15\n",
      "* recording: 16\n",
      "* recording: 17\n",
      "--- 182.67663073539734 seconds ---\n"
     ]
    }
   ],
   "source": [
    "record_live(Length=180)"
   ]
  },
  {
   "cell_type": "code",
   "execution_count": 51,
   "metadata": {},
   "outputs": [
    {
     "name": "stdout",
     "output_type": "stream",
     "text": [
      "output_0.wav  output_12.wav output_16.wav output_4.wav  output_8.wav\r\n",
      "output_1.wav  output_13.wav output_17.wav output_5.wav  output_9.wav\r\n",
      "output_10.wav output_14.wav output_2.wav  output_6.wav\r\n",
      "output_11.wav output_15.wav output_3.wav  output_7.wav\r\n"
     ]
    }
   ],
   "source": [
    "!ls Data/Live/"
   ]
  },
  {
   "cell_type": "code",
   "execution_count": 52,
   "metadata": {},
   "outputs": [
    {
     "name": "stdout",
     "output_type": "stream",
     "text": [
      " Running 18 jobs on 6 cores\n",
      "Data/Live/output_9.wav\n",
      "Data/Live/output_8.wav\n",
      "Data/Live/output_11.wav\n",
      "Data/Live/output_10.wav\n",
      "Data/Live/output_12.wav\n",
      "Data/Live/output_13.wav\n",
      "['Data/Live/output_9.wav', 'Data/Live/output_8.wav', 'Data/Live/output_11.wav', 'Data/Live/output_10.wav', 'Data/Live/output_12.wav', 'Data/Live/output_13.wav', 'Data/Live/output_17.wav', 'Data/Live/output_16.wav', 'Data/Live/output_14.wav', 'Data/Live/output_15.wav', 'Data/Live/output_5.wav', 'Data/Live/output_4.wav', 'Data/Live/output_6.wav', 'Data/Live/output_7.wav', 'Data/Live/output_3.wav', 'Data/Live/output_2.wav', 'Data/Live/output_0.wav', 'Data/Live/output_1.wav']\n",
      "Data/Live/output_17.wav\n",
      "Data/Live/output_16.wav\n",
      "Data/Live/output_14.wav\n",
      "Data/Live/output_15.wav\n",
      "Data/Live/output_5.wav\n",
      "Data/Live/output_4.wav\n",
      "Data/Live/output_6.wav\n",
      "Data/Live/output_7.wav\n",
      "Data/Live/output_3.wav\n",
      "Data/Live/output_2.wav\n",
      "Data/Live/output_0.wav\n",
      "Data/Live/output_1.wav\n",
      "the level of it though to talk about what or who wishes and c. n. for breakfast meeting tax noso the problem is truth is that what you're most vicious there's an already have met in la meetings are very few acetate alsowhat is called lotto than red cells meeting gets rid of somebody to become an take a piece of paper right nowthe chief of the wall out there is fast primates and useful and these are married this matters because you need is for us to quit itoh is that you don't want it right now all were you not the contras meetings all across the loot especially in the meetings are alwaysyou want to someone's nose right now what has to go to these meetings but no one ought to work solution for photos for his ought not tothe user is that while you're at letters will attend the meetings if they don't see ghosts of shoshone for robot use youris this product and get the eighties the commerce not needy or awfully recorded into the actual moran says that altosbut to look for fatally have to train or to pass these ideas is ready for an attorney who's talking i was aloneif foreigners and she in a better time that hadn't forest is usual canceled that henry ford's gingrich there areon the phone from florida state stories i've read them as full an outline the speaker's legal merit isis news bullets but so doeswhere did it is that it's actually uses like foreigners will taxed at different levels of tar and labs social very great love for exampleand have prayer and therefore all new records which means the protests only the rich last time the shots horizontal start buta little bit more on today's sports news i could get a new future and inkatha's to our national out and yarborough you or what's the useso those hotline is too far you to lose are the files or not or did you seeing white house rules as a media profilethat's all that lazy to subplots horror and recording of studies show thousand has to the school system problemthat proceed on that occasion by this time the nato have to look directly to computer would face but what kinds of assault impactthese guys thanks youth and the world is huge get out of time for his gives you the paris he loses a guy\n",
      "--- 25.46451687812805 seconds ---\n"
     ]
    }
   ],
   "source": [
    "start_time = time.time()\n",
    "\n",
    "mytasks = glob.glob(\"Data/Live/output_*.wav\")\n",
    "print(\" Running %s jobs on %s cores\" % (len(mytasks), mp.cpu_count()-2))\n",
    "npool = min(len(mytasks), mp.cpu_count()-2)\n",
    "pool  = mp.Pool(npool)\n",
    "print(mytasks)\n",
    "inputdic = {}\n",
    "for i in range(len(mytasks)):\n",
    "    inputdic[i] = {\"file\":\"Data/Live/output_\" + str(i) + \".wav\", \"n\":i}\n",
    "    \n",
    "mytextdic = {}\n",
    "for result in pool.map(SoundToText, mytasks):\n",
    "        mytextdic.update(result)\n",
    "mytext = \"\"\n",
    "for i in range(len(mytextdic.keys())):\n",
    "    mytext += mytextdic[\"Data/Live/output_\" + str(i) + \".wav\"]\n",
    "print(mytext)\n",
    "print(\"--- %s seconds ---\" % (time.time() - start_time))"
   ]
  },
  {
   "cell_type": "code",
   "execution_count": 140,
   "metadata": {},
   "outputs": [
    {
     "data": {
      "text/plain": [
       "<matplotlib.figure.Figure at 0x12b8db0f0>"
      ]
     },
     "metadata": {},
     "output_type": "display_data"
    },
    {
     "data": {
      "image/png": "[encoded data removed]",
      "text/plain": [
       "<matplotlib.figure.Figure at 0x1281d9a20>"
      ]
     },
     "metadata": {},
     "output_type": "display_data"
    },
    {
     "name": "stdout",
     "output_type": "stream",
     "text": [
      "[('meetings', 5), ('time', 4), ('right', 3), ('get', 3), ('meeting', 2)]\n"
     ]
    },
    {
     "data": {
      "text/plain": [
       "'level though talk wishes c n breakfast meeting tax noso problem truth vicious already met la meetings acetate alsowhat called lotto red cells meeting gets rid somebody become take piece paper right nowthe chief wall fast primates useful married matters need us quit itoh want right contras meetings across loot especially meetings alwaysyou want someone nose right go meetings one ought work solution photos ought tothe user letters attend meetings see ghosts shoshone robot use youris product get eighties commerce needy awfully recorded actual moran says altosbut look fatally train pass ideas ready attorney talking aloneif foreigners better time forest usual canceled henry ford gingrich areon phone florida state stories read full outline speaker legal merit isis news bullets doeswhere actually uses like foreigners taxed different levels tar labs social great love exampleand prayer therefore new records means protests rich last time shots horizontal start buta little bit today sports news could get new future inkatha national yarborough useso hotline far lose files seeing white house rules media profilethat lazy subplots horror recording studies show thousand school system problemthat proceed occasion time nato look directly computer would face kinds assault impactthese guys thanks youth world huge get time gives paris loses guy'"
      ]
     },
     "execution_count": 140,
     "metadata": {},
     "output_type": "execute_result"
    }
   ],
   "source": [
    "text_clean(mytext)"
   ]
  },
  {
   "cell_type": "code",
   "execution_count": 56,
   "metadata": {},
   "outputs": [
    {
     "name": "stdout",
     "output_type": "stream",
     "text": [
      "world_freq.pdf\r\n"
     ]
    }
   ],
   "source": [
    "!ls Plot/"
   ]
  },
  {
   "cell_type": "code",
   "execution_count": null,
   "metadata": {},
   "outputs": [],
   "source": []
  }
 ],
 "metadata": {
  "kernelspec": {
   "display_name": "Python 3",
   "language": "python",
   "name": "python3"
  },
  "language_info": {
   "codemirror_mode": {
    "name": "ipython",
    "version": 3
   },
   "file_extension": ".py",
   "mimetype": "text/x-python",
   "name": "python",
   "nbconvert_exporter": "python",
   "pygments_lexer": "ipython3",
   "version": "3.6.1"
  }
 },
 "nbformat": 4,
 "nbformat_minor": 2
}
