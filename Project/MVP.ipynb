{
 "cells": [
  {
   "cell_type": "markdown",
   "metadata": {},
   "source": [
    "Creating first MVP product"
   ]
  },
  {
   "cell_type": "markdown",
   "metadata": {},
   "source": [
    "## Import Libraries"
   ]
  },
  {
   "cell_type": "markdown",
   "metadata": {},
   "source": [
    "Installations for extra packages: \n",
    "- !pip install SpeechRecognition\n",
    "- !pip install PocketSphinx\n",
    "- !brew install portaudio\n",
    "- !pip install pyaudio"
   ]
  },
  {
   "cell_type": "markdown",
   "metadata": {},
   "source": [
    "## Data Sources:\n",
    "\n",
    "- NYT daily: http://podbay.fm/show/1200361736/e/1527587699?autostart=1 ; \n",
    "- NYT daily: https://itunes.apple.com/us/podcast/the-daily/id1200361736?mt=2&ign-mpt=uo%3D4\n",
    "- Open Audio Source: http://www.openslr.org/resources.php\n",
    "- Economist: https://www.economist.com/audio-edition/2018-06-02\n",
    "- NPR: https://www.npr.org/programs/morning-edition/\n"
   ]
  },
  {
   "cell_type": "markdown",
   "metadata": {},
   "source": [
    "## Speech Recognition\n",
    "\n",
    "- Real python: https://realpython.com/python-speech-recognition/#working-with-audio-files\n",
    "- Speech Recognition: https://github.com/Uberi/speech_recognition#readme\n",
    "- Speech Recognition: https://pypi.org/project/SpeechRecognition/3.2.0/\n",
    "- Pocket Sphinx: https://pypi.org/project/pocketsphinx/"
   ]
  },
  {
   "cell_type": "markdown",
   "metadata": {},
   "source": [
    "## Natural Language Processing\n",
    "\n",
    "- Insight: https://blog.insightdatascience.com/how-to-solve-90-of-nlp-problems-a-step-by-step-guide-fda605278e4e\n",
    "- Summary: https://machinelearningmastery.com/gentle-introduction-text-summarization/"
   ]
  },
  {
   "cell_type": "code",
   "execution_count": 1,
   "metadata": {},
   "outputs": [],
   "source": [
    "import speech_recognition as sr\n",
    "import time as time"
   ]
  },
  {
   "cell_type": "code",
   "execution_count": 2,
   "metadata": {},
   "outputs": [
    {
     "name": "stdout",
     "output_type": "stream",
     "text": [
      "78 078 Science and technology - Evolution.wav\r\n",
      "79 079 Science and technology - Conservation.wav\r\n",
      "80 080 Science and technology - The sunk-cost fallacy.wav\r\n",
      "81 081 Science and technology - AIDS.wav\r\n",
      "82 082 Science and technology - Space flight.wav\r\n"
     ]
    }
   ],
   "source": [
    "!ls Data/EC_06022018"
   ]
  },
  {
   "cell_type": "code",
   "execution_count": 3,
   "metadata": {},
   "outputs": [],
   "source": [
    "## Intitialize a recognizer\n",
    "r_live = sr.Recognizer()\n",
    "r_rec  = sr.Recognizer()"
   ]
  },
  {
   "cell_type": "code",
   "execution_count": 9,
   "metadata": {},
   "outputs": [
    {
     "name": "stdout",
     "output_type": "stream",
     "text": [
      "Say something!\n"
     ]
    }
   ],
   "source": [
    "# obtain audio from the microphone\n",
    "with sr.Microphone() as source:\n",
    "    print(\"Say something!\")\n",
    "    audio = r_live.listen(source)"
   ]
  },
  {
   "cell_type": "code",
   "execution_count": 7,
   "metadata": {},
   "outputs": [],
   "source": [
    "test = sr.AudioFile('Data/EC_06022018/82 082 Science and technology - Space flight.wav')\n",
    "with test as source:\n",
    "    test_au = r_rec.record(source, duration=30)"
   ]
  },
  {
   "cell_type": "code",
   "execution_count": 19,
   "metadata": {},
   "outputs": [
    {
     "name": "stdout",
     "output_type": "stream",
     "text": [
      "Sphinx: half and half science and technology space flight munching into all bit of rockets that's divine was itself may seem take off to a tumult of omen for the motion sensor large into space typically the payload represented me about five percent of americans over rock it was it leaves the lord for the rockets botha's account with some of the rest but the bulk of it consists of the propellant\n",
      "--- 8.8052659034729 seconds ---\n"
     ]
    }
   ],
   "source": [
    "start_time = time.time()\n",
    "print(\"Sphinx:\", r_rec.recognize_sphinx(test_au, language='en-US', keyword_entries=None, grammar=None, show_all=False))\n",
    "print(\"--- %s seconds ---\" % (time.time() - start_time))"
   ]
  },
  {
   "cell_type": "code",
   "execution_count": 10,
   "metadata": {},
   "outputs": [
    {
     "name": "stdout",
     "output_type": "stream",
     "text": [
      "Sphinx: it's not you can hear me these reporters must be causing warren's fenced off the foodstuffs involving the fifth floor\n",
      "--- 7.880022048950195 seconds ---\n"
     ]
    }
   ],
   "source": [
    "start_time = time.time()\n",
    "print(\"Sphinx:\", r_live.recognize_sphinx(audio, language='en-US', keyword_entries=None, grammar=None, show_all=False))\n",
    "print(\"--- %s seconds ---\" % (time.time() - start_time))"
   ]
  },
  {
   "cell_type": "code",
   "execution_count": 12,
   "metadata": {},
   "outputs": [
    {
     "data": {
      "text/plain": [
       "<speech_recognition.AudioData at 0x107527780>"
      ]
     },
     "execution_count": 12,
     "metadata": {},
     "output_type": "execute_result"
    }
   ],
   "source": [
    "audio"
   ]
  },
  {
   "cell_type": "code",
   "execution_count": null,
   "metadata": {},
   "outputs": [],
   "source": []
  }
 ],
 "metadata": {
  "kernelspec": {
   "display_name": "Python 3",
   "language": "python",
   "name": "python3"
  },
  "language_info": {
   "codemirror_mode": {
    "name": "ipython",
    "version": 3
   },
   "file_extension": ".py",
   "mimetype": "text/x-python",
   "name": "python",
   "nbconvert_exporter": "python",
   "pygments_lexer": "ipython3",
   "version": "3.6.1"
  }
 },
 "nbformat": 4,
 "nbformat_minor": 2
}
