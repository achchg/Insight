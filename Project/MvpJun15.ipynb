{
 "cells": [
  {
   "cell_type": "markdown",
   "metadata": {},
   "source": [
    "## MVP on Jun 15, 2018"
   ]
  },
  {
   "cell_type": "code",
   "execution_count": 18,
   "metadata": {},
   "outputs": [],
   "source": [
    "import numpy as np\n",
    "import pandas as pd\n",
    "import re, nltk, spacy, gensim, string\n",
    "from nltk.corpus import stopwords\n",
    "from collections import Counter\n",
    "\n",
    "# Sklearn\n",
    "from sklearn.decomposition import LatentDirichletAllocation, TruncatedSVD\n",
    "from sklearn.feature_extraction.text import CountVectorizer, TfidfVectorizer\n",
    "from sklearn.feature_extraction.stop_words import ENGLISH_STOP_WORDS\n",
    "from sklearn.model_selection import GridSearchCV\n",
    "from pprint import pprint\n",
    "from tqdm import tqdm\n",
    "\n",
    "# Plotting tools\n",
    "import pyLDAvis\n",
    "import pyLDAvis.sklearn\n",
    "import matplotlib.pyplot as plt\n",
    "import seaborn as sns\n",
    "sns.set_style(\"white\")\n",
    "\n",
    "%matplotlib inline"
   ]
  },
  {
   "cell_type": "code",
   "execution_count": 5,
   "metadata": {},
   "outputs": [],
   "source": [
    "# A custom function to clean the text before sending it into the vectorizer\n",
    "def cleanText(text):\n",
    "    \n",
    "    table = str.maketrans('', '', string.punctuation)\n",
    "    # get rid of punctuation\n",
    "    text = text.translate(table)\n",
    "    \n",
    "    # get rid of newlines\n",
    "    text = text.strip().replace(\"\\n\", \" \").replace(\"\\r\", \" \")\n",
    "    \n",
    "    # replace twitter @mentions\n",
    "    mentionFinder = re.compile(r\"@[a-z0-9_]{1,15}\", re.IGNORECASE)\n",
    "    text = mentionFinder.sub(\"@MENTION\", text)\n",
    "    \n",
    "    # replace HTML symbols\n",
    "    text = text.replace(\"&amp;\", \"and\").replace(\"&gt;\", \">\").replace(\"&lt;\", \"<\")\n",
    "    \n",
    "    # lowercase\n",
    "    text = text.lower()\n",
    "\n",
    "    return text\n",
    "\n",
    "def calc_score(ref, comp, debug=False):\n",
    "    '''gives the number of items in ref that is also found in comp'''\n",
    "    ## check if it is a list of strings\n",
    "    if not isinstance(ref, list):\n",
    "        ref = str(ref).split()\n",
    "    if not isinstance(comp, list):\n",
    "        comp = str(comp).split()\n",
    "        \n",
    "    s_ref = set(ref)\n",
    "    s_comp = set(comp)\n",
    "    s_inter = s_comp.intersection(s_ref)\n",
    "    if debug:\n",
    "        print(s_ref)\n",
    "        print(s_comp)\n",
    "        print(s_inter)\n",
    "    return len(s_inter)/len(s_ref)"
   ]
  },
  {
   "cell_type": "code",
   "execution_count": 30,
   "metadata": {},
   "outputs": [],
   "source": [
    "# A custom stoplist\n",
    "STOPLIST = set(stopwords.words('english') + [\"n't\", \"'s\", \"'m\", \"ca\"] + list(ENGLISH_STOP_WORDS))\n",
    "# List of symbols we don't care about\n",
    "SYMBOLS = \" \".join(string.punctuation).split(\" \") + [\"-----\", \"---\", \"...\", \"“\", \"”\", \"'ve\", \"\\n\", \"\", \" \", \"\\n\\n\", \"npr\"]\n",
    "\n",
    "def lemming(data, keeptype=[\"NOUN\", \"PROPN\", \"NUM\", \"ADJ\", \"ADV\"], doalpha=True, dostop=True):\n",
    "    tokens = []\n",
    "    for tok in data:\n",
    "        \n",
    "        # stoplist the tokens\n",
    "        if dostop:\n",
    "            if tok.text not in STOPLIST:\n",
    "                pass\n",
    "            else:\n",
    "                continue\n",
    "            ##check if the token is stopword\n",
    "            if not tok.is_stop:\n",
    "                pass\n",
    "            else:\n",
    "                continue\n",
    "        else:\n",
    "            pass\n",
    "        \n",
    "        # stoplist symbols\n",
    "        if tok.text not in SYMBOLS:\n",
    "            pass\n",
    "        else: \n",
    "            continue\n",
    "        \n",
    "        ##check if the token is alpha\n",
    "        if doalpha:\n",
    "            if tok.is_alpha:\n",
    "                pass\n",
    "            else:\n",
    "                continue\n",
    "        else:\n",
    "            pass\n",
    "        \n",
    "        ##check if the token is noun\n",
    "        if len(keeptype) > 1:\n",
    "            if tok.pos_ in keeptype:\n",
    "                pass\n",
    "            else:\n",
    "                continue\n",
    "        else:\n",
    "            pass\n",
    "    \n",
    "        # lemmatize\n",
    "        if tok.lemma_ != \"-PRON-\" :\n",
    "            tokens.append(tok.lemma_.lower().strip())\n",
    "        else:\n",
    "            tokens.append(tok.lower_)\n",
    "    \n",
    "    # remove large strings of whitespace\n",
    "    return tokens"
   ]
  },
  {
   "cell_type": "code",
   "execution_count": 31,
   "metadata": {},
   "outputs": [],
   "source": [
    "# Initialize spacy 'en' model\n",
    "nlp = spacy.load('en')\n",
    "\n",
    "# Initialize vectorizer\n",
    "vectorizer = CountVectorizer(analyzer='word',       \n",
    "                             min_df=1,                        # minimum reqd occurences of a word \n",
    "                             token_pattern='[a-zA-Z0-9]{3,}',  # num chars > 3\n",
    "                             # max_features=50000,             # max number of uniq words\n",
    "                            )"
   ]
  },
  {
   "cell_type": "code",
   "execution_count": 37,
   "metadata": {},
   "outputs": [
    {
     "name": "stderr",
     "output_type": "stream",
     "text": [
      "100%|██████████| 300/300 [02:04<00:00,  2.42it/s]\n"
     ]
    }
   ],
   "source": [
    "all_token = []\n",
    "all_token_alltype = []\n",
    "all_sumtoken = []\n",
    "N = 300\n",
    "for i in tqdm(range(N)):\n",
    "    test_text = []\n",
    "    test_sumtext   = []\n",
    "    with open('Data/NPR/' + str(i) + '_trans.txt', 'r') as myfile:\n",
    "        test_text.append(cleanText(myfile.read()))\n",
    "    with open('Data/NPR/' + str(i) + '.txt', 'r') as myfile:\n",
    "        test_sumtext.append(cleanText(myfile.read()))\n",
    "    ## calculate the maximum score\n",
    "    nlp_test_text = nlp(\"\".join(test_text))\n",
    "    all_token.append(lemming(nlp_test_text))\n",
    "    all_token_alltype.append(lemming(nlp_test_text, doalpha=False, dostop=True, keeptype=[]))\n",
    "    all_sumtoken.append(lemming(nlp(\"\".join(test_sumtext)), doalpha=False, dostop=True, keeptype=[]))"
   ]
  },
  {
   "cell_type": "code",
   "execution_count": 38,
   "metadata": {},
   "outputs": [
    {
     "name": "stderr",
     "output_type": "stream",
     "text": [
      "100%|██████████| 300/300 [00:00<00:00, 1816.50it/s]\n"
     ]
    }
   ],
   "source": [
    "base_rate = []\n",
    "my_rate  = []\n",
    "for i in tqdm(range(N)):\n",
    "    ## calculate the maximum score\n",
    "    test_token = all_token[i]\n",
    "    test_token_alltype = all_token_alltype[i]\n",
    "    test_sumtoken = all_sumtoken[i]\n",
    "    best_score = calc_score(ref=test_sumtoken, comp=test_token, debug=False)\n",
    "    #print(\"best score\", best_score)\n",
    "\n",
    "    length = len(test_sumtoken)\n",
    "    common_words_alltype = [w[0] for w in Counter(test_token_alltype).most_common(length)]\n",
    "    #print(\" \".join(common_words))\n",
    "    base_score =  calc_score(ref=test_sumtoken, comp=common_words_alltype, debug=False)\n",
    "    #print(\"baseline score\", base_score)\n",
    "\n",
    "#     # Predict the topic\n",
    "#     topic = predict_topic(text = [\" \".join(test_token)], nwords=length)\n",
    "#     #print(\" \".join(topic))\n",
    "\n",
    "    topic = [w[0] for w in Counter(test_token).most_common(length)]\n",
    "    my_score = calc_score(ref=test_sumtoken, comp=topic, debug=False)\n",
    "    #print(\"my score\", my_score)\n",
    "    #print(\" \".join(test_sumtoken))\n",
    "    base_rate.append(base_score/best_score)\n",
    "    my_rate.append(my_score/best_score)"
   ]
  },
  {
   "cell_type": "code",
   "execution_count": 86,
   "metadata": {},
   "outputs": [
    {
     "data": {
      "text/plain": [
       "<matplotlib.figure.Figure at 0x1232e5c18>"
      ]
     },
     "metadata": {},
     "output_type": "display_data"
    },
    {
     "data": {
      "image/png": "[encoded data removed]",
      "text/plain": [
       "<matplotlib.figure.Figure at 0x1232e5be0>"
      ]
     },
     "metadata": {},
     "output_type": "display_data"
    }
   ],
   "source": [
    "plt.clf()\n",
    "plt.figure(figsize=(12, 8))\n",
    "mybins=np.arange(0, 1.05, 0.05)\n",
    "plt.hist(my_rate, alpha=0.5, bins=mybins, label=\"TypeFiltered; mean %.3f %s %.3f\" % (np.mean(np.array(my_rate)), r'$\\pm$', np.std(np.array(my_rate))/np.sqrt(N)))\n",
    "plt.hist(base_rate, alpha=0.5, bins=mybins, label=\"NoFilter; mean %.3f %s %.3f \" % (np.mean(np.array(base_rate)), r'$\\pm$', np.std(np.array(base_rate)/np.sqrt(N))))\n",
    "plt.ylim(0, 70)\n",
    "plt.xlabel(r\"$N_{SelectedWords}^{InDescription}$ / $N_{TotalWords}^{InDescription}$\", fontsize=32)\n",
    "plt.ylabel(\"counts\", fontsize=32)\n",
    "plt.xticks(fontsize=20)\n",
    "plt.yticks(fontsize=20)\n",
    "plt.title(\"Compare Methods\", fontsize=40)\n",
    "plt.legend(fontsize=27)\n",
    "plt.savefig(\"Plot/NPR_compare.pdf\")\n",
    "plt.show()"
   ]
  },
  {
   "cell_type": "code",
   "execution_count": null,
   "metadata": {},
   "outputs": [],
   "source": []
  }
 ],
 "metadata": {
  "kernelspec": {
   "display_name": "Python 3",
   "language": "python",
   "name": "python3"
  },
  "language_info": {
   "codemirror_mode": {
    "name": "ipython",
    "version": 3
   },
   "file_extension": ".py",
   "mimetype": "text/x-python",
   "name": "python",
   "nbconvert_exporter": "python",
   "pygments_lexer": "ipython3",
   "version": "3.6.1"
  }
 },
 "nbformat": 4,
 "nbformat_minor": 2
}
