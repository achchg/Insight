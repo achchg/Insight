{
 "cells": [
  {
   "cell_type": "code",
   "execution_count": 1,
   "metadata": {},
   "outputs": [],
   "source": [
    "## for speech to text\n",
    "import speech_recognition as sr\n",
    "\n",
    "\n",
    "## for audio processing and analytical study\n",
    "from pydub import AudioSegment ##for audio spliting\n",
    "from pydub.silence import split_on_silence\n",
    "\n",
    "## for audio collection\n",
    "import pyaudio\n",
    "import wave\n",
    "\n",
    "## for text recognition\n",
    "import nltk\n",
    "\n",
    "## for general studies\n",
    "from os import listdir\n",
    "from os.path import isfile, join\n",
    "import glob\n",
    "from numpy import fft as fft\n",
    "import matplotlib.pyplot as plt\n",
    "import numpy as np\n",
    "import sys\n",
    "import seaborn as sns\n",
    "from tqdm import tqdm\n",
    "import time as time\n",
    "import multiprocessing as mp\n",
    " \n",
    "%matplotlib inline\n",
    "# !ls Data/EC_06022018"
   ]
  },
  {
   "cell_type": "code",
   "execution_count": 8,
   "metadata": {},
   "outputs": [],
   "source": [
    "def record_live(Name=\"output\", Length=100, Lseg=10, Running=False):\n",
    "    '''this function records audio, length in seconds'''\n",
    "    start_time = time.time()\n",
    "    FORMAT = pyaudio.paInt16\n",
    "    RATE = 32000\n",
    "    RECORD_SECONDS = Lseg ## fixed 10 sec pieces\n",
    "    CHANNELS = 1  ##2 for stereo\n",
    "    CHUNK = 1024\n",
    "\n",
    "    ## initialize pyaudio\n",
    "    p = pyaudio.PyAudio()\n",
    "    \n",
    "    N_rec = Length/RECORD_SECONDS\n",
    "    n_rec = 0\n",
    "\n",
    "    #keypressed = input('Press q to quit: ')\n",
    "    while n_rec < N_rec:\n",
    "        stream = p.open(format=FORMAT,\n",
    "                            channels=CHANNELS,\n",
    "                            rate=RATE,\n",
    "                            input=True,\n",
    "                            frames_per_buffer=CHUNK)\n",
    "        print(\"* recording: \" + str(n_rec))\n",
    "\n",
    "        frames = []\n",
    "\n",
    "        for i in range(0, int(RATE / CHUNK * RECORD_SECONDS)):\n",
    "            data = stream.read(CHUNK)\n",
    "            frames.append(data)\n",
    "\n",
    "        ## initialize output waveform\n",
    "        wf = wave.open(\"Data/Live/\" + Name + \"_\" + str(n_rec) + \".wav\", 'wb')\n",
    "        wf.setnchannels(CHANNELS)\n",
    "        wf.setsampwidth(p.get_sample_size(FORMAT))\n",
    "        wf.setframerate(RATE)\n",
    "        wf.writeframes(b''.join(frames))\n",
    "        n_rec += 1\n",
    "        \n",
    "    stream.stop_stream()\n",
    "    stream.close()\n",
    "    p.terminate()\n",
    "\n",
    "    wf.close()\n",
    "    print(\"--- %s seconds ---\" % (time.time() - start_time))\n",
    "    return"
   ]
  },
  {
   "cell_type": "code",
   "execution_count": 24,
   "metadata": {},
   "outputs": [
    {
     "name": "stdout",
     "output_type": "stream",
     "text": [
      "output_0.wav output_2.wav output_4.wav output_6.wav output_8.wav\r\n",
      "output_1.wav output_3.wav output_5.wav output_7.wav output_9.wav\r\n"
     ]
    }
   ],
   "source": [
    "!ls Data/Live/\n",
    "!rm Data/Live/output_*.wav\n",
    "!ls Data/Live/"
   ]
  },
  {
   "cell_type": "code",
   "execution_count": 25,
   "metadata": {},
   "outputs": [
    {
     "name": "stdout",
     "output_type": "stream",
     "text": [
      "* recording: 0\n",
      "--- 10.280558109283447 seconds ---\n"
     ]
    }
   ],
   "source": [
    "record_live(Length=300, Lseg=20)"
   ]
  },
  {
   "cell_type": "code",
   "execution_count": null,
   "metadata": {},
   "outputs": [],
   "source": []
  }
 ],
 "metadata": {
  "kernelspec": {
   "display_name": "Python 3",
   "language": "python",
   "name": "python3"
  },
  "language_info": {
   "codemirror_mode": {
    "name": "ipython",
    "version": 3
   },
   "file_extension": ".py",
   "mimetype": "text/x-python",
   "name": "python",
   "nbconvert_exporter": "python",
   "pygments_lexer": "ipython3",
   "version": "3.6.1"
  }
 },
 "nbformat": 4,
 "nbformat_minor": 2
}
