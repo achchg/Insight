{
 "cells": [
  {
   "cell_type": "markdown",
   "metadata": {},
   "source": [
    "## Loading Libraries"
   ]
  },
  {
   "cell_type": "code",
   "execution_count": 7,
   "metadata": {},
   "outputs": [],
   "source": [
    "import pandas as pd\n",
    "\n",
    "## SQL\n",
    "from sqlalchemy import create_engine\n",
    "from sqlalchemy_utils import database_exists, create_database\n",
    "\n",
    "import psycopg2"
   ]
  },
  {
   "cell_type": "markdown",
   "metadata": {},
   "source": [
    "## Import Data"
   ]
  },
  {
   "cell_type": "code",
   "execution_count": 5,
   "metadata": {},
   "outputs": [
    {
     "name": "stdout",
     "output_type": "stream",
     "text": [
      "postgresql://renormalization: @localhost/birth_db\n",
      "postgresql://renormalization: @localhost/birth_db\n"
     ]
    }
   ],
   "source": [
    "## Data base information\n",
    "dbname = 'birth_db'\n",
    "username = 'renormalization'\n",
    "pswd = ' '\n",
    "engine = create_engine('postgresql://%s:%s@localhost/%s'%(username,pswd,dbname))\n",
    "print('postgresql://%s:%s@localhost/%s'%(username,pswd,dbname))\n",
    "print(engine.url)"
   ]
  },
  {
   "cell_type": "code",
   "execution_count": 6,
   "metadata": {},
   "outputs": [
    {
     "name": "stdout",
     "output_type": "stream",
     "text": [
      "True\n",
      "postgresql://renormalization: @localhost/birth_db\n"
     ]
    }
   ],
   "source": [
    "## create a database (if it doesn't exist)\n",
    "if not database_exists(engine.url):\n",
    "    create_database(engine.url)\n",
    "print(database_exists(engine.url))\n",
    "print(engine.url)"
   ]
  },
  {
   "cell_type": "code",
   "execution_count": 15,
   "metadata": {},
   "outputs": [
    {
     "data": {
      "text/html": [
       "<div>\n",
       "<style>\n",
       "    .dataframe thead tr:only-child th {\n",
       "        text-align: right;\n",
       "    }\n",
       "\n",
       "    .dataframe thead th {\n",
       "        text-align: left;\n",
       "    }\n",
       "\n",
       "    .dataframe tbody tr th {\n",
       "        vertical-align: top;\n",
       "    }\n",
       "</style>\n",
       "<table border=\"1\" class=\"dataframe\">\n",
       "  <thead>\n",
       "    <tr style=\"text-align: right;\">\n",
       "      <th></th>\n",
       "      <th>index</th>\n",
       "      <th>Unnamed: 0</th>\n",
       "      <th>alcohol_use</th>\n",
       "      <th>anencephaly</th>\n",
       "      <th>attendant</th>\n",
       "      <th>birth_loc_type</th>\n",
       "      <th>birth_month</th>\n",
       "      <th>birth_state</th>\n",
       "      <th>birth_weight</th>\n",
       "      <th>birth_year</th>\n",
       "      <th>...</th>\n",
       "      <th>mother_state</th>\n",
       "      <th>population</th>\n",
       "      <th>pregnancy_weight</th>\n",
       "      <th>resident</th>\n",
       "      <th>revision</th>\n",
       "      <th>spina_bifida</th>\n",
       "      <th>table</th>\n",
       "      <th>timestamp</th>\n",
       "      <th>uses_tobacco</th>\n",
       "      <th>weight_gain</th>\n",
       "    </tr>\n",
       "  </thead>\n",
       "  <tbody>\n",
       "    <tr>\n",
       "      <th>0</th>\n",
       "      <td>0</td>\n",
       "      <td>0</td>\n",
       "      <td>None</td>\n",
       "      <td>NaN</td>\n",
       "      <td>MD</td>\n",
       "      <td>NaN</td>\n",
       "      <td>Jan</td>\n",
       "      <td>None</td>\n",
       "      <td>4500.0</td>\n",
       "      <td>2012</td>\n",
       "      <td>...</td>\n",
       "      <td>None</td>\n",
       "      <td>None</td>\n",
       "      <td>None</td>\n",
       "      <td>Resident</td>\n",
       "      <td>S</td>\n",
       "      <td>NaN</td>\n",
       "      <td>births12.txt</td>\n",
       "      <td>1325405431</td>\n",
       "      <td>None</td>\n",
       "      <td>40.0</td>\n",
       "    </tr>\n",
       "    <tr>\n",
       "      <th>1</th>\n",
       "      <td>1</td>\n",
       "      <td>1</td>\n",
       "      <td>None</td>\n",
       "      <td>NaN</td>\n",
       "      <td>MD</td>\n",
       "      <td>NaN</td>\n",
       "      <td>Jan</td>\n",
       "      <td>None</td>\n",
       "      <td>4500.0</td>\n",
       "      <td>2012</td>\n",
       "      <td>...</td>\n",
       "      <td>None</td>\n",
       "      <td>None</td>\n",
       "      <td>None</td>\n",
       "      <td>Intra-State/Territor Non-resident (diff county)</td>\n",
       "      <td>S</td>\n",
       "      <td>NaN</td>\n",
       "      <td>births12.txt</td>\n",
       "      <td>1325882986</td>\n",
       "      <td>None</td>\n",
       "      <td>49.0</td>\n",
       "    </tr>\n",
       "    <tr>\n",
       "      <th>2</th>\n",
       "      <td>2</td>\n",
       "      <td>2</td>\n",
       "      <td>None</td>\n",
       "      <td>NaN</td>\n",
       "      <td>MD</td>\n",
       "      <td>NaN</td>\n",
       "      <td>Jan</td>\n",
       "      <td>None</td>\n",
       "      <td>2500.0</td>\n",
       "      <td>2012</td>\n",
       "      <td>...</td>\n",
       "      <td>None</td>\n",
       "      <td>None</td>\n",
       "      <td>None</td>\n",
       "      <td>Resident</td>\n",
       "      <td>S</td>\n",
       "      <td>NaN</td>\n",
       "      <td>births12.txt</td>\n",
       "      <td>1326367089</td>\n",
       "      <td>None</td>\n",
       "      <td>30.0</td>\n",
       "    </tr>\n",
       "    <tr>\n",
       "      <th>3</th>\n",
       "      <td>3</td>\n",
       "      <td>3</td>\n",
       "      <td>None</td>\n",
       "      <td>NaN</td>\n",
       "      <td>MD</td>\n",
       "      <td>NaN</td>\n",
       "      <td>Jan</td>\n",
       "      <td>None</td>\n",
       "      <td>3000.0</td>\n",
       "      <td>2012</td>\n",
       "      <td>...</td>\n",
       "      <td>None</td>\n",
       "      <td>None</td>\n",
       "      <td>None</td>\n",
       "      <td>Resident</td>\n",
       "      <td>S</td>\n",
       "      <td>NaN</td>\n",
       "      <td>births12.txt</td>\n",
       "      <td>1326838810</td>\n",
       "      <td>None</td>\n",
       "      <td>15.0</td>\n",
       "    </tr>\n",
       "    <tr>\n",
       "      <th>4</th>\n",
       "      <td>4</td>\n",
       "      <td>4</td>\n",
       "      <td>None</td>\n",
       "      <td>NaN</td>\n",
       "      <td>MD</td>\n",
       "      <td>NaN</td>\n",
       "      <td>Jan</td>\n",
       "      <td>None</td>\n",
       "      <td>4000.0</td>\n",
       "      <td>2012</td>\n",
       "      <td>...</td>\n",
       "      <td>None</td>\n",
       "      <td>None</td>\n",
       "      <td>None</td>\n",
       "      <td>Intra-State/Territor Non-resident (diff county)</td>\n",
       "      <td>S</td>\n",
       "      <td>NaN</td>\n",
       "      <td>births12.txt</td>\n",
       "      <td>1327339729</td>\n",
       "      <td>None</td>\n",
       "      <td>48.0</td>\n",
       "    </tr>\n",
       "  </tbody>\n",
       "</table>\n",
       "<p>5 rows × 39 columns</p>\n",
       "</div>"
      ],
      "text/plain": [
       "   index  Unnamed: 0 alcohol_use  anencephaly attendant  birth_loc_type  \\\n",
       "0      0           0        None          NaN        MD             NaN   \n",
       "1      1           1        None          NaN        MD             NaN   \n",
       "2      2           2        None          NaN        MD             NaN   \n",
       "3      3           3        None          NaN        MD             NaN   \n",
       "4      4           4        None          NaN        MD             NaN   \n",
       "\n",
       "  birth_month birth_state  birth_weight  birth_year     ...     mother_state  \\\n",
       "0         Jan        None        4500.0        2012     ...             None   \n",
       "1         Jan        None        4500.0        2012     ...             None   \n",
       "2         Jan        None        2500.0        2012     ...             None   \n",
       "3         Jan        None        3000.0        2012     ...             None   \n",
       "4         Jan        None        4000.0        2012     ...             None   \n",
       "\n",
       "  population  pregnancy_weight  \\\n",
       "0       None              None   \n",
       "1       None              None   \n",
       "2       None              None   \n",
       "3       None              None   \n",
       "4       None              None   \n",
       "\n",
       "                                          resident  revision spina_bifida  \\\n",
       "0                                         Resident         S          NaN   \n",
       "1  Intra-State/Territor Non-resident (diff county)         S          NaN   \n",
       "2                                         Resident         S          NaN   \n",
       "3                                         Resident         S          NaN   \n",
       "4  Intra-State/Territor Non-resident (diff county)         S          NaN   \n",
       "\n",
       "          table   timestamp uses_tobacco weight_gain  \n",
       "0  births12.txt  1325405431         None        40.0  \n",
       "1  births12.txt  1325882986         None        49.0  \n",
       "2  births12.txt  1326367089         None        30.0  \n",
       "3  births12.txt  1326838810         None        15.0  \n",
       "4  births12.txt  1327339729         None        48.0  \n",
       "\n",
       "[5 rows x 39 columns]"
      ]
     },
     "execution_count": 15,
     "metadata": {},
     "output_type": "execute_result"
    }
   ],
   "source": [
    "## connect:\n",
    "con = psycopg2.connect(database = dbname, user = username, host='localhost', password=pswd)\n",
    "\n",
    "## query:\n",
    "sql_query = \"\"\"\n",
    "SELECT * \n",
    "FROM birth_data_table \n",
    "-- WHERE delivery_method='Cesarean';\n",
    "\"\"\"\n",
    "birth_data_from_sql = pd.read_sql_query(sql_query, con)\n",
    "\n",
    "## quick check\n",
    "birth_data_from_sql.head()"
   ]
  },
  {
   "cell_type": "markdown",
   "metadata": {},
   "source": [
    "## Inspect Data"
   ]
  },
  {
   "cell_type": "code",
   "execution_count": 16,
   "metadata": {},
   "outputs": [
    {
     "name": "stdout",
     "output_type": "stream",
     "text": [
      "<class 'pandas.core.frame.DataFrame'>\n",
      "RangeIndex: 2716 entries, 0 to 2715\n",
      "Data columns (total 39 columns):\n",
      "index                    2716 non-null int64\n",
      "Unnamed: 0               2716 non-null int64\n",
      "alcohol_use              0 non-null object\n",
      "anencephaly              2305 non-null float64\n",
      "attendant                2700 non-null object\n",
      "birth_loc_type           2319 non-null float64\n",
      "birth_month              2716 non-null object\n",
      "birth_state              0 non-null object\n",
      "birth_weight             2709 non-null float64\n",
      "birth_year               2716 non-null int64\n",
      "cigarette_use            0 non-null object\n",
      "cigarettes_per_day       0 non-null object\n",
      "cigarettes_trimester1    2169 non-null float64\n",
      "cigarettes_trimester2    2169 non-null float64\n",
      "cigarettes_trimester3    2169 non-null float64\n",
      "day                      2716 non-null object\n",
      "delivery_method          2710 non-null object\n",
      "downs syndrome           2305 non-null float64\n",
      "drinks_per_week          0 non-null object\n",
      "father_age               0 non-null object\n",
      "father_race              1822 non-null object\n",
      "gestation_weeks          2714 non-null float64\n",
      "infant_sex               2716 non-null object\n",
      "mother_age               2716 non-null int64\n",
      "mother_birth_country     0 non-null object\n",
      "mother_birth_state       0 non-null object\n",
      "mother_education         2319 non-null object\n",
      "mother_marital_status    2716 non-null object\n",
      "mother_race              364 non-null object\n",
      "mother_state             0 non-null object\n",
      "population               0 non-null object\n",
      "pregnancy_weight         0 non-null object\n",
      "resident                 2716 non-null object\n",
      "revision                 2716 non-null object\n",
      "spina_bifida             2305 non-null float64\n",
      "table                    2716 non-null object\n",
      "timestamp                2716 non-null int64\n",
      "uses_tobacco             0 non-null object\n",
      "weight_gain              2583 non-null float64\n",
      "dtypes: float64(10), int64(5), object(24)\n",
      "memory usage: 827.6+ KB\n"
     ]
    }
   ],
   "source": [
    "birth_data_from_sql.info()"
   ]
  },
  {
   "cell_type": "markdown",
   "metadata": {},
   "source": [
    "## Save output and check"
   ]
  },
  {
   "cell_type": "code",
   "execution_count": 17,
   "metadata": {},
   "outputs": [
    {
     "name": "stdout",
     "output_type": "stream",
     "text": [
      "1_DataImportClean.ipynb      5_StatisticalTreatment.ipynb\r\n",
      "2_DataInspection.ipynb       \u001b[1m\u001b[36mData\u001b[m\u001b[m\r\n",
      "3_Selection.ipynb            \u001b[1m\u001b[36mModel\u001b[m\u001b[m\r\n",
      "4_Analysis.ipynb             \u001b[1m\u001b[36mPlot\u001b[m\u001b[m\r\n"
     ]
    }
   ],
   "source": [
    "!ls "
   ]
  },
  {
   "cell_type": "code",
   "execution_count": 18,
   "metadata": {},
   "outputs": [],
   "source": [
    "birth_data_from_sql.to_csv(\"Data/TempData.csv\", index=False)"
   ]
  },
  {
   "cell_type": "markdown",
   "metadata": {},
   "source": [
    "## Done"
   ]
  }
 ],
 "metadata": {
  "kernelspec": {
   "display_name": "Python 3",
   "language": "python",
   "name": "python3"
  },
  "language_info": {
   "codemirror_mode": {
    "name": "ipython",
    "version": 3
   },
   "file_extension": ".py",
   "mimetype": "text/x-python",
   "name": "python",
   "nbconvert_exporter": "python",
   "pygments_lexer": "ipython3",
   "version": "3.6.1"
  }
 },
 "nbformat": 4,
 "nbformat_minor": 2
}
