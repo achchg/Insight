{
 "cells": [
  {
   "cell_type": "code",
   "execution_count": 1,
   "metadata": {},
   "outputs": [],
   "source": [
    "import numpy as np"
   ]
  },
  {
   "cell_type": "code",
   "execution_count": 3,
   "metadata": {},
   "outputs": [
    {
     "name": "stdout",
     "output_type": "stream",
     "text": [
      "orignial guess 0.400 pm 0.155\n",
      "change guess 0.600 pm 0.155\n"
     ]
    }
   ],
   "source": [
    "n_total = 3\n",
    "n_exp = 10\n",
    "result_change = np.zeros(n_exp)\n",
    "result_unchange = np.zeros(n_exp)\n",
    "for i in range(n_exp):\n",
    "    answers = np.arange(n_total)\n",
    "    ##choose the correct value\n",
    "    real_answer = np.random.choice(n_total)\n",
    "    ##choose my first pick\n",
    "    my_answer = np.random.choice(n_total)\n",
    "    #print(doors, real_answer, my_answer)\n",
    "    ##make the rest set; excluding my first pick\n",
    "    newdoors = np.delete(answers, my_answer)\n",
    "    ##make the rest set; excluding real answer\n",
    "    if my_answer != real_answer:\n",
    "        #print(my_answer, real_answer, newdoors )\n",
    "        refdoors = np.delete(newdoors, np.where(newdoors==real_answer))\n",
    "        refdoor = refdoors[np.random.choice(n_total - 2)]\n",
    "    else:\n",
    "        refdoor = newdoors[np.random.choice(n_total - 1)]\n",
    "    ##make new guess;\n",
    "    #print(newdoors, real_answer, my_answer, refdoor)\n",
    "    newdoors = np.delete(newdoors, np.where(newdoors==refdoor))\n",
    "    my_new_answer = newdoors[np.random.choice(n_total - 2)]\n",
    "    #print(newdoors, real_answer, my_answer, my_new_answer)\n",
    "    result_unchange[i] = my_answer == real_answer\n",
    "    result_change[i] = my_new_answer == real_answer\n",
    "print(\"orignial guess %.3f pm %.3f\" % (result_unchange.mean(), result_change.std()/np.sqrt(n_exp)))\n",
    "print(\"change guess %.3f pm %.3f\" % (result_change.mean(), result_change.std()/np.sqrt(n_exp)))"
   ]
  },
  {
   "cell_type": "code",
   "execution_count": 5,
   "metadata": {},
   "outputs": [],
   "source": [
    "import pandas as pd\n",
    "data = [{'a': i, 'b': 2 * i} for i in range(3)]\n",
    "df = pd.DataFrame(data)"
   ]
  },
  {
   "cell_type": "code",
   "execution_count": null,
   "metadata": {},
   "outputs": [],
   "source": []
  }
 ],
 "metadata": {
  "kernelspec": {
   "display_name": "Python 3",
   "language": "python",
   "name": "python3"
  },
  "language_info": {
   "codemirror_mode": {
    "name": "ipython",
    "version": 3
   },
   "file_extension": ".py",
   "mimetype": "text/x-python",
   "name": "python",
   "nbconvert_exporter": "python",
   "pygments_lexer": "ipython3",
   "version": "3.6.6"
  }
 },
 "nbformat": 4,
 "nbformat_minor": 2
}
