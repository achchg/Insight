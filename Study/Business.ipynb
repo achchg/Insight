{
 "cells": [
  {
   "cell_type": "markdown",
   "metadata": {},
   "source": [
    "# Business"
   ]
  },
  {
   "cell_type": "markdown",
   "metadata": {},
   "source": [
    "- __[Churn](https://en.wikipedia.org/wiki/Churn_rate)__: is a measure of the number of individuals or items moving out of a collective group over a specific period.\n",
    "- __[Engagement](http://www.maassmedia.com/2013/07/08/what-is-online-engagement-and-why-should-you-measure-it-part-one/)__: engagement is the ability to hold the attention of an individual or to induce the individual to participate in some sort of activity.\n",
    "    - Increase Ad Revenue; Predictive Modeling for better product; Personalization;\n",
    "    - __[Define](http://www.maassmedia.com/2013/11/05/how-to-measure-online-engagement-and-how-it-can-help-your-business-part-two/)__ with Acquisition sources, Visitor Loyalty, Content Consumption, Content Interaction;\n",
    "- __[SEO](https://en.wikipedia.org/wiki/Search_engine_optimization)__:  search engine optimization, is the process of affecting the online visibility of a website in a web search engine's unpaid results. \n",
    "- __[CLV](https://en.wikipedia.org/wiki/Customer_lifetime_value)__: a prediction of the net profit attributed to the entire future relationship with a customer.\n",
    "- __[KPI](https://en.wikipedia.org/wiki/Performance_indicator)__: evaluate the success of an organization or of a projects, programs, products and other initiatives in which it engages.\n",
    "- __[Funnel analysis](https://en.wikipedia.org/wiki/Funnel_analysis)__: involves using a series of events that lead towards a defined goal, like from user engagement in a mobile app to a sale in an eCommerce platform. Funnel analysis helps determine the point in which users are dropping off.\n",
    "\n"
   ]
  },
  {
   "cell_type": "code",
   "execution_count": null,
   "metadata": {},
   "outputs": [],
   "source": []
  }
 ],
 "metadata": {
  "kernelspec": {
   "display_name": "Python 3",
   "language": "python",
   "name": "python3"
  },
  "language_info": {
   "codemirror_mode": {
    "name": "ipython",
    "version": 3
   },
   "file_extension": ".py",
   "mimetype": "text/x-python",
   "name": "python",
   "nbconvert_exporter": "python",
   "pygments_lexer": "ipython3",
   "version": "3.6.6"
  }
 },
 "nbformat": 4,
 "nbformat_minor": 2
}
