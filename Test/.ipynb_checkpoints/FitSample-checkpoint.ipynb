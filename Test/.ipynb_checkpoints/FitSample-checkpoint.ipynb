{
 "cells": [
  {
   "cell_type": "markdown",
   "metadata": {},
   "source": [
    "# Quick linear fit example"
   ]
  },
  {
   "cell_type": "code",
   "execution_count": 1,
   "metadata": {},
   "outputs": [],
   "source": [
    "import numpy as np\n",
    "import pandas as pd\n",
    "import matplotlib.pyplot as plt"
   ]
  },
  {
   "cell_type": "code",
   "execution_count": 2,
   "metadata": {},
   "outputs": [
    {
     "name": "stdout",
     "output_type": "stream",
     "text": [
      "csd_r_a\n",
      "css_r_a\n",
      "eng_r_a\n",
      "fin_r_a\n",
      "hea_r_a\n",
      "ind_r_a\n",
      "mat_r_a\n",
      "tec_r_a\n",
      "tel_r_a\n",
      "utl_r_a\n"
     ]
    }
   ],
   "source": [
    "df = pd.read_csv('Data/Regre_slope.csv', index_col='TIME')\n",
    "#print(df.head())\n",
    "for col in df.columns[:-1]:\n",
    "    print(col) "
   ]
  },
  {
   "cell_type": "code",
   "execution_count": 3,
   "metadata": {},
   "outputs": [],
   "source": [
    "x = np.arange(0.1, 1.3, 0.1)\n",
    "y = df[str(col)].values"
   ]
  },
  {
   "cell_type": "code",
   "execution_count": 4,
   "metadata": {},
   "outputs": [],
   "source": [
    "# x = np.arange(0, 240)\n",
    "# np.random.seed(42)\n",
    "# y = 3 * x + np.random.random(240)\n",
    "# plt.plot(x[:12], y[:12], \"o-\")\n",
    "# plt.show()"
   ]
  },
  {
   "cell_type": "markdown",
   "metadata": {},
   "source": [
    "## Loop fit"
   ]
  },
  {
   "cell_type": "code",
   "execution_count": 5,
   "metadata": {},
   "outputs": [],
   "source": [
    "i = 0\n",
    "slopes = []\n",
    "while i < len(y) - 12:\n",
    "    x_temp = x\n",
    "    y_temp = y[i:i+12]\n",
    "    fit = np.polyfit(x_temp, y_temp, 1)\n",
    "    slope_temp = fit[0]\n",
    "    slopes.append(slope_temp)\n",
    "    i += 1\n",
    "##format converting\n",
    "slopes = np.array(slopes)"
   ]
  },
  {
   "cell_type": "code",
   "execution_count": 6,
   "metadata": {},
   "outputs": [
    {
     "name": "stdout",
     "output_type": "stream",
     "text": [
      "269\n"
     ]
    }
   ],
   "source": [
    "#print(slopes)\n",
    "print(len(slopes))"
   ]
  },
  {
   "cell_type": "code",
   "execution_count": 7,
   "metadata": {},
   "outputs": [
    {
     "data": {
      "image/png": "[encoded data removed]",
      "text/plain": [
       "<matplotlib.figure.Figure at 0x1107cdd68>"
      ]
     },
     "metadata": {},
     "output_type": "display_data"
    }
   ],
   "source": [
    "plt.clf()\n",
    "plt.hist(slopes, bins=np.arange(-2, 2, 0.02))\n",
    "plt.xlabel(\"slope\")\n",
    "plt.ylabel(\"count\")\n",
    "#plt.legend()\n",
    "plt.show()"
   ]
  },
  {
   "cell_type": "markdown",
   "metadata": {},
   "source": [
    "## One pipleline code"
   ]
  },
  {
   "cell_type": "code",
   "execution_count": 8,
   "metadata": {},
   "outputs": [
    {
     "name": "stdout",
     "output_type": "stream",
     "text": [
      "    csd_r_a   css_r_a   eng_r_a   fin_r_a   hea_r_a   ind_r_a   mat_r_a  \\\n",
      "0  0.155759  0.330748  0.184280  0.451657  0.466990  0.290563  0.193397   \n",
      "1  0.142965  0.341119  0.178713  0.465651  0.527273  0.291605  0.166832   \n",
      "2  0.140797  0.346021  0.174920  0.478766  0.542164  0.297115  0.147827   \n",
      "3  0.160524  0.332129  0.201150  0.463985  0.531976  0.306731  0.168336   \n",
      "4  0.171332  0.307126  0.236566  0.419612  0.486741  0.315832  0.178559   \n",
      "\n",
      "    tec_r_a   tel_r_a   utl_r_a  \n",
      "0  0.447472  0.368564  0.225870  \n",
      "1  0.343374  0.408357  0.255431  \n",
      "2  0.275385  0.401036  0.251754  \n",
      "3  0.170147  0.358883  0.218927  \n",
      "4  0.149290  0.321575  0.174318  \n"
     ]
    }
   ],
   "source": [
    "import pandas as pd\n",
    "import numpy as np\n",
    "import matplotlib.pyplot as plt\n",
    "\n",
    "df = pd.read_csv('Data/Regre_slope.csv', index_col='TIME')\n",
    "#print(df.head())\n",
    "\n",
    "df_slope = pd.DataFrame()\n",
    "\n",
    "for col in df.columns[:-1]:\n",
    "    x = np.arange(0.1, 1.3, 0.1)\n",
    "    y = df[str(col)].values\n",
    "    \n",
    "    slopes = []\n",
    "    i = 12\n",
    "    while i <= len(y):\n",
    "        x_temp = x\n",
    "        y_temp = y[i-12:i]\n",
    "        fit =  np.polyfit(x_temp, y_temp, 1)\n",
    "        slope_temp = fit[0]\n",
    "    #     print(\"i\", i, \"slopes\", slopes, \"slope_temp\", slope_temp)\n",
    "    #     print(\"slopes\", type(slopes))\n",
    "        slopes.append(slope_temp)\n",
    "        i += 1\n",
    "        # endwhile\n",
    "    #formating converting\n",
    "    slopes = np.array(slopes)\n",
    "    df_slope[str(col)] = slopes \n",
    "    \n",
    "    # endfor\n",
    "    \n",
    "print(df_slope.head())\n",
    "\n"
   ]
  },
  {
   "cell_type": "code",
   "execution_count": null,
   "metadata": {},
   "outputs": [],
   "source": []
  }
 ],
 "metadata": {
  "kernelspec": {
   "display_name": "Python 3",
   "language": "python",
   "name": "python3"
  },
  "language_info": {
   "codemirror_mode": {
    "name": "ipython",
    "version": 3
   },
   "file_extension": ".py",
   "mimetype": "text/x-python",
   "name": "python",
   "nbconvert_exporter": "python",
   "pygments_lexer": "ipython3",
   "version": "3.6.1"
  }
 },
 "nbformat": 4,
 "nbformat_minor": 2
}
