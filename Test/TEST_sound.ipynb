{
 "cells": [
  {
   "cell_type": "code",
   "execution_count": 1,
   "metadata": {},
   "outputs": [
    {
     "name": "stdout",
     "output_type": "stream",
     "text": [
      "Collecting SpeechRecognition\n",
      "\u001b[?25l  Downloading https://files.pythonhosted.org/packages/26/e1/7f5678cd94ec1234269d23756dbdaa4c8cfaed973412f88ae8adf7893a50/SpeechRecognition-3.8.1-py2.py3-none-any.whl (32.8MB)\n",
      "\u001b[K    100% |████████████████████████████████| 32.8MB 868kB/s ta 0:00:011\n",
      "\u001b[?25hInstalling collected packages: SpeechRecognition\n",
      "Successfully installed SpeechRecognition-3.8.1\n"
     ]
    }
   ],
   "source": [
    "!pip install SpeechRecognition\n",
    "!pip install PocketSphinx"
   ]
  },
  {
   "cell_type": "code",
   "execution_count": 1,
   "metadata": {},
   "outputs": [],
   "source": [
    "import speech_recognition as sr"
   ]
  },
  {
   "cell_type": "code",
   "execution_count": 2,
   "metadata": {},
   "outputs": [
    {
     "data": {
      "text/plain": [
       "'3.8.1'"
      ]
     },
     "execution_count": 2,
     "metadata": {},
     "output_type": "execute_result"
    }
   ],
   "source": [
    "sr.__version__"
   ]
  },
  {
   "cell_type": "code",
   "execution_count": 3,
   "metadata": {},
   "outputs": [],
   "source": [
    "r = sr.Recognizer()"
   ]
  },
  {
   "cell_type": "code",
   "execution_count": 12,
   "metadata": {},
   "outputs": [],
   "source": [
    "harvard = sr.AudioFile('harvard.wav')\n",
    "with harvard as source:\n",
    "    audio = r.record(source)"
   ]
  },
  {
   "cell_type": "code",
   "execution_count": 13,
   "metadata": {},
   "outputs": [
    {
     "name": "stdout",
     "output_type": "stream",
     "text": [
      "Sphinx: this they'll smell of old we're lingers it takes heat to bring out the odor called it restores health and zest case all the colt is fine with him couples all pastore my favorite is as full food is the hot cross mon\n",
      "Google: the stale smell of old beer lingers it takes heat to bring out the odor a cold dip restores health and zest a salt pickle taste fine with ham tacos al Pastore are my favorite a zestful food is the hot cross bun\n"
     ]
    }
   ],
   "source": [
    "print(\"Sphinx:\", r.recognize_sphinx(audio))\n",
    "print(\"Google:\", r.recognize_google(audio))"
   ]
  },
  {
   "cell_type": "code",
   "execution_count": 14,
   "metadata": {},
   "outputs": [
    {
     "name": "stdout",
     "output_type": "stream",
     "text": [
      "TD_29052018_DCMix_V2.mp3   \u001b[1m\u001b[31mdev_setups_postgres.ipynb\u001b[m\u001b[m\r\n",
      "TEST_sound.ipynb           harvard.wav\r\n",
      "\u001b[1m\u001b[31mbirths2012_downsampled.csv\u001b[m\u001b[m test_tSNE.ipynb\r\n",
      "\u001b[1m\u001b[31mdev_setups_jupyter.ipynb\u001b[m\u001b[m\r\n"
     ]
    }
   ],
   "source": [
    "!ls"
   ]
  },
  {
   "cell_type": "code",
   "execution_count": 17,
   "metadata": {},
   "outputs": [
    {
     "name": "stdout",
     "output_type": "stream",
     "text": [
      "Collecting pydub\n",
      "  Downloading https://files.pythonhosted.org/packages/c4/f5/1ed76122c43b1a8db51f0b31ee4f0e0c0d66dfaf5f192a11a164013e5239/pydub-0.22.0-py2.py3-none-any.whl\n",
      "Installing collected packages: pydub\n",
      "Successfully installed pydub-0.22.0\n"
     ]
    }
   ],
   "source": [
    "!pip install pydub"
   ]
  },
  {
   "cell_type": "code",
   "execution_count": 19,
   "metadata": {},
   "outputs": [],
   "source": [
    "from pydub import AudioSegment"
   ]
  },
  {
   "cell_type": "code",
   "execution_count": 6,
   "metadata": {},
   "outputs": [],
   "source": [
    "test = sr.AudioFile('TEST.wav')\n",
    "with test as source:\n",
    "    test_au = r.record(source, offset=30, duration=30)"
   ]
  },
  {
   "cell_type": "code",
   "execution_count": 5,
   "metadata": {},
   "outputs": [
    {
     "name": "stdout",
     "output_type": "stream",
     "text": [
      "Sphinx: donna york times on michael brokaw and that of the study up at twenty years ago president clinton survived impeach that bent on convincing the country he was the victim of which what president how has it on from that strategy eats\n"
     ]
    }
   ],
   "source": [
    "print(\"Sphinx:\", r.recognize_sphinx(test_au))"
   ]
  },
  {
   "cell_type": "code",
   "execution_count": 7,
   "metadata": {},
   "outputs": [
    {
     "name": "stdout",
     "output_type": "stream",
     "text": [
      "Sphinx: nice to meet twenty nine oh president clinton said today he is very pleased with his first year in office but not unhappy about how it ended under a cloud of controversy over his personal life and business dealings you do in nineteen ninety four questions were raised about early in the old it has inclinations lady hillary rodham klan had been involved with that when he was governor of arkansas keep your beaker he's chief white house correspondent it taught school and you'll notice to\n"
     ]
    }
   ],
   "source": [
    "print(\"Sphinx:\", r.recognize_sphinx(test_au))"
   ]
  },
  {
   "cell_type": "code",
   "execution_count": 10,
   "metadata": {},
   "outputs": [
    {
     "name": "stdout",
     "output_type": "stream",
     "text": [
      "Twenty years ago, President Bill Clinton survived impeachment after casting himself as the target of partisan motives. What lessons has President Trump gleaned from that strategy? Guest: Peter Baker, the chief White House correspondent for The New York Times, who covered the investigation and impeachment of Mr. Clinton. For more information on today’s episode, visit nytimes.com/thedaily.\n"
     ]
    }
   ],
   "source": [
    "Summary = \"Twenty years ago, President Bill Clinton survived impeachment after casting himself as the target of partisan motives. What lessons has President Trump gleaned from that strategy? Guest: Peter Baker, the chief White House correspondent for The New York Times, who covered the investigation and impeachment of Mr. Clinton. For more information on today’s episode, visit nytimes.com/thedaily.\"\n",
    "print(Summary)"
   ]
  },
  {
   "cell_type": "code",
   "execution_count": null,
   "metadata": {},
   "outputs": [],
   "source": []
  }
 ],
 "metadata": {
  "kernelspec": {
   "display_name": "Python 3",
   "language": "python",
   "name": "python3"
  },
  "language_info": {
   "codemirror_mode": {
    "name": "ipython",
    "version": 3
   },
   "file_extension": ".py",
   "mimetype": "text/x-python",
   "name": "python",
   "nbconvert_exporter": "python",
   "pygments_lexer": "ipython3",
   "version": "3.6.1"
  }
 },
 "nbformat": 4,
 "nbformat_minor": 2
}
